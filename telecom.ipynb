{
 "cells": [
  {
   "cell_type": "markdown",
   "metadata": {},
   "source": [
    "## Телеком \n",
    "Оператор связи «Ниединогоразрыва.ком» хочет научиться прогнозировать отток клиентов. Если выяснится, что пользователь планирует уйти, ему будут предложены промокоды и специальные условия. Команда оператора собрала персональные данные о некоторых клиентах, информацию об их тарифах и договорах.\n",
    "### Описание услуг\n",
    "\n",
    "Оператор предоставляет два основных типа услуг: \n",
    "\n",
    "1. Стационарную телефонную связь. Возможно подключение телефонного аппарата к нескольким линиям одновременно.\n",
    "2. Интернет. Подключение может быть двух типов: через телефонную линию (DSL*,* от англ. *digital subscriber line*, «цифровая абонентская линия») или оптоволоконный кабель (*Fiber optic*).  \n",
    "\n",
    "Также доступны такие услуги:\n",
    "\n",
    "- Интернет-безопасность: антивирус (*DeviceProtection*) и блокировка небезопасных сайтов (*OnlineSecurity*);\n",
    "- Выделенная линия технической поддержки (*TechSupport*);\n",
    "- Облачное хранилище файлов для резервного копирования данных (*OnlineBackup*);\n",
    "- Стриминговое телевидение (*StreamingTV*) и каталог фильмов (*StreamingMovies*).\n",
    "\n",
    "За услуги клиенты могут платить каждый месяц или заключить договор на 1–2 года. Доступны различные способы расчёта и возможность получения электронного чека.\n",
    "\n",
    "### Описание данных\n",
    "\n",
    "Данные состоят из файлов, полученных из разных источников:\n",
    "\n",
    "- `contract.csv` — информация о договоре;\n",
    "- `personal.csv` — персональные данные клиента;\n",
    "- `internet.csv` — информация об интернет-услугах;\n",
    "- `phone.csv` — информация об услугах телефонии.\n",
    "\n",
    "Во всех файлах столбец `customerID` содержит код клиента.\n",
    "\n",
    "Информация о договорах актуальна на 1 февраля 2020.\n",
    "\n",
    "### TOC\n",
    "\n",
    "1. [Открытие данных](#start)\n",
    "2. [Предобработка и исследование данных](#preprocessing)\n",
    "\n",
    "    2.1 [Объеденяем все таблицы](#merge)\n",
    "    \n",
    "    2.2 [phone](#phone)\n",
    "    \n",
    "    2.3 [internet](#internet)\n",
    "    \n",
    "    2.4 [personal](#personal)\n",
    "    \n",
    "    2.5 [contract](#contract)\n",
    "    \n",
    "    2.6 [Конструировние признака, число используемых интернет-продуктов](#n_prod)\n",
    "    \n",
    "    2.7 [Разбивка на X, y](#split)\n",
    "    \n",
    "    \n",
    "3. [Моделирование](#model)\n",
    "\n",
    "    3.1 [Случайный лес](#forest)\n",
    "    \n",
    "    3.2 [Градиентный бустинг](#boost)\n",
    "    \n",
    "    3.3 [Catboost](#cat)\n",
    "    \n",
    "    \n",
    "4. [Анализ лучшей модели и выбор признаков](#analize)\n",
    "5. [Выводы](#conclusion)"
   ]
  },
  {
   "cell_type": "code",
   "execution_count": 103,
   "metadata": {},
   "outputs": [],
   "source": [
    "import matplotlib.pyplot as plt\n",
    "import pandas as pd\n",
    "import numpy as np\n",
    "import seaborn as sns\n",
    "from scipy import stats\n",
    "import math\n",
    "from sklearn.metrics import r2_score as r2\n",
    "from sklearn.ensemble import GradientBoostingClassifier\n",
    "from sklearn.model_selection import train_test_split\n",
    "from sklearn.preprocessing import StandardScaler\n",
    "from sklearn.ensemble import RandomForestClassifier\n",
    "\n",
    "from sklearn.model_selection import GridSearchCV\n",
    "from sklearn.metrics import roc_auc_score\n",
    "from sklearn.pipeline import Pipeline\n",
    "from sklearn.preprocessing import StandardScaler, OneHotEncoder\n",
    "from sklearn.compose import ColumnTransformer\n",
    "from sklearn.impute import SimpleImputer\n",
    "from catboost import CatBoostClassifier\n",
    "\n",
    "from sklearn.metrics import recall_score\n",
    "from sklearn.metrics import precision_score\n",
    "from sklearn.metrics import accuracy_score\n",
    "from sklearn.metrics import roc_curve\n",
    "from copy import deepcopy"
   ]
  },
  {
   "cell_type": "markdown",
   "metadata": {},
   "source": [
    "## Открытие данных <a id=\"start\"> </a>"
   ]
  },
  {
   "cell_type": "code",
   "execution_count": 104,
   "metadata": {},
   "outputs": [
    {
     "name": "stdout",
     "output_type": "stream",
     "text": [
      "6361 5517 7043 7043\n"
     ]
    }
   ],
   "source": [
    "contract = pd.read_csv('/datasets/final_provider/contract.csv')\n",
    "personal = pd.read_csv('/datasets/final_provider/personal.csv')\n",
    "internet = pd.read_csv('/datasets/final_provider/internet.csv')\n",
    "phone = pd.read_csv('/datasets/final_provider/phone.csv')\n",
    "print(len(phone), len(internet), len(personal), len(contract))"
   ]
  },
  {
   "cell_type": "code",
   "execution_count": 105,
   "metadata": {},
   "outputs": [
    {
     "data": {
      "text/html": [
       "<div>\n",
       "<style scoped>\n",
       "    .dataframe tbody tr th:only-of-type {\n",
       "        vertical-align: middle;\n",
       "    }\n",
       "\n",
       "    .dataframe tbody tr th {\n",
       "        vertical-align: top;\n",
       "    }\n",
       "\n",
       "    .dataframe thead th {\n",
       "        text-align: right;\n",
       "    }\n",
       "</style>\n",
       "<table border=\"1\" class=\"dataframe\">\n",
       "  <thead>\n",
       "    <tr style=\"text-align: right;\">\n",
       "      <th></th>\n",
       "      <th>customerID</th>\n",
       "      <th>MultipleLines</th>\n",
       "    </tr>\n",
       "  </thead>\n",
       "  <tbody>\n",
       "    <tr>\n",
       "      <td>0</td>\n",
       "      <td>5575-GNVDE</td>\n",
       "      <td>No</td>\n",
       "    </tr>\n",
       "    <tr>\n",
       "      <td>1</td>\n",
       "      <td>3668-QPYBK</td>\n",
       "      <td>No</td>\n",
       "    </tr>\n",
       "    <tr>\n",
       "      <td>2</td>\n",
       "      <td>9237-HQITU</td>\n",
       "      <td>No</td>\n",
       "    </tr>\n",
       "  </tbody>\n",
       "</table>\n",
       "</div>"
      ],
      "text/plain": [
       "   customerID MultipleLines\n",
       "0  5575-GNVDE            No\n",
       "1  3668-QPYBK            No\n",
       "2  9237-HQITU            No"
      ]
     },
     "execution_count": 105,
     "metadata": {},
     "output_type": "execute_result"
    }
   ],
   "source": [
    "phone.head(3)"
   ]
  },
  {
   "cell_type": "markdown",
   "metadata": {},
   "source": [
    "Сразу переименуем в поле MultipleLines No на MultipleLines_No"
   ]
  },
  {
   "cell_type": "code",
   "execution_count": 106,
   "metadata": {},
   "outputs": [],
   "source": [
    "phone.loc[phone['MultipleLines']=='No', 'MultipleLines'] = 'MultipleLines_No'"
   ]
  },
  {
   "cell_type": "code",
   "execution_count": 107,
   "metadata": {},
   "outputs": [
    {
     "data": {
      "text/html": [
       "<div>\n",
       "<style scoped>\n",
       "    .dataframe tbody tr th:only-of-type {\n",
       "        vertical-align: middle;\n",
       "    }\n",
       "\n",
       "    .dataframe tbody tr th {\n",
       "        vertical-align: top;\n",
       "    }\n",
       "\n",
       "    .dataframe thead th {\n",
       "        text-align: right;\n",
       "    }\n",
       "</style>\n",
       "<table border=\"1\" class=\"dataframe\">\n",
       "  <thead>\n",
       "    <tr style=\"text-align: right;\">\n",
       "      <th></th>\n",
       "      <th>customerID</th>\n",
       "      <th>InternetService</th>\n",
       "      <th>OnlineSecurity</th>\n",
       "      <th>OnlineBackup</th>\n",
       "      <th>DeviceProtection</th>\n",
       "      <th>TechSupport</th>\n",
       "      <th>StreamingTV</th>\n",
       "      <th>StreamingMovies</th>\n",
       "    </tr>\n",
       "  </thead>\n",
       "  <tbody>\n",
       "    <tr>\n",
       "      <td>0</td>\n",
       "      <td>7590-VHVEG</td>\n",
       "      <td>DSL</td>\n",
       "      <td>No</td>\n",
       "      <td>Yes</td>\n",
       "      <td>No</td>\n",
       "      <td>No</td>\n",
       "      <td>No</td>\n",
       "      <td>No</td>\n",
       "    </tr>\n",
       "    <tr>\n",
       "      <td>1</td>\n",
       "      <td>5575-GNVDE</td>\n",
       "      <td>DSL</td>\n",
       "      <td>Yes</td>\n",
       "      <td>No</td>\n",
       "      <td>Yes</td>\n",
       "      <td>No</td>\n",
       "      <td>No</td>\n",
       "      <td>No</td>\n",
       "    </tr>\n",
       "    <tr>\n",
       "      <td>2</td>\n",
       "      <td>3668-QPYBK</td>\n",
       "      <td>DSL</td>\n",
       "      <td>Yes</td>\n",
       "      <td>Yes</td>\n",
       "      <td>No</td>\n",
       "      <td>No</td>\n",
       "      <td>No</td>\n",
       "      <td>No</td>\n",
       "    </tr>\n",
       "  </tbody>\n",
       "</table>\n",
       "</div>"
      ],
      "text/plain": [
       "   customerID InternetService OnlineSecurity OnlineBackup DeviceProtection  \\\n",
       "0  7590-VHVEG             DSL             No          Yes               No   \n",
       "1  5575-GNVDE             DSL            Yes           No              Yes   \n",
       "2  3668-QPYBK             DSL            Yes          Yes               No   \n",
       "\n",
       "  TechSupport StreamingTV StreamingMovies  \n",
       "0          No          No              No  \n",
       "1          No          No              No  \n",
       "2          No          No              No  "
      ]
     },
     "execution_count": 107,
     "metadata": {},
     "output_type": "execute_result"
    }
   ],
   "source": [
    "internet.head(3)"
   ]
  },
  {
   "cell_type": "code",
   "execution_count": 108,
   "metadata": {},
   "outputs": [
    {
     "data": {
      "text/html": [
       "<div>\n",
       "<style scoped>\n",
       "    .dataframe tbody tr th:only-of-type {\n",
       "        vertical-align: middle;\n",
       "    }\n",
       "\n",
       "    .dataframe tbody tr th {\n",
       "        vertical-align: top;\n",
       "    }\n",
       "\n",
       "    .dataframe thead th {\n",
       "        text-align: right;\n",
       "    }\n",
       "</style>\n",
       "<table border=\"1\" class=\"dataframe\">\n",
       "  <thead>\n",
       "    <tr style=\"text-align: right;\">\n",
       "      <th></th>\n",
       "      <th>customerID</th>\n",
       "      <th>gender</th>\n",
       "      <th>SeniorCitizen</th>\n",
       "      <th>Partner</th>\n",
       "      <th>Dependents</th>\n",
       "    </tr>\n",
       "  </thead>\n",
       "  <tbody>\n",
       "    <tr>\n",
       "      <td>0</td>\n",
       "      <td>7590-VHVEG</td>\n",
       "      <td>Female</td>\n",
       "      <td>0</td>\n",
       "      <td>Yes</td>\n",
       "      <td>No</td>\n",
       "    </tr>\n",
       "    <tr>\n",
       "      <td>1</td>\n",
       "      <td>5575-GNVDE</td>\n",
       "      <td>Male</td>\n",
       "      <td>0</td>\n",
       "      <td>No</td>\n",
       "      <td>No</td>\n",
       "    </tr>\n",
       "    <tr>\n",
       "      <td>2</td>\n",
       "      <td>3668-QPYBK</td>\n",
       "      <td>Male</td>\n",
       "      <td>0</td>\n",
       "      <td>No</td>\n",
       "      <td>No</td>\n",
       "    </tr>\n",
       "  </tbody>\n",
       "</table>\n",
       "</div>"
      ],
      "text/plain": [
       "   customerID  gender  SeniorCitizen Partner Dependents\n",
       "0  7590-VHVEG  Female              0     Yes         No\n",
       "1  5575-GNVDE    Male              0      No         No\n",
       "2  3668-QPYBK    Male              0      No         No"
      ]
     },
     "execution_count": 108,
     "metadata": {},
     "output_type": "execute_result"
    }
   ],
   "source": [
    "personal.head(3)"
   ]
  },
  {
   "cell_type": "code",
   "execution_count": 109,
   "metadata": {},
   "outputs": [
    {
     "data": {
      "text/html": [
       "<div>\n",
       "<style scoped>\n",
       "    .dataframe tbody tr th:only-of-type {\n",
       "        vertical-align: middle;\n",
       "    }\n",
       "\n",
       "    .dataframe tbody tr th {\n",
       "        vertical-align: top;\n",
       "    }\n",
       "\n",
       "    .dataframe thead th {\n",
       "        text-align: right;\n",
       "    }\n",
       "</style>\n",
       "<table border=\"1\" class=\"dataframe\">\n",
       "  <thead>\n",
       "    <tr style=\"text-align: right;\">\n",
       "      <th></th>\n",
       "      <th>customerID</th>\n",
       "      <th>BeginDate</th>\n",
       "      <th>EndDate</th>\n",
       "      <th>Type</th>\n",
       "      <th>PaperlessBilling</th>\n",
       "      <th>PaymentMethod</th>\n",
       "      <th>MonthlyCharges</th>\n",
       "      <th>TotalCharges</th>\n",
       "    </tr>\n",
       "  </thead>\n",
       "  <tbody>\n",
       "    <tr>\n",
       "      <td>0</td>\n",
       "      <td>7590-VHVEG</td>\n",
       "      <td>2020-01-01</td>\n",
       "      <td>No</td>\n",
       "      <td>Month-to-month</td>\n",
       "      <td>Yes</td>\n",
       "      <td>Electronic check</td>\n",
       "      <td>29.85</td>\n",
       "      <td>29.85</td>\n",
       "    </tr>\n",
       "    <tr>\n",
       "      <td>1</td>\n",
       "      <td>5575-GNVDE</td>\n",
       "      <td>2017-04-01</td>\n",
       "      <td>No</td>\n",
       "      <td>One year</td>\n",
       "      <td>No</td>\n",
       "      <td>Mailed check</td>\n",
       "      <td>56.95</td>\n",
       "      <td>1889.5</td>\n",
       "    </tr>\n",
       "    <tr>\n",
       "      <td>2</td>\n",
       "      <td>3668-QPYBK</td>\n",
       "      <td>2019-10-01</td>\n",
       "      <td>2019-12-01 00:00:00</td>\n",
       "      <td>Month-to-month</td>\n",
       "      <td>Yes</td>\n",
       "      <td>Mailed check</td>\n",
       "      <td>53.85</td>\n",
       "      <td>108.15</td>\n",
       "    </tr>\n",
       "  </tbody>\n",
       "</table>\n",
       "</div>"
      ],
      "text/plain": [
       "   customerID   BeginDate              EndDate            Type  \\\n",
       "0  7590-VHVEG  2020-01-01                   No  Month-to-month   \n",
       "1  5575-GNVDE  2017-04-01                   No        One year   \n",
       "2  3668-QPYBK  2019-10-01  2019-12-01 00:00:00  Month-to-month   \n",
       "\n",
       "  PaperlessBilling     PaymentMethod  MonthlyCharges TotalCharges  \n",
       "0              Yes  Electronic check           29.85        29.85  \n",
       "1               No      Mailed check           56.95       1889.5  \n",
       "2              Yes      Mailed check           53.85       108.15  "
      ]
     },
     "execution_count": 109,
     "metadata": {},
     "output_type": "execute_result"
    }
   ],
   "source": [
    "contract.head(3)"
   ]
  },
  {
   "cell_type": "markdown",
   "metadata": {},
   "source": [
    "##  Предобработка и исследование данных <a id=\"preprocessing\"> </a>"
   ]
  },
  {
   "cell_type": "markdown",
   "metadata": {},
   "source": [
    "### Объеденяем все таблицы  <a id=\"merge\"> </a>\n",
    "Объеденяем все таблицы в одну по полю customerID и разбиваем на train и test"
   ]
  },
  {
   "cell_type": "code",
   "execution_count": 110,
   "metadata": {},
   "outputs": [
    {
     "name": "stdout",
     "output_type": "stream",
     "text": [
      "<class 'pandas.core.frame.DataFrame'>\n",
      "Int64Index: 7043 entries, 0 to 7042\n",
      "Data columns (total 20 columns):\n",
      "customerID          7043 non-null object\n",
      "BeginDate           7043 non-null object\n",
      "EndDate             7043 non-null object\n",
      "Type                7043 non-null object\n",
      "PaperlessBilling    7043 non-null object\n",
      "PaymentMethod       7043 non-null object\n",
      "MonthlyCharges      7043 non-null float64\n",
      "TotalCharges        7043 non-null object\n",
      "gender              7043 non-null object\n",
      "SeniorCitizen       7043 non-null int64\n",
      "Partner             7043 non-null object\n",
      "Dependents          7043 non-null object\n",
      "InternetService     5517 non-null object\n",
      "OnlineSecurity      5517 non-null object\n",
      "OnlineBackup        5517 non-null object\n",
      "DeviceProtection    5517 non-null object\n",
      "TechSupport         5517 non-null object\n",
      "StreamingTV         5517 non-null object\n",
      "StreamingMovies     5517 non-null object\n",
      "MultipleLines       6361 non-null object\n",
      "dtypes: float64(1), int64(1), object(18)\n",
      "memory usage: 1.1+ MB\n"
     ]
    }
   ],
   "source": [
    "df = contract.merge(personal, on='customerID', how='outer')\n",
    "df =  df.merge(internet, on='customerID', how='outer')\n",
    "df =  df.merge( phone, on='customerID', how='outer')\n",
    "df.info()"
   ]
  },
  {
   "cell_type": "code",
   "execution_count": 111,
   "metadata": {},
   "outputs": [
    {
     "name": "stdout",
     "output_type": "stream",
     "text": [
      "<class 'pandas.core.frame.DataFrame'>\n",
      "Int64Index: 5634 entries, 6924 to 3582\n",
      "Data columns (total 20 columns):\n",
      "customerID          5634 non-null object\n",
      "BeginDate           5634 non-null object\n",
      "EndDate             5634 non-null object\n",
      "Type                5634 non-null object\n",
      "PaperlessBilling    5634 non-null object\n",
      "PaymentMethod       5634 non-null object\n",
      "MonthlyCharges      5634 non-null float64\n",
      "TotalCharges        5634 non-null object\n",
      "gender              5634 non-null object\n",
      "SeniorCitizen       5634 non-null int64\n",
      "Partner             5634 non-null object\n",
      "Dependents          5634 non-null object\n",
      "InternetService     4408 non-null object\n",
      "OnlineSecurity      4408 non-null object\n",
      "OnlineBackup        4408 non-null object\n",
      "DeviceProtection    4408 non-null object\n",
      "TechSupport         4408 non-null object\n",
      "StreamingTV         4408 non-null object\n",
      "StreamingMovies     4408 non-null object\n",
      "MultipleLines       5089 non-null object\n",
      "dtypes: float64(1), int64(1), object(18)\n",
      "memory usage: 924.3+ KB\n"
     ]
    }
   ],
   "source": [
    "train, test = train_test_split(df, test_size=0.2, random_state=123)\n",
    "train.info()"
   ]
  },
  {
   "cell_type": "code",
   "execution_count": 112,
   "metadata": {},
   "outputs": [
    {
     "name": "stdout",
     "output_type": "stream",
     "text": [
      "<class 'pandas.core.frame.DataFrame'>\n",
      "Int64Index: 1409 entries, 941 to 3266\n",
      "Data columns (total 20 columns):\n",
      "customerID          1409 non-null object\n",
      "BeginDate           1409 non-null object\n",
      "EndDate             1409 non-null object\n",
      "Type                1409 non-null object\n",
      "PaperlessBilling    1409 non-null object\n",
      "PaymentMethod       1409 non-null object\n",
      "MonthlyCharges      1409 non-null float64\n",
      "TotalCharges        1409 non-null object\n",
      "gender              1409 non-null object\n",
      "SeniorCitizen       1409 non-null int64\n",
      "Partner             1409 non-null object\n",
      "Dependents          1409 non-null object\n",
      "InternetService     1109 non-null object\n",
      "OnlineSecurity      1109 non-null object\n",
      "OnlineBackup        1109 non-null object\n",
      "DeviceProtection    1109 non-null object\n",
      "TechSupport         1109 non-null object\n",
      "StreamingTV         1109 non-null object\n",
      "StreamingMovies     1109 non-null object\n",
      "MultipleLines       1272 non-null object\n",
      "dtypes: float64(1), int64(1), object(18)\n",
      "memory usage: 231.2+ KB\n"
     ]
    }
   ],
   "source": [
    "test.info()"
   ]
  },
  {
   "cell_type": "code",
   "execution_count": 113,
   "metadata": {},
   "outputs": [],
   "source": [
    "train = train.fillna('No')"
   ]
  },
  {
   "cell_type": "code",
   "execution_count": 114,
   "metadata": {},
   "outputs": [],
   "source": [
    "test = test.fillna('No')"
   ]
  },
  {
   "cell_type": "markdown",
   "metadata": {},
   "source": [
    "### phone <a id=\"phone\"> </a>"
   ]
  },
  {
   "cell_type": "code",
   "execution_count": 115,
   "metadata": {},
   "outputs": [
    {
     "data": {
      "text/plain": [
       "MultipleLines_No    2715\n",
       "Yes                 2374\n",
       "No                   545\n",
       "Name: MultipleLines, dtype: int64"
      ]
     },
     "execution_count": 115,
     "metadata": {},
     "output_type": "execute_result"
    }
   ],
   "source": [
    "train['MultipleLines'].value_counts()"
   ]
  },
  {
   "cell_type": "markdown",
   "metadata": {},
   "source": [
    "Данные неплохо сбалансированны.\n",
    "### internet <a id=\"internet\"> </a>"
   ]
  },
  {
   "cell_type": "code",
   "execution_count": 116,
   "metadata": {},
   "outputs": [],
   "source": [
    "mask = list(internet.columns)"
   ]
  },
  {
   "cell_type": "code",
   "execution_count": 117,
   "metadata": {},
   "outputs": [],
   "source": [
    "internet_train = train[mask]"
   ]
  },
  {
   "cell_type": "code",
   "execution_count": 118,
   "metadata": {},
   "outputs": [
    {
     "data": {
      "text/plain": [
       "Fiber optic    2474\n",
       "DSL            1934\n",
       "No             1226\n",
       "Name: InternetService, dtype: int64"
      ]
     },
     "execution_count": 118,
     "metadata": {},
     "output_type": "execute_result"
    }
   ],
   "source": [
    "internet_train.InternetService.value_counts(dropna= False)"
   ]
  },
  {
   "cell_type": "markdown",
   "metadata": {},
   "source": [
    "Внезависимости от типа интернета другими услугами пользуются одинакого часто"
   ]
  },
  {
   "cell_type": "markdown",
   "metadata": {},
   "source": [
    "### personal <a id=\"personal\"> </a>"
   ]
  },
  {
   "cell_type": "code",
   "execution_count": 119,
   "metadata": {},
   "outputs": [
    {
     "data": {
      "text/plain": [
       "Male      2836\n",
       "Female    2798\n",
       "Name: gender, dtype: int64"
      ]
     },
     "execution_count": 119,
     "metadata": {},
     "output_type": "execute_result"
    }
   ],
   "source": [
    "mask = ['Partner','Dependents','gender']\n",
    "train.gender.value_counts()"
   ]
  },
  {
   "cell_type": "markdown",
   "metadata": {},
   "source": [
    "Услугами пользуются клиенты обоих полов."
   ]
  },
  {
   "cell_type": "markdown",
   "metadata": {},
   "source": [
    "### contract <a id=\"contract\"> </a>"
   ]
  },
  {
   "cell_type": "code",
   "execution_count": 120,
   "metadata": {},
   "outputs": [
    {
     "data": {
      "text/plain": [
       "20.2       10\n",
       "19.75       9\n",
       "            8\n",
       "19.9        7\n",
       "20.05       6\n",
       "           ..\n",
       "1033.95     1\n",
       "3597.5      1\n",
       "5243.05     1\n",
       "734.35      1\n",
       "3254.35     1\n",
       "Name: TotalCharges, Length: 5281, dtype: int64"
      ]
     },
     "execution_count": 120,
     "metadata": {},
     "output_type": "execute_result"
    }
   ],
   "source": [
    "train['TotalCharges'].value_counts()"
   ]
  },
  {
   "cell_type": "code",
   "execution_count": 121,
   "metadata": {},
   "outputs": [
    {
     "data": {
      "text/html": [
       "<div>\n",
       "<style scoped>\n",
       "    .dataframe tbody tr th:only-of-type {\n",
       "        vertical-align: middle;\n",
       "    }\n",
       "\n",
       "    .dataframe tbody tr th {\n",
       "        vertical-align: top;\n",
       "    }\n",
       "\n",
       "    .dataframe thead th {\n",
       "        text-align: right;\n",
       "    }\n",
       "</style>\n",
       "<table border=\"1\" class=\"dataframe\">\n",
       "  <thead>\n",
       "    <tr style=\"text-align: right;\">\n",
       "      <th></th>\n",
       "      <th>customerID</th>\n",
       "      <th>BeginDate</th>\n",
       "      <th>EndDate</th>\n",
       "      <th>Type</th>\n",
       "      <th>PaperlessBilling</th>\n",
       "      <th>PaymentMethod</th>\n",
       "      <th>MonthlyCharges</th>\n",
       "      <th>TotalCharges</th>\n",
       "      <th>gender</th>\n",
       "      <th>SeniorCitizen</th>\n",
       "      <th>Partner</th>\n",
       "      <th>Dependents</th>\n",
       "      <th>InternetService</th>\n",
       "      <th>OnlineSecurity</th>\n",
       "      <th>OnlineBackup</th>\n",
       "      <th>DeviceProtection</th>\n",
       "      <th>TechSupport</th>\n",
       "      <th>StreamingTV</th>\n",
       "      <th>StreamingMovies</th>\n",
       "      <th>MultipleLines</th>\n",
       "    </tr>\n",
       "  </thead>\n",
       "  <tbody>\n",
       "    <tr>\n",
       "      <td>4380</td>\n",
       "      <td>2520-SGTTA</td>\n",
       "      <td>2020-02-01</td>\n",
       "      <td>No</td>\n",
       "      <td>Two year</td>\n",
       "      <td>No</td>\n",
       "      <td>Mailed check</td>\n",
       "      <td>20.00</td>\n",
       "      <td></td>\n",
       "      <td>Female</td>\n",
       "      <td>0</td>\n",
       "      <td>Yes</td>\n",
       "      <td>Yes</td>\n",
       "      <td>No</td>\n",
       "      <td>No</td>\n",
       "      <td>No</td>\n",
       "      <td>No</td>\n",
       "      <td>No</td>\n",
       "      <td>No</td>\n",
       "      <td>No</td>\n",
       "      <td>MultipleLines_No</td>\n",
       "    </tr>\n",
       "    <tr>\n",
       "      <td>1082</td>\n",
       "      <td>4367-NUYAO</td>\n",
       "      <td>2020-02-01</td>\n",
       "      <td>No</td>\n",
       "      <td>Two year</td>\n",
       "      <td>No</td>\n",
       "      <td>Mailed check</td>\n",
       "      <td>25.75</td>\n",
       "      <td></td>\n",
       "      <td>Male</td>\n",
       "      <td>0</td>\n",
       "      <td>Yes</td>\n",
       "      <td>Yes</td>\n",
       "      <td>No</td>\n",
       "      <td>No</td>\n",
       "      <td>No</td>\n",
       "      <td>No</td>\n",
       "      <td>No</td>\n",
       "      <td>No</td>\n",
       "      <td>No</td>\n",
       "      <td>Yes</td>\n",
       "    </tr>\n",
       "    <tr>\n",
       "      <td>488</td>\n",
       "      <td>4472-LVYGI</td>\n",
       "      <td>2020-02-01</td>\n",
       "      <td>No</td>\n",
       "      <td>Two year</td>\n",
       "      <td>Yes</td>\n",
       "      <td>Bank transfer (automatic)</td>\n",
       "      <td>52.55</td>\n",
       "      <td></td>\n",
       "      <td>Female</td>\n",
       "      <td>0</td>\n",
       "      <td>Yes</td>\n",
       "      <td>Yes</td>\n",
       "      <td>DSL</td>\n",
       "      <td>Yes</td>\n",
       "      <td>No</td>\n",
       "      <td>Yes</td>\n",
       "      <td>Yes</td>\n",
       "      <td>Yes</td>\n",
       "      <td>No</td>\n",
       "      <td>No</td>\n",
       "    </tr>\n",
       "    <tr>\n",
       "      <td>753</td>\n",
       "      <td>3115-CZMZD</td>\n",
       "      <td>2020-02-01</td>\n",
       "      <td>No</td>\n",
       "      <td>Two year</td>\n",
       "      <td>No</td>\n",
       "      <td>Mailed check</td>\n",
       "      <td>20.25</td>\n",
       "      <td></td>\n",
       "      <td>Male</td>\n",
       "      <td>0</td>\n",
       "      <td>No</td>\n",
       "      <td>Yes</td>\n",
       "      <td>No</td>\n",
       "      <td>No</td>\n",
       "      <td>No</td>\n",
       "      <td>No</td>\n",
       "      <td>No</td>\n",
       "      <td>No</td>\n",
       "      <td>No</td>\n",
       "      <td>MultipleLines_No</td>\n",
       "    </tr>\n",
       "    <tr>\n",
       "      <td>6754</td>\n",
       "      <td>2775-SEFEE</td>\n",
       "      <td>2020-02-01</td>\n",
       "      <td>No</td>\n",
       "      <td>Two year</td>\n",
       "      <td>Yes</td>\n",
       "      <td>Bank transfer (automatic)</td>\n",
       "      <td>61.90</td>\n",
       "      <td></td>\n",
       "      <td>Male</td>\n",
       "      <td>0</td>\n",
       "      <td>No</td>\n",
       "      <td>Yes</td>\n",
       "      <td>DSL</td>\n",
       "      <td>Yes</td>\n",
       "      <td>Yes</td>\n",
       "      <td>No</td>\n",
       "      <td>Yes</td>\n",
       "      <td>No</td>\n",
       "      <td>No</td>\n",
       "      <td>Yes</td>\n",
       "    </tr>\n",
       "    <tr>\n",
       "      <td>936</td>\n",
       "      <td>5709-LVOEQ</td>\n",
       "      <td>2020-02-01</td>\n",
       "      <td>No</td>\n",
       "      <td>Two year</td>\n",
       "      <td>No</td>\n",
       "      <td>Mailed check</td>\n",
       "      <td>80.85</td>\n",
       "      <td></td>\n",
       "      <td>Female</td>\n",
       "      <td>0</td>\n",
       "      <td>Yes</td>\n",
       "      <td>Yes</td>\n",
       "      <td>DSL</td>\n",
       "      <td>Yes</td>\n",
       "      <td>Yes</td>\n",
       "      <td>Yes</td>\n",
       "      <td>No</td>\n",
       "      <td>Yes</td>\n",
       "      <td>Yes</td>\n",
       "      <td>MultipleLines_No</td>\n",
       "    </tr>\n",
       "    <tr>\n",
       "      <td>3331</td>\n",
       "      <td>7644-OMVMY</td>\n",
       "      <td>2020-02-01</td>\n",
       "      <td>No</td>\n",
       "      <td>Two year</td>\n",
       "      <td>No</td>\n",
       "      <td>Mailed check</td>\n",
       "      <td>19.85</td>\n",
       "      <td></td>\n",
       "      <td>Male</td>\n",
       "      <td>0</td>\n",
       "      <td>Yes</td>\n",
       "      <td>Yes</td>\n",
       "      <td>No</td>\n",
       "      <td>No</td>\n",
       "      <td>No</td>\n",
       "      <td>No</td>\n",
       "      <td>No</td>\n",
       "      <td>No</td>\n",
       "      <td>No</td>\n",
       "      <td>MultipleLines_No</td>\n",
       "    </tr>\n",
       "    <tr>\n",
       "      <td>5218</td>\n",
       "      <td>2923-ARZLG</td>\n",
       "      <td>2020-02-01</td>\n",
       "      <td>No</td>\n",
       "      <td>One year</td>\n",
       "      <td>Yes</td>\n",
       "      <td>Mailed check</td>\n",
       "      <td>19.70</td>\n",
       "      <td></td>\n",
       "      <td>Male</td>\n",
       "      <td>0</td>\n",
       "      <td>Yes</td>\n",
       "      <td>Yes</td>\n",
       "      <td>No</td>\n",
       "      <td>No</td>\n",
       "      <td>No</td>\n",
       "      <td>No</td>\n",
       "      <td>No</td>\n",
       "      <td>No</td>\n",
       "      <td>No</td>\n",
       "      <td>MultipleLines_No</td>\n",
       "    </tr>\n",
       "  </tbody>\n",
       "</table>\n",
       "</div>"
      ],
      "text/plain": [
       "      customerID   BeginDate EndDate      Type PaperlessBilling  \\\n",
       "4380  2520-SGTTA  2020-02-01      No  Two year               No   \n",
       "1082  4367-NUYAO  2020-02-01      No  Two year               No   \n",
       "488   4472-LVYGI  2020-02-01      No  Two year              Yes   \n",
       "753   3115-CZMZD  2020-02-01      No  Two year               No   \n",
       "6754  2775-SEFEE  2020-02-01      No  Two year              Yes   \n",
       "936   5709-LVOEQ  2020-02-01      No  Two year               No   \n",
       "3331  7644-OMVMY  2020-02-01      No  Two year               No   \n",
       "5218  2923-ARZLG  2020-02-01      No  One year              Yes   \n",
       "\n",
       "                  PaymentMethod  MonthlyCharges TotalCharges  gender  \\\n",
       "4380               Mailed check           20.00               Female   \n",
       "1082               Mailed check           25.75                 Male   \n",
       "488   Bank transfer (automatic)           52.55               Female   \n",
       "753                Mailed check           20.25                 Male   \n",
       "6754  Bank transfer (automatic)           61.90                 Male   \n",
       "936                Mailed check           80.85               Female   \n",
       "3331               Mailed check           19.85                 Male   \n",
       "5218               Mailed check           19.70                 Male   \n",
       "\n",
       "      SeniorCitizen Partner Dependents InternetService OnlineSecurity  \\\n",
       "4380              0     Yes        Yes              No             No   \n",
       "1082              0     Yes        Yes              No             No   \n",
       "488               0     Yes        Yes             DSL            Yes   \n",
       "753               0      No        Yes              No             No   \n",
       "6754              0      No        Yes             DSL            Yes   \n",
       "936               0     Yes        Yes             DSL            Yes   \n",
       "3331              0     Yes        Yes              No             No   \n",
       "5218              0     Yes        Yes              No             No   \n",
       "\n",
       "     OnlineBackup DeviceProtection TechSupport StreamingTV StreamingMovies  \\\n",
       "4380           No               No          No          No              No   \n",
       "1082           No               No          No          No              No   \n",
       "488            No              Yes         Yes         Yes              No   \n",
       "753            No               No          No          No              No   \n",
       "6754          Yes               No         Yes          No              No   \n",
       "936           Yes              Yes          No         Yes             Yes   \n",
       "3331           No               No          No          No              No   \n",
       "5218           No               No          No          No              No   \n",
       "\n",
       "         MultipleLines  \n",
       "4380  MultipleLines_No  \n",
       "1082               Yes  \n",
       "488                 No  \n",
       "753   MultipleLines_No  \n",
       "6754               Yes  \n",
       "936   MultipleLines_No  \n",
       "3331  MultipleLines_No  \n",
       "5218  MultipleLines_No  "
      ]
     },
     "execution_count": 121,
     "metadata": {},
     "output_type": "execute_result"
    }
   ],
   "source": [
    "train.loc[contract['TotalCharges']==' ']"
   ]
  },
  {
   "cell_type": "markdown",
   "metadata": {},
   "source": [
    "Видим, что все пользователи со значением '  ' - новые, значит их траты равны 0."
   ]
  },
  {
   "cell_type": "code",
   "execution_count": 122,
   "metadata": {},
   "outputs": [],
   "source": [
    "train.loc[train['TotalCharges']==' ', 'TotalCharges'] = 0\n",
    "test.loc[test['TotalCharges']==' ', 'TotalCharges'] = 0"
   ]
  },
  {
   "cell_type": "code",
   "execution_count": 123,
   "metadata": {},
   "outputs": [],
   "source": [
    "train['TotalCharges'] = train['TotalCharges'].astype('float64')\n",
    "test['TotalCharges'] = test['TotalCharges'].astype('float64')"
   ]
  },
  {
   "cell_type": "code",
   "execution_count": 124,
   "metadata": {},
   "outputs": [],
   "source": [
    "def time_begin_end(contract):\n",
    "    contract['End'] = 0\n",
    "    contract.loc[contract['EndDate']== 'No', 'End'] = 1\n",
    "    contract.loc[contract['End']== 1, 'EndDate'] = '2020-02-01 00:00:00'\n",
    "    contract['EndDate'] = pd.to_datetime(contract['EndDate'])\n",
    "    contract['BeginDate'] = pd.to_datetime(contract['BeginDate'])\n",
    "    contract['ttl'] =  contract['EndDate'] - contract['BeginDate']\n",
    "    contract['ttl'] =contract['ttl'].dt.days"
   ]
  },
  {
   "cell_type": "code",
   "execution_count": 125,
   "metadata": {},
   "outputs": [],
   "source": [
    "time_begin_end(train)\n",
    "time_begin_end(test)"
   ]
  },
  {
   "cell_type": "code",
   "execution_count": 126,
   "metadata": {},
   "outputs": [
    {
     "data": {
      "text/plain": [
       "1    4159\n",
       "0    1475\n",
       "Name: End, dtype: int64"
      ]
     },
     "execution_count": 126,
     "metadata": {},
     "output_type": "execute_result"
    },
    {
     "data": {
      "image/png": "[encoded data removed]",
      "text/plain": [
       "<Figure size 432x288 with 1 Axes>"
      ]
     },
     "metadata": {
      "needs_background": "light"
     },
     "output_type": "display_data"
    }
   ],
   "source": [
    "train['End'].hist(bins = 2)\n",
    "g = 1\n",
    "plt.title(f'График {g}: Прервавшие и продолжившие договор')\n",
    "plt.xlabel('состояние жизни клиента')\n",
    "plt.xticks(np.arange(2), ['Клиенты', 'Прерванный договор'])\n",
    "train['End'].value_counts()"
   ]
  },
  {
   "cell_type": "code",
   "execution_count": 127,
   "metadata": {},
   "outputs": [
    {
     "data": {
      "text/plain": [
       "Text(0.5, 0, 'дата')"
      ]
     },
     "execution_count": 127,
     "metadata": {},
     "output_type": "execute_result"
    },
    {
     "data": {
      "image/png": "[encoded data removed]",
      "text/plain": [
       "<Figure size 432x288 with 1 Axes>"
      ]
     },
     "metadata": {
      "needs_background": "light"
     },
     "output_type": "display_data"
    }
   ],
   "source": [
    "train['BeginDate'].hist(bins=10)\n",
    "g += 1\n",
    "plt.title(f'График {g}: Дата заключения контракта')\n",
    "plt.xlabel('дата')"
   ]
  },
  {
   "cell_type": "markdown",
   "metadata": {},
   "source": [
    "Видим, что интерес пользователей к продуктам по сосстоянию на 2020 год растет. При этом значительно."
   ]
  },
  {
   "cell_type": "code",
   "execution_count": 128,
   "metadata": {},
   "outputs": [
    {
     "data": {
      "text/plain": [
       "Text(0.5, 0, 'разрывание контракта')"
      ]
     },
     "execution_count": 128,
     "metadata": {},
     "output_type": "execute_result"
    },
    {
     "data": {
      "image/png": "[encoded data removed]",
      "text/plain": [
       "<Figure size 432x288 with 1 Axes>"
      ]
     },
     "metadata": {
      "needs_background": "light"
     },
     "output_type": "display_data"
    }
   ],
   "source": [
    "train.loc[train['End']!= 1,'EndDate'].hist(bins=4)\n",
    "plt.xticks(rotation=70)\n",
    "g += 1\n",
    "plt.title(f'График {g}: Время разрывания контракта')\n",
    "plt.xlabel('разрывание контракта')"
   ]
  },
  {
   "cell_type": "markdown",
   "metadata": {},
   "source": [
    "А разрывание контракта происходит более равномерно"
   ]
  },
  {
   "cell_type": "code",
   "execution_count": 129,
   "metadata": {},
   "outputs": [
    {
     "data": {
      "text/plain": [
       "Text(0.5, 0, 'дни')"
      ]
     },
     "execution_count": 129,
     "metadata": {},
     "output_type": "execute_result"
    },
    {
     "data": {
      "image/png": "[encoded data removed]",
      "text/plain": [
       "<Figure size 432x288 with 1 Axes>"
      ]
     },
     "metadata": {
      "needs_background": "light"
     },
     "output_type": "display_data"
    }
   ],
   "source": [
    "train['ttl'].hist(bins=10)\n",
    "plt.xticks(rotation=70)\n",
    "g += 1\n",
    "plt.title(f'График {g}: Время жизни клиента')\n",
    "plt.xlabel('дни')"
   ]
  },
  {
   "cell_type": "markdown",
   "metadata": {},
   "source": [
    "А время жизни очень неравномерно. Видим пики на короткосрочных отношениях и на долгосрочных."
   ]
  },
  {
   "cell_type": "markdown",
   "metadata": {},
   "source": [
    "### Конструировние признака, число используемых интернет-продуктов <a id=\"n_prod\"> </a>\n"
   ]
  },
  {
   "cell_type": "code",
   "execution_count": 130,
   "metadata": {},
   "outputs": [],
   "source": [
    "def my_dumm(df, prod):\n",
    "    df['n_prod']=0\n",
    "    for p in prod:\n",
    "        df.loc[df[p]!= 'No', 'n_prod'] = df.loc[df[p]!= 'No', 'n_prod'] +1\n",
    "    \n",
    "mask = ['OnlineSecurity','OnlineBackup','DeviceProtection','TechSupport','StreamingTV','StreamingMovies']\n",
    "my_dumm(train,mask)\n",
    "my_dumm(test,mask)"
   ]
  },
  {
   "cell_type": "markdown",
   "metadata": {},
   "source": [
    "### Разбивка на X, y <a id=\"split\"> </a>"
   ]
  },
  {
   "cell_type": "code",
   "execution_count": 131,
   "metadata": {},
   "outputs": [],
   "source": [
    "mask = list(train.columns)\n",
    "mask.remove('End')\n",
    "mask.remove('BeginDate')\n",
    "mask.remove('EndDate')\n",
    "mask.remove('customerID')"
   ]
  },
  {
   "cell_type": "code",
   "execution_count": 132,
   "metadata": {},
   "outputs": [],
   "source": [
    "X_train, y_train = train[mask], train['End']\n",
    "X_test, y_test = test[mask], test['End']"
   ]
  },
  {
   "cell_type": "code",
   "execution_count": 133,
   "metadata": {},
   "outputs": [
    {
     "name": "stdout",
     "output_type": "stream",
     "text": [
      "<class 'pandas.core.frame.DataFrame'>\n",
      "Int64Index: 5634 entries, 6924 to 3582\n",
      "Data columns (total 19 columns):\n",
      "Type                5634 non-null object\n",
      "PaperlessBilling    5634 non-null object\n",
      "PaymentMethod       5634 non-null object\n",
      "MonthlyCharges      5634 non-null float64\n",
      "TotalCharges        5634 non-null float64\n",
      "gender              5634 non-null object\n",
      "SeniorCitizen       5634 non-null int64\n",
      "Partner             5634 non-null object\n",
      "Dependents          5634 non-null object\n",
      "InternetService     5634 non-null object\n",
      "OnlineSecurity      5634 non-null object\n",
      "OnlineBackup        5634 non-null object\n",
      "DeviceProtection    5634 non-null object\n",
      "TechSupport         5634 non-null object\n",
      "StreamingTV         5634 non-null object\n",
      "StreamingMovies     5634 non-null object\n",
      "MultipleLines       5634 non-null object\n",
      "ttl                 5634 non-null int64\n",
      "n_prod              5634 non-null int64\n",
      "dtypes: float64(2), int64(3), object(14)\n",
      "memory usage: 880.3+ KB\n"
     ]
    }
   ],
   "source": [
    "X_train.info()"
   ]
  },
  {
   "cell_type": "code",
   "execution_count": 134,
   "metadata": {},
   "outputs": [],
   "source": [
    "categorical_features = mask\n",
    "categorical_features.remove('ttl')\n",
    "categorical_features.remove('MonthlyCharges')\n",
    "categorical_features.remove('TotalCharges')\n",
    "categorical_features.remove('n_prod')\n",
    "\n",
    "numeric_features = ['MonthlyCharges','TotalCharges', 'ttl', 'n_prod']"
   ]
  },
  {
   "cell_type": "code",
   "execution_count": 137,
   "metadata": {},
   "outputs": [
    {
     "name": "stdout",
     "output_type": "stream",
     "text": [
      "Матрица диаграмм рассеяния и таблица корреляции 1: цена, площадь, число комнат, удалённость от центра\n"
     ]
    },
    {
     "data": {
      "text/html": [
       "<style  type=\"text/css\" >\n",
       "    #T_d3ac4bf8_072d_11ec_8142_02420a394ae1row0_col0 {\n",
       "            background-color:  #008000;\n",
       "            color:  #f1f1f1;\n",
       "        }    #T_d3ac4bf8_072d_11ec_8142_02420a394ae1row0_col1 {\n",
       "            background-color:  #e5ffe5;\n",
       "            color:  #000000;\n",
       "        }    #T_d3ac4bf8_072d_11ec_8142_02420a394ae1row0_col2 {\n",
       "            background-color:  #e5ffe5;\n",
       "            color:  #000000;\n",
       "        }    #T_d3ac4bf8_072d_11ec_8142_02420a394ae1row0_col3 {\n",
       "            background-color:  #7ec67e;\n",
       "            color:  #000000;\n",
       "        }    #T_d3ac4bf8_072d_11ec_8142_02420a394ae1row1_col0 {\n",
       "            background-color:  #6abb6a;\n",
       "            color:  #000000;\n",
       "        }    #T_d3ac4bf8_072d_11ec_8142_02420a394ae1row1_col1 {\n",
       "            background-color:  #008000;\n",
       "            color:  #f1f1f1;\n",
       "        }    #T_d3ac4bf8_072d_11ec_8142_02420a394ae1row1_col2 {\n",
       "            background-color:  #359d35;\n",
       "            color:  #000000;\n",
       "        }    #T_d3ac4bf8_072d_11ec_8142_02420a394ae1row1_col3 {\n",
       "            background-color:  #74c074;\n",
       "            color:  #000000;\n",
       "        }    #T_d3ac4bf8_072d_11ec_8142_02420a394ae1row2_col0 {\n",
       "            background-color:  #e5ffe5;\n",
       "            color:  #000000;\n",
       "        }    #T_d3ac4bf8_072d_11ec_8142_02420a394ae1row2_col1 {\n",
       "            background-color:  #73c073;\n",
       "            color:  #000000;\n",
       "        }    #T_d3ac4bf8_072d_11ec_8142_02420a394ae1row2_col2 {\n",
       "            background-color:  #008000;\n",
       "            color:  #f1f1f1;\n",
       "        }    #T_d3ac4bf8_072d_11ec_8142_02420a394ae1row2_col3 {\n",
       "            background-color:  #e5ffe5;\n",
       "            color:  #000000;\n",
       "        }    #T_d3ac4bf8_072d_11ec_8142_02420a394ae1row3_col0 {\n",
       "            background-color:  #54ae54;\n",
       "            color:  #000000;\n",
       "        }    #T_d3ac4bf8_072d_11ec_8142_02420a394ae1row3_col1 {\n",
       "            background-color:  #a7dda7;\n",
       "            color:  #000000;\n",
       "        }    #T_d3ac4bf8_072d_11ec_8142_02420a394ae1row3_col2 {\n",
       "            background-color:  #99d599;\n",
       "            color:  #000000;\n",
       "        }    #T_d3ac4bf8_072d_11ec_8142_02420a394ae1row3_col3 {\n",
       "            background-color:  #008000;\n",
       "            color:  #f1f1f1;\n",
       "        }</style><table id=\"T_d3ac4bf8_072d_11ec_8142_02420a394ae1\" ><thead>    <tr>        <th class=\"blank level0\" ></th>        <th class=\"col_heading level0 col0\" >MonthlyCharges</th>        <th class=\"col_heading level0 col1\" >TotalCharges</th>        <th class=\"col_heading level0 col2\" >ttl</th>        <th class=\"col_heading level0 col3\" >n_prod</th>    </tr></thead><tbody>\n",
       "                <tr>\n",
       "                        <th id=\"T_d3ac4bf8_072d_11ec_8142_02420a394ae1level0_row0\" class=\"row_heading level0 row0\" >MonthlyCharges</th>\n",
       "                        <td id=\"T_d3ac4bf8_072d_11ec_8142_02420a394ae1row0_col0\" class=\"data row0 col0\" >1</td>\n",
       "                        <td id=\"T_d3ac4bf8_072d_11ec_8142_02420a394ae1row0_col1\" class=\"data row0 col1\" >0.649925</td>\n",
       "                        <td id=\"T_d3ac4bf8_072d_11ec_8142_02420a394ae1row0_col2\" class=\"data row0 col2\" >0.243047</td>\n",
       "                        <td id=\"T_d3ac4bf8_072d_11ec_8142_02420a394ae1row0_col3\" class=\"data row0 col3\" >0.7222</td>\n",
       "            </tr>\n",
       "            <tr>\n",
       "                        <th id=\"T_d3ac4bf8_072d_11ec_8142_02420a394ae1level0_row1\" class=\"row_heading level0 row1\" >TotalCharges</th>\n",
       "                        <td id=\"T_d3ac4bf8_072d_11ec_8142_02420a394ae1row1_col0\" class=\"data row1 col0\" >0.649925</td>\n",
       "                        <td id=\"T_d3ac4bf8_072d_11ec_8142_02420a394ae1row1_col1\" class=\"data row1 col1\" >1</td>\n",
       "                        <td id=\"T_d3ac4bf8_072d_11ec_8142_02420a394ae1row1_col2\" class=\"data row1 col2\" >0.824623</td>\n",
       "                        <td id=\"T_d3ac4bf8_072d_11ec_8142_02420a394ae1row1_col3\" class=\"data row1 col3\" >0.745128</td>\n",
       "            </tr>\n",
       "            <tr>\n",
       "                        <th id=\"T_d3ac4bf8_072d_11ec_8142_02420a394ae1level0_row2\" class=\"row_heading level0 row2\" >ttl</th>\n",
       "                        <td id=\"T_d3ac4bf8_072d_11ec_8142_02420a394ae1row2_col0\" class=\"data row2 col0\" >0.243047</td>\n",
       "                        <td id=\"T_d3ac4bf8_072d_11ec_8142_02420a394ae1row2_col1\" class=\"data row2 col1\" >0.824623</td>\n",
       "                        <td id=\"T_d3ac4bf8_072d_11ec_8142_02420a394ae1row2_col2\" class=\"data row2 col2\" >1</td>\n",
       "                        <td id=\"T_d3ac4bf8_072d_11ec_8142_02420a394ae1row2_col3\" class=\"data row2 col3\" >0.494415</td>\n",
       "            </tr>\n",
       "            <tr>\n",
       "                        <th id=\"T_d3ac4bf8_072d_11ec_8142_02420a394ae1level0_row3\" class=\"row_heading level0 row3\" >n_prod</th>\n",
       "                        <td id=\"T_d3ac4bf8_072d_11ec_8142_02420a394ae1row3_col0\" class=\"data row3 col0\" >0.7222</td>\n",
       "                        <td id=\"T_d3ac4bf8_072d_11ec_8142_02420a394ae1row3_col1\" class=\"data row3 col1\" >0.745128</td>\n",
       "                        <td id=\"T_d3ac4bf8_072d_11ec_8142_02420a394ae1row3_col2\" class=\"data row3 col2\" >0.494415</td>\n",
       "                        <td id=\"T_d3ac4bf8_072d_11ec_8142_02420a394ae1row3_col3\" class=\"data row3 col3\" >1</td>\n",
       "            </tr>\n",
       "    </tbody></table>"
      ],
      "text/plain": [
       "<pandas.io.formats.style.Styler at 0x7f3cdcc1e610>"
      ]
     },
     "execution_count": 137,
     "metadata": {},
     "output_type": "execute_result"
    }
   ],
   "source": [
    "cm = sns.light_palette(\"green\", as_cmap=True)\n",
    "s = pd.DataFrame(X_train[numeric_features]).corr().style.background_gradient(cmap=cm)\n",
    "s"
   ]
  },
  {
   "cell_type": "code",
   "execution_count": 139,
   "metadata": {},
   "outputs": [
    {
     "name": "stdout",
     "output_type": "stream",
     "text": [
      "Матрица диаграмм рассеяния 1\n"
     ]
    },
    {
     "data": {
      "text/plain": [
       "array([[<matplotlib.axes._subplots.AxesSubplot object at 0x7f3cdc685c90>,\n",
       "        <matplotlib.axes._subplots.AxesSubplot object at 0x7f3cb882f5d0>,\n",
       "        <matplotlib.axes._subplots.AxesSubplot object at 0x7f3cb87d6c90>,\n",
       "        <matplotlib.axes._subplots.AxesSubplot object at 0x7f3cb87999d0>],\n",
       "       [<matplotlib.axes._subplots.AxesSubplot object at 0x7f3cb874be10>,\n",
       "        <matplotlib.axes._subplots.AxesSubplot object at 0x7f3cb870d650>,\n",
       "        <matplotlib.axes._subplots.AxesSubplot object at 0x7f3cb86c2810>,\n",
       "        <matplotlib.axes._subplots.AxesSubplot object at 0x7f3cb8681690>],\n",
       "       [<matplotlib.axes._subplots.AxesSubplot object at 0x7f3cb868e2d0>,\n",
       "        <matplotlib.axes._subplots.AxesSubplot object at 0x7f3cb8640b50>,\n",
       "        <matplotlib.axes._subplots.AxesSubplot object at 0x7f3cb85aced0>,\n",
       "        <matplotlib.axes._subplots.AxesSubplot object at 0x7f3cb856c710>],\n",
       "       [<matplotlib.axes._subplots.AxesSubplot object at 0x7f3cb85a0f10>,\n",
       "        <matplotlib.axes._subplots.AxesSubplot object at 0x7f3cb8564750>,\n",
       "        <matplotlib.axes._subplots.AxesSubplot object at 0x7f3cb8516f50>,\n",
       "        <matplotlib.axes._subplots.AxesSubplot object at 0x7f3cb84d9790>]],\n",
       "      dtype=object)"
      ]
     },
     "execution_count": 139,
     "metadata": {},
     "output_type": "execute_result"
    },
    {
     "data": {
      "image/png": "[encoded data removed]",
      "text/plain": [
       "<Figure size 648x648 with 16 Axes>"
      ]
     },
     "metadata": {
      "needs_background": "light"
     },
     "output_type": "display_data"
    }
   ],
   "source": [
    "m = 1\n",
    "print(f'Матрица диаграмм рассеяния {m}')\n",
    "\n",
    "pd.plotting.scatter_matrix(X_train[numeric_features], figsize=(9, 9))"
   ]
  },
  {
   "cell_type": "markdown",
   "metadata": {},
   "source": [
    "Убираем мультиколлинеарность"
   ]
  },
  {
   "cell_type": "code",
   "execution_count": 101,
   "metadata": {},
   "outputs": [],
   "source": [
    "X_train = X_train.drop(['TotalCharges', 'n_prod'], axis=1)\n",
    "X_test = X_test.drop(['TotalCharges', 'n_prod'], axis=1)"
   ]
  },
  {
   "cell_type": "code",
   "execution_count": 102,
   "metadata": {},
   "outputs": [],
   "source": [
    "numeric_features = ['MonthlyCharges', 'ttl']"
   ]
  },
  {
   "cell_type": "markdown",
   "metadata": {},
   "source": [
    "## Моделирование <a id=\"model\"> </a>\n",
    "Используем 3 модели может это будут случайный лес, градиентный бустинг и катбуст.\n",
    "Но для начала опишем препроцессор для обработки для первых двух видов моделей."
   ]
  },
  {
   "cell_type": "code",
   "execution_count": 37,
   "metadata": {},
   "outputs": [],
   "source": [
    "numeric_transformer = Pipeline(steps=[\n",
    "    ('imputer', SimpleImputer(strategy='median')),\n",
    "    ('scaler', StandardScaler())])\n",
    "\n",
    "categorical_transformer = OneHotEncoder(handle_unknown='error', drop = 'first')\n",
    "\n",
    "preprocessor = ColumnTransformer(\n",
    "    transformers=[\n",
    "        ('num', numeric_transformer, numeric_features),\n",
    "        ('cat', categorical_transformer, categorical_features)])"
   ]
  },
  {
   "cell_type": "code",
   "execution_count": 38,
   "metadata": {},
   "outputs": [],
   "source": [
    "enc = OneHotEncoder( drop='first', sparse=False)\n",
    "x = enc.fit_transform(X_train[categorical_features])\n",
    "c = numeric_features+list(enc.get_feature_names(categorical_features))"
   ]
  },
  {
   "cell_type": "markdown",
   "metadata": {},
   "source": [
    "### Случайный лес  <a id=\"forest\"> </a>"
   ]
  },
  {
   "cell_type": "code",
   "execution_count": 39,
   "metadata": {},
   "outputs": [
    {
     "data": {
      "text/plain": [
       "GridSearchCV(cv=3, error_score='raise-deprecating',\n",
       "             estimator=Pipeline(memory=None,\n",
       "                                steps=[('preprocessor',\n",
       "                                        ColumnTransformer(n_jobs=None,\n",
       "                                                          remainder='drop',\n",
       "                                                          sparse_threshold=0.3,\n",
       "                                                          transformer_weights=None,\n",
       "                                                          transformers=[('num',\n",
       "                                                                         Pipeline(memory=None,\n",
       "                                                                                  steps=[('imputer',\n",
       "                                                                                          SimpleImputer(add_indicator=False,\n",
       "                                                                                                        copy=True,\n",
       "                                                                                                        fill_value=None,\n",
       "                                                                                                        missing_values=nan,\n",
       "                                                                                                        strategy='medi...\n",
       "                                                               n_estimators='warn',\n",
       "                                                               n_jobs=-1,\n",
       "                                                               oob_score=False,\n",
       "                                                               random_state=12345,\n",
       "                                                               verbose=0,\n",
       "                                                               warm_start=False))],\n",
       "                                verbose=False),\n",
       "             iid='warn', n_jobs=None,\n",
       "             param_grid={'classifier__max_depth': [8, 16],\n",
       "                         'classifier__n_estimators': [200, 600, 1000],\n",
       "                         'preprocessor__num__imputer__strategy': ['mean',\n",
       "                                                                  'median']},\n",
       "             pre_dispatch='2*n_jobs', refit=True, return_train_score=False,\n",
       "             scoring='roc_auc', verbose=0)"
      ]
     },
     "execution_count": 39,
     "metadata": {},
     "output_type": "execute_result"
    }
   ],
   "source": [
    "pipe = Pipeline(steps=[('preprocessor', preprocessor),\n",
    "                     ('classifier', RandomForestClassifier(random_state=12345, class_weight='balanced',n_jobs=-1))])\n",
    "\n",
    "\n",
    "param_grid = {\n",
    "    'preprocessor__num__imputer__strategy': ['mean', 'median'],\n",
    "    'classifier__max_depth': [8,16],\n",
    "    'classifier__n_estimators': [200,600,1000]\n",
    "}\n",
    "\n",
    "grid_search = GridSearchCV(pipe, param_grid, cv=3,scoring='roc_auc')\n",
    "grid_search.fit(X_train, y_train)"
   ]
  },
  {
   "cell_type": "code",
   "execution_count": 40,
   "metadata": {
    "scrolled": true
   },
   "outputs": [
    {
     "data": {
      "text/plain": [
       "{'classifier__max_depth': 8,\n",
       " 'classifier__n_estimators': 1000,\n",
       " 'preprocessor__num__imputer__strategy': 'mean'}"
      ]
     },
     "execution_count": 40,
     "metadata": {},
     "output_type": "execute_result"
    }
   ],
   "source": [
    "grid_search.best_params_"
   ]
  },
  {
   "cell_type": "code",
   "execution_count": 41,
   "metadata": {
    "scrolled": true
   },
   "outputs": [
    {
     "data": {
      "text/plain": [
       "0.8524738077480196"
      ]
     },
     "execution_count": 41,
     "metadata": {},
     "output_type": "execute_result"
    }
   ],
   "source": [
    "grid_search.best_score_"
   ]
  },
  {
   "cell_type": "code",
   "execution_count": 42,
   "metadata": {},
   "outputs": [
    {
     "name": "stdout",
     "output_type": "stream",
     "text": [
      "roc_auc: 0.8635405466229902\n",
      "accuracy_score: 0.78708303761533\n"
     ]
    }
   ],
   "source": [
    "model_forest_predictions = grid_search.predict_proba(X_test)[:,1]\n",
    "\n",
    "print(\"roc_auc:\", roc_auc_score(y_test.values, model_forest_predictions))\n",
    "print(\"accuracy_score:\", accuracy_score(y_test.values, grid_search.predict(X_test)))"
   ]
  },
  {
   "cell_type": "markdown",
   "metadata": {},
   "source": [
    "### Градиентный бустинг <a id=\"boost\"> </a>"
   ]
  },
  {
   "cell_type": "code",
   "execution_count": 43,
   "metadata": {
    "scrolled": true
   },
   "outputs": [
    {
     "name": "stdout",
     "output_type": "stream",
     "text": [
      "Fitting 3 folds for each of 128 candidates, totalling 384 fits\n",
      "[CV] classifier__learning_rate=0.2, classifier__max_depth=9, classifier__min_samples_leaf=0.1, classifier__min_samples_split=0.4, classifier__n_estimators=1000, classifier__subsample=0.9, preprocessor__num__imputer__strategy=mean \n"
     ]
    },
    {
     "name": "stderr",
     "output_type": "stream",
     "text": [
      "[Parallel(n_jobs=-1)]: Using backend SequentialBackend with 1 concurrent workers.\n"
     ]
    },
    {
     "name": "stdout",
     "output_type": "stream",
     "text": [
      "[CV]  classifier__learning_rate=0.2, classifier__max_depth=9, classifier__min_samples_leaf=0.1, classifier__min_samples_split=0.4, classifier__n_estimators=1000, classifier__subsample=0.9, preprocessor__num__imputer__strategy=mean, score=0.861, total=   3.7s\n",
      "[CV] classifier__learning_rate=0.2, classifier__max_depth=9, classifier__min_samples_leaf=0.1, classifier__min_samples_split=0.4, classifier__n_estimators=1000, classifier__subsample=0.9, preprocessor__num__imputer__strategy=mean \n"
     ]
    },
    {
     "name": "stderr",
     "output_type": "stream",
     "text": [
      "[Parallel(n_jobs=-1)]: Done   1 out of   1 | elapsed:    3.7s remaining:    0.0s\n"
     ]
    },
    {
     "name": "stdout",
     "output_type": "stream",
     "text": [
      "[CV]  classifier__learning_rate=0.2, classifier__max_depth=9, classifier__min_samples_leaf=0.1, classifier__min_samples_split=0.4, classifier__n_estimators=1000, classifier__subsample=0.9, preprocessor__num__imputer__strategy=mean, score=0.875, total=   3.7s\n",
      "[CV] classifier__learning_rate=0.2, classifier__max_depth=9, classifier__min_samples_leaf=0.1, classifier__min_samples_split=0.4, classifier__n_estimators=1000, classifier__subsample=0.9, preprocessor__num__imputer__strategy=mean \n"
     ]
    },
    {
     "name": "stderr",
     "output_type": "stream",
     "text": [
      "[Parallel(n_jobs=-1)]: Done   2 out of   2 | elapsed:    7.5s remaining:    0.0s\n"
     ]
    },
    {
     "name": "stdout",
     "output_type": "stream",
     "text": [
      "[CV]  classifier__learning_rate=0.2, classifier__max_depth=9, classifier__min_samples_leaf=0.1, classifier__min_samples_split=0.4, classifier__n_estimators=1000, classifier__subsample=0.9, preprocessor__num__imputer__strategy=mean, score=0.875, total=   3.9s\n",
      "[CV] classifier__learning_rate=0.2, classifier__max_depth=9, classifier__min_samples_leaf=0.1, classifier__min_samples_split=0.4, classifier__n_estimators=1000, classifier__subsample=0.9, preprocessor__num__imputer__strategy=median \n",
      "[CV]  classifier__learning_rate=0.2, classifier__max_depth=9, classifier__min_samples_leaf=0.1, classifier__min_samples_split=0.4, classifier__n_estimators=1000, classifier__subsample=0.9, preprocessor__num__imputer__strategy=median, score=0.862, total=   3.7s\n",
      "[CV] classifier__learning_rate=0.2, classifier__max_depth=9, classifier__min_samples_leaf=0.1, classifier__min_samples_split=0.4, classifier__n_estimators=1000, classifier__subsample=0.9, preprocessor__num__imputer__strategy=median \n",
      "[CV]  classifier__learning_rate=0.2, classifier__max_depth=9, classifier__min_samples_leaf=0.1, classifier__min_samples_split=0.4, classifier__n_estimators=1000, classifier__subsample=0.9, preprocessor__num__imputer__strategy=median, score=0.877, total=   3.8s\n",
      "[CV] classifier__learning_rate=0.2, classifier__max_depth=9, classifier__min_samples_leaf=0.1, classifier__min_samples_split=0.4, classifier__n_estimators=1000, classifier__subsample=0.9, preprocessor__num__imputer__strategy=median \n",
      "[CV]  classifier__learning_rate=0.2, classifier__max_depth=9, classifier__min_samples_leaf=0.1, classifier__min_samples_split=0.4, classifier__n_estimators=1000, classifier__subsample=0.9, preprocessor__num__imputer__strategy=median, score=0.874, total=   3.8s\n",
      "[CV] classifier__learning_rate=0.2, classifier__max_depth=9, classifier__min_samples_leaf=0.1, classifier__min_samples_split=0.4, classifier__n_estimators=1000, classifier__subsample=1, preprocessor__num__imputer__strategy=mean \n",
      "[CV]  classifier__learning_rate=0.2, classifier__max_depth=9, classifier__min_samples_leaf=0.1, classifier__min_samples_split=0.4, classifier__n_estimators=1000, classifier__subsample=1, preprocessor__num__imputer__strategy=mean, score=0.883, total=   4.3s\n",
      "[CV] classifier__learning_rate=0.2, classifier__max_depth=9, classifier__min_samples_leaf=0.1, classifier__min_samples_split=0.4, classifier__n_estimators=1000, classifier__subsample=1, preprocessor__num__imputer__strategy=mean \n",
      "[CV]  classifier__learning_rate=0.2, classifier__max_depth=9, classifier__min_samples_leaf=0.1, classifier__min_samples_split=0.4, classifier__n_estimators=1000, classifier__subsample=1, preprocessor__num__imputer__strategy=mean, score=0.890, total=   4.5s\n",
      "[CV] classifier__learning_rate=0.2, classifier__max_depth=9, classifier__min_samples_leaf=0.1, classifier__min_samples_split=0.4, classifier__n_estimators=1000, classifier__subsample=1, preprocessor__num__imputer__strategy=mean \n",
      "[CV]  classifier__learning_rate=0.2, classifier__max_depth=9, classifier__min_samples_leaf=0.1, classifier__min_samples_split=0.4, classifier__n_estimators=1000, classifier__subsample=1, preprocessor__num__imputer__strategy=mean, score=0.891, total=   4.6s\n",
      "[CV] classifier__learning_rate=0.2, classifier__max_depth=9, classifier__min_samples_leaf=0.1, classifier__min_samples_split=0.4, classifier__n_estimators=1000, classifier__subsample=1, preprocessor__num__imputer__strategy=median \n",
      "[CV]  classifier__learning_rate=0.2, classifier__max_depth=9, classifier__min_samples_leaf=0.1, classifier__min_samples_split=0.4, classifier__n_estimators=1000, classifier__subsample=1, preprocessor__num__imputer__strategy=median, score=0.883, total=   4.3s\n",
      "[CV] classifier__learning_rate=0.2, classifier__max_depth=9, classifier__min_samples_leaf=0.1, classifier__min_samples_split=0.4, classifier__n_estimators=1000, classifier__subsample=1, preprocessor__num__imputer__strategy=median \n",
      "[CV]  classifier__learning_rate=0.2, classifier__max_depth=9, classifier__min_samples_leaf=0.1, classifier__min_samples_split=0.4, classifier__n_estimators=1000, classifier__subsample=1, preprocessor__num__imputer__strategy=median, score=0.890, total=   4.3s\n",
      "[CV] classifier__learning_rate=0.2, classifier__max_depth=9, classifier__min_samples_leaf=0.1, classifier__min_samples_split=0.4, classifier__n_estimators=1000, classifier__subsample=1, preprocessor__num__imputer__strategy=median \n",
      "[CV]  classifier__learning_rate=0.2, classifier__max_depth=9, classifier__min_samples_leaf=0.1, classifier__min_samples_split=0.4, classifier__n_estimators=1000, classifier__subsample=1, preprocessor__num__imputer__strategy=median, score=0.891, total=   4.3s\n",
      "[CV] classifier__learning_rate=0.2, classifier__max_depth=9, classifier__min_samples_leaf=0.1, classifier__min_samples_split=0.4, classifier__n_estimators=2000, classifier__subsample=0.9, preprocessor__num__imputer__strategy=mean \n",
      "[CV]  classifier__learning_rate=0.2, classifier__max_depth=9, classifier__min_samples_leaf=0.1, classifier__min_samples_split=0.4, classifier__n_estimators=2000, classifier__subsample=0.9, preprocessor__num__imputer__strategy=mean, score=0.866, total=   7.9s\n",
      "[CV] classifier__learning_rate=0.2, classifier__max_depth=9, classifier__min_samples_leaf=0.1, classifier__min_samples_split=0.4, classifier__n_estimators=2000, classifier__subsample=0.9, preprocessor__num__imputer__strategy=mean \n",
      "[CV]  classifier__learning_rate=0.2, classifier__max_depth=9, classifier__min_samples_leaf=0.1, classifier__min_samples_split=0.4, classifier__n_estimators=2000, classifier__subsample=0.9, preprocessor__num__imputer__strategy=mean, score=0.883, total=   8.1s\n",
      "[CV] classifier__learning_rate=0.2, classifier__max_depth=9, classifier__min_samples_leaf=0.1, classifier__min_samples_split=0.4, classifier__n_estimators=2000, classifier__subsample=0.9, preprocessor__num__imputer__strategy=mean \n",
      "[CV]  classifier__learning_rate=0.2, classifier__max_depth=9, classifier__min_samples_leaf=0.1, classifier__min_samples_split=0.4, classifier__n_estimators=2000, classifier__subsample=0.9, preprocessor__num__imputer__strategy=mean, score=0.875, total=   7.5s\n",
      "[CV] classifier__learning_rate=0.2, classifier__max_depth=9, classifier__min_samples_leaf=0.1, classifier__min_samples_split=0.4, classifier__n_estimators=2000, classifier__subsample=0.9, preprocessor__num__imputer__strategy=median \n",
      "[CV]  classifier__learning_rate=0.2, classifier__max_depth=9, classifier__min_samples_leaf=0.1, classifier__min_samples_split=0.4, classifier__n_estimators=2000, classifier__subsample=0.9, preprocessor__num__imputer__strategy=median, score=0.867, total=   7.8s\n",
      "[CV] classifier__learning_rate=0.2, classifier__max_depth=9, classifier__min_samples_leaf=0.1, classifier__min_samples_split=0.4, classifier__n_estimators=2000, classifier__subsample=0.9, preprocessor__num__imputer__strategy=median \n",
      "[CV]  classifier__learning_rate=0.2, classifier__max_depth=9, classifier__min_samples_leaf=0.1, classifier__min_samples_split=0.4, classifier__n_estimators=2000, classifier__subsample=0.9, preprocessor__num__imputer__strategy=median, score=0.884, total=   7.7s\n",
      "[CV] classifier__learning_rate=0.2, classifier__max_depth=9, classifier__min_samples_leaf=0.1, classifier__min_samples_split=0.4, classifier__n_estimators=2000, classifier__subsample=0.9, preprocessor__num__imputer__strategy=median \n",
      "[CV]  classifier__learning_rate=0.2, classifier__max_depth=9, classifier__min_samples_leaf=0.1, classifier__min_samples_split=0.4, classifier__n_estimators=2000, classifier__subsample=0.9, preprocessor__num__imputer__strategy=median, score=0.875, total=  11.2s\n",
      "[CV] classifier__learning_rate=0.2, classifier__max_depth=9, classifier__min_samples_leaf=0.1, classifier__min_samples_split=0.4, classifier__n_estimators=2000, classifier__subsample=1, preprocessor__num__imputer__strategy=mean \n",
      "[CV]  classifier__learning_rate=0.2, classifier__max_depth=9, classifier__min_samples_leaf=0.1, classifier__min_samples_split=0.4, classifier__n_estimators=2000, classifier__subsample=1, preprocessor__num__imputer__strategy=mean, score=0.887, total=  12.7s\n",
      "[CV] classifier__learning_rate=0.2, classifier__max_depth=9, classifier__min_samples_leaf=0.1, classifier__min_samples_split=0.4, classifier__n_estimators=2000, classifier__subsample=1, preprocessor__num__imputer__strategy=mean \n",
      "[CV]  classifier__learning_rate=0.2, classifier__max_depth=9, classifier__min_samples_leaf=0.1, classifier__min_samples_split=0.4, classifier__n_estimators=2000, classifier__subsample=1, preprocessor__num__imputer__strategy=mean, score=0.895, total=  12.9s\n",
      "[CV] classifier__learning_rate=0.2, classifier__max_depth=9, classifier__min_samples_leaf=0.1, classifier__min_samples_split=0.4, classifier__n_estimators=2000, classifier__subsample=1, preprocessor__num__imputer__strategy=mean \n",
      "[CV]  classifier__learning_rate=0.2, classifier__max_depth=9, classifier__min_samples_leaf=0.1, classifier__min_samples_split=0.4, classifier__n_estimators=2000, classifier__subsample=1, preprocessor__num__imputer__strategy=mean, score=0.895, total=  13.3s\n",
      "[CV] classifier__learning_rate=0.2, classifier__max_depth=9, classifier__min_samples_leaf=0.1, classifier__min_samples_split=0.4, classifier__n_estimators=2000, classifier__subsample=1, preprocessor__num__imputer__strategy=median \n",
      "[CV]  classifier__learning_rate=0.2, classifier__max_depth=9, classifier__min_samples_leaf=0.1, classifier__min_samples_split=0.4, classifier__n_estimators=2000, classifier__subsample=1, preprocessor__num__imputer__strategy=median, score=0.887, total=  13.0s\n",
      "[CV] classifier__learning_rate=0.2, classifier__max_depth=9, classifier__min_samples_leaf=0.1, classifier__min_samples_split=0.4, classifier__n_estimators=2000, classifier__subsample=1, preprocessor__num__imputer__strategy=median \n",
      "[CV]  classifier__learning_rate=0.2, classifier__max_depth=9, classifier__min_samples_leaf=0.1, classifier__min_samples_split=0.4, classifier__n_estimators=2000, classifier__subsample=1, preprocessor__num__imputer__strategy=median, score=0.895, total=  13.5s\n",
      "[CV] classifier__learning_rate=0.2, classifier__max_depth=9, classifier__min_samples_leaf=0.1, classifier__min_samples_split=0.4, classifier__n_estimators=2000, classifier__subsample=1, preprocessor__num__imputer__strategy=median \n",
      "[CV]  classifier__learning_rate=0.2, classifier__max_depth=9, classifier__min_samples_leaf=0.1, classifier__min_samples_split=0.4, classifier__n_estimators=2000, classifier__subsample=1, preprocessor__num__imputer__strategy=median, score=0.895, total=  13.2s\n",
      "[CV] classifier__learning_rate=0.2, classifier__max_depth=9, classifier__min_samples_leaf=0.1, classifier__min_samples_split=0.5, classifier__n_estimators=1000, classifier__subsample=0.9, preprocessor__num__imputer__strategy=mean \n",
      "[CV]  classifier__learning_rate=0.2, classifier__max_depth=9, classifier__min_samples_leaf=0.1, classifier__min_samples_split=0.5, classifier__n_estimators=1000, classifier__subsample=0.9, preprocessor__num__imputer__strategy=mean, score=0.859, total=   5.0s\n",
      "[CV] classifier__learning_rate=0.2, classifier__max_depth=9, classifier__min_samples_leaf=0.1, classifier__min_samples_split=0.5, classifier__n_estimators=1000, classifier__subsample=0.9, preprocessor__num__imputer__strategy=mean \n",
      "[CV]  classifier__learning_rate=0.2, classifier__max_depth=9, classifier__min_samples_leaf=0.1, classifier__min_samples_split=0.5, classifier__n_estimators=1000, classifier__subsample=0.9, preprocessor__num__imputer__strategy=mean, score=0.877, total=   5.0s\n",
      "[CV] classifier__learning_rate=0.2, classifier__max_depth=9, classifier__min_samples_leaf=0.1, classifier__min_samples_split=0.5, classifier__n_estimators=1000, classifier__subsample=0.9, preprocessor__num__imputer__strategy=mean \n",
      "[CV]  classifier__learning_rate=0.2, classifier__max_depth=9, classifier__min_samples_leaf=0.1, classifier__min_samples_split=0.5, classifier__n_estimators=1000, classifier__subsample=0.9, preprocessor__num__imputer__strategy=mean, score=0.875, total=   5.1s\n",
      "[CV] classifier__learning_rate=0.2, classifier__max_depth=9, classifier__min_samples_leaf=0.1, classifier__min_samples_split=0.5, classifier__n_estimators=1000, classifier__subsample=0.9, preprocessor__num__imputer__strategy=median \n",
      "[CV]  classifier__learning_rate=0.2, classifier__max_depth=9, classifier__min_samples_leaf=0.1, classifier__min_samples_split=0.5, classifier__n_estimators=1000, classifier__subsample=0.9, preprocessor__num__imputer__strategy=median, score=0.858, total=   4.9s\n",
      "[CV] classifier__learning_rate=0.2, classifier__max_depth=9, classifier__min_samples_leaf=0.1, classifier__min_samples_split=0.5, classifier__n_estimators=1000, classifier__subsample=0.9, preprocessor__num__imputer__strategy=median \n",
      "[CV]  classifier__learning_rate=0.2, classifier__max_depth=9, classifier__min_samples_leaf=0.1, classifier__min_samples_split=0.5, classifier__n_estimators=1000, classifier__subsample=0.9, preprocessor__num__imputer__strategy=median, score=0.875, total=   5.0s\n",
      "[CV] classifier__learning_rate=0.2, classifier__max_depth=9, classifier__min_samples_leaf=0.1, classifier__min_samples_split=0.5, classifier__n_estimators=1000, classifier__subsample=0.9, preprocessor__num__imputer__strategy=median \n",
      "[CV]  classifier__learning_rate=0.2, classifier__max_depth=9, classifier__min_samples_leaf=0.1, classifier__min_samples_split=0.5, classifier__n_estimators=1000, classifier__subsample=0.9, preprocessor__num__imputer__strategy=median, score=0.877, total=   5.1s\n",
      "[CV] classifier__learning_rate=0.2, classifier__max_depth=9, classifier__min_samples_leaf=0.1, classifier__min_samples_split=0.5, classifier__n_estimators=1000, classifier__subsample=1, preprocessor__num__imputer__strategy=mean \n",
      "[CV]  classifier__learning_rate=0.2, classifier__max_depth=9, classifier__min_samples_leaf=0.1, classifier__min_samples_split=0.5, classifier__n_estimators=1000, classifier__subsample=1, preprocessor__num__imputer__strategy=mean, score=0.881, total=   5.8s\n",
      "[CV] classifier__learning_rate=0.2, classifier__max_depth=9, classifier__min_samples_leaf=0.1, classifier__min_samples_split=0.5, classifier__n_estimators=1000, classifier__subsample=1, preprocessor__num__imputer__strategy=mean \n",
      "[CV]  classifier__learning_rate=0.2, classifier__max_depth=9, classifier__min_samples_leaf=0.1, classifier__min_samples_split=0.5, classifier__n_estimators=1000, classifier__subsample=1, preprocessor__num__imputer__strategy=mean, score=0.887, total=   4.0s\n",
      "[CV] classifier__learning_rate=0.2, classifier__max_depth=9, classifier__min_samples_leaf=0.1, classifier__min_samples_split=0.5, classifier__n_estimators=1000, classifier__subsample=1, preprocessor__num__imputer__strategy=mean \n",
      "[CV]  classifier__learning_rate=0.2, classifier__max_depth=9, classifier__min_samples_leaf=0.1, classifier__min_samples_split=0.5, classifier__n_estimators=1000, classifier__subsample=1, preprocessor__num__imputer__strategy=mean, score=0.888, total=   4.4s\n",
      "[CV] classifier__learning_rate=0.2, classifier__max_depth=9, classifier__min_samples_leaf=0.1, classifier__min_samples_split=0.5, classifier__n_estimators=1000, classifier__subsample=1, preprocessor__num__imputer__strategy=median \n",
      "[CV]  classifier__learning_rate=0.2, classifier__max_depth=9, classifier__min_samples_leaf=0.1, classifier__min_samples_split=0.5, classifier__n_estimators=1000, classifier__subsample=1, preprocessor__num__imputer__strategy=median, score=0.881, total=   5.3s\n",
      "[CV] classifier__learning_rate=0.2, classifier__max_depth=9, classifier__min_samples_leaf=0.1, classifier__min_samples_split=0.5, classifier__n_estimators=1000, classifier__subsample=1, preprocessor__num__imputer__strategy=median \n",
      "[CV]  classifier__learning_rate=0.2, classifier__max_depth=9, classifier__min_samples_leaf=0.1, classifier__min_samples_split=0.5, classifier__n_estimators=1000, classifier__subsample=1, preprocessor__num__imputer__strategy=median, score=0.887, total=   5.9s\n",
      "[CV] classifier__learning_rate=0.2, classifier__max_depth=9, classifier__min_samples_leaf=0.1, classifier__min_samples_split=0.5, classifier__n_estimators=1000, classifier__subsample=1, preprocessor__num__imputer__strategy=median \n",
      "[CV]  classifier__learning_rate=0.2, classifier__max_depth=9, classifier__min_samples_leaf=0.1, classifier__min_samples_split=0.5, classifier__n_estimators=1000, classifier__subsample=1, preprocessor__num__imputer__strategy=median, score=0.888, total=   6.0s\n",
      "[CV] classifier__learning_rate=0.2, classifier__max_depth=9, classifier__min_samples_leaf=0.1, classifier__min_samples_split=0.5, classifier__n_estimators=2000, classifier__subsample=0.9, preprocessor__num__imputer__strategy=mean \n",
      "[CV]  classifier__learning_rate=0.2, classifier__max_depth=9, classifier__min_samples_leaf=0.1, classifier__min_samples_split=0.5, classifier__n_estimators=2000, classifier__subsample=0.9, preprocessor__num__imputer__strategy=mean, score=0.866, total=   9.7s\n",
      "[CV] classifier__learning_rate=0.2, classifier__max_depth=9, classifier__min_samples_leaf=0.1, classifier__min_samples_split=0.5, classifier__n_estimators=2000, classifier__subsample=0.9, preprocessor__num__imputer__strategy=mean \n",
      "[CV]  classifier__learning_rate=0.2, classifier__max_depth=9, classifier__min_samples_leaf=0.1, classifier__min_samples_split=0.5, classifier__n_estimators=2000, classifier__subsample=0.9, preprocessor__num__imputer__strategy=mean, score=0.884, total=   9.7s\n",
      "[CV] classifier__learning_rate=0.2, classifier__max_depth=9, classifier__min_samples_leaf=0.1, classifier__min_samples_split=0.5, classifier__n_estimators=2000, classifier__subsample=0.9, preprocessor__num__imputer__strategy=mean \n",
      "[CV]  classifier__learning_rate=0.2, classifier__max_depth=9, classifier__min_samples_leaf=0.1, classifier__min_samples_split=0.5, classifier__n_estimators=2000, classifier__subsample=0.9, preprocessor__num__imputer__strategy=mean, score=0.881, total=   9.7s\n",
      "[CV] classifier__learning_rate=0.2, classifier__max_depth=9, classifier__min_samples_leaf=0.1, classifier__min_samples_split=0.5, classifier__n_estimators=2000, classifier__subsample=0.9, preprocessor__num__imputer__strategy=median \n",
      "[CV]  classifier__learning_rate=0.2, classifier__max_depth=9, classifier__min_samples_leaf=0.1, classifier__min_samples_split=0.5, classifier__n_estimators=2000, classifier__subsample=0.9, preprocessor__num__imputer__strategy=median, score=0.867, total=  10.0s\n",
      "[CV] classifier__learning_rate=0.2, classifier__max_depth=9, classifier__min_samples_leaf=0.1, classifier__min_samples_split=0.5, classifier__n_estimators=2000, classifier__subsample=0.9, preprocessor__num__imputer__strategy=median \n",
      "[CV]  classifier__learning_rate=0.2, classifier__max_depth=9, classifier__min_samples_leaf=0.1, classifier__min_samples_split=0.5, classifier__n_estimators=2000, classifier__subsample=0.9, preprocessor__num__imputer__strategy=median, score=0.884, total=   9.6s\n",
      "[CV] classifier__learning_rate=0.2, classifier__max_depth=9, classifier__min_samples_leaf=0.1, classifier__min_samples_split=0.5, classifier__n_estimators=2000, classifier__subsample=0.9, preprocessor__num__imputer__strategy=median \n",
      "[CV]  classifier__learning_rate=0.2, classifier__max_depth=9, classifier__min_samples_leaf=0.1, classifier__min_samples_split=0.5, classifier__n_estimators=2000, classifier__subsample=0.9, preprocessor__num__imputer__strategy=median, score=0.880, total=   9.7s\n",
      "[CV] classifier__learning_rate=0.2, classifier__max_depth=9, classifier__min_samples_leaf=0.1, classifier__min_samples_split=0.5, classifier__n_estimators=2000, classifier__subsample=1, preprocessor__num__imputer__strategy=mean \n",
      "[CV]  classifier__learning_rate=0.2, classifier__max_depth=9, classifier__min_samples_leaf=0.1, classifier__min_samples_split=0.5, classifier__n_estimators=2000, classifier__subsample=1, preprocessor__num__imputer__strategy=mean, score=0.888, total=  10.8s\n",
      "[CV] classifier__learning_rate=0.2, classifier__max_depth=9, classifier__min_samples_leaf=0.1, classifier__min_samples_split=0.5, classifier__n_estimators=2000, classifier__subsample=1, preprocessor__num__imputer__strategy=mean \n",
      "[CV]  classifier__learning_rate=0.2, classifier__max_depth=9, classifier__min_samples_leaf=0.1, classifier__min_samples_split=0.5, classifier__n_estimators=2000, classifier__subsample=1, preprocessor__num__imputer__strategy=mean, score=0.894, total=  11.0s\n",
      "[CV] classifier__learning_rate=0.2, classifier__max_depth=9, classifier__min_samples_leaf=0.1, classifier__min_samples_split=0.5, classifier__n_estimators=2000, classifier__subsample=1, preprocessor__num__imputer__strategy=mean \n",
      "[CV]  classifier__learning_rate=0.2, classifier__max_depth=9, classifier__min_samples_leaf=0.1, classifier__min_samples_split=0.5, classifier__n_estimators=2000, classifier__subsample=1, preprocessor__num__imputer__strategy=mean, score=0.893, total=  11.1s\n",
      "[CV] classifier__learning_rate=0.2, classifier__max_depth=9, classifier__min_samples_leaf=0.1, classifier__min_samples_split=0.5, classifier__n_estimators=2000, classifier__subsample=1, preprocessor__num__imputer__strategy=median \n",
      "[CV]  classifier__learning_rate=0.2, classifier__max_depth=9, classifier__min_samples_leaf=0.1, classifier__min_samples_split=0.5, classifier__n_estimators=2000, classifier__subsample=1, preprocessor__num__imputer__strategy=median, score=0.888, total=  11.0s\n",
      "[CV] classifier__learning_rate=0.2, classifier__max_depth=9, classifier__min_samples_leaf=0.1, classifier__min_samples_split=0.5, classifier__n_estimators=2000, classifier__subsample=1, preprocessor__num__imputer__strategy=median \n",
      "[CV]  classifier__learning_rate=0.2, classifier__max_depth=9, classifier__min_samples_leaf=0.1, classifier__min_samples_split=0.5, classifier__n_estimators=2000, classifier__subsample=1, preprocessor__num__imputer__strategy=median, score=0.894, total=  11.1s\n",
      "[CV] classifier__learning_rate=0.2, classifier__max_depth=9, classifier__min_samples_leaf=0.1, classifier__min_samples_split=0.5, classifier__n_estimators=2000, classifier__subsample=1, preprocessor__num__imputer__strategy=median \n",
      "[CV]  classifier__learning_rate=0.2, classifier__max_depth=9, classifier__min_samples_leaf=0.1, classifier__min_samples_split=0.5, classifier__n_estimators=2000, classifier__subsample=1, preprocessor__num__imputer__strategy=median, score=0.893, total=  12.0s\n",
      "[CV] classifier__learning_rate=0.2, classifier__max_depth=9, classifier__min_samples_leaf=0.3, classifier__min_samples_split=0.4, classifier__n_estimators=1000, classifier__subsample=0.9, preprocessor__num__imputer__strategy=mean \n",
      "[CV]  classifier__learning_rate=0.2, classifier__max_depth=9, classifier__min_samples_leaf=0.3, classifier__min_samples_split=0.4, classifier__n_estimators=1000, classifier__subsample=0.9, preprocessor__num__imputer__strategy=mean, score=0.816, total=   3.2s\n",
      "[CV] classifier__learning_rate=0.2, classifier__max_depth=9, classifier__min_samples_leaf=0.3, classifier__min_samples_split=0.4, classifier__n_estimators=1000, classifier__subsample=0.9, preprocessor__num__imputer__strategy=mean \n",
      "[CV]  classifier__learning_rate=0.2, classifier__max_depth=9, classifier__min_samples_leaf=0.3, classifier__min_samples_split=0.4, classifier__n_estimators=1000, classifier__subsample=0.9, preprocessor__num__imputer__strategy=mean, score=0.825, total=   3.7s\n",
      "[CV] classifier__learning_rate=0.2, classifier__max_depth=9, classifier__min_samples_leaf=0.3, classifier__min_samples_split=0.4, classifier__n_estimators=1000, classifier__subsample=0.9, preprocessor__num__imputer__strategy=mean \n",
      "[CV]  classifier__learning_rate=0.2, classifier__max_depth=9, classifier__min_samples_leaf=0.3, classifier__min_samples_split=0.4, classifier__n_estimators=1000, classifier__subsample=0.9, preprocessor__num__imputer__strategy=mean, score=0.831, total=   3.1s\n",
      "[CV] classifier__learning_rate=0.2, classifier__max_depth=9, classifier__min_samples_leaf=0.3, classifier__min_samples_split=0.4, classifier__n_estimators=1000, classifier__subsample=0.9, preprocessor__num__imputer__strategy=median \n",
      "[CV]  classifier__learning_rate=0.2, classifier__max_depth=9, classifier__min_samples_leaf=0.3, classifier__min_samples_split=0.4, classifier__n_estimators=1000, classifier__subsample=0.9, preprocessor__num__imputer__strategy=median, score=0.815, total=   2.9s\n",
      "[CV] classifier__learning_rate=0.2, classifier__max_depth=9, classifier__min_samples_leaf=0.3, classifier__min_samples_split=0.4, classifier__n_estimators=1000, classifier__subsample=0.9, preprocessor__num__imputer__strategy=median \n",
      "[CV]  classifier__learning_rate=0.2, classifier__max_depth=9, classifier__min_samples_leaf=0.3, classifier__min_samples_split=0.4, classifier__n_estimators=1000, classifier__subsample=0.9, preprocessor__num__imputer__strategy=median, score=0.826, total=   3.0s\n",
      "[CV] classifier__learning_rate=0.2, classifier__max_depth=9, classifier__min_samples_leaf=0.3, classifier__min_samples_split=0.4, classifier__n_estimators=1000, classifier__subsample=0.9, preprocessor__num__imputer__strategy=median \n",
      "[CV]  classifier__learning_rate=0.2, classifier__max_depth=9, classifier__min_samples_leaf=0.3, classifier__min_samples_split=0.4, classifier__n_estimators=1000, classifier__subsample=0.9, preprocessor__num__imputer__strategy=median, score=0.832, total=   3.0s\n",
      "[CV] classifier__learning_rate=0.2, classifier__max_depth=9, classifier__min_samples_leaf=0.3, classifier__min_samples_split=0.4, classifier__n_estimators=1000, classifier__subsample=1, preprocessor__num__imputer__strategy=mean \n",
      "[CV]  classifier__learning_rate=0.2, classifier__max_depth=9, classifier__min_samples_leaf=0.3, classifier__min_samples_split=0.4, classifier__n_estimators=1000, classifier__subsample=1, preprocessor__num__imputer__strategy=mean, score=0.824, total=   2.9s\n",
      "[CV] classifier__learning_rate=0.2, classifier__max_depth=9, classifier__min_samples_leaf=0.3, classifier__min_samples_split=0.4, classifier__n_estimators=1000, classifier__subsample=1, preprocessor__num__imputer__strategy=mean \n",
      "[CV]  classifier__learning_rate=0.2, classifier__max_depth=9, classifier__min_samples_leaf=0.3, classifier__min_samples_split=0.4, classifier__n_estimators=1000, classifier__subsample=1, preprocessor__num__imputer__strategy=mean, score=0.828, total=   2.9s\n",
      "[CV] classifier__learning_rate=0.2, classifier__max_depth=9, classifier__min_samples_leaf=0.3, classifier__min_samples_split=0.4, classifier__n_estimators=1000, classifier__subsample=1, preprocessor__num__imputer__strategy=mean \n",
      "[CV]  classifier__learning_rate=0.2, classifier__max_depth=9, classifier__min_samples_leaf=0.3, classifier__min_samples_split=0.4, classifier__n_estimators=1000, classifier__subsample=1, preprocessor__num__imputer__strategy=mean, score=0.836, total=   3.2s\n",
      "[CV] classifier__learning_rate=0.2, classifier__max_depth=9, classifier__min_samples_leaf=0.3, classifier__min_samples_split=0.4, classifier__n_estimators=1000, classifier__subsample=1, preprocessor__num__imputer__strategy=median \n",
      "[CV]  classifier__learning_rate=0.2, classifier__max_depth=9, classifier__min_samples_leaf=0.3, classifier__min_samples_split=0.4, classifier__n_estimators=1000, classifier__subsample=1, preprocessor__num__imputer__strategy=median, score=0.824, total=   3.0s\n",
      "[CV] classifier__learning_rate=0.2, classifier__max_depth=9, classifier__min_samples_leaf=0.3, classifier__min_samples_split=0.4, classifier__n_estimators=1000, classifier__subsample=1, preprocessor__num__imputer__strategy=median \n",
      "[CV]  classifier__learning_rate=0.2, classifier__max_depth=9, classifier__min_samples_leaf=0.3, classifier__min_samples_split=0.4, classifier__n_estimators=1000, classifier__subsample=1, preprocessor__num__imputer__strategy=median, score=0.828, total=   2.9s\n",
      "[CV] classifier__learning_rate=0.2, classifier__max_depth=9, classifier__min_samples_leaf=0.3, classifier__min_samples_split=0.4, classifier__n_estimators=1000, classifier__subsample=1, preprocessor__num__imputer__strategy=median \n",
      "[CV]  classifier__learning_rate=0.2, classifier__max_depth=9, classifier__min_samples_leaf=0.3, classifier__min_samples_split=0.4, classifier__n_estimators=1000, classifier__subsample=1, preprocessor__num__imputer__strategy=median, score=0.836, total=   3.0s\n",
      "[CV] classifier__learning_rate=0.2, classifier__max_depth=9, classifier__min_samples_leaf=0.3, classifier__min_samples_split=0.4, classifier__n_estimators=2000, classifier__subsample=0.9, preprocessor__num__imputer__strategy=mean \n",
      "[CV]  classifier__learning_rate=0.2, classifier__max_depth=9, classifier__min_samples_leaf=0.3, classifier__min_samples_split=0.4, classifier__n_estimators=2000, classifier__subsample=0.9, preprocessor__num__imputer__strategy=mean, score=0.819, total=   5.9s\n",
      "[CV] classifier__learning_rate=0.2, classifier__max_depth=9, classifier__min_samples_leaf=0.3, classifier__min_samples_split=0.4, classifier__n_estimators=2000, classifier__subsample=0.9, preprocessor__num__imputer__strategy=mean \n",
      "[CV]  classifier__learning_rate=0.2, classifier__max_depth=9, classifier__min_samples_leaf=0.3, classifier__min_samples_split=0.4, classifier__n_estimators=2000, classifier__subsample=0.9, preprocessor__num__imputer__strategy=mean, score=0.828, total=   5.8s\n",
      "[CV] classifier__learning_rate=0.2, classifier__max_depth=9, classifier__min_samples_leaf=0.3, classifier__min_samples_split=0.4, classifier__n_estimators=2000, classifier__subsample=0.9, preprocessor__num__imputer__strategy=mean \n",
      "[CV]  classifier__learning_rate=0.2, classifier__max_depth=9, classifier__min_samples_leaf=0.3, classifier__min_samples_split=0.4, classifier__n_estimators=2000, classifier__subsample=0.9, preprocessor__num__imputer__strategy=mean, score=0.836, total=   5.9s\n",
      "[CV] classifier__learning_rate=0.2, classifier__max_depth=9, classifier__min_samples_leaf=0.3, classifier__min_samples_split=0.4, classifier__n_estimators=2000, classifier__subsample=0.9, preprocessor__num__imputer__strategy=median \n",
      "[CV]  classifier__learning_rate=0.2, classifier__max_depth=9, classifier__min_samples_leaf=0.3, classifier__min_samples_split=0.4, classifier__n_estimators=2000, classifier__subsample=0.9, preprocessor__num__imputer__strategy=median, score=0.818, total=   5.8s\n",
      "[CV] classifier__learning_rate=0.2, classifier__max_depth=9, classifier__min_samples_leaf=0.3, classifier__min_samples_split=0.4, classifier__n_estimators=2000, classifier__subsample=0.9, preprocessor__num__imputer__strategy=median \n",
      "[CV]  classifier__learning_rate=0.2, classifier__max_depth=9, classifier__min_samples_leaf=0.3, classifier__min_samples_split=0.4, classifier__n_estimators=2000, classifier__subsample=0.9, preprocessor__num__imputer__strategy=median, score=0.829, total=   5.9s\n",
      "[CV] classifier__learning_rate=0.2, classifier__max_depth=9, classifier__min_samples_leaf=0.3, classifier__min_samples_split=0.4, classifier__n_estimators=2000, classifier__subsample=0.9, preprocessor__num__imputer__strategy=median \n",
      "[CV]  classifier__learning_rate=0.2, classifier__max_depth=9, classifier__min_samples_leaf=0.3, classifier__min_samples_split=0.4, classifier__n_estimators=2000, classifier__subsample=0.9, preprocessor__num__imputer__strategy=median, score=0.835, total=   5.8s\n",
      "[CV] classifier__learning_rate=0.2, classifier__max_depth=9, classifier__min_samples_leaf=0.3, classifier__min_samples_split=0.4, classifier__n_estimators=2000, classifier__subsample=1, preprocessor__num__imputer__strategy=mean \n",
      "[CV]  classifier__learning_rate=0.2, classifier__max_depth=9, classifier__min_samples_leaf=0.3, classifier__min_samples_split=0.4, classifier__n_estimators=2000, classifier__subsample=1, preprocessor__num__imputer__strategy=mean, score=0.830, total=   5.7s\n",
      "[CV] classifier__learning_rate=0.2, classifier__max_depth=9, classifier__min_samples_leaf=0.3, classifier__min_samples_split=0.4, classifier__n_estimators=2000, classifier__subsample=1, preprocessor__num__imputer__strategy=mean \n",
      "[CV]  classifier__learning_rate=0.2, classifier__max_depth=9, classifier__min_samples_leaf=0.3, classifier__min_samples_split=0.4, classifier__n_estimators=2000, classifier__subsample=1, preprocessor__num__imputer__strategy=mean, score=0.832, total=   5.6s\n",
      "[CV] classifier__learning_rate=0.2, classifier__max_depth=9, classifier__min_samples_leaf=0.3, classifier__min_samples_split=0.4, classifier__n_estimators=2000, classifier__subsample=1, preprocessor__num__imputer__strategy=mean \n",
      "[CV]  classifier__learning_rate=0.2, classifier__max_depth=9, classifier__min_samples_leaf=0.3, classifier__min_samples_split=0.4, classifier__n_estimators=2000, classifier__subsample=1, preprocessor__num__imputer__strategy=mean, score=0.840, total=   5.7s\n",
      "[CV] classifier__learning_rate=0.2, classifier__max_depth=9, classifier__min_samples_leaf=0.3, classifier__min_samples_split=0.4, classifier__n_estimators=2000, classifier__subsample=1, preprocessor__num__imputer__strategy=median \n",
      "[CV]  classifier__learning_rate=0.2, classifier__max_depth=9, classifier__min_samples_leaf=0.3, classifier__min_samples_split=0.4, classifier__n_estimators=2000, classifier__subsample=1, preprocessor__num__imputer__strategy=median, score=0.830, total=   4.9s\n",
      "[CV] classifier__learning_rate=0.2, classifier__max_depth=9, classifier__min_samples_leaf=0.3, classifier__min_samples_split=0.4, classifier__n_estimators=2000, classifier__subsample=1, preprocessor__num__imputer__strategy=median \n",
      "[CV]  classifier__learning_rate=0.2, classifier__max_depth=9, classifier__min_samples_leaf=0.3, classifier__min_samples_split=0.4, classifier__n_estimators=2000, classifier__subsample=1, preprocessor__num__imputer__strategy=median, score=0.832, total=   3.6s\n",
      "[CV] classifier__learning_rate=0.2, classifier__max_depth=9, classifier__min_samples_leaf=0.3, classifier__min_samples_split=0.4, classifier__n_estimators=2000, classifier__subsample=1, preprocessor__num__imputer__strategy=median \n",
      "[CV]  classifier__learning_rate=0.2, classifier__max_depth=9, classifier__min_samples_leaf=0.3, classifier__min_samples_split=0.4, classifier__n_estimators=2000, classifier__subsample=1, preprocessor__num__imputer__strategy=median, score=0.840, total=   3.7s\n",
      "[CV] classifier__learning_rate=0.2, classifier__max_depth=9, classifier__min_samples_leaf=0.3, classifier__min_samples_split=0.5, classifier__n_estimators=1000, classifier__subsample=0.9, preprocessor__num__imputer__strategy=mean \n",
      "[CV]  classifier__learning_rate=0.2, classifier__max_depth=9, classifier__min_samples_leaf=0.3, classifier__min_samples_split=0.5, classifier__n_estimators=1000, classifier__subsample=0.9, preprocessor__num__imputer__strategy=mean, score=0.816, total=   1.9s\n",
      "[CV] classifier__learning_rate=0.2, classifier__max_depth=9, classifier__min_samples_leaf=0.3, classifier__min_samples_split=0.5, classifier__n_estimators=1000, classifier__subsample=0.9, preprocessor__num__imputer__strategy=mean \n",
      "[CV]  classifier__learning_rate=0.2, classifier__max_depth=9, classifier__min_samples_leaf=0.3, classifier__min_samples_split=0.5, classifier__n_estimators=1000, classifier__subsample=0.9, preprocessor__num__imputer__strategy=mean, score=0.825, total=   1.9s\n",
      "[CV] classifier__learning_rate=0.2, classifier__max_depth=9, classifier__min_samples_leaf=0.3, classifier__min_samples_split=0.5, classifier__n_estimators=1000, classifier__subsample=0.9, preprocessor__num__imputer__strategy=mean \n",
      "[CV]  classifier__learning_rate=0.2, classifier__max_depth=9, classifier__min_samples_leaf=0.3, classifier__min_samples_split=0.5, classifier__n_estimators=1000, classifier__subsample=0.9, preprocessor__num__imputer__strategy=mean, score=0.832, total=   1.9s\n",
      "[CV] classifier__learning_rate=0.2, classifier__max_depth=9, classifier__min_samples_leaf=0.3, classifier__min_samples_split=0.5, classifier__n_estimators=1000, classifier__subsample=0.9, preprocessor__num__imputer__strategy=median \n",
      "[CV]  classifier__learning_rate=0.2, classifier__max_depth=9, classifier__min_samples_leaf=0.3, classifier__min_samples_split=0.5, classifier__n_estimators=1000, classifier__subsample=0.9, preprocessor__num__imputer__strategy=median, score=0.815, total=   1.9s\n",
      "[CV] classifier__learning_rate=0.2, classifier__max_depth=9, classifier__min_samples_leaf=0.3, classifier__min_samples_split=0.5, classifier__n_estimators=1000, classifier__subsample=0.9, preprocessor__num__imputer__strategy=median \n",
      "[CV]  classifier__learning_rate=0.2, classifier__max_depth=9, classifier__min_samples_leaf=0.3, classifier__min_samples_split=0.5, classifier__n_estimators=1000, classifier__subsample=0.9, preprocessor__num__imputer__strategy=median, score=0.825, total=   2.0s\n",
      "[CV] classifier__learning_rate=0.2, classifier__max_depth=9, classifier__min_samples_leaf=0.3, classifier__min_samples_split=0.5, classifier__n_estimators=1000, classifier__subsample=0.9, preprocessor__num__imputer__strategy=median \n",
      "[CV]  classifier__learning_rate=0.2, classifier__max_depth=9, classifier__min_samples_leaf=0.3, classifier__min_samples_split=0.5, classifier__n_estimators=1000, classifier__subsample=0.9, preprocessor__num__imputer__strategy=median, score=0.831, total=   2.0s\n",
      "[CV] classifier__learning_rate=0.2, classifier__max_depth=9, classifier__min_samples_leaf=0.3, classifier__min_samples_split=0.5, classifier__n_estimators=1000, classifier__subsample=1, preprocessor__num__imputer__strategy=mean \n",
      "[CV]  classifier__learning_rate=0.2, classifier__max_depth=9, classifier__min_samples_leaf=0.3, classifier__min_samples_split=0.5, classifier__n_estimators=1000, classifier__subsample=1, preprocessor__num__imputer__strategy=mean, score=0.824, total=   1.8s\n",
      "[CV] classifier__learning_rate=0.2, classifier__max_depth=9, classifier__min_samples_leaf=0.3, classifier__min_samples_split=0.5, classifier__n_estimators=1000, classifier__subsample=1, preprocessor__num__imputer__strategy=mean \n",
      "[CV]  classifier__learning_rate=0.2, classifier__max_depth=9, classifier__min_samples_leaf=0.3, classifier__min_samples_split=0.5, classifier__n_estimators=1000, classifier__subsample=1, preprocessor__num__imputer__strategy=mean, score=0.828, total=   1.8s\n",
      "[CV] classifier__learning_rate=0.2, classifier__max_depth=9, classifier__min_samples_leaf=0.3, classifier__min_samples_split=0.5, classifier__n_estimators=1000, classifier__subsample=1, preprocessor__num__imputer__strategy=mean \n",
      "[CV]  classifier__learning_rate=0.2, classifier__max_depth=9, classifier__min_samples_leaf=0.3, classifier__min_samples_split=0.5, classifier__n_estimators=1000, classifier__subsample=1, preprocessor__num__imputer__strategy=mean, score=0.836, total=   1.9s\n",
      "[CV] classifier__learning_rate=0.2, classifier__max_depth=9, classifier__min_samples_leaf=0.3, classifier__min_samples_split=0.5, classifier__n_estimators=1000, classifier__subsample=1, preprocessor__num__imputer__strategy=median \n",
      "[CV]  classifier__learning_rate=0.2, classifier__max_depth=9, classifier__min_samples_leaf=0.3, classifier__min_samples_split=0.5, classifier__n_estimators=1000, classifier__subsample=1, preprocessor__num__imputer__strategy=median, score=0.824, total=   2.0s\n",
      "[CV] classifier__learning_rate=0.2, classifier__max_depth=9, classifier__min_samples_leaf=0.3, classifier__min_samples_split=0.5, classifier__n_estimators=1000, classifier__subsample=1, preprocessor__num__imputer__strategy=median \n",
      "[CV]  classifier__learning_rate=0.2, classifier__max_depth=9, classifier__min_samples_leaf=0.3, classifier__min_samples_split=0.5, classifier__n_estimators=1000, classifier__subsample=1, preprocessor__num__imputer__strategy=median, score=0.828, total=   1.9s\n",
      "[CV] classifier__learning_rate=0.2, classifier__max_depth=9, classifier__min_samples_leaf=0.3, classifier__min_samples_split=0.5, classifier__n_estimators=1000, classifier__subsample=1, preprocessor__num__imputer__strategy=median \n",
      "[CV]  classifier__learning_rate=0.2, classifier__max_depth=9, classifier__min_samples_leaf=0.3, classifier__min_samples_split=0.5, classifier__n_estimators=1000, classifier__subsample=1, preprocessor__num__imputer__strategy=median, score=0.836, total=   1.9s\n",
      "[CV] classifier__learning_rate=0.2, classifier__max_depth=9, classifier__min_samples_leaf=0.3, classifier__min_samples_split=0.5, classifier__n_estimators=2000, classifier__subsample=0.9, preprocessor__num__imputer__strategy=mean \n",
      "[CV]  classifier__learning_rate=0.2, classifier__max_depth=9, classifier__min_samples_leaf=0.3, classifier__min_samples_split=0.5, classifier__n_estimators=2000, classifier__subsample=0.9, preprocessor__num__imputer__strategy=mean, score=0.818, total=   3.7s\n",
      "[CV] classifier__learning_rate=0.2, classifier__max_depth=9, classifier__min_samples_leaf=0.3, classifier__min_samples_split=0.5, classifier__n_estimators=2000, classifier__subsample=0.9, preprocessor__num__imputer__strategy=mean \n",
      "[CV]  classifier__learning_rate=0.2, classifier__max_depth=9, classifier__min_samples_leaf=0.3, classifier__min_samples_split=0.5, classifier__n_estimators=2000, classifier__subsample=0.9, preprocessor__num__imputer__strategy=mean, score=0.828, total=   3.8s\n",
      "[CV] classifier__learning_rate=0.2, classifier__max_depth=9, classifier__min_samples_leaf=0.3, classifier__min_samples_split=0.5, classifier__n_estimators=2000, classifier__subsample=0.9, preprocessor__num__imputer__strategy=mean \n",
      "[CV]  classifier__learning_rate=0.2, classifier__max_depth=9, classifier__min_samples_leaf=0.3, classifier__min_samples_split=0.5, classifier__n_estimators=2000, classifier__subsample=0.9, preprocessor__num__imputer__strategy=mean, score=0.835, total=   3.7s\n",
      "[CV] classifier__learning_rate=0.2, classifier__max_depth=9, classifier__min_samples_leaf=0.3, classifier__min_samples_split=0.5, classifier__n_estimators=2000, classifier__subsample=0.9, preprocessor__num__imputer__strategy=median \n",
      "[CV]  classifier__learning_rate=0.2, classifier__max_depth=9, classifier__min_samples_leaf=0.3, classifier__min_samples_split=0.5, classifier__n_estimators=2000, classifier__subsample=0.9, preprocessor__num__imputer__strategy=median, score=0.817, total=   3.7s\n",
      "[CV] classifier__learning_rate=0.2, classifier__max_depth=9, classifier__min_samples_leaf=0.3, classifier__min_samples_split=0.5, classifier__n_estimators=2000, classifier__subsample=0.9, preprocessor__num__imputer__strategy=median \n",
      "[CV]  classifier__learning_rate=0.2, classifier__max_depth=9, classifier__min_samples_leaf=0.3, classifier__min_samples_split=0.5, classifier__n_estimators=2000, classifier__subsample=0.9, preprocessor__num__imputer__strategy=median, score=0.828, total=   3.7s\n",
      "[CV] classifier__learning_rate=0.2, classifier__max_depth=9, classifier__min_samples_leaf=0.3, classifier__min_samples_split=0.5, classifier__n_estimators=2000, classifier__subsample=0.9, preprocessor__num__imputer__strategy=median \n",
      "[CV]  classifier__learning_rate=0.2, classifier__max_depth=9, classifier__min_samples_leaf=0.3, classifier__min_samples_split=0.5, classifier__n_estimators=2000, classifier__subsample=0.9, preprocessor__num__imputer__strategy=median, score=0.835, total=   3.9s\n",
      "[CV] classifier__learning_rate=0.2, classifier__max_depth=9, classifier__min_samples_leaf=0.3, classifier__min_samples_split=0.5, classifier__n_estimators=2000, classifier__subsample=1, preprocessor__num__imputer__strategy=mean \n",
      "[CV]  classifier__learning_rate=0.2, classifier__max_depth=9, classifier__min_samples_leaf=0.3, classifier__min_samples_split=0.5, classifier__n_estimators=2000, classifier__subsample=1, preprocessor__num__imputer__strategy=mean, score=0.830, total=   3.9s\n",
      "[CV] classifier__learning_rate=0.2, classifier__max_depth=9, classifier__min_samples_leaf=0.3, classifier__min_samples_split=0.5, classifier__n_estimators=2000, classifier__subsample=1, preprocessor__num__imputer__strategy=mean \n",
      "[CV]  classifier__learning_rate=0.2, classifier__max_depth=9, classifier__min_samples_leaf=0.3, classifier__min_samples_split=0.5, classifier__n_estimators=2000, classifier__subsample=1, preprocessor__num__imputer__strategy=mean, score=0.832, total=   3.5s\n",
      "[CV] classifier__learning_rate=0.2, classifier__max_depth=9, classifier__min_samples_leaf=0.3, classifier__min_samples_split=0.5, classifier__n_estimators=2000, classifier__subsample=1, preprocessor__num__imputer__strategy=mean \n",
      "[CV]  classifier__learning_rate=0.2, classifier__max_depth=9, classifier__min_samples_leaf=0.3, classifier__min_samples_split=0.5, classifier__n_estimators=2000, classifier__subsample=1, preprocessor__num__imputer__strategy=mean, score=0.840, total=   3.7s\n",
      "[CV] classifier__learning_rate=0.2, classifier__max_depth=9, classifier__min_samples_leaf=0.3, classifier__min_samples_split=0.5, classifier__n_estimators=2000, classifier__subsample=1, preprocessor__num__imputer__strategy=median \n",
      "[CV]  classifier__learning_rate=0.2, classifier__max_depth=9, classifier__min_samples_leaf=0.3, classifier__min_samples_split=0.5, classifier__n_estimators=2000, classifier__subsample=1, preprocessor__num__imputer__strategy=median, score=0.830, total=   3.6s\n",
      "[CV] classifier__learning_rate=0.2, classifier__max_depth=9, classifier__min_samples_leaf=0.3, classifier__min_samples_split=0.5, classifier__n_estimators=2000, classifier__subsample=1, preprocessor__num__imputer__strategy=median \n",
      "[CV]  classifier__learning_rate=0.2, classifier__max_depth=9, classifier__min_samples_leaf=0.3, classifier__min_samples_split=0.5, classifier__n_estimators=2000, classifier__subsample=1, preprocessor__num__imputer__strategy=median, score=0.832, total=   3.5s\n",
      "[CV] classifier__learning_rate=0.2, classifier__max_depth=9, classifier__min_samples_leaf=0.3, classifier__min_samples_split=0.5, classifier__n_estimators=2000, classifier__subsample=1, preprocessor__num__imputer__strategy=median \n",
      "[CV]  classifier__learning_rate=0.2, classifier__max_depth=9, classifier__min_samples_leaf=0.3, classifier__min_samples_split=0.5, classifier__n_estimators=2000, classifier__subsample=1, preprocessor__num__imputer__strategy=median, score=0.840, total=   3.6s\n",
      "[CV] classifier__learning_rate=0.2, classifier__max_depth=10, classifier__min_samples_leaf=0.1, classifier__min_samples_split=0.4, classifier__n_estimators=1000, classifier__subsample=0.9, preprocessor__num__imputer__strategy=mean \n",
      "[CV]  classifier__learning_rate=0.2, classifier__max_depth=10, classifier__min_samples_leaf=0.1, classifier__min_samples_split=0.4, classifier__n_estimators=1000, classifier__subsample=0.9, preprocessor__num__imputer__strategy=mean, score=0.861, total=   3.8s\n",
      "[CV] classifier__learning_rate=0.2, classifier__max_depth=10, classifier__min_samples_leaf=0.1, classifier__min_samples_split=0.4, classifier__n_estimators=1000, classifier__subsample=0.9, preprocessor__num__imputer__strategy=mean \n",
      "[CV]  classifier__learning_rate=0.2, classifier__max_depth=10, classifier__min_samples_leaf=0.1, classifier__min_samples_split=0.4, classifier__n_estimators=1000, classifier__subsample=0.9, preprocessor__num__imputer__strategy=mean, score=0.877, total=   3.8s\n",
      "[CV] classifier__learning_rate=0.2, classifier__max_depth=10, classifier__min_samples_leaf=0.1, classifier__min_samples_split=0.4, classifier__n_estimators=1000, classifier__subsample=0.9, preprocessor__num__imputer__strategy=mean \n",
      "[CV]  classifier__learning_rate=0.2, classifier__max_depth=10, classifier__min_samples_leaf=0.1, classifier__min_samples_split=0.4, classifier__n_estimators=1000, classifier__subsample=0.9, preprocessor__num__imputer__strategy=mean, score=0.874, total=   3.8s\n",
      "[CV] classifier__learning_rate=0.2, classifier__max_depth=10, classifier__min_samples_leaf=0.1, classifier__min_samples_split=0.4, classifier__n_estimators=1000, classifier__subsample=0.9, preprocessor__num__imputer__strategy=median \n",
      "[CV]  classifier__learning_rate=0.2, classifier__max_depth=10, classifier__min_samples_leaf=0.1, classifier__min_samples_split=0.4, classifier__n_estimators=1000, classifier__subsample=0.9, preprocessor__num__imputer__strategy=median, score=0.859, total=   3.7s\n",
      "[CV] classifier__learning_rate=0.2, classifier__max_depth=10, classifier__min_samples_leaf=0.1, classifier__min_samples_split=0.4, classifier__n_estimators=1000, classifier__subsample=0.9, preprocessor__num__imputer__strategy=median \n",
      "[CV]  classifier__learning_rate=0.2, classifier__max_depth=10, classifier__min_samples_leaf=0.1, classifier__min_samples_split=0.4, classifier__n_estimators=1000, classifier__subsample=0.9, preprocessor__num__imputer__strategy=median, score=0.877, total=   3.8s\n",
      "[CV] classifier__learning_rate=0.2, classifier__max_depth=10, classifier__min_samples_leaf=0.1, classifier__min_samples_split=0.4, classifier__n_estimators=1000, classifier__subsample=0.9, preprocessor__num__imputer__strategy=median \n",
      "[CV]  classifier__learning_rate=0.2, classifier__max_depth=10, classifier__min_samples_leaf=0.1, classifier__min_samples_split=0.4, classifier__n_estimators=1000, classifier__subsample=0.9, preprocessor__num__imputer__strategy=median, score=0.874, total=   3.9s\n",
      "[CV] classifier__learning_rate=0.2, classifier__max_depth=10, classifier__min_samples_leaf=0.1, classifier__min_samples_split=0.4, classifier__n_estimators=1000, classifier__subsample=1, preprocessor__num__imputer__strategy=mean \n",
      "[CV]  classifier__learning_rate=0.2, classifier__max_depth=10, classifier__min_samples_leaf=0.1, classifier__min_samples_split=0.4, classifier__n_estimators=1000, classifier__subsample=1, preprocessor__num__imputer__strategy=mean, score=0.883, total=   4.3s\n",
      "[CV] classifier__learning_rate=0.2, classifier__max_depth=10, classifier__min_samples_leaf=0.1, classifier__min_samples_split=0.4, classifier__n_estimators=1000, classifier__subsample=1, preprocessor__num__imputer__strategy=mean \n",
      "[CV]  classifier__learning_rate=0.2, classifier__max_depth=10, classifier__min_samples_leaf=0.1, classifier__min_samples_split=0.4, classifier__n_estimators=1000, classifier__subsample=1, preprocessor__num__imputer__strategy=mean, score=0.890, total=   4.5s\n",
      "[CV] classifier__learning_rate=0.2, classifier__max_depth=10, classifier__min_samples_leaf=0.1, classifier__min_samples_split=0.4, classifier__n_estimators=1000, classifier__subsample=1, preprocessor__num__imputer__strategy=mean \n",
      "[CV]  classifier__learning_rate=0.2, classifier__max_depth=10, classifier__min_samples_leaf=0.1, classifier__min_samples_split=0.4, classifier__n_estimators=1000, classifier__subsample=1, preprocessor__num__imputer__strategy=mean, score=0.891, total=   4.4s\n",
      "[CV] classifier__learning_rate=0.2, classifier__max_depth=10, classifier__min_samples_leaf=0.1, classifier__min_samples_split=0.4, classifier__n_estimators=1000, classifier__subsample=1, preprocessor__num__imputer__strategy=median \n",
      "[CV]  classifier__learning_rate=0.2, classifier__max_depth=10, classifier__min_samples_leaf=0.1, classifier__min_samples_split=0.4, classifier__n_estimators=1000, classifier__subsample=1, preprocessor__num__imputer__strategy=median, score=0.883, total=   4.4s\n",
      "[CV] classifier__learning_rate=0.2, classifier__max_depth=10, classifier__min_samples_leaf=0.1, classifier__min_samples_split=0.4, classifier__n_estimators=1000, classifier__subsample=1, preprocessor__num__imputer__strategy=median \n",
      "[CV]  classifier__learning_rate=0.2, classifier__max_depth=10, classifier__min_samples_leaf=0.1, classifier__min_samples_split=0.4, classifier__n_estimators=1000, classifier__subsample=1, preprocessor__num__imputer__strategy=median, score=0.890, total=   4.5s\n",
      "[CV] classifier__learning_rate=0.2, classifier__max_depth=10, classifier__min_samples_leaf=0.1, classifier__min_samples_split=0.4, classifier__n_estimators=1000, classifier__subsample=1, preprocessor__num__imputer__strategy=median \n",
      "[CV]  classifier__learning_rate=0.2, classifier__max_depth=10, classifier__min_samples_leaf=0.1, classifier__min_samples_split=0.4, classifier__n_estimators=1000, classifier__subsample=1, preprocessor__num__imputer__strategy=median, score=0.891, total=   4.4s\n",
      "[CV] classifier__learning_rate=0.2, classifier__max_depth=10, classifier__min_samples_leaf=0.1, classifier__min_samples_split=0.4, classifier__n_estimators=2000, classifier__subsample=0.9, preprocessor__num__imputer__strategy=mean \n",
      "[CV]  classifier__learning_rate=0.2, classifier__max_depth=10, classifier__min_samples_leaf=0.1, classifier__min_samples_split=0.4, classifier__n_estimators=2000, classifier__subsample=0.9, preprocessor__num__imputer__strategy=mean, score=0.867, total=   7.6s\n",
      "[CV] classifier__learning_rate=0.2, classifier__max_depth=10, classifier__min_samples_leaf=0.1, classifier__min_samples_split=0.4, classifier__n_estimators=2000, classifier__subsample=0.9, preprocessor__num__imputer__strategy=mean \n",
      "[CV]  classifier__learning_rate=0.2, classifier__max_depth=10, classifier__min_samples_leaf=0.1, classifier__min_samples_split=0.4, classifier__n_estimators=2000, classifier__subsample=0.9, preprocessor__num__imputer__strategy=mean, score=0.883, total=   7.3s\n",
      "[CV] classifier__learning_rate=0.2, classifier__max_depth=10, classifier__min_samples_leaf=0.1, classifier__min_samples_split=0.4, classifier__n_estimators=2000, classifier__subsample=0.9, preprocessor__num__imputer__strategy=mean \n",
      "[CV]  classifier__learning_rate=0.2, classifier__max_depth=10, classifier__min_samples_leaf=0.1, classifier__min_samples_split=0.4, classifier__n_estimators=2000, classifier__subsample=0.9, preprocessor__num__imputer__strategy=mean, score=0.876, total=   7.2s\n",
      "[CV] classifier__learning_rate=0.2, classifier__max_depth=10, classifier__min_samples_leaf=0.1, classifier__min_samples_split=0.4, classifier__n_estimators=2000, classifier__subsample=0.9, preprocessor__num__imputer__strategy=median \n",
      "[CV]  classifier__learning_rate=0.2, classifier__max_depth=10, classifier__min_samples_leaf=0.1, classifier__min_samples_split=0.4, classifier__n_estimators=2000, classifier__subsample=0.9, preprocessor__num__imputer__strategy=median, score=0.868, total=   7.5s\n",
      "[CV] classifier__learning_rate=0.2, classifier__max_depth=10, classifier__min_samples_leaf=0.1, classifier__min_samples_split=0.4, classifier__n_estimators=2000, classifier__subsample=0.9, preprocessor__num__imputer__strategy=median \n",
      "[CV]  classifier__learning_rate=0.2, classifier__max_depth=10, classifier__min_samples_leaf=0.1, classifier__min_samples_split=0.4, classifier__n_estimators=2000, classifier__subsample=0.9, preprocessor__num__imputer__strategy=median, score=0.886, total=   7.5s\n",
      "[CV] classifier__learning_rate=0.2, classifier__max_depth=10, classifier__min_samples_leaf=0.1, classifier__min_samples_split=0.4, classifier__n_estimators=2000, classifier__subsample=0.9, preprocessor__num__imputer__strategy=median \n",
      "[CV]  classifier__learning_rate=0.2, classifier__max_depth=10, classifier__min_samples_leaf=0.1, classifier__min_samples_split=0.4, classifier__n_estimators=2000, classifier__subsample=0.9, preprocessor__num__imputer__strategy=median, score=0.876, total=   7.3s\n",
      "[CV] classifier__learning_rate=0.2, classifier__max_depth=10, classifier__min_samples_leaf=0.1, classifier__min_samples_split=0.4, classifier__n_estimators=2000, classifier__subsample=1, preprocessor__num__imputer__strategy=mean \n",
      "[CV]  classifier__learning_rate=0.2, classifier__max_depth=10, classifier__min_samples_leaf=0.1, classifier__min_samples_split=0.4, classifier__n_estimators=2000, classifier__subsample=1, preprocessor__num__imputer__strategy=mean, score=0.887, total=   8.7s\n",
      "[CV] classifier__learning_rate=0.2, classifier__max_depth=10, classifier__min_samples_leaf=0.1, classifier__min_samples_split=0.4, classifier__n_estimators=2000, classifier__subsample=1, preprocessor__num__imputer__strategy=mean \n",
      "[CV]  classifier__learning_rate=0.2, classifier__max_depth=10, classifier__min_samples_leaf=0.1, classifier__min_samples_split=0.4, classifier__n_estimators=2000, classifier__subsample=1, preprocessor__num__imputer__strategy=mean, score=0.895, total=  10.0s\n",
      "[CV] classifier__learning_rate=0.2, classifier__max_depth=10, classifier__min_samples_leaf=0.1, classifier__min_samples_split=0.4, classifier__n_estimators=2000, classifier__subsample=1, preprocessor__num__imputer__strategy=mean \n",
      "[CV]  classifier__learning_rate=0.2, classifier__max_depth=10, classifier__min_samples_leaf=0.1, classifier__min_samples_split=0.4, classifier__n_estimators=2000, classifier__subsample=1, preprocessor__num__imputer__strategy=mean, score=0.895, total=   8.8s\n",
      "[CV] classifier__learning_rate=0.2, classifier__max_depth=10, classifier__min_samples_leaf=0.1, classifier__min_samples_split=0.4, classifier__n_estimators=2000, classifier__subsample=1, preprocessor__num__imputer__strategy=median \n",
      "[CV]  classifier__learning_rate=0.2, classifier__max_depth=10, classifier__min_samples_leaf=0.1, classifier__min_samples_split=0.4, classifier__n_estimators=2000, classifier__subsample=1, preprocessor__num__imputer__strategy=median, score=0.887, total=   8.5s\n",
      "[CV] classifier__learning_rate=0.2, classifier__max_depth=10, classifier__min_samples_leaf=0.1, classifier__min_samples_split=0.4, classifier__n_estimators=2000, classifier__subsample=1, preprocessor__num__imputer__strategy=median \n",
      "[CV]  classifier__learning_rate=0.2, classifier__max_depth=10, classifier__min_samples_leaf=0.1, classifier__min_samples_split=0.4, classifier__n_estimators=2000, classifier__subsample=1, preprocessor__num__imputer__strategy=median, score=0.895, total=   8.5s\n",
      "[CV] classifier__learning_rate=0.2, classifier__max_depth=10, classifier__min_samples_leaf=0.1, classifier__min_samples_split=0.4, classifier__n_estimators=2000, classifier__subsample=1, preprocessor__num__imputer__strategy=median \n",
      "[CV]  classifier__learning_rate=0.2, classifier__max_depth=10, classifier__min_samples_leaf=0.1, classifier__min_samples_split=0.4, classifier__n_estimators=2000, classifier__subsample=1, preprocessor__num__imputer__strategy=median, score=0.895, total=   8.8s\n",
      "[CV] classifier__learning_rate=0.2, classifier__max_depth=10, classifier__min_samples_leaf=0.1, classifier__min_samples_split=0.5, classifier__n_estimators=1000, classifier__subsample=0.9, preprocessor__num__imputer__strategy=mean \n",
      "[CV]  classifier__learning_rate=0.2, classifier__max_depth=10, classifier__min_samples_leaf=0.1, classifier__min_samples_split=0.5, classifier__n_estimators=1000, classifier__subsample=0.9, preprocessor__num__imputer__strategy=mean, score=0.859, total=   3.2s\n",
      "[CV] classifier__learning_rate=0.2, classifier__max_depth=10, classifier__min_samples_leaf=0.1, classifier__min_samples_split=0.5, classifier__n_estimators=1000, classifier__subsample=0.9, preprocessor__num__imputer__strategy=mean \n",
      "[CV]  classifier__learning_rate=0.2, classifier__max_depth=10, classifier__min_samples_leaf=0.1, classifier__min_samples_split=0.5, classifier__n_estimators=1000, classifier__subsample=0.9, preprocessor__num__imputer__strategy=mean, score=0.875, total=   3.2s\n",
      "[CV] classifier__learning_rate=0.2, classifier__max_depth=10, classifier__min_samples_leaf=0.1, classifier__min_samples_split=0.5, classifier__n_estimators=1000, classifier__subsample=0.9, preprocessor__num__imputer__strategy=mean \n",
      "[CV]  classifier__learning_rate=0.2, classifier__max_depth=10, classifier__min_samples_leaf=0.1, classifier__min_samples_split=0.5, classifier__n_estimators=1000, classifier__subsample=0.9, preprocessor__num__imputer__strategy=mean, score=0.875, total=   3.3s\n",
      "[CV] classifier__learning_rate=0.2, classifier__max_depth=10, classifier__min_samples_leaf=0.1, classifier__min_samples_split=0.5, classifier__n_estimators=1000, classifier__subsample=0.9, preprocessor__num__imputer__strategy=median \n",
      "[CV]  classifier__learning_rate=0.2, classifier__max_depth=10, classifier__min_samples_leaf=0.1, classifier__min_samples_split=0.5, classifier__n_estimators=1000, classifier__subsample=0.9, preprocessor__num__imputer__strategy=median, score=0.860, total=   3.2s\n",
      "[CV] classifier__learning_rate=0.2, classifier__max_depth=10, classifier__min_samples_leaf=0.1, classifier__min_samples_split=0.5, classifier__n_estimators=1000, classifier__subsample=0.9, preprocessor__num__imputer__strategy=median \n",
      "[CV]  classifier__learning_rate=0.2, classifier__max_depth=10, classifier__min_samples_leaf=0.1, classifier__min_samples_split=0.5, classifier__n_estimators=1000, classifier__subsample=0.9, preprocessor__num__imputer__strategy=median, score=0.877, total=   3.2s\n",
      "[CV] classifier__learning_rate=0.2, classifier__max_depth=10, classifier__min_samples_leaf=0.1, classifier__min_samples_split=0.5, classifier__n_estimators=1000, classifier__subsample=0.9, preprocessor__num__imputer__strategy=median \n",
      "[CV]  classifier__learning_rate=0.2, classifier__max_depth=10, classifier__min_samples_leaf=0.1, classifier__min_samples_split=0.5, classifier__n_estimators=1000, classifier__subsample=0.9, preprocessor__num__imputer__strategy=median, score=0.875, total=   3.4s\n",
      "[CV] classifier__learning_rate=0.2, classifier__max_depth=10, classifier__min_samples_leaf=0.1, classifier__min_samples_split=0.5, classifier__n_estimators=1000, classifier__subsample=1, preprocessor__num__imputer__strategy=mean \n",
      "[CV]  classifier__learning_rate=0.2, classifier__max_depth=10, classifier__min_samples_leaf=0.1, classifier__min_samples_split=0.5, classifier__n_estimators=1000, classifier__subsample=1, preprocessor__num__imputer__strategy=mean, score=0.881, total=   3.7s\n",
      "[CV] classifier__learning_rate=0.2, classifier__max_depth=10, classifier__min_samples_leaf=0.1, classifier__min_samples_split=0.5, classifier__n_estimators=1000, classifier__subsample=1, preprocessor__num__imputer__strategy=mean \n",
      "[CV]  classifier__learning_rate=0.2, classifier__max_depth=10, classifier__min_samples_leaf=0.1, classifier__min_samples_split=0.5, classifier__n_estimators=1000, classifier__subsample=1, preprocessor__num__imputer__strategy=mean, score=0.887, total=   3.6s\n",
      "[CV] classifier__learning_rate=0.2, classifier__max_depth=10, classifier__min_samples_leaf=0.1, classifier__min_samples_split=0.5, classifier__n_estimators=1000, classifier__subsample=1, preprocessor__num__imputer__strategy=mean \n",
      "[CV]  classifier__learning_rate=0.2, classifier__max_depth=10, classifier__min_samples_leaf=0.1, classifier__min_samples_split=0.5, classifier__n_estimators=1000, classifier__subsample=1, preprocessor__num__imputer__strategy=mean, score=0.888, total=   3.8s\n",
      "[CV] classifier__learning_rate=0.2, classifier__max_depth=10, classifier__min_samples_leaf=0.1, classifier__min_samples_split=0.5, classifier__n_estimators=1000, classifier__subsample=1, preprocessor__num__imputer__strategy=median \n",
      "[CV]  classifier__learning_rate=0.2, classifier__max_depth=10, classifier__min_samples_leaf=0.1, classifier__min_samples_split=0.5, classifier__n_estimators=1000, classifier__subsample=1, preprocessor__num__imputer__strategy=median, score=0.881, total=   3.6s\n",
      "[CV] classifier__learning_rate=0.2, classifier__max_depth=10, classifier__min_samples_leaf=0.1, classifier__min_samples_split=0.5, classifier__n_estimators=1000, classifier__subsample=1, preprocessor__num__imputer__strategy=median \n",
      "[CV]  classifier__learning_rate=0.2, classifier__max_depth=10, classifier__min_samples_leaf=0.1, classifier__min_samples_split=0.5, classifier__n_estimators=1000, classifier__subsample=1, preprocessor__num__imputer__strategy=median, score=0.887, total=   3.7s\n",
      "[CV] classifier__learning_rate=0.2, classifier__max_depth=10, classifier__min_samples_leaf=0.1, classifier__min_samples_split=0.5, classifier__n_estimators=1000, classifier__subsample=1, preprocessor__num__imputer__strategy=median \n",
      "[CV]  classifier__learning_rate=0.2, classifier__max_depth=10, classifier__min_samples_leaf=0.1, classifier__min_samples_split=0.5, classifier__n_estimators=1000, classifier__subsample=1, preprocessor__num__imputer__strategy=median, score=0.888, total=   3.7s\n",
      "[CV] classifier__learning_rate=0.2, classifier__max_depth=10, classifier__min_samples_leaf=0.1, classifier__min_samples_split=0.5, classifier__n_estimators=2000, classifier__subsample=0.9, preprocessor__num__imputer__strategy=mean \n",
      "[CV]  classifier__learning_rate=0.2, classifier__max_depth=10, classifier__min_samples_leaf=0.1, classifier__min_samples_split=0.5, classifier__n_estimators=2000, classifier__subsample=0.9, preprocessor__num__imputer__strategy=mean, score=0.866, total=   6.2s\n",
      "[CV] classifier__learning_rate=0.2, classifier__max_depth=10, classifier__min_samples_leaf=0.1, classifier__min_samples_split=0.5, classifier__n_estimators=2000, classifier__subsample=0.9, preprocessor__num__imputer__strategy=mean \n",
      "[CV]  classifier__learning_rate=0.2, classifier__max_depth=10, classifier__min_samples_leaf=0.1, classifier__min_samples_split=0.5, classifier__n_estimators=2000, classifier__subsample=0.9, preprocessor__num__imputer__strategy=mean, score=0.884, total=   6.3s\n",
      "[CV] classifier__learning_rate=0.2, classifier__max_depth=10, classifier__min_samples_leaf=0.1, classifier__min_samples_split=0.5, classifier__n_estimators=2000, classifier__subsample=0.9, preprocessor__num__imputer__strategy=mean \n",
      "[CV]  classifier__learning_rate=0.2, classifier__max_depth=10, classifier__min_samples_leaf=0.1, classifier__min_samples_split=0.5, classifier__n_estimators=2000, classifier__subsample=0.9, preprocessor__num__imputer__strategy=mean, score=0.880, total=   6.4s\n",
      "[CV] classifier__learning_rate=0.2, classifier__max_depth=10, classifier__min_samples_leaf=0.1, classifier__min_samples_split=0.5, classifier__n_estimators=2000, classifier__subsample=0.9, preprocessor__num__imputer__strategy=median \n",
      "[CV]  classifier__learning_rate=0.2, classifier__max_depth=10, classifier__min_samples_leaf=0.1, classifier__min_samples_split=0.5, classifier__n_estimators=2000, classifier__subsample=0.9, preprocessor__num__imputer__strategy=median, score=0.866, total=   6.2s\n",
      "[CV] classifier__learning_rate=0.2, classifier__max_depth=10, classifier__min_samples_leaf=0.1, classifier__min_samples_split=0.5, classifier__n_estimators=2000, classifier__subsample=0.9, preprocessor__num__imputer__strategy=median \n",
      "[CV]  classifier__learning_rate=0.2, classifier__max_depth=10, classifier__min_samples_leaf=0.1, classifier__min_samples_split=0.5, classifier__n_estimators=2000, classifier__subsample=0.9, preprocessor__num__imputer__strategy=median, score=0.884, total=   6.7s\n",
      "[CV] classifier__learning_rate=0.2, classifier__max_depth=10, classifier__min_samples_leaf=0.1, classifier__min_samples_split=0.5, classifier__n_estimators=2000, classifier__subsample=0.9, preprocessor__num__imputer__strategy=median \n",
      "[CV]  classifier__learning_rate=0.2, classifier__max_depth=10, classifier__min_samples_leaf=0.1, classifier__min_samples_split=0.5, classifier__n_estimators=2000, classifier__subsample=0.9, preprocessor__num__imputer__strategy=median, score=0.879, total=   6.2s\n",
      "[CV] classifier__learning_rate=0.2, classifier__max_depth=10, classifier__min_samples_leaf=0.1, classifier__min_samples_split=0.5, classifier__n_estimators=2000, classifier__subsample=1, preprocessor__num__imputer__strategy=mean \n",
      "[CV]  classifier__learning_rate=0.2, classifier__max_depth=10, classifier__min_samples_leaf=0.1, classifier__min_samples_split=0.5, classifier__n_estimators=2000, classifier__subsample=1, preprocessor__num__imputer__strategy=mean, score=0.888, total=   7.0s\n",
      "[CV] classifier__learning_rate=0.2, classifier__max_depth=10, classifier__min_samples_leaf=0.1, classifier__min_samples_split=0.5, classifier__n_estimators=2000, classifier__subsample=1, preprocessor__num__imputer__strategy=mean \n",
      "[CV]  classifier__learning_rate=0.2, classifier__max_depth=10, classifier__min_samples_leaf=0.1, classifier__min_samples_split=0.5, classifier__n_estimators=2000, classifier__subsample=1, preprocessor__num__imputer__strategy=mean, score=0.894, total=   7.2s\n",
      "[CV] classifier__learning_rate=0.2, classifier__max_depth=10, classifier__min_samples_leaf=0.1, classifier__min_samples_split=0.5, classifier__n_estimators=2000, classifier__subsample=1, preprocessor__num__imputer__strategy=mean \n",
      "[CV]  classifier__learning_rate=0.2, classifier__max_depth=10, classifier__min_samples_leaf=0.1, classifier__min_samples_split=0.5, classifier__n_estimators=2000, classifier__subsample=1, preprocessor__num__imputer__strategy=mean, score=0.893, total=   7.5s\n",
      "[CV] classifier__learning_rate=0.2, classifier__max_depth=10, classifier__min_samples_leaf=0.1, classifier__min_samples_split=0.5, classifier__n_estimators=2000, classifier__subsample=1, preprocessor__num__imputer__strategy=median \n",
      "[CV]  classifier__learning_rate=0.2, classifier__max_depth=10, classifier__min_samples_leaf=0.1, classifier__min_samples_split=0.5, classifier__n_estimators=2000, classifier__subsample=1, preprocessor__num__imputer__strategy=median, score=0.888, total=   7.4s\n",
      "[CV] classifier__learning_rate=0.2, classifier__max_depth=10, classifier__min_samples_leaf=0.1, classifier__min_samples_split=0.5, classifier__n_estimators=2000, classifier__subsample=1, preprocessor__num__imputer__strategy=median \n",
      "[CV]  classifier__learning_rate=0.2, classifier__max_depth=10, classifier__min_samples_leaf=0.1, classifier__min_samples_split=0.5, classifier__n_estimators=2000, classifier__subsample=1, preprocessor__num__imputer__strategy=median, score=0.894, total=   7.2s\n",
      "[CV] classifier__learning_rate=0.2, classifier__max_depth=10, classifier__min_samples_leaf=0.1, classifier__min_samples_split=0.5, classifier__n_estimators=2000, classifier__subsample=1, preprocessor__num__imputer__strategy=median \n",
      "[CV]  classifier__learning_rate=0.2, classifier__max_depth=10, classifier__min_samples_leaf=0.1, classifier__min_samples_split=0.5, classifier__n_estimators=2000, classifier__subsample=1, preprocessor__num__imputer__strategy=median, score=0.893, total=   7.1s\n",
      "[CV] classifier__learning_rate=0.2, classifier__max_depth=10, classifier__min_samples_leaf=0.3, classifier__min_samples_split=0.4, classifier__n_estimators=1000, classifier__subsample=0.9, preprocessor__num__imputer__strategy=mean \n",
      "[CV]  classifier__learning_rate=0.2, classifier__max_depth=10, classifier__min_samples_leaf=0.3, classifier__min_samples_split=0.4, classifier__n_estimators=1000, classifier__subsample=0.9, preprocessor__num__imputer__strategy=mean, score=0.815, total=   1.9s\n",
      "[CV] classifier__learning_rate=0.2, classifier__max_depth=10, classifier__min_samples_leaf=0.3, classifier__min_samples_split=0.4, classifier__n_estimators=1000, classifier__subsample=0.9, preprocessor__num__imputer__strategy=mean \n",
      "[CV]  classifier__learning_rate=0.2, classifier__max_depth=10, classifier__min_samples_leaf=0.3, classifier__min_samples_split=0.4, classifier__n_estimators=1000, classifier__subsample=0.9, preprocessor__num__imputer__strategy=mean, score=0.825, total=   2.0s\n",
      "[CV] classifier__learning_rate=0.2, classifier__max_depth=10, classifier__min_samples_leaf=0.3, classifier__min_samples_split=0.4, classifier__n_estimators=1000, classifier__subsample=0.9, preprocessor__num__imputer__strategy=mean \n",
      "[CV]  classifier__learning_rate=0.2, classifier__max_depth=10, classifier__min_samples_leaf=0.3, classifier__min_samples_split=0.4, classifier__n_estimators=1000, classifier__subsample=0.9, preprocessor__num__imputer__strategy=mean, score=0.832, total=   1.9s\n",
      "[CV] classifier__learning_rate=0.2, classifier__max_depth=10, classifier__min_samples_leaf=0.3, classifier__min_samples_split=0.4, classifier__n_estimators=1000, classifier__subsample=0.9, preprocessor__num__imputer__strategy=median \n",
      "[CV]  classifier__learning_rate=0.2, classifier__max_depth=10, classifier__min_samples_leaf=0.3, classifier__min_samples_split=0.4, classifier__n_estimators=1000, classifier__subsample=0.9, preprocessor__num__imputer__strategy=median, score=0.816, total=   2.0s\n",
      "[CV] classifier__learning_rate=0.2, classifier__max_depth=10, classifier__min_samples_leaf=0.3, classifier__min_samples_split=0.4, classifier__n_estimators=1000, classifier__subsample=0.9, preprocessor__num__imputer__strategy=median \n",
      "[CV]  classifier__learning_rate=0.2, classifier__max_depth=10, classifier__min_samples_leaf=0.3, classifier__min_samples_split=0.4, classifier__n_estimators=1000, classifier__subsample=0.9, preprocessor__num__imputer__strategy=median, score=0.825, total=   2.0s\n",
      "[CV] classifier__learning_rate=0.2, classifier__max_depth=10, classifier__min_samples_leaf=0.3, classifier__min_samples_split=0.4, classifier__n_estimators=1000, classifier__subsample=0.9, preprocessor__num__imputer__strategy=median \n",
      "[CV]  classifier__learning_rate=0.2, classifier__max_depth=10, classifier__min_samples_leaf=0.3, classifier__min_samples_split=0.4, classifier__n_estimators=1000, classifier__subsample=0.9, preprocessor__num__imputer__strategy=median, score=0.832, total=   1.9s\n",
      "[CV] classifier__learning_rate=0.2, classifier__max_depth=10, classifier__min_samples_leaf=0.3, classifier__min_samples_split=0.4, classifier__n_estimators=1000, classifier__subsample=1, preprocessor__num__imputer__strategy=mean \n",
      "[CV]  classifier__learning_rate=0.2, classifier__max_depth=10, classifier__min_samples_leaf=0.3, classifier__min_samples_split=0.4, classifier__n_estimators=1000, classifier__subsample=1, preprocessor__num__imputer__strategy=mean, score=0.824, total=   1.9s\n",
      "[CV] classifier__learning_rate=0.2, classifier__max_depth=10, classifier__min_samples_leaf=0.3, classifier__min_samples_split=0.4, classifier__n_estimators=1000, classifier__subsample=1, preprocessor__num__imputer__strategy=mean \n",
      "[CV]  classifier__learning_rate=0.2, classifier__max_depth=10, classifier__min_samples_leaf=0.3, classifier__min_samples_split=0.4, classifier__n_estimators=1000, classifier__subsample=1, preprocessor__num__imputer__strategy=mean, score=0.828, total=   2.0s\n",
      "[CV] classifier__learning_rate=0.2, classifier__max_depth=10, classifier__min_samples_leaf=0.3, classifier__min_samples_split=0.4, classifier__n_estimators=1000, classifier__subsample=1, preprocessor__num__imputer__strategy=mean \n",
      "[CV]  classifier__learning_rate=0.2, classifier__max_depth=10, classifier__min_samples_leaf=0.3, classifier__min_samples_split=0.4, classifier__n_estimators=1000, classifier__subsample=1, preprocessor__num__imputer__strategy=mean, score=0.836, total=   2.1s\n",
      "[CV] classifier__learning_rate=0.2, classifier__max_depth=10, classifier__min_samples_leaf=0.3, classifier__min_samples_split=0.4, classifier__n_estimators=1000, classifier__subsample=1, preprocessor__num__imputer__strategy=median \n",
      "[CV]  classifier__learning_rate=0.2, classifier__max_depth=10, classifier__min_samples_leaf=0.3, classifier__min_samples_split=0.4, classifier__n_estimators=1000, classifier__subsample=1, preprocessor__num__imputer__strategy=median, score=0.824, total=   2.4s\n",
      "[CV] classifier__learning_rate=0.2, classifier__max_depth=10, classifier__min_samples_leaf=0.3, classifier__min_samples_split=0.4, classifier__n_estimators=1000, classifier__subsample=1, preprocessor__num__imputer__strategy=median \n",
      "[CV]  classifier__learning_rate=0.2, classifier__max_depth=10, classifier__min_samples_leaf=0.3, classifier__min_samples_split=0.4, classifier__n_estimators=1000, classifier__subsample=1, preprocessor__num__imputer__strategy=median, score=0.828, total=   2.1s\n",
      "[CV] classifier__learning_rate=0.2, classifier__max_depth=10, classifier__min_samples_leaf=0.3, classifier__min_samples_split=0.4, classifier__n_estimators=1000, classifier__subsample=1, preprocessor__num__imputer__strategy=median \n",
      "[CV]  classifier__learning_rate=0.2, classifier__max_depth=10, classifier__min_samples_leaf=0.3, classifier__min_samples_split=0.4, classifier__n_estimators=1000, classifier__subsample=1, preprocessor__num__imputer__strategy=median, score=0.836, total=   1.9s\n",
      "[CV] classifier__learning_rate=0.2, classifier__max_depth=10, classifier__min_samples_leaf=0.3, classifier__min_samples_split=0.4, classifier__n_estimators=2000, classifier__subsample=0.9, preprocessor__num__imputer__strategy=mean \n",
      "[CV]  classifier__learning_rate=0.2, classifier__max_depth=10, classifier__min_samples_leaf=0.3, classifier__min_samples_split=0.4, classifier__n_estimators=2000, classifier__subsample=0.9, preprocessor__num__imputer__strategy=mean, score=0.818, total=   3.7s\n",
      "[CV] classifier__learning_rate=0.2, classifier__max_depth=10, classifier__min_samples_leaf=0.3, classifier__min_samples_split=0.4, classifier__n_estimators=2000, classifier__subsample=0.9, preprocessor__num__imputer__strategy=mean \n",
      "[CV]  classifier__learning_rate=0.2, classifier__max_depth=10, classifier__min_samples_leaf=0.3, classifier__min_samples_split=0.4, classifier__n_estimators=2000, classifier__subsample=0.9, preprocessor__num__imputer__strategy=mean, score=0.829, total=   3.7s\n",
      "[CV] classifier__learning_rate=0.2, classifier__max_depth=10, classifier__min_samples_leaf=0.3, classifier__min_samples_split=0.4, classifier__n_estimators=2000, classifier__subsample=0.9, preprocessor__num__imputer__strategy=mean \n",
      "[CV]  classifier__learning_rate=0.2, classifier__max_depth=10, classifier__min_samples_leaf=0.3, classifier__min_samples_split=0.4, classifier__n_estimators=2000, classifier__subsample=0.9, preprocessor__num__imputer__strategy=mean, score=0.835, total=   3.9s\n",
      "[CV] classifier__learning_rate=0.2, classifier__max_depth=10, classifier__min_samples_leaf=0.3, classifier__min_samples_split=0.4, classifier__n_estimators=2000, classifier__subsample=0.9, preprocessor__num__imputer__strategy=median \n",
      "[CV]  classifier__learning_rate=0.2, classifier__max_depth=10, classifier__min_samples_leaf=0.3, classifier__min_samples_split=0.4, classifier__n_estimators=2000, classifier__subsample=0.9, preprocessor__num__imputer__strategy=median, score=0.818, total=   3.7s\n",
      "[CV] classifier__learning_rate=0.2, classifier__max_depth=10, classifier__min_samples_leaf=0.3, classifier__min_samples_split=0.4, classifier__n_estimators=2000, classifier__subsample=0.9, preprocessor__num__imputer__strategy=median \n",
      "[CV]  classifier__learning_rate=0.2, classifier__max_depth=10, classifier__min_samples_leaf=0.3, classifier__min_samples_split=0.4, classifier__n_estimators=2000, classifier__subsample=0.9, preprocessor__num__imputer__strategy=median, score=0.829, total=   3.8s\n",
      "[CV] classifier__learning_rate=0.2, classifier__max_depth=10, classifier__min_samples_leaf=0.3, classifier__min_samples_split=0.4, classifier__n_estimators=2000, classifier__subsample=0.9, preprocessor__num__imputer__strategy=median \n",
      "[CV]  classifier__learning_rate=0.2, classifier__max_depth=10, classifier__min_samples_leaf=0.3, classifier__min_samples_split=0.4, classifier__n_estimators=2000, classifier__subsample=0.9, preprocessor__num__imputer__strategy=median, score=0.835, total=   3.8s\n",
      "[CV] classifier__learning_rate=0.2, classifier__max_depth=10, classifier__min_samples_leaf=0.3, classifier__min_samples_split=0.4, classifier__n_estimators=2000, classifier__subsample=1, preprocessor__num__imputer__strategy=mean \n",
      "[CV]  classifier__learning_rate=0.2, classifier__max_depth=10, classifier__min_samples_leaf=0.3, classifier__min_samples_split=0.4, classifier__n_estimators=2000, classifier__subsample=1, preprocessor__num__imputer__strategy=mean, score=0.830, total=   3.6s\n",
      "[CV] classifier__learning_rate=0.2, classifier__max_depth=10, classifier__min_samples_leaf=0.3, classifier__min_samples_split=0.4, classifier__n_estimators=2000, classifier__subsample=1, preprocessor__num__imputer__strategy=mean \n",
      "[CV]  classifier__learning_rate=0.2, classifier__max_depth=10, classifier__min_samples_leaf=0.3, classifier__min_samples_split=0.4, classifier__n_estimators=2000, classifier__subsample=1, preprocessor__num__imputer__strategy=mean, score=0.832, total=   3.6s\n",
      "[CV] classifier__learning_rate=0.2, classifier__max_depth=10, classifier__min_samples_leaf=0.3, classifier__min_samples_split=0.4, classifier__n_estimators=2000, classifier__subsample=1, preprocessor__num__imputer__strategy=mean \n",
      "[CV]  classifier__learning_rate=0.2, classifier__max_depth=10, classifier__min_samples_leaf=0.3, classifier__min_samples_split=0.4, classifier__n_estimators=2000, classifier__subsample=1, preprocessor__num__imputer__strategy=mean, score=0.840, total=   3.8s\n",
      "[CV] classifier__learning_rate=0.2, classifier__max_depth=10, classifier__min_samples_leaf=0.3, classifier__min_samples_split=0.4, classifier__n_estimators=2000, classifier__subsample=1, preprocessor__num__imputer__strategy=median \n",
      "[CV]  classifier__learning_rate=0.2, classifier__max_depth=10, classifier__min_samples_leaf=0.3, classifier__min_samples_split=0.4, classifier__n_estimators=2000, classifier__subsample=1, preprocessor__num__imputer__strategy=median, score=0.830, total=   3.6s\n",
      "[CV] classifier__learning_rate=0.2, classifier__max_depth=10, classifier__min_samples_leaf=0.3, classifier__min_samples_split=0.4, classifier__n_estimators=2000, classifier__subsample=1, preprocessor__num__imputer__strategy=median \n",
      "[CV]  classifier__learning_rate=0.2, classifier__max_depth=10, classifier__min_samples_leaf=0.3, classifier__min_samples_split=0.4, classifier__n_estimators=2000, classifier__subsample=1, preprocessor__num__imputer__strategy=median, score=0.832, total=   3.5s\n",
      "[CV] classifier__learning_rate=0.2, classifier__max_depth=10, classifier__min_samples_leaf=0.3, classifier__min_samples_split=0.4, classifier__n_estimators=2000, classifier__subsample=1, preprocessor__num__imputer__strategy=median \n",
      "[CV]  classifier__learning_rate=0.2, classifier__max_depth=10, classifier__min_samples_leaf=0.3, classifier__min_samples_split=0.4, classifier__n_estimators=2000, classifier__subsample=1, preprocessor__num__imputer__strategy=median, score=0.840, total=   4.0s\n",
      "[CV] classifier__learning_rate=0.2, classifier__max_depth=10, classifier__min_samples_leaf=0.3, classifier__min_samples_split=0.5, classifier__n_estimators=1000, classifier__subsample=0.9, preprocessor__num__imputer__strategy=mean \n",
      "[CV]  classifier__learning_rate=0.2, classifier__max_depth=10, classifier__min_samples_leaf=0.3, classifier__min_samples_split=0.5, classifier__n_estimators=1000, classifier__subsample=0.9, preprocessor__num__imputer__strategy=mean, score=0.815, total=   2.2s\n",
      "[CV] classifier__learning_rate=0.2, classifier__max_depth=10, classifier__min_samples_leaf=0.3, classifier__min_samples_split=0.5, classifier__n_estimators=1000, classifier__subsample=0.9, preprocessor__num__imputer__strategy=mean \n",
      "[CV]  classifier__learning_rate=0.2, classifier__max_depth=10, classifier__min_samples_leaf=0.3, classifier__min_samples_split=0.5, classifier__n_estimators=1000, classifier__subsample=0.9, preprocessor__num__imputer__strategy=mean, score=0.825, total=   1.8s\n",
      "[CV] classifier__learning_rate=0.2, classifier__max_depth=10, classifier__min_samples_leaf=0.3, classifier__min_samples_split=0.5, classifier__n_estimators=1000, classifier__subsample=0.9, preprocessor__num__imputer__strategy=mean \n",
      "[CV]  classifier__learning_rate=0.2, classifier__max_depth=10, classifier__min_samples_leaf=0.3, classifier__min_samples_split=0.5, classifier__n_estimators=1000, classifier__subsample=0.9, preprocessor__num__imputer__strategy=mean, score=0.832, total=   1.9s\n",
      "[CV] classifier__learning_rate=0.2, classifier__max_depth=10, classifier__min_samples_leaf=0.3, classifier__min_samples_split=0.5, classifier__n_estimators=1000, classifier__subsample=0.9, preprocessor__num__imputer__strategy=median \n",
      "[CV]  classifier__learning_rate=0.2, classifier__max_depth=10, classifier__min_samples_leaf=0.3, classifier__min_samples_split=0.5, classifier__n_estimators=1000, classifier__subsample=0.9, preprocessor__num__imputer__strategy=median, score=0.815, total=   2.0s\n",
      "[CV] classifier__learning_rate=0.2, classifier__max_depth=10, classifier__min_samples_leaf=0.3, classifier__min_samples_split=0.5, classifier__n_estimators=1000, classifier__subsample=0.9, preprocessor__num__imputer__strategy=median \n",
      "[CV]  classifier__learning_rate=0.2, classifier__max_depth=10, classifier__min_samples_leaf=0.3, classifier__min_samples_split=0.5, classifier__n_estimators=1000, classifier__subsample=0.9, preprocessor__num__imputer__strategy=median, score=0.825, total=   1.9s\n",
      "[CV] classifier__learning_rate=0.2, classifier__max_depth=10, classifier__min_samples_leaf=0.3, classifier__min_samples_split=0.5, classifier__n_estimators=1000, classifier__subsample=0.9, preprocessor__num__imputer__strategy=median \n",
      "[CV]  classifier__learning_rate=0.2, classifier__max_depth=10, classifier__min_samples_leaf=0.3, classifier__min_samples_split=0.5, classifier__n_estimators=1000, classifier__subsample=0.9, preprocessor__num__imputer__strategy=median, score=0.832, total=   1.9s\n",
      "[CV] classifier__learning_rate=0.2, classifier__max_depth=10, classifier__min_samples_leaf=0.3, classifier__min_samples_split=0.5, classifier__n_estimators=1000, classifier__subsample=1, preprocessor__num__imputer__strategy=mean \n",
      "[CV]  classifier__learning_rate=0.2, classifier__max_depth=10, classifier__min_samples_leaf=0.3, classifier__min_samples_split=0.5, classifier__n_estimators=1000, classifier__subsample=1, preprocessor__num__imputer__strategy=mean, score=0.824, total=   1.9s\n",
      "[CV] classifier__learning_rate=0.2, classifier__max_depth=10, classifier__min_samples_leaf=0.3, classifier__min_samples_split=0.5, classifier__n_estimators=1000, classifier__subsample=1, preprocessor__num__imputer__strategy=mean \n",
      "[CV]  classifier__learning_rate=0.2, classifier__max_depth=10, classifier__min_samples_leaf=0.3, classifier__min_samples_split=0.5, classifier__n_estimators=1000, classifier__subsample=1, preprocessor__num__imputer__strategy=mean, score=0.828, total=   1.9s\n",
      "[CV] classifier__learning_rate=0.2, classifier__max_depth=10, classifier__min_samples_leaf=0.3, classifier__min_samples_split=0.5, classifier__n_estimators=1000, classifier__subsample=1, preprocessor__num__imputer__strategy=mean \n",
      "[CV]  classifier__learning_rate=0.2, classifier__max_depth=10, classifier__min_samples_leaf=0.3, classifier__min_samples_split=0.5, classifier__n_estimators=1000, classifier__subsample=1, preprocessor__num__imputer__strategy=mean, score=0.836, total=   2.7s\n",
      "[CV] classifier__learning_rate=0.2, classifier__max_depth=10, classifier__min_samples_leaf=0.3, classifier__min_samples_split=0.5, classifier__n_estimators=1000, classifier__subsample=1, preprocessor__num__imputer__strategy=median \n",
      "[CV]  classifier__learning_rate=0.2, classifier__max_depth=10, classifier__min_samples_leaf=0.3, classifier__min_samples_split=0.5, classifier__n_estimators=1000, classifier__subsample=1, preprocessor__num__imputer__strategy=median, score=0.824, total=   2.2s\n",
      "[CV] classifier__learning_rate=0.2, classifier__max_depth=10, classifier__min_samples_leaf=0.3, classifier__min_samples_split=0.5, classifier__n_estimators=1000, classifier__subsample=1, preprocessor__num__imputer__strategy=median \n",
      "[CV]  classifier__learning_rate=0.2, classifier__max_depth=10, classifier__min_samples_leaf=0.3, classifier__min_samples_split=0.5, classifier__n_estimators=1000, classifier__subsample=1, preprocessor__num__imputer__strategy=median, score=0.828, total=   1.9s\n",
      "[CV] classifier__learning_rate=0.2, classifier__max_depth=10, classifier__min_samples_leaf=0.3, classifier__min_samples_split=0.5, classifier__n_estimators=1000, classifier__subsample=1, preprocessor__num__imputer__strategy=median \n",
      "[CV]  classifier__learning_rate=0.2, classifier__max_depth=10, classifier__min_samples_leaf=0.3, classifier__min_samples_split=0.5, classifier__n_estimators=1000, classifier__subsample=1, preprocessor__num__imputer__strategy=median, score=0.836, total=   2.0s\n",
      "[CV] classifier__learning_rate=0.2, classifier__max_depth=10, classifier__min_samples_leaf=0.3, classifier__min_samples_split=0.5, classifier__n_estimators=2000, classifier__subsample=0.9, preprocessor__num__imputer__strategy=mean \n",
      "[CV]  classifier__learning_rate=0.2, classifier__max_depth=10, classifier__min_samples_leaf=0.3, classifier__min_samples_split=0.5, classifier__n_estimators=2000, classifier__subsample=0.9, preprocessor__num__imputer__strategy=mean, score=0.818, total=   4.1s\n",
      "[CV] classifier__learning_rate=0.2, classifier__max_depth=10, classifier__min_samples_leaf=0.3, classifier__min_samples_split=0.5, classifier__n_estimators=2000, classifier__subsample=0.9, preprocessor__num__imputer__strategy=mean \n",
      "[CV]  classifier__learning_rate=0.2, classifier__max_depth=10, classifier__min_samples_leaf=0.3, classifier__min_samples_split=0.5, classifier__n_estimators=2000, classifier__subsample=0.9, preprocessor__num__imputer__strategy=mean, score=0.828, total=   4.0s\n",
      "[CV] classifier__learning_rate=0.2, classifier__max_depth=10, classifier__min_samples_leaf=0.3, classifier__min_samples_split=0.5, classifier__n_estimators=2000, classifier__subsample=0.9, preprocessor__num__imputer__strategy=mean \n",
      "[CV]  classifier__learning_rate=0.2, classifier__max_depth=10, classifier__min_samples_leaf=0.3, classifier__min_samples_split=0.5, classifier__n_estimators=2000, classifier__subsample=0.9, preprocessor__num__imputer__strategy=mean, score=0.835, total=   3.7s\n",
      "[CV] classifier__learning_rate=0.2, classifier__max_depth=10, classifier__min_samples_leaf=0.3, classifier__min_samples_split=0.5, classifier__n_estimators=2000, classifier__subsample=0.9, preprocessor__num__imputer__strategy=median \n",
      "[CV]  classifier__learning_rate=0.2, classifier__max_depth=10, classifier__min_samples_leaf=0.3, classifier__min_samples_split=0.5, classifier__n_estimators=2000, classifier__subsample=0.9, preprocessor__num__imputer__strategy=median, score=0.817, total=   3.9s\n",
      "[CV] classifier__learning_rate=0.2, classifier__max_depth=10, classifier__min_samples_leaf=0.3, classifier__min_samples_split=0.5, classifier__n_estimators=2000, classifier__subsample=0.9, preprocessor__num__imputer__strategy=median \n",
      "[CV]  classifier__learning_rate=0.2, classifier__max_depth=10, classifier__min_samples_leaf=0.3, classifier__min_samples_split=0.5, classifier__n_estimators=2000, classifier__subsample=0.9, preprocessor__num__imputer__strategy=median, score=0.828, total=   4.2s\n",
      "[CV] classifier__learning_rate=0.2, classifier__max_depth=10, classifier__min_samples_leaf=0.3, classifier__min_samples_split=0.5, classifier__n_estimators=2000, classifier__subsample=0.9, preprocessor__num__imputer__strategy=median \n",
      "[CV]  classifier__learning_rate=0.2, classifier__max_depth=10, classifier__min_samples_leaf=0.3, classifier__min_samples_split=0.5, classifier__n_estimators=2000, classifier__subsample=0.9, preprocessor__num__imputer__strategy=median, score=0.835, total=   3.7s\n",
      "[CV] classifier__learning_rate=0.2, classifier__max_depth=10, classifier__min_samples_leaf=0.3, classifier__min_samples_split=0.5, classifier__n_estimators=2000, classifier__subsample=1, preprocessor__num__imputer__strategy=mean \n",
      "[CV]  classifier__learning_rate=0.2, classifier__max_depth=10, classifier__min_samples_leaf=0.3, classifier__min_samples_split=0.5, classifier__n_estimators=2000, classifier__subsample=1, preprocessor__num__imputer__strategy=mean, score=0.830, total=   3.6s\n",
      "[CV] classifier__learning_rate=0.2, classifier__max_depth=10, classifier__min_samples_leaf=0.3, classifier__min_samples_split=0.5, classifier__n_estimators=2000, classifier__subsample=1, preprocessor__num__imputer__strategy=mean \n",
      "[CV]  classifier__learning_rate=0.2, classifier__max_depth=10, classifier__min_samples_leaf=0.3, classifier__min_samples_split=0.5, classifier__n_estimators=2000, classifier__subsample=1, preprocessor__num__imputer__strategy=mean, score=0.832, total=   3.6s\n",
      "[CV] classifier__learning_rate=0.2, classifier__max_depth=10, classifier__min_samples_leaf=0.3, classifier__min_samples_split=0.5, classifier__n_estimators=2000, classifier__subsample=1, preprocessor__num__imputer__strategy=mean \n",
      "[CV]  classifier__learning_rate=0.2, classifier__max_depth=10, classifier__min_samples_leaf=0.3, classifier__min_samples_split=0.5, classifier__n_estimators=2000, classifier__subsample=1, preprocessor__num__imputer__strategy=mean, score=0.840, total=   3.8s\n",
      "[CV] classifier__learning_rate=0.2, classifier__max_depth=10, classifier__min_samples_leaf=0.3, classifier__min_samples_split=0.5, classifier__n_estimators=2000, classifier__subsample=1, preprocessor__num__imputer__strategy=median \n",
      "[CV]  classifier__learning_rate=0.2, classifier__max_depth=10, classifier__min_samples_leaf=0.3, classifier__min_samples_split=0.5, classifier__n_estimators=2000, classifier__subsample=1, preprocessor__num__imputer__strategy=median, score=0.830, total=   3.6s\n",
      "[CV] classifier__learning_rate=0.2, classifier__max_depth=10, classifier__min_samples_leaf=0.3, classifier__min_samples_split=0.5, classifier__n_estimators=2000, classifier__subsample=1, preprocessor__num__imputer__strategy=median \n",
      "[CV]  classifier__learning_rate=0.2, classifier__max_depth=10, classifier__min_samples_leaf=0.3, classifier__min_samples_split=0.5, classifier__n_estimators=2000, classifier__subsample=1, preprocessor__num__imputer__strategy=median, score=0.832, total=   3.6s\n",
      "[CV] classifier__learning_rate=0.2, classifier__max_depth=10, classifier__min_samples_leaf=0.3, classifier__min_samples_split=0.5, classifier__n_estimators=2000, classifier__subsample=1, preprocessor__num__imputer__strategy=median \n",
      "[CV]  classifier__learning_rate=0.2, classifier__max_depth=10, classifier__min_samples_leaf=0.3, classifier__min_samples_split=0.5, classifier__n_estimators=2000, classifier__subsample=1, preprocessor__num__imputer__strategy=median, score=0.840, total=   3.7s\n",
      "[CV] classifier__learning_rate=0.3, classifier__max_depth=9, classifier__min_samples_leaf=0.1, classifier__min_samples_split=0.4, classifier__n_estimators=1000, classifier__subsample=0.9, preprocessor__num__imputer__strategy=mean \n",
      "[CV]  classifier__learning_rate=0.3, classifier__max_depth=9, classifier__min_samples_leaf=0.1, classifier__min_samples_split=0.4, classifier__n_estimators=1000, classifier__subsample=0.9, preprocessor__num__imputer__strategy=mean, score=0.865, total=   3.7s\n",
      "[CV] classifier__learning_rate=0.3, classifier__max_depth=9, classifier__min_samples_leaf=0.1, classifier__min_samples_split=0.4, classifier__n_estimators=1000, classifier__subsample=0.9, preprocessor__num__imputer__strategy=mean \n",
      "[CV]  classifier__learning_rate=0.3, classifier__max_depth=9, classifier__min_samples_leaf=0.1, classifier__min_samples_split=0.4, classifier__n_estimators=1000, classifier__subsample=0.9, preprocessor__num__imputer__strategy=mean, score=0.882, total=   3.7s\n",
      "[CV] classifier__learning_rate=0.3, classifier__max_depth=9, classifier__min_samples_leaf=0.1, classifier__min_samples_split=0.4, classifier__n_estimators=1000, classifier__subsample=0.9, preprocessor__num__imputer__strategy=mean \n",
      "[CV]  classifier__learning_rate=0.3, classifier__max_depth=9, classifier__min_samples_leaf=0.1, classifier__min_samples_split=0.4, classifier__n_estimators=1000, classifier__subsample=0.9, preprocessor__num__imputer__strategy=mean, score=0.876, total=   3.7s\n",
      "[CV] classifier__learning_rate=0.3, classifier__max_depth=9, classifier__min_samples_leaf=0.1, classifier__min_samples_split=0.4, classifier__n_estimators=1000, classifier__subsample=0.9, preprocessor__num__imputer__strategy=median \n",
      "[CV]  classifier__learning_rate=0.3, classifier__max_depth=9, classifier__min_samples_leaf=0.1, classifier__min_samples_split=0.4, classifier__n_estimators=1000, classifier__subsample=0.9, preprocessor__num__imputer__strategy=median, score=0.865, total=   3.9s\n",
      "[CV] classifier__learning_rate=0.3, classifier__max_depth=9, classifier__min_samples_leaf=0.1, classifier__min_samples_split=0.4, classifier__n_estimators=1000, classifier__subsample=0.9, preprocessor__num__imputer__strategy=median \n",
      "[CV]  classifier__learning_rate=0.3, classifier__max_depth=9, classifier__min_samples_leaf=0.1, classifier__min_samples_split=0.4, classifier__n_estimators=1000, classifier__subsample=0.9, preprocessor__num__imputer__strategy=median, score=0.881, total=   4.1s\n",
      "[CV] classifier__learning_rate=0.3, classifier__max_depth=9, classifier__min_samples_leaf=0.1, classifier__min_samples_split=0.4, classifier__n_estimators=1000, classifier__subsample=0.9, preprocessor__num__imputer__strategy=median \n",
      "[CV]  classifier__learning_rate=0.3, classifier__max_depth=9, classifier__min_samples_leaf=0.1, classifier__min_samples_split=0.4, classifier__n_estimators=1000, classifier__subsample=0.9, preprocessor__num__imputer__strategy=median, score=0.875, total=   3.7s\n",
      "[CV] classifier__learning_rate=0.3, classifier__max_depth=9, classifier__min_samples_leaf=0.1, classifier__min_samples_split=0.4, classifier__n_estimators=1000, classifier__subsample=1, preprocessor__num__imputer__strategy=mean \n",
      "[CV]  classifier__learning_rate=0.3, classifier__max_depth=9, classifier__min_samples_leaf=0.1, classifier__min_samples_split=0.4, classifier__n_estimators=1000, classifier__subsample=1, preprocessor__num__imputer__strategy=mean, score=0.885, total=   4.3s\n",
      "[CV] classifier__learning_rate=0.3, classifier__max_depth=9, classifier__min_samples_leaf=0.1, classifier__min_samples_split=0.4, classifier__n_estimators=1000, classifier__subsample=1, preprocessor__num__imputer__strategy=mean \n",
      "[CV]  classifier__learning_rate=0.3, classifier__max_depth=9, classifier__min_samples_leaf=0.1, classifier__min_samples_split=0.4, classifier__n_estimators=1000, classifier__subsample=1, preprocessor__num__imputer__strategy=mean, score=0.893, total=   4.6s\n",
      "[CV] classifier__learning_rate=0.3, classifier__max_depth=9, classifier__min_samples_leaf=0.1, classifier__min_samples_split=0.4, classifier__n_estimators=1000, classifier__subsample=1, preprocessor__num__imputer__strategy=mean \n",
      "[CV]  classifier__learning_rate=0.3, classifier__max_depth=9, classifier__min_samples_leaf=0.1, classifier__min_samples_split=0.4, classifier__n_estimators=1000, classifier__subsample=1, preprocessor__num__imputer__strategy=mean, score=0.893, total=   4.3s\n",
      "[CV] classifier__learning_rate=0.3, classifier__max_depth=9, classifier__min_samples_leaf=0.1, classifier__min_samples_split=0.4, classifier__n_estimators=1000, classifier__subsample=1, preprocessor__num__imputer__strategy=median \n",
      "[CV]  classifier__learning_rate=0.3, classifier__max_depth=9, classifier__min_samples_leaf=0.1, classifier__min_samples_split=0.4, classifier__n_estimators=1000, classifier__subsample=1, preprocessor__num__imputer__strategy=median, score=0.885, total=   4.6s\n",
      "[CV] classifier__learning_rate=0.3, classifier__max_depth=9, classifier__min_samples_leaf=0.1, classifier__min_samples_split=0.4, classifier__n_estimators=1000, classifier__subsample=1, preprocessor__num__imputer__strategy=median \n",
      "[CV]  classifier__learning_rate=0.3, classifier__max_depth=9, classifier__min_samples_leaf=0.1, classifier__min_samples_split=0.4, classifier__n_estimators=1000, classifier__subsample=1, preprocessor__num__imputer__strategy=median, score=0.893, total=   4.3s\n",
      "[CV] classifier__learning_rate=0.3, classifier__max_depth=9, classifier__min_samples_leaf=0.1, classifier__min_samples_split=0.4, classifier__n_estimators=1000, classifier__subsample=1, preprocessor__num__imputer__strategy=median \n",
      "[CV]  classifier__learning_rate=0.3, classifier__max_depth=9, classifier__min_samples_leaf=0.1, classifier__min_samples_split=0.4, classifier__n_estimators=1000, classifier__subsample=1, preprocessor__num__imputer__strategy=median, score=0.893, total=   4.6s\n",
      "[CV] classifier__learning_rate=0.3, classifier__max_depth=9, classifier__min_samples_leaf=0.1, classifier__min_samples_split=0.4, classifier__n_estimators=2000, classifier__subsample=0.9, preprocessor__num__imputer__strategy=mean \n",
      "[CV]  classifier__learning_rate=0.3, classifier__max_depth=9, classifier__min_samples_leaf=0.1, classifier__min_samples_split=0.4, classifier__n_estimators=2000, classifier__subsample=0.9, preprocessor__num__imputer__strategy=mean, score=0.869, total=   7.7s\n",
      "[CV] classifier__learning_rate=0.3, classifier__max_depth=9, classifier__min_samples_leaf=0.1, classifier__min_samples_split=0.4, classifier__n_estimators=2000, classifier__subsample=0.9, preprocessor__num__imputer__strategy=mean \n",
      "[CV]  classifier__learning_rate=0.3, classifier__max_depth=9, classifier__min_samples_leaf=0.1, classifier__min_samples_split=0.4, classifier__n_estimators=2000, classifier__subsample=0.9, preprocessor__num__imputer__strategy=mean, score=0.885, total=   7.3s\n",
      "[CV] classifier__learning_rate=0.3, classifier__max_depth=9, classifier__min_samples_leaf=0.1, classifier__min_samples_split=0.4, classifier__n_estimators=2000, classifier__subsample=0.9, preprocessor__num__imputer__strategy=mean \n",
      "[CV]  classifier__learning_rate=0.3, classifier__max_depth=9, classifier__min_samples_leaf=0.1, classifier__min_samples_split=0.4, classifier__n_estimators=2000, classifier__subsample=0.9, preprocessor__num__imputer__strategy=mean, score=0.876, total=   7.2s\n",
      "[CV] classifier__learning_rate=0.3, classifier__max_depth=9, classifier__min_samples_leaf=0.1, classifier__min_samples_split=0.4, classifier__n_estimators=2000, classifier__subsample=0.9, preprocessor__num__imputer__strategy=median \n",
      "[CV]  classifier__learning_rate=0.3, classifier__max_depth=9, classifier__min_samples_leaf=0.1, classifier__min_samples_split=0.4, classifier__n_estimators=2000, classifier__subsample=0.9, preprocessor__num__imputer__strategy=median, score=0.868, total=   7.2s\n",
      "[CV] classifier__learning_rate=0.3, classifier__max_depth=9, classifier__min_samples_leaf=0.1, classifier__min_samples_split=0.4, classifier__n_estimators=2000, classifier__subsample=0.9, preprocessor__num__imputer__strategy=median \n",
      "[CV]  classifier__learning_rate=0.3, classifier__max_depth=9, classifier__min_samples_leaf=0.1, classifier__min_samples_split=0.4, classifier__n_estimators=2000, classifier__subsample=0.9, preprocessor__num__imputer__strategy=median, score=0.885, total=   7.1s\n",
      "[CV] classifier__learning_rate=0.3, classifier__max_depth=9, classifier__min_samples_leaf=0.1, classifier__min_samples_split=0.4, classifier__n_estimators=2000, classifier__subsample=0.9, preprocessor__num__imputer__strategy=median \n",
      "[CV]  classifier__learning_rate=0.3, classifier__max_depth=9, classifier__min_samples_leaf=0.1, classifier__min_samples_split=0.4, classifier__n_estimators=2000, classifier__subsample=0.9, preprocessor__num__imputer__strategy=median, score=0.877, total=   7.3s\n",
      "[CV] classifier__learning_rate=0.3, classifier__max_depth=9, classifier__min_samples_leaf=0.1, classifier__min_samples_split=0.4, classifier__n_estimators=2000, classifier__subsample=1, preprocessor__num__imputer__strategy=mean \n",
      "[CV]  classifier__learning_rate=0.3, classifier__max_depth=9, classifier__min_samples_leaf=0.1, classifier__min_samples_split=0.4, classifier__n_estimators=2000, classifier__subsample=1, preprocessor__num__imputer__strategy=mean, score=0.886, total=   8.1s\n",
      "[CV] classifier__learning_rate=0.3, classifier__max_depth=9, classifier__min_samples_leaf=0.1, classifier__min_samples_split=0.4, classifier__n_estimators=2000, classifier__subsample=1, preprocessor__num__imputer__strategy=mean \n",
      "[CV]  classifier__learning_rate=0.3, classifier__max_depth=9, classifier__min_samples_leaf=0.1, classifier__min_samples_split=0.4, classifier__n_estimators=2000, classifier__subsample=1, preprocessor__num__imputer__strategy=mean, score=0.898, total=   8.3s\n",
      "[CV] classifier__learning_rate=0.3, classifier__max_depth=9, classifier__min_samples_leaf=0.1, classifier__min_samples_split=0.4, classifier__n_estimators=2000, classifier__subsample=1, preprocessor__num__imputer__strategy=mean \n",
      "[CV]  classifier__learning_rate=0.3, classifier__max_depth=9, classifier__min_samples_leaf=0.1, classifier__min_samples_split=0.4, classifier__n_estimators=2000, classifier__subsample=1, preprocessor__num__imputer__strategy=mean, score=0.893, total=   8.3s\n",
      "[CV] classifier__learning_rate=0.3, classifier__max_depth=9, classifier__min_samples_leaf=0.1, classifier__min_samples_split=0.4, classifier__n_estimators=2000, classifier__subsample=1, preprocessor__num__imputer__strategy=median \n",
      "[CV]  classifier__learning_rate=0.3, classifier__max_depth=9, classifier__min_samples_leaf=0.1, classifier__min_samples_split=0.4, classifier__n_estimators=2000, classifier__subsample=1, preprocessor__num__imputer__strategy=median, score=0.886, total=   7.9s\n",
      "[CV] classifier__learning_rate=0.3, classifier__max_depth=9, classifier__min_samples_leaf=0.1, classifier__min_samples_split=0.4, classifier__n_estimators=2000, classifier__subsample=1, preprocessor__num__imputer__strategy=median \n",
      "[CV]  classifier__learning_rate=0.3, classifier__max_depth=9, classifier__min_samples_leaf=0.1, classifier__min_samples_split=0.4, classifier__n_estimators=2000, classifier__subsample=1, preprocessor__num__imputer__strategy=median, score=0.898, total=   8.1s\n",
      "[CV] classifier__learning_rate=0.3, classifier__max_depth=9, classifier__min_samples_leaf=0.1, classifier__min_samples_split=0.4, classifier__n_estimators=2000, classifier__subsample=1, preprocessor__num__imputer__strategy=median \n",
      "[CV]  classifier__learning_rate=0.3, classifier__max_depth=9, classifier__min_samples_leaf=0.1, classifier__min_samples_split=0.4, classifier__n_estimators=2000, classifier__subsample=1, preprocessor__num__imputer__strategy=median, score=0.893, total=   8.1s\n",
      "[CV] classifier__learning_rate=0.3, classifier__max_depth=9, classifier__min_samples_leaf=0.1, classifier__min_samples_split=0.5, classifier__n_estimators=1000, classifier__subsample=0.9, preprocessor__num__imputer__strategy=mean \n",
      "[CV]  classifier__learning_rate=0.3, classifier__max_depth=9, classifier__min_samples_leaf=0.1, classifier__min_samples_split=0.5, classifier__n_estimators=1000, classifier__subsample=0.9, preprocessor__num__imputer__strategy=mean, score=0.862, total=   3.1s\n",
      "[CV] classifier__learning_rate=0.3, classifier__max_depth=9, classifier__min_samples_leaf=0.1, classifier__min_samples_split=0.5, classifier__n_estimators=1000, classifier__subsample=0.9, preprocessor__num__imputer__strategy=mean \n",
      "[CV]  classifier__learning_rate=0.3, classifier__max_depth=9, classifier__min_samples_leaf=0.1, classifier__min_samples_split=0.5, classifier__n_estimators=1000, classifier__subsample=0.9, preprocessor__num__imputer__strategy=mean, score=0.881, total=   3.2s\n",
      "[CV] classifier__learning_rate=0.3, classifier__max_depth=9, classifier__min_samples_leaf=0.1, classifier__min_samples_split=0.5, classifier__n_estimators=1000, classifier__subsample=0.9, preprocessor__num__imputer__strategy=mean \n",
      "[CV]  classifier__learning_rate=0.3, classifier__max_depth=9, classifier__min_samples_leaf=0.1, classifier__min_samples_split=0.5, classifier__n_estimators=1000, classifier__subsample=0.9, preprocessor__num__imputer__strategy=mean, score=0.875, total=   3.2s\n",
      "[CV] classifier__learning_rate=0.3, classifier__max_depth=9, classifier__min_samples_leaf=0.1, classifier__min_samples_split=0.5, classifier__n_estimators=1000, classifier__subsample=0.9, preprocessor__num__imputer__strategy=median \n",
      "[CV]  classifier__learning_rate=0.3, classifier__max_depth=9, classifier__min_samples_leaf=0.1, classifier__min_samples_split=0.5, classifier__n_estimators=1000, classifier__subsample=0.9, preprocessor__num__imputer__strategy=median, score=0.864, total=   3.2s\n",
      "[CV] classifier__learning_rate=0.3, classifier__max_depth=9, classifier__min_samples_leaf=0.1, classifier__min_samples_split=0.5, classifier__n_estimators=1000, classifier__subsample=0.9, preprocessor__num__imputer__strategy=median \n",
      "[CV]  classifier__learning_rate=0.3, classifier__max_depth=9, classifier__min_samples_leaf=0.1, classifier__min_samples_split=0.5, classifier__n_estimators=1000, classifier__subsample=0.9, preprocessor__num__imputer__strategy=median, score=0.880, total=   3.3s\n",
      "[CV] classifier__learning_rate=0.3, classifier__max_depth=9, classifier__min_samples_leaf=0.1, classifier__min_samples_split=0.5, classifier__n_estimators=1000, classifier__subsample=0.9, preprocessor__num__imputer__strategy=median \n",
      "[CV]  classifier__learning_rate=0.3, classifier__max_depth=9, classifier__min_samples_leaf=0.1, classifier__min_samples_split=0.5, classifier__n_estimators=1000, classifier__subsample=0.9, preprocessor__num__imputer__strategy=median, score=0.876, total=   3.1s\n",
      "[CV] classifier__learning_rate=0.3, classifier__max_depth=9, classifier__min_samples_leaf=0.1, classifier__min_samples_split=0.5, classifier__n_estimators=1000, classifier__subsample=1, preprocessor__num__imputer__strategy=mean \n",
      "[CV]  classifier__learning_rate=0.3, classifier__max_depth=9, classifier__min_samples_leaf=0.1, classifier__min_samples_split=0.5, classifier__n_estimators=1000, classifier__subsample=1, preprocessor__num__imputer__strategy=mean, score=0.885, total=   3.8s\n",
      "[CV] classifier__learning_rate=0.3, classifier__max_depth=9, classifier__min_samples_leaf=0.1, classifier__min_samples_split=0.5, classifier__n_estimators=1000, classifier__subsample=1, preprocessor__num__imputer__strategy=mean \n",
      "[CV]  classifier__learning_rate=0.3, classifier__max_depth=9, classifier__min_samples_leaf=0.1, classifier__min_samples_split=0.5, classifier__n_estimators=1000, classifier__subsample=1, preprocessor__num__imputer__strategy=mean, score=0.890, total=   3.6s\n",
      "[CV] classifier__learning_rate=0.3, classifier__max_depth=9, classifier__min_samples_leaf=0.1, classifier__min_samples_split=0.5, classifier__n_estimators=1000, classifier__subsample=1, preprocessor__num__imputer__strategy=mean \n",
      "[CV]  classifier__learning_rate=0.3, classifier__max_depth=9, classifier__min_samples_leaf=0.1, classifier__min_samples_split=0.5, classifier__n_estimators=1000, classifier__subsample=1, preprocessor__num__imputer__strategy=mean, score=0.892, total=   4.0s\n",
      "[CV] classifier__learning_rate=0.3, classifier__max_depth=9, classifier__min_samples_leaf=0.1, classifier__min_samples_split=0.5, classifier__n_estimators=1000, classifier__subsample=1, preprocessor__num__imputer__strategy=median \n",
      "[CV]  classifier__learning_rate=0.3, classifier__max_depth=9, classifier__min_samples_leaf=0.1, classifier__min_samples_split=0.5, classifier__n_estimators=1000, classifier__subsample=1, preprocessor__num__imputer__strategy=median, score=0.885, total=   3.5s\n",
      "[CV] classifier__learning_rate=0.3, classifier__max_depth=9, classifier__min_samples_leaf=0.1, classifier__min_samples_split=0.5, classifier__n_estimators=1000, classifier__subsample=1, preprocessor__num__imputer__strategy=median \n",
      "[CV]  classifier__learning_rate=0.3, classifier__max_depth=9, classifier__min_samples_leaf=0.1, classifier__min_samples_split=0.5, classifier__n_estimators=1000, classifier__subsample=1, preprocessor__num__imputer__strategy=median, score=0.890, total=   3.5s\n",
      "[CV] classifier__learning_rate=0.3, classifier__max_depth=9, classifier__min_samples_leaf=0.1, classifier__min_samples_split=0.5, classifier__n_estimators=1000, classifier__subsample=1, preprocessor__num__imputer__strategy=median \n",
      "[CV]  classifier__learning_rate=0.3, classifier__max_depth=9, classifier__min_samples_leaf=0.1, classifier__min_samples_split=0.5, classifier__n_estimators=1000, classifier__subsample=1, preprocessor__num__imputer__strategy=median, score=0.892, total=   3.7s\n",
      "[CV] classifier__learning_rate=0.3, classifier__max_depth=9, classifier__min_samples_leaf=0.1, classifier__min_samples_split=0.5, classifier__n_estimators=2000, classifier__subsample=0.9, preprocessor__num__imputer__strategy=mean \n",
      "[CV]  classifier__learning_rate=0.3, classifier__max_depth=9, classifier__min_samples_leaf=0.1, classifier__min_samples_split=0.5, classifier__n_estimators=2000, classifier__subsample=0.9, preprocessor__num__imputer__strategy=mean, score=0.870, total=   6.3s\n",
      "[CV] classifier__learning_rate=0.3, classifier__max_depth=9, classifier__min_samples_leaf=0.1, classifier__min_samples_split=0.5, classifier__n_estimators=2000, classifier__subsample=0.9, preprocessor__num__imputer__strategy=mean \n",
      "[CV]  classifier__learning_rate=0.3, classifier__max_depth=9, classifier__min_samples_leaf=0.1, classifier__min_samples_split=0.5, classifier__n_estimators=2000, classifier__subsample=0.9, preprocessor__num__imputer__strategy=mean, score=0.890, total=   6.6s\n",
      "[CV] classifier__learning_rate=0.3, classifier__max_depth=9, classifier__min_samples_leaf=0.1, classifier__min_samples_split=0.5, classifier__n_estimators=2000, classifier__subsample=0.9, preprocessor__num__imputer__strategy=mean \n",
      "[CV]  classifier__learning_rate=0.3, classifier__max_depth=9, classifier__min_samples_leaf=0.1, classifier__min_samples_split=0.5, classifier__n_estimators=2000, classifier__subsample=0.9, preprocessor__num__imputer__strategy=mean, score=0.878, total=   6.5s\n",
      "[CV] classifier__learning_rate=0.3, classifier__max_depth=9, classifier__min_samples_leaf=0.1, classifier__min_samples_split=0.5, classifier__n_estimators=2000, classifier__subsample=0.9, preprocessor__num__imputer__strategy=median \n",
      "[CV]  classifier__learning_rate=0.3, classifier__max_depth=9, classifier__min_samples_leaf=0.1, classifier__min_samples_split=0.5, classifier__n_estimators=2000, classifier__subsample=0.9, preprocessor__num__imputer__strategy=median, score=0.870, total=   6.0s\n",
      "[CV] classifier__learning_rate=0.3, classifier__max_depth=9, classifier__min_samples_leaf=0.1, classifier__min_samples_split=0.5, classifier__n_estimators=2000, classifier__subsample=0.9, preprocessor__num__imputer__strategy=median \n",
      "[CV]  classifier__learning_rate=0.3, classifier__max_depth=9, classifier__min_samples_leaf=0.1, classifier__min_samples_split=0.5, classifier__n_estimators=2000, classifier__subsample=0.9, preprocessor__num__imputer__strategy=median, score=0.889, total=   6.4s\n",
      "[CV] classifier__learning_rate=0.3, classifier__max_depth=9, classifier__min_samples_leaf=0.1, classifier__min_samples_split=0.5, classifier__n_estimators=2000, classifier__subsample=0.9, preprocessor__num__imputer__strategy=median \n",
      "[CV]  classifier__learning_rate=0.3, classifier__max_depth=9, classifier__min_samples_leaf=0.1, classifier__min_samples_split=0.5, classifier__n_estimators=2000, classifier__subsample=0.9, preprocessor__num__imputer__strategy=median, score=0.881, total=   6.2s\n",
      "[CV] classifier__learning_rate=0.3, classifier__max_depth=9, classifier__min_samples_leaf=0.1, classifier__min_samples_split=0.5, classifier__n_estimators=2000, classifier__subsample=1, preprocessor__num__imputer__strategy=mean \n",
      "[CV]  classifier__learning_rate=0.3, classifier__max_depth=9, classifier__min_samples_leaf=0.1, classifier__min_samples_split=0.5, classifier__n_estimators=2000, classifier__subsample=1, preprocessor__num__imputer__strategy=mean, score=0.891, total=   6.7s\n",
      "[CV] classifier__learning_rate=0.3, classifier__max_depth=9, classifier__min_samples_leaf=0.1, classifier__min_samples_split=0.5, classifier__n_estimators=2000, classifier__subsample=1, preprocessor__num__imputer__strategy=mean \n",
      "[CV]  classifier__learning_rate=0.3, classifier__max_depth=9, classifier__min_samples_leaf=0.1, classifier__min_samples_split=0.5, classifier__n_estimators=2000, classifier__subsample=1, preprocessor__num__imputer__strategy=mean, score=0.898, total=   6.8s\n",
      "[CV] classifier__learning_rate=0.3, classifier__max_depth=9, classifier__min_samples_leaf=0.1, classifier__min_samples_split=0.5, classifier__n_estimators=2000, classifier__subsample=1, preprocessor__num__imputer__strategy=mean \n",
      "[CV]  classifier__learning_rate=0.3, classifier__max_depth=9, classifier__min_samples_leaf=0.1, classifier__min_samples_split=0.5, classifier__n_estimators=2000, classifier__subsample=1, preprocessor__num__imputer__strategy=mean, score=0.895, total=   6.9s\n",
      "[CV] classifier__learning_rate=0.3, classifier__max_depth=9, classifier__min_samples_leaf=0.1, classifier__min_samples_split=0.5, classifier__n_estimators=2000, classifier__subsample=1, preprocessor__num__imputer__strategy=median \n",
      "[CV]  classifier__learning_rate=0.3, classifier__max_depth=9, classifier__min_samples_leaf=0.1, classifier__min_samples_split=0.5, classifier__n_estimators=2000, classifier__subsample=1, preprocessor__num__imputer__strategy=median, score=0.891, total=   6.6s\n",
      "[CV] classifier__learning_rate=0.3, classifier__max_depth=9, classifier__min_samples_leaf=0.1, classifier__min_samples_split=0.5, classifier__n_estimators=2000, classifier__subsample=1, preprocessor__num__imputer__strategy=median \n",
      "[CV]  classifier__learning_rate=0.3, classifier__max_depth=9, classifier__min_samples_leaf=0.1, classifier__min_samples_split=0.5, classifier__n_estimators=2000, classifier__subsample=1, preprocessor__num__imputer__strategy=median, score=0.898, total=   6.7s\n",
      "[CV] classifier__learning_rate=0.3, classifier__max_depth=9, classifier__min_samples_leaf=0.1, classifier__min_samples_split=0.5, classifier__n_estimators=2000, classifier__subsample=1, preprocessor__num__imputer__strategy=median \n",
      "[CV]  classifier__learning_rate=0.3, classifier__max_depth=9, classifier__min_samples_leaf=0.1, classifier__min_samples_split=0.5, classifier__n_estimators=2000, classifier__subsample=1, preprocessor__num__imputer__strategy=median, score=0.895, total=   6.8s\n",
      "[CV] classifier__learning_rate=0.3, classifier__max_depth=9, classifier__min_samples_leaf=0.3, classifier__min_samples_split=0.4, classifier__n_estimators=1000, classifier__subsample=0.9, preprocessor__num__imputer__strategy=mean \n",
      "[CV]  classifier__learning_rate=0.3, classifier__max_depth=9, classifier__min_samples_leaf=0.3, classifier__min_samples_split=0.4, classifier__n_estimators=1000, classifier__subsample=0.9, preprocessor__num__imputer__strategy=mean, score=0.817, total=   1.9s\n",
      "[CV] classifier__learning_rate=0.3, classifier__max_depth=9, classifier__min_samples_leaf=0.3, classifier__min_samples_split=0.4, classifier__n_estimators=1000, classifier__subsample=0.9, preprocessor__num__imputer__strategy=mean \n",
      "[CV]  classifier__learning_rate=0.3, classifier__max_depth=9, classifier__min_samples_leaf=0.3, classifier__min_samples_split=0.4, classifier__n_estimators=1000, classifier__subsample=0.9, preprocessor__num__imputer__strategy=mean, score=0.827, total=   1.9s\n",
      "[CV] classifier__learning_rate=0.3, classifier__max_depth=9, classifier__min_samples_leaf=0.3, classifier__min_samples_split=0.4, classifier__n_estimators=1000, classifier__subsample=0.9, preprocessor__num__imputer__strategy=mean \n",
      "[CV]  classifier__learning_rate=0.3, classifier__max_depth=9, classifier__min_samples_leaf=0.3, classifier__min_samples_split=0.4, classifier__n_estimators=1000, classifier__subsample=0.9, preprocessor__num__imputer__strategy=mean, score=0.833, total=   2.0s\n",
      "[CV] classifier__learning_rate=0.3, classifier__max_depth=9, classifier__min_samples_leaf=0.3, classifier__min_samples_split=0.4, classifier__n_estimators=1000, classifier__subsample=0.9, preprocessor__num__imputer__strategy=median \n",
      "[CV]  classifier__learning_rate=0.3, classifier__max_depth=9, classifier__min_samples_leaf=0.3, classifier__min_samples_split=0.4, classifier__n_estimators=1000, classifier__subsample=0.9, preprocessor__num__imputer__strategy=median, score=0.817, total=   1.9s\n",
      "[CV] classifier__learning_rate=0.3, classifier__max_depth=9, classifier__min_samples_leaf=0.3, classifier__min_samples_split=0.4, classifier__n_estimators=1000, classifier__subsample=0.9, preprocessor__num__imputer__strategy=median \n",
      "[CV]  classifier__learning_rate=0.3, classifier__max_depth=9, classifier__min_samples_leaf=0.3, classifier__min_samples_split=0.4, classifier__n_estimators=1000, classifier__subsample=0.9, preprocessor__num__imputer__strategy=median, score=0.827, total=   2.0s\n",
      "[CV] classifier__learning_rate=0.3, classifier__max_depth=9, classifier__min_samples_leaf=0.3, classifier__min_samples_split=0.4, classifier__n_estimators=1000, classifier__subsample=0.9, preprocessor__num__imputer__strategy=median \n",
      "[CV]  classifier__learning_rate=0.3, classifier__max_depth=9, classifier__min_samples_leaf=0.3, classifier__min_samples_split=0.4, classifier__n_estimators=1000, classifier__subsample=0.9, preprocessor__num__imputer__strategy=median, score=0.834, total=   1.9s\n",
      "[CV] classifier__learning_rate=0.3, classifier__max_depth=9, classifier__min_samples_leaf=0.3, classifier__min_samples_split=0.4, classifier__n_estimators=1000, classifier__subsample=1, preprocessor__num__imputer__strategy=mean \n",
      "[CV]  classifier__learning_rate=0.3, classifier__max_depth=9, classifier__min_samples_leaf=0.3, classifier__min_samples_split=0.4, classifier__n_estimators=1000, classifier__subsample=1, preprocessor__num__imputer__strategy=mean, score=0.828, total=   1.8s\n",
      "[CV] classifier__learning_rate=0.3, classifier__max_depth=9, classifier__min_samples_leaf=0.3, classifier__min_samples_split=0.4, classifier__n_estimators=1000, classifier__subsample=1, preprocessor__num__imputer__strategy=mean \n",
      "[CV]  classifier__learning_rate=0.3, classifier__max_depth=9, classifier__min_samples_leaf=0.3, classifier__min_samples_split=0.4, classifier__n_estimators=1000, classifier__subsample=1, preprocessor__num__imputer__strategy=mean, score=0.831, total=   1.9s\n",
      "[CV] classifier__learning_rate=0.3, classifier__max_depth=9, classifier__min_samples_leaf=0.3, classifier__min_samples_split=0.4, classifier__n_estimators=1000, classifier__subsample=1, preprocessor__num__imputer__strategy=mean \n",
      "[CV]  classifier__learning_rate=0.3, classifier__max_depth=9, classifier__min_samples_leaf=0.3, classifier__min_samples_split=0.4, classifier__n_estimators=1000, classifier__subsample=1, preprocessor__num__imputer__strategy=mean, score=0.839, total=   2.0s\n",
      "[CV] classifier__learning_rate=0.3, classifier__max_depth=9, classifier__min_samples_leaf=0.3, classifier__min_samples_split=0.4, classifier__n_estimators=1000, classifier__subsample=1, preprocessor__num__imputer__strategy=median \n",
      "[CV]  classifier__learning_rate=0.3, classifier__max_depth=9, classifier__min_samples_leaf=0.3, classifier__min_samples_split=0.4, classifier__n_estimators=1000, classifier__subsample=1, preprocessor__num__imputer__strategy=median, score=0.828, total=   1.9s\n",
      "[CV] classifier__learning_rate=0.3, classifier__max_depth=9, classifier__min_samples_leaf=0.3, classifier__min_samples_split=0.4, classifier__n_estimators=1000, classifier__subsample=1, preprocessor__num__imputer__strategy=median \n",
      "[CV]  classifier__learning_rate=0.3, classifier__max_depth=9, classifier__min_samples_leaf=0.3, classifier__min_samples_split=0.4, classifier__n_estimators=1000, classifier__subsample=1, preprocessor__num__imputer__strategy=median, score=0.831, total=   1.8s\n",
      "[CV] classifier__learning_rate=0.3, classifier__max_depth=9, classifier__min_samples_leaf=0.3, classifier__min_samples_split=0.4, classifier__n_estimators=1000, classifier__subsample=1, preprocessor__num__imputer__strategy=median \n",
      "[CV]  classifier__learning_rate=0.3, classifier__max_depth=9, classifier__min_samples_leaf=0.3, classifier__min_samples_split=0.4, classifier__n_estimators=1000, classifier__subsample=1, preprocessor__num__imputer__strategy=median, score=0.839, total=   1.9s\n",
      "[CV] classifier__learning_rate=0.3, classifier__max_depth=9, classifier__min_samples_leaf=0.3, classifier__min_samples_split=0.4, classifier__n_estimators=2000, classifier__subsample=0.9, preprocessor__num__imputer__strategy=mean \n",
      "[CV]  classifier__learning_rate=0.3, classifier__max_depth=9, classifier__min_samples_leaf=0.3, classifier__min_samples_split=0.4, classifier__n_estimators=2000, classifier__subsample=0.9, preprocessor__num__imputer__strategy=mean, score=0.822, total=   3.7s\n",
      "[CV] classifier__learning_rate=0.3, classifier__max_depth=9, classifier__min_samples_leaf=0.3, classifier__min_samples_split=0.4, classifier__n_estimators=2000, classifier__subsample=0.9, preprocessor__num__imputer__strategy=mean \n",
      "[CV]  classifier__learning_rate=0.3, classifier__max_depth=9, classifier__min_samples_leaf=0.3, classifier__min_samples_split=0.4, classifier__n_estimators=2000, classifier__subsample=0.9, preprocessor__num__imputer__strategy=mean, score=0.831, total=   4.1s\n",
      "[CV] classifier__learning_rate=0.3, classifier__max_depth=9, classifier__min_samples_leaf=0.3, classifier__min_samples_split=0.4, classifier__n_estimators=2000, classifier__subsample=0.9, preprocessor__num__imputer__strategy=mean \n",
      "[CV]  classifier__learning_rate=0.3, classifier__max_depth=9, classifier__min_samples_leaf=0.3, classifier__min_samples_split=0.4, classifier__n_estimators=2000, classifier__subsample=0.9, preprocessor__num__imputer__strategy=mean, score=0.838, total=   3.7s\n",
      "[CV] classifier__learning_rate=0.3, classifier__max_depth=9, classifier__min_samples_leaf=0.3, classifier__min_samples_split=0.4, classifier__n_estimators=2000, classifier__subsample=0.9, preprocessor__num__imputer__strategy=median \n",
      "[CV]  classifier__learning_rate=0.3, classifier__max_depth=9, classifier__min_samples_leaf=0.3, classifier__min_samples_split=0.4, classifier__n_estimators=2000, classifier__subsample=0.9, preprocessor__num__imputer__strategy=median, score=0.821, total=   3.7s\n",
      "[CV] classifier__learning_rate=0.3, classifier__max_depth=9, classifier__min_samples_leaf=0.3, classifier__min_samples_split=0.4, classifier__n_estimators=2000, classifier__subsample=0.9, preprocessor__num__imputer__strategy=median \n",
      "[CV]  classifier__learning_rate=0.3, classifier__max_depth=9, classifier__min_samples_leaf=0.3, classifier__min_samples_split=0.4, classifier__n_estimators=2000, classifier__subsample=0.9, preprocessor__num__imputer__strategy=median, score=0.831, total=   3.8s\n",
      "[CV] classifier__learning_rate=0.3, classifier__max_depth=9, classifier__min_samples_leaf=0.3, classifier__min_samples_split=0.4, classifier__n_estimators=2000, classifier__subsample=0.9, preprocessor__num__imputer__strategy=median \n",
      "[CV]  classifier__learning_rate=0.3, classifier__max_depth=9, classifier__min_samples_leaf=0.3, classifier__min_samples_split=0.4, classifier__n_estimators=2000, classifier__subsample=0.9, preprocessor__num__imputer__strategy=median, score=0.839, total=   3.7s\n",
      "[CV] classifier__learning_rate=0.3, classifier__max_depth=9, classifier__min_samples_leaf=0.3, classifier__min_samples_split=0.4, classifier__n_estimators=2000, classifier__subsample=1, preprocessor__num__imputer__strategy=mean \n",
      "[CV]  classifier__learning_rate=0.3, classifier__max_depth=9, classifier__min_samples_leaf=0.3, classifier__min_samples_split=0.4, classifier__n_estimators=2000, classifier__subsample=1, preprocessor__num__imputer__strategy=mean, score=0.832, total=   3.6s\n",
      "[CV] classifier__learning_rate=0.3, classifier__max_depth=9, classifier__min_samples_leaf=0.3, classifier__min_samples_split=0.4, classifier__n_estimators=2000, classifier__subsample=1, preprocessor__num__imputer__strategy=mean \n",
      "[CV]  classifier__learning_rate=0.3, classifier__max_depth=9, classifier__min_samples_leaf=0.3, classifier__min_samples_split=0.4, classifier__n_estimators=2000, classifier__subsample=1, preprocessor__num__imputer__strategy=mean, score=0.835, total=   3.6s\n",
      "[CV] classifier__learning_rate=0.3, classifier__max_depth=9, classifier__min_samples_leaf=0.3, classifier__min_samples_split=0.4, classifier__n_estimators=2000, classifier__subsample=1, preprocessor__num__imputer__strategy=mean \n",
      "[CV]  classifier__learning_rate=0.3, classifier__max_depth=9, classifier__min_samples_leaf=0.3, classifier__min_samples_split=0.4, classifier__n_estimators=2000, classifier__subsample=1, preprocessor__num__imputer__strategy=mean, score=0.845, total=   4.0s\n",
      "[CV] classifier__learning_rate=0.3, classifier__max_depth=9, classifier__min_samples_leaf=0.3, classifier__min_samples_split=0.4, classifier__n_estimators=2000, classifier__subsample=1, preprocessor__num__imputer__strategy=median \n",
      "[CV]  classifier__learning_rate=0.3, classifier__max_depth=9, classifier__min_samples_leaf=0.3, classifier__min_samples_split=0.4, classifier__n_estimators=2000, classifier__subsample=1, preprocessor__num__imputer__strategy=median, score=0.832, total=   3.8s\n",
      "[CV] classifier__learning_rate=0.3, classifier__max_depth=9, classifier__min_samples_leaf=0.3, classifier__min_samples_split=0.4, classifier__n_estimators=2000, classifier__subsample=1, preprocessor__num__imputer__strategy=median \n",
      "[CV]  classifier__learning_rate=0.3, classifier__max_depth=9, classifier__min_samples_leaf=0.3, classifier__min_samples_split=0.4, classifier__n_estimators=2000, classifier__subsample=1, preprocessor__num__imputer__strategy=median, score=0.835, total=   3.8s\n",
      "[CV] classifier__learning_rate=0.3, classifier__max_depth=9, classifier__min_samples_leaf=0.3, classifier__min_samples_split=0.4, classifier__n_estimators=2000, classifier__subsample=1, preprocessor__num__imputer__strategy=median \n",
      "[CV]  classifier__learning_rate=0.3, classifier__max_depth=9, classifier__min_samples_leaf=0.3, classifier__min_samples_split=0.4, classifier__n_estimators=2000, classifier__subsample=1, preprocessor__num__imputer__strategy=median, score=0.845, total=   3.8s\n",
      "[CV] classifier__learning_rate=0.3, classifier__max_depth=9, classifier__min_samples_leaf=0.3, classifier__min_samples_split=0.5, classifier__n_estimators=1000, classifier__subsample=0.9, preprocessor__num__imputer__strategy=mean \n",
      "[CV]  classifier__learning_rate=0.3, classifier__max_depth=9, classifier__min_samples_leaf=0.3, classifier__min_samples_split=0.5, classifier__n_estimators=1000, classifier__subsample=0.9, preprocessor__num__imputer__strategy=mean, score=0.816, total=   2.3s\n",
      "[CV] classifier__learning_rate=0.3, classifier__max_depth=9, classifier__min_samples_leaf=0.3, classifier__min_samples_split=0.5, classifier__n_estimators=1000, classifier__subsample=0.9, preprocessor__num__imputer__strategy=mean \n",
      "[CV]  classifier__learning_rate=0.3, classifier__max_depth=9, classifier__min_samples_leaf=0.3, classifier__min_samples_split=0.5, classifier__n_estimators=1000, classifier__subsample=0.9, preprocessor__num__imputer__strategy=mean, score=0.827, total=   1.9s\n",
      "[CV] classifier__learning_rate=0.3, classifier__max_depth=9, classifier__min_samples_leaf=0.3, classifier__min_samples_split=0.5, classifier__n_estimators=1000, classifier__subsample=0.9, preprocessor__num__imputer__strategy=mean \n",
      "[CV]  classifier__learning_rate=0.3, classifier__max_depth=9, classifier__min_samples_leaf=0.3, classifier__min_samples_split=0.5, classifier__n_estimators=1000, classifier__subsample=0.9, preprocessor__num__imputer__strategy=mean, score=0.834, total=   2.0s\n",
      "[CV] classifier__learning_rate=0.3, classifier__max_depth=9, classifier__min_samples_leaf=0.3, classifier__min_samples_split=0.5, classifier__n_estimators=1000, classifier__subsample=0.9, preprocessor__num__imputer__strategy=median \n",
      "[CV]  classifier__learning_rate=0.3, classifier__max_depth=9, classifier__min_samples_leaf=0.3, classifier__min_samples_split=0.5, classifier__n_estimators=1000, classifier__subsample=0.9, preprocessor__num__imputer__strategy=median, score=0.817, total=   1.9s\n",
      "[CV] classifier__learning_rate=0.3, classifier__max_depth=9, classifier__min_samples_leaf=0.3, classifier__min_samples_split=0.5, classifier__n_estimators=1000, classifier__subsample=0.9, preprocessor__num__imputer__strategy=median \n",
      "[CV]  classifier__learning_rate=0.3, classifier__max_depth=9, classifier__min_samples_leaf=0.3, classifier__min_samples_split=0.5, classifier__n_estimators=1000, classifier__subsample=0.9, preprocessor__num__imputer__strategy=median, score=0.827, total=   2.0s\n",
      "[CV] classifier__learning_rate=0.3, classifier__max_depth=9, classifier__min_samples_leaf=0.3, classifier__min_samples_split=0.5, classifier__n_estimators=1000, classifier__subsample=0.9, preprocessor__num__imputer__strategy=median \n",
      "[CV]  classifier__learning_rate=0.3, classifier__max_depth=9, classifier__min_samples_leaf=0.3, classifier__min_samples_split=0.5, classifier__n_estimators=1000, classifier__subsample=0.9, preprocessor__num__imputer__strategy=median, score=0.834, total=   2.1s\n",
      "[CV] classifier__learning_rate=0.3, classifier__max_depth=9, classifier__min_samples_leaf=0.3, classifier__min_samples_split=0.5, classifier__n_estimators=1000, classifier__subsample=1, preprocessor__num__imputer__strategy=mean \n",
      "[CV]  classifier__learning_rate=0.3, classifier__max_depth=9, classifier__min_samples_leaf=0.3, classifier__min_samples_split=0.5, classifier__n_estimators=1000, classifier__subsample=1, preprocessor__num__imputer__strategy=mean, score=0.828, total=   1.9s\n",
      "[CV] classifier__learning_rate=0.3, classifier__max_depth=9, classifier__min_samples_leaf=0.3, classifier__min_samples_split=0.5, classifier__n_estimators=1000, classifier__subsample=1, preprocessor__num__imputer__strategy=mean \n",
      "[CV]  classifier__learning_rate=0.3, classifier__max_depth=9, classifier__min_samples_leaf=0.3, classifier__min_samples_split=0.5, classifier__n_estimators=1000, classifier__subsample=1, preprocessor__num__imputer__strategy=mean, score=0.831, total=   1.9s\n",
      "[CV] classifier__learning_rate=0.3, classifier__max_depth=9, classifier__min_samples_leaf=0.3, classifier__min_samples_split=0.5, classifier__n_estimators=1000, classifier__subsample=1, preprocessor__num__imputer__strategy=mean \n",
      "[CV]  classifier__learning_rate=0.3, classifier__max_depth=9, classifier__min_samples_leaf=0.3, classifier__min_samples_split=0.5, classifier__n_estimators=1000, classifier__subsample=1, preprocessor__num__imputer__strategy=mean, score=0.839, total=   2.0s\n",
      "[CV] classifier__learning_rate=0.3, classifier__max_depth=9, classifier__min_samples_leaf=0.3, classifier__min_samples_split=0.5, classifier__n_estimators=1000, classifier__subsample=1, preprocessor__num__imputer__strategy=median \n",
      "[CV]  classifier__learning_rate=0.3, classifier__max_depth=9, classifier__min_samples_leaf=0.3, classifier__min_samples_split=0.5, classifier__n_estimators=1000, classifier__subsample=1, preprocessor__num__imputer__strategy=median, score=0.828, total=   1.9s\n",
      "[CV] classifier__learning_rate=0.3, classifier__max_depth=9, classifier__min_samples_leaf=0.3, classifier__min_samples_split=0.5, classifier__n_estimators=1000, classifier__subsample=1, preprocessor__num__imputer__strategy=median \n",
      "[CV]  classifier__learning_rate=0.3, classifier__max_depth=9, classifier__min_samples_leaf=0.3, classifier__min_samples_split=0.5, classifier__n_estimators=1000, classifier__subsample=1, preprocessor__num__imputer__strategy=median, score=0.831, total=   1.9s\n",
      "[CV] classifier__learning_rate=0.3, classifier__max_depth=9, classifier__min_samples_leaf=0.3, classifier__min_samples_split=0.5, classifier__n_estimators=1000, classifier__subsample=1, preprocessor__num__imputer__strategy=median \n",
      "[CV]  classifier__learning_rate=0.3, classifier__max_depth=9, classifier__min_samples_leaf=0.3, classifier__min_samples_split=0.5, classifier__n_estimators=1000, classifier__subsample=1, preprocessor__num__imputer__strategy=median, score=0.839, total=   1.9s\n",
      "[CV] classifier__learning_rate=0.3, classifier__max_depth=9, classifier__min_samples_leaf=0.3, classifier__min_samples_split=0.5, classifier__n_estimators=2000, classifier__subsample=0.9, preprocessor__num__imputer__strategy=mean \n",
      "[CV]  classifier__learning_rate=0.3, classifier__max_depth=9, classifier__min_samples_leaf=0.3, classifier__min_samples_split=0.5, classifier__n_estimators=2000, classifier__subsample=0.9, preprocessor__num__imputer__strategy=mean, score=0.820, total=   4.6s\n",
      "[CV] classifier__learning_rate=0.3, classifier__max_depth=9, classifier__min_samples_leaf=0.3, classifier__min_samples_split=0.5, classifier__n_estimators=2000, classifier__subsample=0.9, preprocessor__num__imputer__strategy=mean \n",
      "[CV]  classifier__learning_rate=0.3, classifier__max_depth=9, classifier__min_samples_leaf=0.3, classifier__min_samples_split=0.5, classifier__n_estimators=2000, classifier__subsample=0.9, preprocessor__num__imputer__strategy=mean, score=0.831, total=   4.3s\n",
      "[CV] classifier__learning_rate=0.3, classifier__max_depth=9, classifier__min_samples_leaf=0.3, classifier__min_samples_split=0.5, classifier__n_estimators=2000, classifier__subsample=0.9, preprocessor__num__imputer__strategy=mean \n",
      "[CV]  classifier__learning_rate=0.3, classifier__max_depth=9, classifier__min_samples_leaf=0.3, classifier__min_samples_split=0.5, classifier__n_estimators=2000, classifier__subsample=0.9, preprocessor__num__imputer__strategy=mean, score=0.838, total=   4.1s\n",
      "[CV] classifier__learning_rate=0.3, classifier__max_depth=9, classifier__min_samples_leaf=0.3, classifier__min_samples_split=0.5, classifier__n_estimators=2000, classifier__subsample=0.9, preprocessor__num__imputer__strategy=median \n",
      "[CV]  classifier__learning_rate=0.3, classifier__max_depth=9, classifier__min_samples_leaf=0.3, classifier__min_samples_split=0.5, classifier__n_estimators=2000, classifier__subsample=0.9, preprocessor__num__imputer__strategy=median, score=0.820, total=   3.9s\n",
      "[CV] classifier__learning_rate=0.3, classifier__max_depth=9, classifier__min_samples_leaf=0.3, classifier__min_samples_split=0.5, classifier__n_estimators=2000, classifier__subsample=0.9, preprocessor__num__imputer__strategy=median \n",
      "[CV]  classifier__learning_rate=0.3, classifier__max_depth=9, classifier__min_samples_leaf=0.3, classifier__min_samples_split=0.5, classifier__n_estimators=2000, classifier__subsample=0.9, preprocessor__num__imputer__strategy=median, score=0.831, total=   3.8s\n",
      "[CV] classifier__learning_rate=0.3, classifier__max_depth=9, classifier__min_samples_leaf=0.3, classifier__min_samples_split=0.5, classifier__n_estimators=2000, classifier__subsample=0.9, preprocessor__num__imputer__strategy=median \n",
      "[CV]  classifier__learning_rate=0.3, classifier__max_depth=9, classifier__min_samples_leaf=0.3, classifier__min_samples_split=0.5, classifier__n_estimators=2000, classifier__subsample=0.9, preprocessor__num__imputer__strategy=median, score=0.839, total=   3.8s\n",
      "[CV] classifier__learning_rate=0.3, classifier__max_depth=9, classifier__min_samples_leaf=0.3, classifier__min_samples_split=0.5, classifier__n_estimators=2000, classifier__subsample=1, preprocessor__num__imputer__strategy=mean \n",
      "[CV]  classifier__learning_rate=0.3, classifier__max_depth=9, classifier__min_samples_leaf=0.3, classifier__min_samples_split=0.5, classifier__n_estimators=2000, classifier__subsample=1, preprocessor__num__imputer__strategy=mean, score=0.832, total=   3.6s\n",
      "[CV] classifier__learning_rate=0.3, classifier__max_depth=9, classifier__min_samples_leaf=0.3, classifier__min_samples_split=0.5, classifier__n_estimators=2000, classifier__subsample=1, preprocessor__num__imputer__strategy=mean \n",
      "[CV]  classifier__learning_rate=0.3, classifier__max_depth=9, classifier__min_samples_leaf=0.3, classifier__min_samples_split=0.5, classifier__n_estimators=2000, classifier__subsample=1, preprocessor__num__imputer__strategy=mean, score=0.835, total=   3.5s\n",
      "[CV] classifier__learning_rate=0.3, classifier__max_depth=9, classifier__min_samples_leaf=0.3, classifier__min_samples_split=0.5, classifier__n_estimators=2000, classifier__subsample=1, preprocessor__num__imputer__strategy=mean \n",
      "[CV]  classifier__learning_rate=0.3, classifier__max_depth=9, classifier__min_samples_leaf=0.3, classifier__min_samples_split=0.5, classifier__n_estimators=2000, classifier__subsample=1, preprocessor__num__imputer__strategy=mean, score=0.845, total=   3.6s\n",
      "[CV] classifier__learning_rate=0.3, classifier__max_depth=9, classifier__min_samples_leaf=0.3, classifier__min_samples_split=0.5, classifier__n_estimators=2000, classifier__subsample=1, preprocessor__num__imputer__strategy=median \n",
      "[CV]  classifier__learning_rate=0.3, classifier__max_depth=9, classifier__min_samples_leaf=0.3, classifier__min_samples_split=0.5, classifier__n_estimators=2000, classifier__subsample=1, preprocessor__num__imputer__strategy=median, score=0.832, total=   3.6s\n",
      "[CV] classifier__learning_rate=0.3, classifier__max_depth=9, classifier__min_samples_leaf=0.3, classifier__min_samples_split=0.5, classifier__n_estimators=2000, classifier__subsample=1, preprocessor__num__imputer__strategy=median \n",
      "[CV]  classifier__learning_rate=0.3, classifier__max_depth=9, classifier__min_samples_leaf=0.3, classifier__min_samples_split=0.5, classifier__n_estimators=2000, classifier__subsample=1, preprocessor__num__imputer__strategy=median, score=0.835, total=   3.5s\n",
      "[CV] classifier__learning_rate=0.3, classifier__max_depth=9, classifier__min_samples_leaf=0.3, classifier__min_samples_split=0.5, classifier__n_estimators=2000, classifier__subsample=1, preprocessor__num__imputer__strategy=median \n",
      "[CV]  classifier__learning_rate=0.3, classifier__max_depth=9, classifier__min_samples_leaf=0.3, classifier__min_samples_split=0.5, classifier__n_estimators=2000, classifier__subsample=1, preprocessor__num__imputer__strategy=median, score=0.845, total=   3.7s\n",
      "[CV] classifier__learning_rate=0.3, classifier__max_depth=10, classifier__min_samples_leaf=0.1, classifier__min_samples_split=0.4, classifier__n_estimators=1000, classifier__subsample=0.9, preprocessor__num__imputer__strategy=mean \n",
      "[CV]  classifier__learning_rate=0.3, classifier__max_depth=10, classifier__min_samples_leaf=0.1, classifier__min_samples_split=0.4, classifier__n_estimators=1000, classifier__subsample=0.9, preprocessor__num__imputer__strategy=mean, score=0.864, total=   3.8s\n",
      "[CV] classifier__learning_rate=0.3, classifier__max_depth=10, classifier__min_samples_leaf=0.1, classifier__min_samples_split=0.4, classifier__n_estimators=1000, classifier__subsample=0.9, preprocessor__num__imputer__strategy=mean \n",
      "[CV]  classifier__learning_rate=0.3, classifier__max_depth=10, classifier__min_samples_leaf=0.1, classifier__min_samples_split=0.4, classifier__n_estimators=1000, classifier__subsample=0.9, preprocessor__num__imputer__strategy=mean, score=0.882, total=   4.1s\n",
      "[CV] classifier__learning_rate=0.3, classifier__max_depth=10, classifier__min_samples_leaf=0.1, classifier__min_samples_split=0.4, classifier__n_estimators=1000, classifier__subsample=0.9, preprocessor__num__imputer__strategy=mean \n",
      "[CV]  classifier__learning_rate=0.3, classifier__max_depth=10, classifier__min_samples_leaf=0.1, classifier__min_samples_split=0.4, classifier__n_estimators=1000, classifier__subsample=0.9, preprocessor__num__imputer__strategy=mean, score=0.874, total=   4.2s\n",
      "[CV] classifier__learning_rate=0.3, classifier__max_depth=10, classifier__min_samples_leaf=0.1, classifier__min_samples_split=0.4, classifier__n_estimators=1000, classifier__subsample=0.9, preprocessor__num__imputer__strategy=median \n",
      "[CV]  classifier__learning_rate=0.3, classifier__max_depth=10, classifier__min_samples_leaf=0.1, classifier__min_samples_split=0.4, classifier__n_estimators=1000, classifier__subsample=0.9, preprocessor__num__imputer__strategy=median, score=0.865, total=   4.5s\n",
      "[CV] classifier__learning_rate=0.3, classifier__max_depth=10, classifier__min_samples_leaf=0.1, classifier__min_samples_split=0.4, classifier__n_estimators=1000, classifier__subsample=0.9, preprocessor__num__imputer__strategy=median \n",
      "[CV]  classifier__learning_rate=0.3, classifier__max_depth=10, classifier__min_samples_leaf=0.1, classifier__min_samples_split=0.4, classifier__n_estimators=1000, classifier__subsample=0.9, preprocessor__num__imputer__strategy=median, score=0.880, total=   5.1s\n",
      "[CV] classifier__learning_rate=0.3, classifier__max_depth=10, classifier__min_samples_leaf=0.1, classifier__min_samples_split=0.4, classifier__n_estimators=1000, classifier__subsample=0.9, preprocessor__num__imputer__strategy=median \n",
      "[CV]  classifier__learning_rate=0.3, classifier__max_depth=10, classifier__min_samples_leaf=0.1, classifier__min_samples_split=0.4, classifier__n_estimators=1000, classifier__subsample=0.9, preprocessor__num__imputer__strategy=median, score=0.877, total=   3.9s\n",
      "[CV] classifier__learning_rate=0.3, classifier__max_depth=10, classifier__min_samples_leaf=0.1, classifier__min_samples_split=0.4, classifier__n_estimators=1000, classifier__subsample=1, preprocessor__num__imputer__strategy=mean \n",
      "[CV]  classifier__learning_rate=0.3, classifier__max_depth=10, classifier__min_samples_leaf=0.1, classifier__min_samples_split=0.4, classifier__n_estimators=1000, classifier__subsample=1, preprocessor__num__imputer__strategy=mean, score=0.885, total=   4.3s\n",
      "[CV] classifier__learning_rate=0.3, classifier__max_depth=10, classifier__min_samples_leaf=0.1, classifier__min_samples_split=0.4, classifier__n_estimators=1000, classifier__subsample=1, preprocessor__num__imputer__strategy=mean \n",
      "[CV]  classifier__learning_rate=0.3, classifier__max_depth=10, classifier__min_samples_leaf=0.1, classifier__min_samples_split=0.4, classifier__n_estimators=1000, classifier__subsample=1, preprocessor__num__imputer__strategy=mean, score=0.893, total=   4.3s\n",
      "[CV] classifier__learning_rate=0.3, classifier__max_depth=10, classifier__min_samples_leaf=0.1, classifier__min_samples_split=0.4, classifier__n_estimators=1000, classifier__subsample=1, preprocessor__num__imputer__strategy=mean \n",
      "[CV]  classifier__learning_rate=0.3, classifier__max_depth=10, classifier__min_samples_leaf=0.1, classifier__min_samples_split=0.4, classifier__n_estimators=1000, classifier__subsample=1, preprocessor__num__imputer__strategy=mean, score=0.893, total=   4.4s\n",
      "[CV] classifier__learning_rate=0.3, classifier__max_depth=10, classifier__min_samples_leaf=0.1, classifier__min_samples_split=0.4, classifier__n_estimators=1000, classifier__subsample=1, preprocessor__num__imputer__strategy=median \n",
      "[CV]  classifier__learning_rate=0.3, classifier__max_depth=10, classifier__min_samples_leaf=0.1, classifier__min_samples_split=0.4, classifier__n_estimators=1000, classifier__subsample=1, preprocessor__num__imputer__strategy=median, score=0.885, total=   4.3s\n",
      "[CV] classifier__learning_rate=0.3, classifier__max_depth=10, classifier__min_samples_leaf=0.1, classifier__min_samples_split=0.4, classifier__n_estimators=1000, classifier__subsample=1, preprocessor__num__imputer__strategy=median \n",
      "[CV]  classifier__learning_rate=0.3, classifier__max_depth=10, classifier__min_samples_leaf=0.1, classifier__min_samples_split=0.4, classifier__n_estimators=1000, classifier__subsample=1, preprocessor__num__imputer__strategy=median, score=0.893, total=   4.4s\n",
      "[CV] classifier__learning_rate=0.3, classifier__max_depth=10, classifier__min_samples_leaf=0.1, classifier__min_samples_split=0.4, classifier__n_estimators=1000, classifier__subsample=1, preprocessor__num__imputer__strategy=median \n",
      "[CV]  classifier__learning_rate=0.3, classifier__max_depth=10, classifier__min_samples_leaf=0.1, classifier__min_samples_split=0.4, classifier__n_estimators=1000, classifier__subsample=1, preprocessor__num__imputer__strategy=median, score=0.893, total=   4.5s\n",
      "[CV] classifier__learning_rate=0.3, classifier__max_depth=10, classifier__min_samples_leaf=0.1, classifier__min_samples_split=0.4, classifier__n_estimators=2000, classifier__subsample=0.9, preprocessor__num__imputer__strategy=mean \n",
      "[CV]  classifier__learning_rate=0.3, classifier__max_depth=10, classifier__min_samples_leaf=0.1, classifier__min_samples_split=0.4, classifier__n_estimators=2000, classifier__subsample=0.9, preprocessor__num__imputer__strategy=mean, score=0.870, total=   7.7s\n",
      "[CV] classifier__learning_rate=0.3, classifier__max_depth=10, classifier__min_samples_leaf=0.1, classifier__min_samples_split=0.4, classifier__n_estimators=2000, classifier__subsample=0.9, preprocessor__num__imputer__strategy=mean \n",
      "[CV]  classifier__learning_rate=0.3, classifier__max_depth=10, classifier__min_samples_leaf=0.1, classifier__min_samples_split=0.4, classifier__n_estimators=2000, classifier__subsample=0.9, preprocessor__num__imputer__strategy=mean, score=0.884, total=   7.6s\n",
      "[CV] classifier__learning_rate=0.3, classifier__max_depth=10, classifier__min_samples_leaf=0.1, classifier__min_samples_split=0.4, classifier__n_estimators=2000, classifier__subsample=0.9, preprocessor__num__imputer__strategy=mean \n",
      "[CV]  classifier__learning_rate=0.3, classifier__max_depth=10, classifier__min_samples_leaf=0.1, classifier__min_samples_split=0.4, classifier__n_estimators=2000, classifier__subsample=0.9, preprocessor__num__imputer__strategy=mean, score=0.875, total=   7.6s\n",
      "[CV] classifier__learning_rate=0.3, classifier__max_depth=10, classifier__min_samples_leaf=0.1, classifier__min_samples_split=0.4, classifier__n_estimators=2000, classifier__subsample=0.9, preprocessor__num__imputer__strategy=median \n",
      "[CV]  classifier__learning_rate=0.3, classifier__max_depth=10, classifier__min_samples_leaf=0.1, classifier__min_samples_split=0.4, classifier__n_estimators=2000, classifier__subsample=0.9, preprocessor__num__imputer__strategy=median, score=0.870, total=   7.5s\n",
      "[CV] classifier__learning_rate=0.3, classifier__max_depth=10, classifier__min_samples_leaf=0.1, classifier__min_samples_split=0.4, classifier__n_estimators=2000, classifier__subsample=0.9, preprocessor__num__imputer__strategy=median \n",
      "[CV]  classifier__learning_rate=0.3, classifier__max_depth=10, classifier__min_samples_leaf=0.1, classifier__min_samples_split=0.4, classifier__n_estimators=2000, classifier__subsample=0.9, preprocessor__num__imputer__strategy=median, score=0.888, total=   7.5s\n",
      "[CV] classifier__learning_rate=0.3, classifier__max_depth=10, classifier__min_samples_leaf=0.1, classifier__min_samples_split=0.4, classifier__n_estimators=2000, classifier__subsample=0.9, preprocessor__num__imputer__strategy=median \n",
      "[CV]  classifier__learning_rate=0.3, classifier__max_depth=10, classifier__min_samples_leaf=0.1, classifier__min_samples_split=0.4, classifier__n_estimators=2000, classifier__subsample=0.9, preprocessor__num__imputer__strategy=median, score=0.875, total=   7.4s\n",
      "[CV] classifier__learning_rate=0.3, classifier__max_depth=10, classifier__min_samples_leaf=0.1, classifier__min_samples_split=0.4, classifier__n_estimators=2000, classifier__subsample=1, preprocessor__num__imputer__strategy=mean \n",
      "[CV]  classifier__learning_rate=0.3, classifier__max_depth=10, classifier__min_samples_leaf=0.1, classifier__min_samples_split=0.4, classifier__n_estimators=2000, classifier__subsample=1, preprocessor__num__imputer__strategy=mean, score=0.886, total=   9.5s\n",
      "[CV] classifier__learning_rate=0.3, classifier__max_depth=10, classifier__min_samples_leaf=0.1, classifier__min_samples_split=0.4, classifier__n_estimators=2000, classifier__subsample=1, preprocessor__num__imputer__strategy=mean \n",
      "[CV]  classifier__learning_rate=0.3, classifier__max_depth=10, classifier__min_samples_leaf=0.1, classifier__min_samples_split=0.4, classifier__n_estimators=2000, classifier__subsample=1, preprocessor__num__imputer__strategy=mean, score=0.898, total=   8.7s\n",
      "[CV] classifier__learning_rate=0.3, classifier__max_depth=10, classifier__min_samples_leaf=0.1, classifier__min_samples_split=0.4, classifier__n_estimators=2000, classifier__subsample=1, preprocessor__num__imputer__strategy=mean \n",
      "[CV]  classifier__learning_rate=0.3, classifier__max_depth=10, classifier__min_samples_leaf=0.1, classifier__min_samples_split=0.4, classifier__n_estimators=2000, classifier__subsample=1, preprocessor__num__imputer__strategy=mean, score=0.893, total=   8.4s\n",
      "[CV] classifier__learning_rate=0.3, classifier__max_depth=10, classifier__min_samples_leaf=0.1, classifier__min_samples_split=0.4, classifier__n_estimators=2000, classifier__subsample=1, preprocessor__num__imputer__strategy=median \n",
      "[CV]  classifier__learning_rate=0.3, classifier__max_depth=10, classifier__min_samples_leaf=0.1, classifier__min_samples_split=0.4, classifier__n_estimators=2000, classifier__subsample=1, preprocessor__num__imputer__strategy=median, score=0.886, total=   8.6s\n",
      "[CV] classifier__learning_rate=0.3, classifier__max_depth=10, classifier__min_samples_leaf=0.1, classifier__min_samples_split=0.4, classifier__n_estimators=2000, classifier__subsample=1, preprocessor__num__imputer__strategy=median \n",
      "[CV]  classifier__learning_rate=0.3, classifier__max_depth=10, classifier__min_samples_leaf=0.1, classifier__min_samples_split=0.4, classifier__n_estimators=2000, classifier__subsample=1, preprocessor__num__imputer__strategy=median, score=0.898, total=   8.2s\n",
      "[CV] classifier__learning_rate=0.3, classifier__max_depth=10, classifier__min_samples_leaf=0.1, classifier__min_samples_split=0.4, classifier__n_estimators=2000, classifier__subsample=1, preprocessor__num__imputer__strategy=median \n",
      "[CV]  classifier__learning_rate=0.3, classifier__max_depth=10, classifier__min_samples_leaf=0.1, classifier__min_samples_split=0.4, classifier__n_estimators=2000, classifier__subsample=1, preprocessor__num__imputer__strategy=median, score=0.893, total=   8.4s\n",
      "[CV] classifier__learning_rate=0.3, classifier__max_depth=10, classifier__min_samples_leaf=0.1, classifier__min_samples_split=0.5, classifier__n_estimators=1000, classifier__subsample=0.9, preprocessor__num__imputer__strategy=mean \n",
      "[CV]  classifier__learning_rate=0.3, classifier__max_depth=10, classifier__min_samples_leaf=0.1, classifier__min_samples_split=0.5, classifier__n_estimators=1000, classifier__subsample=0.9, preprocessor__num__imputer__strategy=mean, score=0.864, total=   3.2s\n",
      "[CV] classifier__learning_rate=0.3, classifier__max_depth=10, classifier__min_samples_leaf=0.1, classifier__min_samples_split=0.5, classifier__n_estimators=1000, classifier__subsample=0.9, preprocessor__num__imputer__strategy=mean \n",
      "[CV]  classifier__learning_rate=0.3, classifier__max_depth=10, classifier__min_samples_leaf=0.1, classifier__min_samples_split=0.5, classifier__n_estimators=1000, classifier__subsample=0.9, preprocessor__num__imputer__strategy=mean, score=0.879, total=   3.2s\n",
      "[CV] classifier__learning_rate=0.3, classifier__max_depth=10, classifier__min_samples_leaf=0.1, classifier__min_samples_split=0.5, classifier__n_estimators=1000, classifier__subsample=0.9, preprocessor__num__imputer__strategy=mean \n",
      "[CV]  classifier__learning_rate=0.3, classifier__max_depth=10, classifier__min_samples_leaf=0.1, classifier__min_samples_split=0.5, classifier__n_estimators=1000, classifier__subsample=0.9, preprocessor__num__imputer__strategy=mean, score=0.876, total=   3.4s\n",
      "[CV] classifier__learning_rate=0.3, classifier__max_depth=10, classifier__min_samples_leaf=0.1, classifier__min_samples_split=0.5, classifier__n_estimators=1000, classifier__subsample=0.9, preprocessor__num__imputer__strategy=median \n",
      "[CV]  classifier__learning_rate=0.3, classifier__max_depth=10, classifier__min_samples_leaf=0.1, classifier__min_samples_split=0.5, classifier__n_estimators=1000, classifier__subsample=0.9, preprocessor__num__imputer__strategy=median, score=0.859, total=   3.2s\n",
      "[CV] classifier__learning_rate=0.3, classifier__max_depth=10, classifier__min_samples_leaf=0.1, classifier__min_samples_split=0.5, classifier__n_estimators=1000, classifier__subsample=0.9, preprocessor__num__imputer__strategy=median \n",
      "[CV]  classifier__learning_rate=0.3, classifier__max_depth=10, classifier__min_samples_leaf=0.1, classifier__min_samples_split=0.5, classifier__n_estimators=1000, classifier__subsample=0.9, preprocessor__num__imputer__strategy=median, score=0.879, total=   3.3s\n",
      "[CV] classifier__learning_rate=0.3, classifier__max_depth=10, classifier__min_samples_leaf=0.1, classifier__min_samples_split=0.5, classifier__n_estimators=1000, classifier__subsample=0.9, preprocessor__num__imputer__strategy=median \n",
      "[CV]  classifier__learning_rate=0.3, classifier__max_depth=10, classifier__min_samples_leaf=0.1, classifier__min_samples_split=0.5, classifier__n_estimators=1000, classifier__subsample=0.9, preprocessor__num__imputer__strategy=median, score=0.878, total=   3.2s\n",
      "[CV] classifier__learning_rate=0.3, classifier__max_depth=10, classifier__min_samples_leaf=0.1, classifier__min_samples_split=0.5, classifier__n_estimators=1000, classifier__subsample=1, preprocessor__num__imputer__strategy=mean \n",
      "[CV]  classifier__learning_rate=0.3, classifier__max_depth=10, classifier__min_samples_leaf=0.1, classifier__min_samples_split=0.5, classifier__n_estimators=1000, classifier__subsample=1, preprocessor__num__imputer__strategy=mean, score=0.885, total=   3.7s\n",
      "[CV] classifier__learning_rate=0.3, classifier__max_depth=10, classifier__min_samples_leaf=0.1, classifier__min_samples_split=0.5, classifier__n_estimators=1000, classifier__subsample=1, preprocessor__num__imputer__strategy=mean \n",
      "[CV]  classifier__learning_rate=0.3, classifier__max_depth=10, classifier__min_samples_leaf=0.1, classifier__min_samples_split=0.5, classifier__n_estimators=1000, classifier__subsample=1, preprocessor__num__imputer__strategy=mean, score=0.890, total=   3.5s\n",
      "[CV] classifier__learning_rate=0.3, classifier__max_depth=10, classifier__min_samples_leaf=0.1, classifier__min_samples_split=0.5, classifier__n_estimators=1000, classifier__subsample=1, preprocessor__num__imputer__strategy=mean \n",
      "[CV]  classifier__learning_rate=0.3, classifier__max_depth=10, classifier__min_samples_leaf=0.1, classifier__min_samples_split=0.5, classifier__n_estimators=1000, classifier__subsample=1, preprocessor__num__imputer__strategy=mean, score=0.892, total=   3.6s\n",
      "[CV] classifier__learning_rate=0.3, classifier__max_depth=10, classifier__min_samples_leaf=0.1, classifier__min_samples_split=0.5, classifier__n_estimators=1000, classifier__subsample=1, preprocessor__num__imputer__strategy=median \n",
      "[CV]  classifier__learning_rate=0.3, classifier__max_depth=10, classifier__min_samples_leaf=0.1, classifier__min_samples_split=0.5, classifier__n_estimators=1000, classifier__subsample=1, preprocessor__num__imputer__strategy=median, score=0.885, total=   3.8s\n",
      "[CV] classifier__learning_rate=0.3, classifier__max_depth=10, classifier__min_samples_leaf=0.1, classifier__min_samples_split=0.5, classifier__n_estimators=1000, classifier__subsample=1, preprocessor__num__imputer__strategy=median \n",
      "[CV]  classifier__learning_rate=0.3, classifier__max_depth=10, classifier__min_samples_leaf=0.1, classifier__min_samples_split=0.5, classifier__n_estimators=1000, classifier__subsample=1, preprocessor__num__imputer__strategy=median, score=0.890, total=   3.7s\n",
      "[CV] classifier__learning_rate=0.3, classifier__max_depth=10, classifier__min_samples_leaf=0.1, classifier__min_samples_split=0.5, classifier__n_estimators=1000, classifier__subsample=1, preprocessor__num__imputer__strategy=median \n",
      "[CV]  classifier__learning_rate=0.3, classifier__max_depth=10, classifier__min_samples_leaf=0.1, classifier__min_samples_split=0.5, classifier__n_estimators=1000, classifier__subsample=1, preprocessor__num__imputer__strategy=median, score=0.892, total=   3.8s\n",
      "[CV] classifier__learning_rate=0.3, classifier__max_depth=10, classifier__min_samples_leaf=0.1, classifier__min_samples_split=0.5, classifier__n_estimators=2000, classifier__subsample=0.9, preprocessor__num__imputer__strategy=mean \n",
      "[CV]  classifier__learning_rate=0.3, classifier__max_depth=10, classifier__min_samples_leaf=0.1, classifier__min_samples_split=0.5, classifier__n_estimators=2000, classifier__subsample=0.9, preprocessor__num__imputer__strategy=mean, score=0.870, total=   6.4s\n",
      "[CV] classifier__learning_rate=0.3, classifier__max_depth=10, classifier__min_samples_leaf=0.1, classifier__min_samples_split=0.5, classifier__n_estimators=2000, classifier__subsample=0.9, preprocessor__num__imputer__strategy=mean \n",
      "[CV]  classifier__learning_rate=0.3, classifier__max_depth=10, classifier__min_samples_leaf=0.1, classifier__min_samples_split=0.5, classifier__n_estimators=2000, classifier__subsample=0.9, preprocessor__num__imputer__strategy=mean, score=0.886, total=   6.4s\n",
      "[CV] classifier__learning_rate=0.3, classifier__max_depth=10, classifier__min_samples_leaf=0.1, classifier__min_samples_split=0.5, classifier__n_estimators=2000, classifier__subsample=0.9, preprocessor__num__imputer__strategy=mean \n",
      "[CV]  classifier__learning_rate=0.3, classifier__max_depth=10, classifier__min_samples_leaf=0.1, classifier__min_samples_split=0.5, classifier__n_estimators=2000, classifier__subsample=0.9, preprocessor__num__imputer__strategy=mean, score=0.880, total=   6.1s\n",
      "[CV] classifier__learning_rate=0.3, classifier__max_depth=10, classifier__min_samples_leaf=0.1, classifier__min_samples_split=0.5, classifier__n_estimators=2000, classifier__subsample=0.9, preprocessor__num__imputer__strategy=median \n",
      "[CV]  classifier__learning_rate=0.3, classifier__max_depth=10, classifier__min_samples_leaf=0.1, classifier__min_samples_split=0.5, classifier__n_estimators=2000, classifier__subsample=0.9, preprocessor__num__imputer__strategy=median, score=0.869, total=   6.3s\n",
      "[CV] classifier__learning_rate=0.3, classifier__max_depth=10, classifier__min_samples_leaf=0.1, classifier__min_samples_split=0.5, classifier__n_estimators=2000, classifier__subsample=0.9, preprocessor__num__imputer__strategy=median \n",
      "[CV]  classifier__learning_rate=0.3, classifier__max_depth=10, classifier__min_samples_leaf=0.1, classifier__min_samples_split=0.5, classifier__n_estimators=2000, classifier__subsample=0.9, preprocessor__num__imputer__strategy=median, score=0.886, total=   6.2s\n",
      "[CV] classifier__learning_rate=0.3, classifier__max_depth=10, classifier__min_samples_leaf=0.1, classifier__min_samples_split=0.5, classifier__n_estimators=2000, classifier__subsample=0.9, preprocessor__num__imputer__strategy=median \n",
      "[CV]  classifier__learning_rate=0.3, classifier__max_depth=10, classifier__min_samples_leaf=0.1, classifier__min_samples_split=0.5, classifier__n_estimators=2000, classifier__subsample=0.9, preprocessor__num__imputer__strategy=median, score=0.881, total=   6.1s\n",
      "[CV] classifier__learning_rate=0.3, classifier__max_depth=10, classifier__min_samples_leaf=0.1, classifier__min_samples_split=0.5, classifier__n_estimators=2000, classifier__subsample=1, preprocessor__num__imputer__strategy=mean \n",
      "[CV]  classifier__learning_rate=0.3, classifier__max_depth=10, classifier__min_samples_leaf=0.1, classifier__min_samples_split=0.5, classifier__n_estimators=2000, classifier__subsample=1, preprocessor__num__imputer__strategy=mean, score=0.891, total=   6.7s\n",
      "[CV] classifier__learning_rate=0.3, classifier__max_depth=10, classifier__min_samples_leaf=0.1, classifier__min_samples_split=0.5, classifier__n_estimators=2000, classifier__subsample=1, preprocessor__num__imputer__strategy=mean \n",
      "[CV]  classifier__learning_rate=0.3, classifier__max_depth=10, classifier__min_samples_leaf=0.1, classifier__min_samples_split=0.5, classifier__n_estimators=2000, classifier__subsample=1, preprocessor__num__imputer__strategy=mean, score=0.898, total=   6.7s\n",
      "[CV] classifier__learning_rate=0.3, classifier__max_depth=10, classifier__min_samples_leaf=0.1, classifier__min_samples_split=0.5, classifier__n_estimators=2000, classifier__subsample=1, preprocessor__num__imputer__strategy=mean \n",
      "[CV]  classifier__learning_rate=0.3, classifier__max_depth=10, classifier__min_samples_leaf=0.1, classifier__min_samples_split=0.5, classifier__n_estimators=2000, classifier__subsample=1, preprocessor__num__imputer__strategy=mean, score=0.895, total=   6.9s\n",
      "[CV] classifier__learning_rate=0.3, classifier__max_depth=10, classifier__min_samples_leaf=0.1, classifier__min_samples_split=0.5, classifier__n_estimators=2000, classifier__subsample=1, preprocessor__num__imputer__strategy=median \n",
      "[CV]  classifier__learning_rate=0.3, classifier__max_depth=10, classifier__min_samples_leaf=0.1, classifier__min_samples_split=0.5, classifier__n_estimators=2000, classifier__subsample=1, preprocessor__num__imputer__strategy=median, score=0.891, total=   6.9s\n",
      "[CV] classifier__learning_rate=0.3, classifier__max_depth=10, classifier__min_samples_leaf=0.1, classifier__min_samples_split=0.5, classifier__n_estimators=2000, classifier__subsample=1, preprocessor__num__imputer__strategy=median \n",
      "[CV]  classifier__learning_rate=0.3, classifier__max_depth=10, classifier__min_samples_leaf=0.1, classifier__min_samples_split=0.5, classifier__n_estimators=2000, classifier__subsample=1, preprocessor__num__imputer__strategy=median, score=0.898, total=   6.9s\n",
      "[CV] classifier__learning_rate=0.3, classifier__max_depth=10, classifier__min_samples_leaf=0.1, classifier__min_samples_split=0.5, classifier__n_estimators=2000, classifier__subsample=1, preprocessor__num__imputer__strategy=median \n",
      "[CV]  classifier__learning_rate=0.3, classifier__max_depth=10, classifier__min_samples_leaf=0.1, classifier__min_samples_split=0.5, classifier__n_estimators=2000, classifier__subsample=1, preprocessor__num__imputer__strategy=median, score=0.895, total=   7.0s\n",
      "[CV] classifier__learning_rate=0.3, classifier__max_depth=10, classifier__min_samples_leaf=0.3, classifier__min_samples_split=0.4, classifier__n_estimators=1000, classifier__subsample=0.9, preprocessor__num__imputer__strategy=mean \n",
      "[CV]  classifier__learning_rate=0.3, classifier__max_depth=10, classifier__min_samples_leaf=0.3, classifier__min_samples_split=0.4, classifier__n_estimators=1000, classifier__subsample=0.9, preprocessor__num__imputer__strategy=mean, score=0.817, total=   1.9s\n",
      "[CV] classifier__learning_rate=0.3, classifier__max_depth=10, classifier__min_samples_leaf=0.3, classifier__min_samples_split=0.4, classifier__n_estimators=1000, classifier__subsample=0.9, preprocessor__num__imputer__strategy=mean \n",
      "[CV]  classifier__learning_rate=0.3, classifier__max_depth=10, classifier__min_samples_leaf=0.3, classifier__min_samples_split=0.4, classifier__n_estimators=1000, classifier__subsample=0.9, preprocessor__num__imputer__strategy=mean, score=0.827, total=   1.9s\n",
      "[CV] classifier__learning_rate=0.3, classifier__max_depth=10, classifier__min_samples_leaf=0.3, classifier__min_samples_split=0.4, classifier__n_estimators=1000, classifier__subsample=0.9, preprocessor__num__imputer__strategy=mean \n",
      "[CV]  classifier__learning_rate=0.3, classifier__max_depth=10, classifier__min_samples_leaf=0.3, classifier__min_samples_split=0.4, classifier__n_estimators=1000, classifier__subsample=0.9, preprocessor__num__imputer__strategy=mean, score=0.833, total=   1.9s\n",
      "[CV] classifier__learning_rate=0.3, classifier__max_depth=10, classifier__min_samples_leaf=0.3, classifier__min_samples_split=0.4, classifier__n_estimators=1000, classifier__subsample=0.9, preprocessor__num__imputer__strategy=median \n",
      "[CV]  classifier__learning_rate=0.3, classifier__max_depth=10, classifier__min_samples_leaf=0.3, classifier__min_samples_split=0.4, classifier__n_estimators=1000, classifier__subsample=0.9, preprocessor__num__imputer__strategy=median, score=0.816, total=   1.9s\n",
      "[CV] classifier__learning_rate=0.3, classifier__max_depth=10, classifier__min_samples_leaf=0.3, classifier__min_samples_split=0.4, classifier__n_estimators=1000, classifier__subsample=0.9, preprocessor__num__imputer__strategy=median \n",
      "[CV]  classifier__learning_rate=0.3, classifier__max_depth=10, classifier__min_samples_leaf=0.3, classifier__min_samples_split=0.4, classifier__n_estimators=1000, classifier__subsample=0.9, preprocessor__num__imputer__strategy=median, score=0.826, total=   1.9s\n",
      "[CV] classifier__learning_rate=0.3, classifier__max_depth=10, classifier__min_samples_leaf=0.3, classifier__min_samples_split=0.4, classifier__n_estimators=1000, classifier__subsample=0.9, preprocessor__num__imputer__strategy=median \n",
      "[CV]  classifier__learning_rate=0.3, classifier__max_depth=10, classifier__min_samples_leaf=0.3, classifier__min_samples_split=0.4, classifier__n_estimators=1000, classifier__subsample=0.9, preprocessor__num__imputer__strategy=median, score=0.834, total=   1.9s\n",
      "[CV] classifier__learning_rate=0.3, classifier__max_depth=10, classifier__min_samples_leaf=0.3, classifier__min_samples_split=0.4, classifier__n_estimators=1000, classifier__subsample=1, preprocessor__num__imputer__strategy=mean \n",
      "[CV]  classifier__learning_rate=0.3, classifier__max_depth=10, classifier__min_samples_leaf=0.3, classifier__min_samples_split=0.4, classifier__n_estimators=1000, classifier__subsample=1, preprocessor__num__imputer__strategy=mean, score=0.828, total=   1.9s\n",
      "[CV] classifier__learning_rate=0.3, classifier__max_depth=10, classifier__min_samples_leaf=0.3, classifier__min_samples_split=0.4, classifier__n_estimators=1000, classifier__subsample=1, preprocessor__num__imputer__strategy=mean \n",
      "[CV]  classifier__learning_rate=0.3, classifier__max_depth=10, classifier__min_samples_leaf=0.3, classifier__min_samples_split=0.4, classifier__n_estimators=1000, classifier__subsample=1, preprocessor__num__imputer__strategy=mean, score=0.831, total=   1.8s\n",
      "[CV] classifier__learning_rate=0.3, classifier__max_depth=10, classifier__min_samples_leaf=0.3, classifier__min_samples_split=0.4, classifier__n_estimators=1000, classifier__subsample=1, preprocessor__num__imputer__strategy=mean \n",
      "[CV]  classifier__learning_rate=0.3, classifier__max_depth=10, classifier__min_samples_leaf=0.3, classifier__min_samples_split=0.4, classifier__n_estimators=1000, classifier__subsample=1, preprocessor__num__imputer__strategy=mean, score=0.839, total=   1.9s\n",
      "[CV] classifier__learning_rate=0.3, classifier__max_depth=10, classifier__min_samples_leaf=0.3, classifier__min_samples_split=0.4, classifier__n_estimators=1000, classifier__subsample=1, preprocessor__num__imputer__strategy=median \n",
      "[CV]  classifier__learning_rate=0.3, classifier__max_depth=10, classifier__min_samples_leaf=0.3, classifier__min_samples_split=0.4, classifier__n_estimators=1000, classifier__subsample=1, preprocessor__num__imputer__strategy=median, score=0.828, total=   2.1s\n",
      "[CV] classifier__learning_rate=0.3, classifier__max_depth=10, classifier__min_samples_leaf=0.3, classifier__min_samples_split=0.4, classifier__n_estimators=1000, classifier__subsample=1, preprocessor__num__imputer__strategy=median \n",
      "[CV]  classifier__learning_rate=0.3, classifier__max_depth=10, classifier__min_samples_leaf=0.3, classifier__min_samples_split=0.4, classifier__n_estimators=1000, classifier__subsample=1, preprocessor__num__imputer__strategy=median, score=0.831, total=   1.8s\n",
      "[CV] classifier__learning_rate=0.3, classifier__max_depth=10, classifier__min_samples_leaf=0.3, classifier__min_samples_split=0.4, classifier__n_estimators=1000, classifier__subsample=1, preprocessor__num__imputer__strategy=median \n",
      "[CV]  classifier__learning_rate=0.3, classifier__max_depth=10, classifier__min_samples_leaf=0.3, classifier__min_samples_split=0.4, classifier__n_estimators=1000, classifier__subsample=1, preprocessor__num__imputer__strategy=median, score=0.839, total=   2.0s\n",
      "[CV] classifier__learning_rate=0.3, classifier__max_depth=10, classifier__min_samples_leaf=0.3, classifier__min_samples_split=0.4, classifier__n_estimators=2000, classifier__subsample=0.9, preprocessor__num__imputer__strategy=mean \n",
      "[CV]  classifier__learning_rate=0.3, classifier__max_depth=10, classifier__min_samples_leaf=0.3, classifier__min_samples_split=0.4, classifier__n_estimators=2000, classifier__subsample=0.9, preprocessor__num__imputer__strategy=mean, score=0.821, total=   3.7s\n",
      "[CV] classifier__learning_rate=0.3, classifier__max_depth=10, classifier__min_samples_leaf=0.3, classifier__min_samples_split=0.4, classifier__n_estimators=2000, classifier__subsample=0.9, preprocessor__num__imputer__strategy=mean \n",
      "[CV]  classifier__learning_rate=0.3, classifier__max_depth=10, classifier__min_samples_leaf=0.3, classifier__min_samples_split=0.4, classifier__n_estimators=2000, classifier__subsample=0.9, preprocessor__num__imputer__strategy=mean, score=0.830, total=   3.8s\n",
      "[CV] classifier__learning_rate=0.3, classifier__max_depth=10, classifier__min_samples_leaf=0.3, classifier__min_samples_split=0.4, classifier__n_estimators=2000, classifier__subsample=0.9, preprocessor__num__imputer__strategy=mean \n",
      "[CV]  classifier__learning_rate=0.3, classifier__max_depth=10, classifier__min_samples_leaf=0.3, classifier__min_samples_split=0.4, classifier__n_estimators=2000, classifier__subsample=0.9, preprocessor__num__imputer__strategy=mean, score=0.838, total=   3.8s\n",
      "[CV] classifier__learning_rate=0.3, classifier__max_depth=10, classifier__min_samples_leaf=0.3, classifier__min_samples_split=0.4, classifier__n_estimators=2000, classifier__subsample=0.9, preprocessor__num__imputer__strategy=median \n",
      "[CV]  classifier__learning_rate=0.3, classifier__max_depth=10, classifier__min_samples_leaf=0.3, classifier__min_samples_split=0.4, classifier__n_estimators=2000, classifier__subsample=0.9, preprocessor__num__imputer__strategy=median, score=0.820, total=   4.1s\n",
      "[CV] classifier__learning_rate=0.3, classifier__max_depth=10, classifier__min_samples_leaf=0.3, classifier__min_samples_split=0.4, classifier__n_estimators=2000, classifier__subsample=0.9, preprocessor__num__imputer__strategy=median \n",
      "[CV]  classifier__learning_rate=0.3, classifier__max_depth=10, classifier__min_samples_leaf=0.3, classifier__min_samples_split=0.4, classifier__n_estimators=2000, classifier__subsample=0.9, preprocessor__num__imputer__strategy=median, score=0.830, total=   3.8s\n",
      "[CV] classifier__learning_rate=0.3, classifier__max_depth=10, classifier__min_samples_leaf=0.3, classifier__min_samples_split=0.4, classifier__n_estimators=2000, classifier__subsample=0.9, preprocessor__num__imputer__strategy=median \n",
      "[CV]  classifier__learning_rate=0.3, classifier__max_depth=10, classifier__min_samples_leaf=0.3, classifier__min_samples_split=0.4, classifier__n_estimators=2000, classifier__subsample=0.9, preprocessor__num__imputer__strategy=median, score=0.839, total=   3.8s\n",
      "[CV] classifier__learning_rate=0.3, classifier__max_depth=10, classifier__min_samples_leaf=0.3, classifier__min_samples_split=0.4, classifier__n_estimators=2000, classifier__subsample=1, preprocessor__num__imputer__strategy=mean \n",
      "[CV]  classifier__learning_rate=0.3, classifier__max_depth=10, classifier__min_samples_leaf=0.3, classifier__min_samples_split=0.4, classifier__n_estimators=2000, classifier__subsample=1, preprocessor__num__imputer__strategy=mean, score=0.832, total=   3.7s\n",
      "[CV] classifier__learning_rate=0.3, classifier__max_depth=10, classifier__min_samples_leaf=0.3, classifier__min_samples_split=0.4, classifier__n_estimators=2000, classifier__subsample=1, preprocessor__num__imputer__strategy=mean \n",
      "[CV]  classifier__learning_rate=0.3, classifier__max_depth=10, classifier__min_samples_leaf=0.3, classifier__min_samples_split=0.4, classifier__n_estimators=2000, classifier__subsample=1, preprocessor__num__imputer__strategy=mean, score=0.835, total=   3.8s\n",
      "[CV] classifier__learning_rate=0.3, classifier__max_depth=10, classifier__min_samples_leaf=0.3, classifier__min_samples_split=0.4, classifier__n_estimators=2000, classifier__subsample=1, preprocessor__num__imputer__strategy=mean \n",
      "[CV]  classifier__learning_rate=0.3, classifier__max_depth=10, classifier__min_samples_leaf=0.3, classifier__min_samples_split=0.4, classifier__n_estimators=2000, classifier__subsample=1, preprocessor__num__imputer__strategy=mean, score=0.845, total=   3.7s\n",
      "[CV] classifier__learning_rate=0.3, classifier__max_depth=10, classifier__min_samples_leaf=0.3, classifier__min_samples_split=0.4, classifier__n_estimators=2000, classifier__subsample=1, preprocessor__num__imputer__strategy=median \n",
      "[CV]  classifier__learning_rate=0.3, classifier__max_depth=10, classifier__min_samples_leaf=0.3, classifier__min_samples_split=0.4, classifier__n_estimators=2000, classifier__subsample=1, preprocessor__num__imputer__strategy=median, score=0.832, total=   3.7s\n",
      "[CV] classifier__learning_rate=0.3, classifier__max_depth=10, classifier__min_samples_leaf=0.3, classifier__min_samples_split=0.4, classifier__n_estimators=2000, classifier__subsample=1, preprocessor__num__imputer__strategy=median \n",
      "[CV]  classifier__learning_rate=0.3, classifier__max_depth=10, classifier__min_samples_leaf=0.3, classifier__min_samples_split=0.4, classifier__n_estimators=2000, classifier__subsample=1, preprocessor__num__imputer__strategy=median, score=0.835, total=   3.5s\n",
      "[CV] classifier__learning_rate=0.3, classifier__max_depth=10, classifier__min_samples_leaf=0.3, classifier__min_samples_split=0.4, classifier__n_estimators=2000, classifier__subsample=1, preprocessor__num__imputer__strategy=median \n",
      "[CV]  classifier__learning_rate=0.3, classifier__max_depth=10, classifier__min_samples_leaf=0.3, classifier__min_samples_split=0.4, classifier__n_estimators=2000, classifier__subsample=1, preprocessor__num__imputer__strategy=median, score=0.845, total=   3.7s\n",
      "[CV] classifier__learning_rate=0.3, classifier__max_depth=10, classifier__min_samples_leaf=0.3, classifier__min_samples_split=0.5, classifier__n_estimators=1000, classifier__subsample=0.9, preprocessor__num__imputer__strategy=mean \n",
      "[CV]  classifier__learning_rate=0.3, classifier__max_depth=10, classifier__min_samples_leaf=0.3, classifier__min_samples_split=0.5, classifier__n_estimators=1000, classifier__subsample=0.9, preprocessor__num__imputer__strategy=mean, score=0.816, total=   1.9s\n",
      "[CV] classifier__learning_rate=0.3, classifier__max_depth=10, classifier__min_samples_leaf=0.3, classifier__min_samples_split=0.5, classifier__n_estimators=1000, classifier__subsample=0.9, preprocessor__num__imputer__strategy=mean \n",
      "[CV]  classifier__learning_rate=0.3, classifier__max_depth=10, classifier__min_samples_leaf=0.3, classifier__min_samples_split=0.5, classifier__n_estimators=1000, classifier__subsample=0.9, preprocessor__num__imputer__strategy=mean, score=0.827, total=   2.0s\n",
      "[CV] classifier__learning_rate=0.3, classifier__max_depth=10, classifier__min_samples_leaf=0.3, classifier__min_samples_split=0.5, classifier__n_estimators=1000, classifier__subsample=0.9, preprocessor__num__imputer__strategy=mean \n",
      "[CV]  classifier__learning_rate=0.3, classifier__max_depth=10, classifier__min_samples_leaf=0.3, classifier__min_samples_split=0.5, classifier__n_estimators=1000, classifier__subsample=0.9, preprocessor__num__imputer__strategy=mean, score=0.834, total=   2.0s\n",
      "[CV] classifier__learning_rate=0.3, classifier__max_depth=10, classifier__min_samples_leaf=0.3, classifier__min_samples_split=0.5, classifier__n_estimators=1000, classifier__subsample=0.9, preprocessor__num__imputer__strategy=median \n",
      "[CV]  classifier__learning_rate=0.3, classifier__max_depth=10, classifier__min_samples_leaf=0.3, classifier__min_samples_split=0.5, classifier__n_estimators=1000, classifier__subsample=0.9, preprocessor__num__imputer__strategy=median, score=0.817, total=   1.9s\n",
      "[CV] classifier__learning_rate=0.3, classifier__max_depth=10, classifier__min_samples_leaf=0.3, classifier__min_samples_split=0.5, classifier__n_estimators=1000, classifier__subsample=0.9, preprocessor__num__imputer__strategy=median \n",
      "[CV]  classifier__learning_rate=0.3, classifier__max_depth=10, classifier__min_samples_leaf=0.3, classifier__min_samples_split=0.5, classifier__n_estimators=1000, classifier__subsample=0.9, preprocessor__num__imputer__strategy=median, score=0.827, total=   1.9s\n",
      "[CV] classifier__learning_rate=0.3, classifier__max_depth=10, classifier__min_samples_leaf=0.3, classifier__min_samples_split=0.5, classifier__n_estimators=1000, classifier__subsample=0.9, preprocessor__num__imputer__strategy=median \n",
      "[CV]  classifier__learning_rate=0.3, classifier__max_depth=10, classifier__min_samples_leaf=0.3, classifier__min_samples_split=0.5, classifier__n_estimators=1000, classifier__subsample=0.9, preprocessor__num__imputer__strategy=median, score=0.833, total=   1.8s\n",
      "[CV] classifier__learning_rate=0.3, classifier__max_depth=10, classifier__min_samples_leaf=0.3, classifier__min_samples_split=0.5, classifier__n_estimators=1000, classifier__subsample=1, preprocessor__num__imputer__strategy=mean \n",
      "[CV]  classifier__learning_rate=0.3, classifier__max_depth=10, classifier__min_samples_leaf=0.3, classifier__min_samples_split=0.5, classifier__n_estimators=1000, classifier__subsample=1, preprocessor__num__imputer__strategy=mean, score=0.828, total=   1.8s\n",
      "[CV] classifier__learning_rate=0.3, classifier__max_depth=10, classifier__min_samples_leaf=0.3, classifier__min_samples_split=0.5, classifier__n_estimators=1000, classifier__subsample=1, preprocessor__num__imputer__strategy=mean \n",
      "[CV]  classifier__learning_rate=0.3, classifier__max_depth=10, classifier__min_samples_leaf=0.3, classifier__min_samples_split=0.5, classifier__n_estimators=1000, classifier__subsample=1, preprocessor__num__imputer__strategy=mean, score=0.831, total=   2.0s\n",
      "[CV] classifier__learning_rate=0.3, classifier__max_depth=10, classifier__min_samples_leaf=0.3, classifier__min_samples_split=0.5, classifier__n_estimators=1000, classifier__subsample=1, preprocessor__num__imputer__strategy=mean \n",
      "[CV]  classifier__learning_rate=0.3, classifier__max_depth=10, classifier__min_samples_leaf=0.3, classifier__min_samples_split=0.5, classifier__n_estimators=1000, classifier__subsample=1, preprocessor__num__imputer__strategy=mean, score=0.839, total=   2.0s\n",
      "[CV] classifier__learning_rate=0.3, classifier__max_depth=10, classifier__min_samples_leaf=0.3, classifier__min_samples_split=0.5, classifier__n_estimators=1000, classifier__subsample=1, preprocessor__num__imputer__strategy=median \n",
      "[CV]  classifier__learning_rate=0.3, classifier__max_depth=10, classifier__min_samples_leaf=0.3, classifier__min_samples_split=0.5, classifier__n_estimators=1000, classifier__subsample=1, preprocessor__num__imputer__strategy=median, score=0.828, total=   2.1s\n",
      "[CV] classifier__learning_rate=0.3, classifier__max_depth=10, classifier__min_samples_leaf=0.3, classifier__min_samples_split=0.5, classifier__n_estimators=1000, classifier__subsample=1, preprocessor__num__imputer__strategy=median \n",
      "[CV]  classifier__learning_rate=0.3, classifier__max_depth=10, classifier__min_samples_leaf=0.3, classifier__min_samples_split=0.5, classifier__n_estimators=1000, classifier__subsample=1, preprocessor__num__imputer__strategy=median, score=0.831, total=   1.9s\n",
      "[CV] classifier__learning_rate=0.3, classifier__max_depth=10, classifier__min_samples_leaf=0.3, classifier__min_samples_split=0.5, classifier__n_estimators=1000, classifier__subsample=1, preprocessor__num__imputer__strategy=median \n",
      "[CV]  classifier__learning_rate=0.3, classifier__max_depth=10, classifier__min_samples_leaf=0.3, classifier__min_samples_split=0.5, classifier__n_estimators=1000, classifier__subsample=1, preprocessor__num__imputer__strategy=median, score=0.839, total=   2.0s\n",
      "[CV] classifier__learning_rate=0.3, classifier__max_depth=10, classifier__min_samples_leaf=0.3, classifier__min_samples_split=0.5, classifier__n_estimators=2000, classifier__subsample=0.9, preprocessor__num__imputer__strategy=mean \n",
      "[CV]  classifier__learning_rate=0.3, classifier__max_depth=10, classifier__min_samples_leaf=0.3, classifier__min_samples_split=0.5, classifier__n_estimators=2000, classifier__subsample=0.9, preprocessor__num__imputer__strategy=mean, score=0.821, total=   3.7s\n",
      "[CV] classifier__learning_rate=0.3, classifier__max_depth=10, classifier__min_samples_leaf=0.3, classifier__min_samples_split=0.5, classifier__n_estimators=2000, classifier__subsample=0.9, preprocessor__num__imputer__strategy=mean \n",
      "[CV]  classifier__learning_rate=0.3, classifier__max_depth=10, classifier__min_samples_leaf=0.3, classifier__min_samples_split=0.5, classifier__n_estimators=2000, classifier__subsample=0.9, preprocessor__num__imputer__strategy=mean, score=0.830, total=   3.8s\n",
      "[CV] classifier__learning_rate=0.3, classifier__max_depth=10, classifier__min_samples_leaf=0.3, classifier__min_samples_split=0.5, classifier__n_estimators=2000, classifier__subsample=0.9, preprocessor__num__imputer__strategy=mean \n",
      "[CV]  classifier__learning_rate=0.3, classifier__max_depth=10, classifier__min_samples_leaf=0.3, classifier__min_samples_split=0.5, classifier__n_estimators=2000, classifier__subsample=0.9, preprocessor__num__imputer__strategy=mean, score=0.837, total=   3.9s\n",
      "[CV] classifier__learning_rate=0.3, classifier__max_depth=10, classifier__min_samples_leaf=0.3, classifier__min_samples_split=0.5, classifier__n_estimators=2000, classifier__subsample=0.9, preprocessor__num__imputer__strategy=median \n",
      "[CV]  classifier__learning_rate=0.3, classifier__max_depth=10, classifier__min_samples_leaf=0.3, classifier__min_samples_split=0.5, classifier__n_estimators=2000, classifier__subsample=0.9, preprocessor__num__imputer__strategy=median, score=0.821, total=   3.7s\n",
      "[CV] classifier__learning_rate=0.3, classifier__max_depth=10, classifier__min_samples_leaf=0.3, classifier__min_samples_split=0.5, classifier__n_estimators=2000, classifier__subsample=0.9, preprocessor__num__imputer__strategy=median \n",
      "[CV]  classifier__learning_rate=0.3, classifier__max_depth=10, classifier__min_samples_leaf=0.3, classifier__min_samples_split=0.5, classifier__n_estimators=2000, classifier__subsample=0.9, preprocessor__num__imputer__strategy=median, score=0.832, total=   3.7s\n",
      "[CV] classifier__learning_rate=0.3, classifier__max_depth=10, classifier__min_samples_leaf=0.3, classifier__min_samples_split=0.5, classifier__n_estimators=2000, classifier__subsample=0.9, preprocessor__num__imputer__strategy=median \n",
      "[CV]  classifier__learning_rate=0.3, classifier__max_depth=10, classifier__min_samples_leaf=0.3, classifier__min_samples_split=0.5, classifier__n_estimators=2000, classifier__subsample=0.9, preprocessor__num__imputer__strategy=median, score=0.838, total=   3.9s\n",
      "[CV] classifier__learning_rate=0.3, classifier__max_depth=10, classifier__min_samples_leaf=0.3, classifier__min_samples_split=0.5, classifier__n_estimators=2000, classifier__subsample=1, preprocessor__num__imputer__strategy=mean \n",
      "[CV]  classifier__learning_rate=0.3, classifier__max_depth=10, classifier__min_samples_leaf=0.3, classifier__min_samples_split=0.5, classifier__n_estimators=2000, classifier__subsample=1, preprocessor__num__imputer__strategy=mean, score=0.832, total=   3.9s\n",
      "[CV] classifier__learning_rate=0.3, classifier__max_depth=10, classifier__min_samples_leaf=0.3, classifier__min_samples_split=0.5, classifier__n_estimators=2000, classifier__subsample=1, preprocessor__num__imputer__strategy=mean \n",
      "[CV]  classifier__learning_rate=0.3, classifier__max_depth=10, classifier__min_samples_leaf=0.3, classifier__min_samples_split=0.5, classifier__n_estimators=2000, classifier__subsample=1, preprocessor__num__imputer__strategy=mean, score=0.835, total=   3.6s\n",
      "[CV] classifier__learning_rate=0.3, classifier__max_depth=10, classifier__min_samples_leaf=0.3, classifier__min_samples_split=0.5, classifier__n_estimators=2000, classifier__subsample=1, preprocessor__num__imputer__strategy=mean \n",
      "[CV]  classifier__learning_rate=0.3, classifier__max_depth=10, classifier__min_samples_leaf=0.3, classifier__min_samples_split=0.5, classifier__n_estimators=2000, classifier__subsample=1, preprocessor__num__imputer__strategy=mean, score=0.845, total=   3.6s\n",
      "[CV] classifier__learning_rate=0.3, classifier__max_depth=10, classifier__min_samples_leaf=0.3, classifier__min_samples_split=0.5, classifier__n_estimators=2000, classifier__subsample=1, preprocessor__num__imputer__strategy=median \n",
      "[CV]  classifier__learning_rate=0.3, classifier__max_depth=10, classifier__min_samples_leaf=0.3, classifier__min_samples_split=0.5, classifier__n_estimators=2000, classifier__subsample=1, preprocessor__num__imputer__strategy=median, score=0.832, total=   3.7s\n",
      "[CV] classifier__learning_rate=0.3, classifier__max_depth=10, classifier__min_samples_leaf=0.3, classifier__min_samples_split=0.5, classifier__n_estimators=2000, classifier__subsample=1, preprocessor__num__imputer__strategy=median \n",
      "[CV]  classifier__learning_rate=0.3, classifier__max_depth=10, classifier__min_samples_leaf=0.3, classifier__min_samples_split=0.5, classifier__n_estimators=2000, classifier__subsample=1, preprocessor__num__imputer__strategy=median, score=0.835, total=   3.5s\n",
      "[CV] classifier__learning_rate=0.3, classifier__max_depth=10, classifier__min_samples_leaf=0.3, classifier__min_samples_split=0.5, classifier__n_estimators=2000, classifier__subsample=1, preprocessor__num__imputer__strategy=median \n",
      "[CV]  classifier__learning_rate=0.3, classifier__max_depth=10, classifier__min_samples_leaf=0.3, classifier__min_samples_split=0.5, classifier__n_estimators=2000, classifier__subsample=1, preprocessor__num__imputer__strategy=median, score=0.845, total=   3.6s\n"
     ]
    },
    {
     "name": "stderr",
     "output_type": "stream",
     "text": [
      "[Parallel(n_jobs=-1)]: Done 384 out of 384 | elapsed: 29.1min finished\n"
     ]
    },
    {
     "data": {
      "text/plain": [
       "GridSearchCV(cv=3, error_score='raise-deprecating',\n",
       "             estimator=Pipeline(memory=None,\n",
       "                                steps=[('preprocessor',\n",
       "                                        ColumnTransformer(n_jobs=None,\n",
       "                                                          remainder='drop',\n",
       "                                                          sparse_threshold=0.3,\n",
       "                                                          transformer_weights=None,\n",
       "                                                          transformers=[('num',\n",
       "                                                                         Pipeline(memory=None,\n",
       "                                                                                  steps=[('imputer',\n",
       "                                                                                          SimpleImputer(add_indicator=False,\n",
       "                                                                                                        copy=True,\n",
       "                                                                                                        fill_value=None,\n",
       "                                                                                                        missing_values=nan,\n",
       "                                                                                                        strategy='medi...\n",
       "             param_grid={'classifier__learning_rate': [0.2, 0.3],\n",
       "                         'classifier__max_depth': [9, 10],\n",
       "                         'classifier__min_samples_leaf': [0.1, 0.3],\n",
       "                         'classifier__min_samples_split': [0.4, 0.5],\n",
       "                         'classifier__n_estimators': [1000, 2000],\n",
       "                         'classifier__subsample': [0.9, 1],\n",
       "                         'preprocessor__num__imputer__strategy': ['mean',\n",
       "                                                                  'median']},\n",
       "             pre_dispatch='2*n_jobs', refit=True, return_train_score=False,\n",
       "             scoring='roc_auc', verbose=3)"
      ]
     },
     "execution_count": 43,
     "metadata": {},
     "output_type": "execute_result"
    }
   ],
   "source": [
    "pipe = Pipeline(steps=[('preprocessor', preprocessor),\n",
    "                     ('classifier', GradientBoostingClassifier())])\n",
    "\n",
    "\n",
    "\n",
    "param_grid =  {'preprocessor__num__imputer__strategy': ['mean', 'median'],\n",
    "               'classifier__learning_rate': [ 0.2, 0.3],\n",
    "               'classifier__subsample'    : [0.9, 1],\n",
    "               'classifier__n_estimators' : [1000,2000],\n",
    "               'classifier__max_depth'    : [9,10],\n",
    "               'classifier__min_samples_split': [0.4, 0.5],\n",
    "               'classifier__min_samples_leaf': [0.1, 0.3]\n",
    "                 }\n",
    "grid_gbc = GridSearchCV(pipe, param_grid, cv=3,scoring='roc_auc', n_jobs = -1,verbose=3)\n",
    "grid_gbc.fit(X_train, y_train)"
   ]
  },
  {
   "cell_type": "code",
   "execution_count": 44,
   "metadata": {
    "scrolled": true
   },
   "outputs": [
    {
     "data": {
      "text/plain": [
       "{'classifier__learning_rate': 0.3,\n",
       " 'classifier__max_depth': 9,\n",
       " 'classifier__min_samples_leaf': 0.1,\n",
       " 'classifier__min_samples_split': 0.5,\n",
       " 'classifier__n_estimators': 2000,\n",
       " 'classifier__subsample': 1,\n",
       " 'preprocessor__num__imputer__strategy': 'mean'}"
      ]
     },
     "execution_count": 44,
     "metadata": {},
     "output_type": "execute_result"
    }
   ],
   "source": [
    "grid_gbc.best_params_"
   ]
  },
  {
   "cell_type": "code",
   "execution_count": 45,
   "metadata": {
    "scrolled": true
   },
   "outputs": [
    {
     "data": {
      "text/plain": [
       "0.8944313057810722"
      ]
     },
     "execution_count": 45,
     "metadata": {},
     "output_type": "execute_result"
    }
   ],
   "source": [
    "grid_gbc.best_score_"
   ]
  },
  {
   "cell_type": "code",
   "execution_count": 46,
   "metadata": {},
   "outputs": [
    {
     "name": "stdout",
     "output_type": "stream",
     "text": [
      "roc_auc: 0.9181065739791453\n",
      "accuracy_score: 0.8644428672817601\n"
     ]
    }
   ],
   "source": [
    "GBC_predictions = grid_gbc.predict_proba(X_test)[:,1]\n",
    "\n",
    "print(\"roc_auc:\", roc_auc_score(y_test, GBC_predictions))\n",
    "print(\"accuracy_score:\", accuracy_score(y_test.values, grid_gbc.predict(X_test)))"
   ]
  },
  {
   "cell_type": "markdown",
   "metadata": {},
   "source": [
    "### CatBoost   <a id=\"cat\"> </a>"
   ]
  },
  {
   "cell_type": "code",
   "execution_count": 55,
   "metadata": {
    "scrolled": true
   },
   "outputs": [
    {
     "name": "stdout",
     "output_type": "stream",
     "text": [
      "Fitting 3 folds for each of 12 candidates, totalling 36 fits\n",
      "[CV] depth=5, iterations=500, leaf_estimation_iterations=10, learning_rate=0.1, logging_level=Silent, loss_function=Logloss \n"
     ]
    },
    {
     "name": "stderr",
     "output_type": "stream",
     "text": [
      "[Parallel(n_jobs=-1)]: Using backend SequentialBackend with 1 concurrent workers.\n"
     ]
    },
    {
     "name": "stdout",
     "output_type": "stream",
     "text": [
      "[CV]  depth=5, iterations=500, leaf_estimation_iterations=10, learning_rate=0.1, logging_level=Silent, loss_function=Logloss, score=0.907, total=  18.8s\n",
      "[CV] depth=5, iterations=500, leaf_estimation_iterations=10, learning_rate=0.1, logging_level=Silent, loss_function=Logloss \n"
     ]
    },
    {
     "name": "stderr",
     "output_type": "stream",
     "text": [
      "[Parallel(n_jobs=-1)]: Done   1 out of   1 | elapsed:   18.8s remaining:    0.0s\n"
     ]
    },
    {
     "name": "stdout",
     "output_type": "stream",
     "text": [
      "[CV]  depth=5, iterations=500, leaf_estimation_iterations=10, learning_rate=0.1, logging_level=Silent, loss_function=Logloss, score=0.903, total=  18.6s\n",
      "[CV] depth=5, iterations=500, leaf_estimation_iterations=10, learning_rate=0.1, logging_level=Silent, loss_function=Logloss \n"
     ]
    },
    {
     "name": "stderr",
     "output_type": "stream",
     "text": [
      "[Parallel(n_jobs=-1)]: Done   2 out of   2 | elapsed:   37.3s remaining:    0.0s\n"
     ]
    },
    {
     "name": "stdout",
     "output_type": "stream",
     "text": [
      "[CV]  depth=5, iterations=500, leaf_estimation_iterations=10, learning_rate=0.1, logging_level=Silent, loss_function=Logloss, score=0.914, total=  18.1s\n",
      "[CV] depth=5, iterations=500, leaf_estimation_iterations=10, learning_rate=0.1, logging_level=Silent, loss_function=CrossEntropy \n",
      "[CV]  depth=5, iterations=500, leaf_estimation_iterations=10, learning_rate=0.1, logging_level=Silent, loss_function=CrossEntropy, score=0.907, total=  19.3s\n",
      "[CV] depth=5, iterations=500, leaf_estimation_iterations=10, learning_rate=0.1, logging_level=Silent, loss_function=CrossEntropy \n",
      "[CV]  depth=5, iterations=500, leaf_estimation_iterations=10, learning_rate=0.1, logging_level=Silent, loss_function=CrossEntropy, score=0.903, total=  19.5s\n",
      "[CV] depth=5, iterations=500, leaf_estimation_iterations=10, learning_rate=0.1, logging_level=Silent, loss_function=CrossEntropy \n",
      "[CV]  depth=5, iterations=500, leaf_estimation_iterations=10, learning_rate=0.1, logging_level=Silent, loss_function=CrossEntropy, score=0.914, total=  18.8s\n",
      "[CV] depth=5, iterations=500, leaf_estimation_iterations=10, learning_rate=0.01, logging_level=Silent, loss_function=Logloss \n",
      "[CV]  depth=5, iterations=500, leaf_estimation_iterations=10, learning_rate=0.01, logging_level=Silent, loss_function=Logloss, score=0.863, total=  16.1s\n",
      "[CV] depth=5, iterations=500, leaf_estimation_iterations=10, learning_rate=0.01, logging_level=Silent, loss_function=Logloss \n",
      "[CV]  depth=5, iterations=500, leaf_estimation_iterations=10, learning_rate=0.01, logging_level=Silent, loss_function=Logloss, score=0.861, total=  16.0s\n",
      "[CV] depth=5, iterations=500, leaf_estimation_iterations=10, learning_rate=0.01, logging_level=Silent, loss_function=Logloss \n",
      "[CV]  depth=5, iterations=500, leaf_estimation_iterations=10, learning_rate=0.01, logging_level=Silent, loss_function=Logloss, score=0.870, total=  16.2s\n",
      "[CV] depth=5, iterations=500, leaf_estimation_iterations=10, learning_rate=0.01, logging_level=Silent, loss_function=CrossEntropy \n",
      "[CV]  depth=5, iterations=500, leaf_estimation_iterations=10, learning_rate=0.01, logging_level=Silent, loss_function=CrossEntropy, score=0.863, total=  16.1s\n",
      "[CV] depth=5, iterations=500, leaf_estimation_iterations=10, learning_rate=0.01, logging_level=Silent, loss_function=CrossEntropy \n",
      "[CV]  depth=5, iterations=500, leaf_estimation_iterations=10, learning_rate=0.01, logging_level=Silent, loss_function=CrossEntropy, score=0.861, total=  17.5s\n",
      "[CV] depth=5, iterations=500, leaf_estimation_iterations=10, learning_rate=0.01, logging_level=Silent, loss_function=CrossEntropy \n",
      "[CV]  depth=5, iterations=500, leaf_estimation_iterations=10, learning_rate=0.01, logging_level=Silent, loss_function=CrossEntropy, score=0.870, total=  16.1s\n",
      "[CV] depth=6, iterations=500, leaf_estimation_iterations=10, learning_rate=0.1, logging_level=Silent, loss_function=Logloss \n",
      "[CV]  depth=6, iterations=500, leaf_estimation_iterations=10, learning_rate=0.1, logging_level=Silent, loss_function=Logloss, score=0.903, total=  21.9s\n",
      "[CV] depth=6, iterations=500, leaf_estimation_iterations=10, learning_rate=0.1, logging_level=Silent, loss_function=Logloss \n",
      "[CV]  depth=6, iterations=500, leaf_estimation_iterations=10, learning_rate=0.1, logging_level=Silent, loss_function=Logloss, score=0.897, total=  21.3s\n",
      "[CV] depth=6, iterations=500, leaf_estimation_iterations=10, learning_rate=0.1, logging_level=Silent, loss_function=Logloss \n",
      "[CV]  depth=6, iterations=500, leaf_estimation_iterations=10, learning_rate=0.1, logging_level=Silent, loss_function=Logloss, score=0.908, total=  21.1s\n",
      "[CV] depth=6, iterations=500, leaf_estimation_iterations=10, learning_rate=0.1, logging_level=Silent, loss_function=CrossEntropy \n",
      "[CV]  depth=6, iterations=500, leaf_estimation_iterations=10, learning_rate=0.1, logging_level=Silent, loss_function=CrossEntropy, score=0.903, total=  22.0s\n",
      "[CV] depth=6, iterations=500, leaf_estimation_iterations=10, learning_rate=0.1, logging_level=Silent, loss_function=CrossEntropy \n",
      "[CV]  depth=6, iterations=500, leaf_estimation_iterations=10, learning_rate=0.1, logging_level=Silent, loss_function=CrossEntropy, score=0.897, total=  23.0s\n",
      "[CV] depth=6, iterations=500, leaf_estimation_iterations=10, learning_rate=0.1, logging_level=Silent, loss_function=CrossEntropy \n",
      "[CV]  depth=6, iterations=500, leaf_estimation_iterations=10, learning_rate=0.1, logging_level=Silent, loss_function=CrossEntropy, score=0.908, total=  21.8s\n",
      "[CV] depth=6, iterations=500, leaf_estimation_iterations=10, learning_rate=0.01, logging_level=Silent, loss_function=Logloss \n",
      "[CV]  depth=6, iterations=500, leaf_estimation_iterations=10, learning_rate=0.01, logging_level=Silent, loss_function=Logloss, score=0.862, total=  19.6s\n",
      "[CV] depth=6, iterations=500, leaf_estimation_iterations=10, learning_rate=0.01, logging_level=Silent, loss_function=Logloss \n",
      "[CV]  depth=6, iterations=500, leaf_estimation_iterations=10, learning_rate=0.01, logging_level=Silent, loss_function=Logloss, score=0.862, total=  18.8s\n",
      "[CV] depth=6, iterations=500, leaf_estimation_iterations=10, learning_rate=0.01, logging_level=Silent, loss_function=Logloss \n",
      "[CV]  depth=6, iterations=500, leaf_estimation_iterations=10, learning_rate=0.01, logging_level=Silent, loss_function=Logloss, score=0.871, total=  18.5s\n",
      "[CV] depth=6, iterations=500, leaf_estimation_iterations=10, learning_rate=0.01, logging_level=Silent, loss_function=CrossEntropy \n",
      "[CV]  depth=6, iterations=500, leaf_estimation_iterations=10, learning_rate=0.01, logging_level=Silent, loss_function=CrossEntropy, score=0.862, total=  18.8s\n",
      "[CV] depth=6, iterations=500, leaf_estimation_iterations=10, learning_rate=0.01, logging_level=Silent, loss_function=CrossEntropy \n",
      "[CV]  depth=6, iterations=500, leaf_estimation_iterations=10, learning_rate=0.01, logging_level=Silent, loss_function=CrossEntropy, score=0.862, total=  20.5s\n",
      "[CV] depth=6, iterations=500, leaf_estimation_iterations=10, learning_rate=0.01, logging_level=Silent, loss_function=CrossEntropy \n",
      "[CV]  depth=6, iterations=500, leaf_estimation_iterations=10, learning_rate=0.01, logging_level=Silent, loss_function=CrossEntropy, score=0.871, total=  19.2s\n",
      "[CV] depth=7, iterations=500, leaf_estimation_iterations=10, learning_rate=0.1, logging_level=Silent, loss_function=Logloss \n",
      "[CV]  depth=7, iterations=500, leaf_estimation_iterations=10, learning_rate=0.1, logging_level=Silent, loss_function=Logloss, score=0.897, total=  26.5s\n",
      "[CV] depth=7, iterations=500, leaf_estimation_iterations=10, learning_rate=0.1, logging_level=Silent, loss_function=Logloss \n",
      "[CV]  depth=7, iterations=500, leaf_estimation_iterations=10, learning_rate=0.1, logging_level=Silent, loss_function=Logloss, score=0.894, total=  26.1s\n",
      "[CV] depth=7, iterations=500, leaf_estimation_iterations=10, learning_rate=0.1, logging_level=Silent, loss_function=Logloss \n",
      "[CV]  depth=7, iterations=500, leaf_estimation_iterations=10, learning_rate=0.1, logging_level=Silent, loss_function=Logloss, score=0.902, total=  26.7s\n",
      "[CV] depth=7, iterations=500, leaf_estimation_iterations=10, learning_rate=0.1, logging_level=Silent, loss_function=CrossEntropy \n",
      "[CV]  depth=7, iterations=500, leaf_estimation_iterations=10, learning_rate=0.1, logging_level=Silent, loss_function=CrossEntropy, score=0.897, total=  27.8s\n",
      "[CV] depth=7, iterations=500, leaf_estimation_iterations=10, learning_rate=0.1, logging_level=Silent, loss_function=CrossEntropy \n",
      "[CV]  depth=7, iterations=500, leaf_estimation_iterations=10, learning_rate=0.1, logging_level=Silent, loss_function=CrossEntropy, score=0.894, total=  27.0s\n",
      "[CV] depth=7, iterations=500, leaf_estimation_iterations=10, learning_rate=0.1, logging_level=Silent, loss_function=CrossEntropy \n",
      "[CV]  depth=7, iterations=500, leaf_estimation_iterations=10, learning_rate=0.1, logging_level=Silent, loss_function=CrossEntropy, score=0.902, total=  25.3s\n",
      "[CV] depth=7, iterations=500, leaf_estimation_iterations=10, learning_rate=0.01, logging_level=Silent, loss_function=Logloss \n",
      "[CV]  depth=7, iterations=500, leaf_estimation_iterations=10, learning_rate=0.01, logging_level=Silent, loss_function=Logloss, score=0.864, total=  21.0s\n",
      "[CV] depth=7, iterations=500, leaf_estimation_iterations=10, learning_rate=0.01, logging_level=Silent, loss_function=Logloss \n",
      "[CV]  depth=7, iterations=500, leaf_estimation_iterations=10, learning_rate=0.01, logging_level=Silent, loss_function=Logloss, score=0.861, total=  22.4s\n",
      "[CV] depth=7, iterations=500, leaf_estimation_iterations=10, learning_rate=0.01, logging_level=Silent, loss_function=Logloss \n",
      "[CV]  depth=7, iterations=500, leaf_estimation_iterations=10, learning_rate=0.01, logging_level=Silent, loss_function=Logloss, score=0.872, total=  23.2s\n",
      "[CV] depth=7, iterations=500, leaf_estimation_iterations=10, learning_rate=0.01, logging_level=Silent, loss_function=CrossEntropy \n",
      "[CV]  depth=7, iterations=500, leaf_estimation_iterations=10, learning_rate=0.01, logging_level=Silent, loss_function=CrossEntropy, score=0.864, total=  23.3s\n",
      "[CV] depth=7, iterations=500, leaf_estimation_iterations=10, learning_rate=0.01, logging_level=Silent, loss_function=CrossEntropy \n",
      "[CV]  depth=7, iterations=500, leaf_estimation_iterations=10, learning_rate=0.01, logging_level=Silent, loss_function=CrossEntropy, score=0.861, total=  22.5s\n",
      "[CV] depth=7, iterations=500, leaf_estimation_iterations=10, learning_rate=0.01, logging_level=Silent, loss_function=CrossEntropy \n",
      "[CV]  depth=7, iterations=500, leaf_estimation_iterations=10, learning_rate=0.01, logging_level=Silent, loss_function=CrossEntropy, score=0.872, total=  21.5s\n"
     ]
    },
    {
     "name": "stderr",
     "output_type": "stream",
     "text": [
      "[Parallel(n_jobs=-1)]: Done  36 out of  36 | elapsed: 12.5min finished\n"
     ]
    },
    {
     "data": {
      "text/plain": [
       "GridSearchCV(cv=3, error_score='raise-deprecating',\n",
       "             estimator=<catboost.core.CatBoostClassifier object at 0x7f3d374dc910>,\n",
       "             iid='warn', n_jobs=-1,\n",
       "             param_grid={'depth': [5, 6, 7], 'iterations': [500],\n",
       "                         'leaf_estimation_iterations': [10],\n",
       "                         'learning_rate': [0.1, 0.01],\n",
       "                         'logging_level': ['Silent'],\n",
       "                         'loss_function': ['Logloss', 'CrossEntropy']},\n",
       "             pre_dispatch='2*n_jobs', refit=True, return_train_score=False,\n",
       "             scoring='roc_auc', verbose=3)"
      ]
     },
     "execution_count": 55,
     "metadata": {},
     "output_type": "execute_result"
    }
   ],
   "source": [
    "\n",
    "model_cat = CatBoostClassifier(random_seed=12345) \n",
    "scaler = StandardScaler().fit(X_train[numeric_features])\n",
    "X_train[numeric_features]=scaler.transform(X_train[numeric_features])\n",
    "X_test[numeric_features]=scaler.transform(X_test[numeric_features])\n",
    "params = {'iterations': [500],\n",
    "          'depth': [5,6,7],\n",
    "          'loss_function': ['Logloss', 'CrossEntropy'],\n",
    "          'leaf_estimation_iterations': [10],\n",
    "          'logging_level':['Silent'],\n",
    "          'learning_rate': [0.1, 0.01]\n",
    "         }\n",
    "\n",
    "grid_cat = GridSearchCV(model_cat, params, cv=3, scoring='roc_auc', n_jobs = -1,verbose=3)\n",
    "grid_cat.fit(X_train, y_train, cat_features=categorical_features)"
   ]
  },
  {
   "cell_type": "code",
   "execution_count": 56,
   "metadata": {},
   "outputs": [
    {
     "data": {
      "text/plain": [
       "{'depth': 5,\n",
       " 'iterations': 500,\n",
       " 'leaf_estimation_iterations': 10,\n",
       " 'learning_rate': 0.1,\n",
       " 'logging_level': 'Silent',\n",
       " 'loss_function': 'Logloss'}"
      ]
     },
     "execution_count": 56,
     "metadata": {},
     "output_type": "execute_result"
    }
   ],
   "source": [
    "grid_cat.best_params_"
   ]
  },
  {
   "cell_type": "code",
   "execution_count": 57,
   "metadata": {},
   "outputs": [
    {
     "data": {
      "text/plain": [
       "0.907876574497611"
      ]
     },
     "execution_count": 57,
     "metadata": {},
     "output_type": "execute_result"
    }
   ],
   "source": [
    "grid_cat.best_score_"
   ]
  },
  {
   "cell_type": "code",
   "execution_count": 58,
   "metadata": {},
   "outputs": [
    {
     "name": "stdout",
     "output_type": "stream",
     "text": [
      "roc_auc: 0.9249068540421594\n",
      "accuracy_score: 0.8750887154009936\n"
     ]
    }
   ],
   "source": [
    "cat_predictions = grid_cat.predict_proba(X_test)[:,1]\n",
    "\n",
    "print(\"roc_auc:\", roc_auc_score(y_test, cat_predictions))\n",
    "print(\"accuracy_score:\", accuracy_score(y_test, grid_cat.predict(X_test)))"
   ]
  },
  {
   "cell_type": "markdown",
   "metadata": {},
   "source": [
    "## Анализ лучшей модели и выбор признаков<a id=  \"analize\"> </a>\n",
    "На основе метрики AUC-ROC и дополнительной метрики Accuracy лучшей моделью оказалась CatBoostClassifier. Попробуем убрать не важные в обучении признаки. \n",
    "\n",
    "Попробуем убрать и уточнения типа интернета"
   ]
  },
  {
   "cell_type": "code",
   "execution_count": 59,
   "metadata": {},
   "outputs": [],
   "source": [
    "X_train_copy =deepcopy(X_train)\n",
    "X_test_copy = deepcopy(X_test)"
   ]
  },
  {
   "cell_type": "code",
   "execution_count": 60,
   "metadata": {},
   "outputs": [
    {
     "name": "stdout",
     "output_type": "stream",
     "text": [
      "roc_auc: 0.9267322647595708\n",
      "accuracy_score: 0.8765081618168914\n"
     ]
    }
   ],
   "source": [
    "X_train.loc[X_train['InternetService']!= 'No', 'InternetService'] = 'Yes'\n",
    "X_test.loc[X_test['InternetService']!= 'No', 'InternetService'] = 'Yes'\n",
    "model_cat = CatBoostClassifier(random_seed=12345, depth=5,iterations=500,leaf_estimation_iterations=10,learning_rate= 0.1,logging_level='Silent',loss_function='Logloss') \n",
    "\n",
    "model_cat.fit(X_train, y_train, cat_features=categorical_features)\n",
    "\n",
    "cat_predictions = model_cat.predict_proba(X_test)[:,1]\n",
    "\n",
    "print(\"roc_auc:\", roc_auc_score(y_test, cat_predictions))\n",
    "print(\"accuracy_score:\", accuracy_score(y_test, model_cat.predict(X_test)))"
   ]
  },
  {
   "cell_type": "markdown",
   "metadata": {},
   "source": [
    "Показатели немного улучшились."
   ]
  },
  {
   "cell_type": "markdown",
   "metadata": {},
   "source": [
    "Попробуем убрать уточнение о типе сети в телефоне"
   ]
  },
  {
   "cell_type": "code",
   "execution_count": 61,
   "metadata": {},
   "outputs": [
    {
     "name": "stdout",
     "output_type": "stream",
     "text": [
      "roc_auc: 0.9217686479457879\n",
      "accuracy_score: 0.872249822569198\n"
     ]
    }
   ],
   "source": [
    "X_train.loc[X_train['MultipleLines']=='MultipleLines_No', 'MultipleLines'] = 'Yes'\n",
    "X_test.loc[X_test['MultipleLines']=='MultipleLines_No', 'MultipleLines'] = 'Yes'\n",
    "\n",
    "model_cat.fit(X_train, y_train, cat_features=categorical_features)\n",
    "\n",
    "cat_predictions = model_cat.predict_proba(X_test)[:,1]\n",
    "\n",
    "print(\"roc_auc:\", roc_auc_score(y_test, cat_predictions))\n",
    "print(\"accuracy_score:\", accuracy_score(y_test, model_cat.predict(X_test)))"
   ]
  },
  {
   "cell_type": "markdown",
   "metadata": {},
   "source": [
    "Показатели ухудшились, не меняем."
   ]
  },
  {
   "cell_type": "code",
   "execution_count": 62,
   "metadata": {},
   "outputs": [],
   "source": [
    "X_train['MultipleLines'] = X_train_copy['MultipleLines']\n",
    "X_test['MultipleLines'] = X_test_copy['MultipleLines']"
   ]
  },
  {
   "cell_type": "code",
   "execution_count": 63,
   "metadata": {
    "scrolled": false
   },
   "outputs": [
    {
     "data": {
      "text/html": [
       "<div>\n",
       "<style scoped>\n",
       "    .dataframe tbody tr th:only-of-type {\n",
       "        vertical-align: middle;\n",
       "    }\n",
       "\n",
       "    .dataframe tbody tr th {\n",
       "        vertical-align: top;\n",
       "    }\n",
       "\n",
       "    .dataframe thead th {\n",
       "        text-align: right;\n",
       "    }\n",
       "</style>\n",
       "<table border=\"1\" class=\"dataframe\">\n",
       "  <thead>\n",
       "    <tr style=\"text-align: right;\">\n",
       "      <th></th>\n",
       "      <th>feature_name</th>\n",
       "      <th>importance</th>\n",
       "    </tr>\n",
       "  </thead>\n",
       "  <tbody>\n",
       "    <tr>\n",
       "      <td>8</td>\n",
       "      <td>InternetService</td>\n",
       "      <td>0.517634</td>\n",
       "    </tr>\n",
       "    <tr>\n",
       "      <td>7</td>\n",
       "      <td>Dependents</td>\n",
       "      <td>0.587406</td>\n",
       "    </tr>\n",
       "    <tr>\n",
       "      <td>11</td>\n",
       "      <td>DeviceProtection</td>\n",
       "      <td>0.632628</td>\n",
       "    </tr>\n",
       "    <tr>\n",
       "      <td>4</td>\n",
       "      <td>gender</td>\n",
       "      <td>0.784662</td>\n",
       "    </tr>\n",
       "    <tr>\n",
       "      <td>5</td>\n",
       "      <td>SeniorCitizen</td>\n",
       "      <td>0.806901</td>\n",
       "    </tr>\n",
       "    <tr>\n",
       "      <td>6</td>\n",
       "      <td>Partner</td>\n",
       "      <td>0.949790</td>\n",
       "    </tr>\n",
       "    <tr>\n",
       "      <td>14</td>\n",
       "      <td>StreamingMovies</td>\n",
       "      <td>0.958872</td>\n",
       "    </tr>\n",
       "    <tr>\n",
       "      <td>13</td>\n",
       "      <td>StreamingTV</td>\n",
       "      <td>1.065813</td>\n",
       "    </tr>\n",
       "    <tr>\n",
       "      <td>10</td>\n",
       "      <td>OnlineBackup</td>\n",
       "      <td>1.079126</td>\n",
       "    </tr>\n",
       "    <tr>\n",
       "      <td>15</td>\n",
       "      <td>MultipleLines</td>\n",
       "      <td>1.345469</td>\n",
       "    </tr>\n",
       "    <tr>\n",
       "      <td>1</td>\n",
       "      <td>PaperlessBilling</td>\n",
       "      <td>1.436029</td>\n",
       "    </tr>\n",
       "    <tr>\n",
       "      <td>9</td>\n",
       "      <td>OnlineSecurity</td>\n",
       "      <td>1.503779</td>\n",
       "    </tr>\n",
       "    <tr>\n",
       "      <td>12</td>\n",
       "      <td>TechSupport</td>\n",
       "      <td>1.633006</td>\n",
       "    </tr>\n",
       "    <tr>\n",
       "      <td>2</td>\n",
       "      <td>PaymentMethod</td>\n",
       "      <td>3.573540</td>\n",
       "    </tr>\n",
       "    <tr>\n",
       "      <td>0</td>\n",
       "      <td>Type</td>\n",
       "      <td>8.440255</td>\n",
       "    </tr>\n",
       "    <tr>\n",
       "      <td>3</td>\n",
       "      <td>MonthlyCharges</td>\n",
       "      <td>14.601045</td>\n",
       "    </tr>\n",
       "    <tr>\n",
       "      <td>16</td>\n",
       "      <td>ttl</td>\n",
       "      <td>60.084046</td>\n",
       "    </tr>\n",
       "  </tbody>\n",
       "</table>\n",
       "</div>"
      ],
      "text/plain": [
       "        feature_name  importance\n",
       "8    InternetService    0.517634\n",
       "7         Dependents    0.587406\n",
       "11  DeviceProtection    0.632628\n",
       "4             gender    0.784662\n",
       "5      SeniorCitizen    0.806901\n",
       "6            Partner    0.949790\n",
       "14   StreamingMovies    0.958872\n",
       "13       StreamingTV    1.065813\n",
       "10      OnlineBackup    1.079126\n",
       "15     MultipleLines    1.345469\n",
       "1   PaperlessBilling    1.436029\n",
       "9     OnlineSecurity    1.503779\n",
       "12       TechSupport    1.633006\n",
       "2      PaymentMethod    3.573540\n",
       "0               Type    8.440255\n",
       "3     MonthlyCharges   14.601045\n",
       "16               ttl   60.084046"
      ]
     },
     "execution_count": 63,
     "metadata": {},
     "output_type": "execute_result"
    }
   ],
   "source": [
    "f_imp = pd.DataFrame(zip(X_train.columns, model_cat.feature_importances_), columns=['feature_name', 'importance']).sort_values(by='importance')\n",
    "f_imp"
   ]
  },
  {
   "cell_type": "markdown",
   "metadata": {},
   "source": [
    "Будем удалять по одному признаку и смотреть на score"
   ]
  },
  {
   "cell_type": "code",
   "execution_count": 64,
   "metadata": {
    "scrolled": false
   },
   "outputs": [],
   "source": [
    "f_list = list(f_imp['feature_name'])\n",
    "col_list = list(f_imp['feature_name'])\n",
    "result = pd.DataFrame(columns=['Признаков', 'roc_auc', 'accuracy'])\n",
    "\n",
    "categorical_n = deepcopy(categorical_features)\n",
    "for el in f_list:\n",
    "    if len(col_list)!=1:\n",
    "        col_list.remove(el)\n",
    "        try:\n",
    "            categorical_n.remove(el)\n",
    "        except ValueError:\n",
    "            pass\n",
    "        model_cat.fit(X_train[col_list], y_train, cat_features=categorical_n)\n",
    "        cat_predictions = model_cat.predict_proba(X_test[col_list])[:,1]\n",
    "        cat_p = model_cat.predict(X_test[col_list])\n",
    "        result.loc[len(result)]=([len(col_list),roc_auc_score(y_test, cat_predictions),  accuracy_score(y_test, cat_p)])\n"
   ]
  },
  {
   "cell_type": "code",
   "execution_count": 65,
   "metadata": {},
   "outputs": [
    {
     "data": {
      "text/html": [
       "<style  type=\"text/css\" >\n",
       "    #T_196a6c3e_072d_11ec_8142_02420a394ae1row0_col0 {\n",
       "            background-color:  #0f880f;\n",
       "            color:  #f1f1f1;\n",
       "        }    #T_196a6c3e_072d_11ec_8142_02420a394ae1row0_col1 {\n",
       "            background-color:  #e5ffe5;\n",
       "            color:  #000000;\n",
       "        }    #T_196a6c3e_072d_11ec_8142_02420a394ae1row0_col2 {\n",
       "            background-color:  #d8f8d8;\n",
       "            color:  #000000;\n",
       "        }    #T_196a6c3e_072d_11ec_8142_02420a394ae1row1_col0 {\n",
       "            background-color:  #008000;\n",
       "            color:  #f1f1f1;\n",
       "        }    #T_196a6c3e_072d_11ec_8142_02420a394ae1row1_col1 {\n",
       "            background-color:  #daf9da;\n",
       "            color:  #000000;\n",
       "        }    #T_196a6c3e_072d_11ec_8142_02420a394ae1row1_col2 {\n",
       "            background-color:  #e5ffe5;\n",
       "            color:  #000000;\n",
       "        }    #T_196a6c3e_072d_11ec_8142_02420a394ae1row2_col0 {\n",
       "            background-color:  #2e992e;\n",
       "            color:  #000000;\n",
       "        }    #T_196a6c3e_072d_11ec_8142_02420a394ae1row2_col1 {\n",
       "            background-color:  #b8e6b8;\n",
       "            color:  #000000;\n",
       "        }    #T_196a6c3e_072d_11ec_8142_02420a394ae1row2_col2 {\n",
       "            background-color:  #caf0ca;\n",
       "            color:  #000000;\n",
       "        }    #T_196a6c3e_072d_11ec_8142_02420a394ae1row3_col0 {\n",
       "            background-color:  #3da23d;\n",
       "            color:  #000000;\n",
       "        }    #T_196a6c3e_072d_11ec_8142_02420a394ae1row3_col1 {\n",
       "            background-color:  #aee0ae;\n",
       "            color:  #000000;\n",
       "        }    #T_196a6c3e_072d_11ec_8142_02420a394ae1row3_col2 {\n",
       "            background-color:  #c3ecc3;\n",
       "            color:  #000000;\n",
       "        }    #T_196a6c3e_072d_11ec_8142_02420a394ae1row4_col0 {\n",
       "            background-color:  #99d599;\n",
       "            color:  #000000;\n",
       "        }    #T_196a6c3e_072d_11ec_8142_02420a394ae1row4_col1 {\n",
       "            background-color:  #aadeaa;\n",
       "            color:  #000000;\n",
       "        }    #T_196a6c3e_072d_11ec_8142_02420a394ae1row4_col2 {\n",
       "            background-color:  #70be70;\n",
       "            color:  #000000;\n",
       "        }    #T_196a6c3e_072d_11ec_8142_02420a394ae1row5_col0 {\n",
       "            background-color:  #7ac47a;\n",
       "            color:  #000000;\n",
       "        }    #T_196a6c3e_072d_11ec_8142_02420a394ae1row5_col1 {\n",
       "            background-color:  #9fd89f;\n",
       "            color:  #000000;\n",
       "        }    #T_196a6c3e_072d_11ec_8142_02420a394ae1row5_col2 {\n",
       "            background-color:  #a7dda7;\n",
       "            color:  #000000;\n",
       "        }    #T_196a6c3e_072d_11ec_8142_02420a394ae1row6_col0 {\n",
       "            background-color:  #1f911f;\n",
       "            color:  #000000;\n",
       "        }    #T_196a6c3e_072d_11ec_8142_02420a394ae1row6_col1 {\n",
       "            background-color:  #91d091;\n",
       "            color:  #000000;\n",
       "        }    #T_196a6c3e_072d_11ec_8142_02420a394ae1row6_col2 {\n",
       "            background-color:  #70be70;\n",
       "            color:  #000000;\n",
       "        }    #T_196a6c3e_072d_11ec_8142_02420a394ae1row7_col0 {\n",
       "            background-color:  #6bbb6b;\n",
       "            color:  #000000;\n",
       "        }    #T_196a6c3e_072d_11ec_8142_02420a394ae1row7_col1 {\n",
       "            background-color:  #91d091;\n",
       "            color:  #000000;\n",
       "        }    #T_196a6c3e_072d_11ec_8142_02420a394ae1row7_col2 {\n",
       "            background-color:  #84c984;\n",
       "            color:  #000000;\n",
       "        }    #T_196a6c3e_072d_11ec_8142_02420a394ae1row8_col0 {\n",
       "            background-color:  #a8dda8;\n",
       "            color:  #000000;\n",
       "        }    #T_196a6c3e_072d_11ec_8142_02420a394ae1row8_col1 {\n",
       "            background-color:  #85ca85;\n",
       "            color:  #000000;\n",
       "        }    #T_196a6c3e_072d_11ec_8142_02420a394ae1row8_col2 {\n",
       "            background-color:  #99d599;\n",
       "            color:  #000000;\n",
       "        }    #T_196a6c3e_072d_11ec_8142_02420a394ae1row9_col0 {\n",
       "            background-color:  #5cb35c;\n",
       "            color:  #000000;\n",
       "        }    #T_196a6c3e_072d_11ec_8142_02420a394ae1row9_col1 {\n",
       "            background-color:  #83c983;\n",
       "            color:  #000000;\n",
       "        }    #T_196a6c3e_072d_11ec_8142_02420a394ae1row9_col2 {\n",
       "            background-color:  #c3ecc3;\n",
       "            color:  #000000;\n",
       "        }    #T_196a6c3e_072d_11ec_8142_02420a394ae1row10_col0 {\n",
       "            background-color:  #4daa4d;\n",
       "            color:  #000000;\n",
       "        }    #T_196a6c3e_072d_11ec_8142_02420a394ae1row10_col1 {\n",
       "            background-color:  #78c278;\n",
       "            color:  #000000;\n",
       "        }    #T_196a6c3e_072d_11ec_8142_02420a394ae1row10_col2 {\n",
       "            background-color:  #5ab25a;\n",
       "            color:  #000000;\n",
       "        }    #T_196a6c3e_072d_11ec_8142_02420a394ae1row11_col0 {\n",
       "            background-color:  #8acc8a;\n",
       "            color:  #000000;\n",
       "        }    #T_196a6c3e_072d_11ec_8142_02420a394ae1row11_col1 {\n",
       "            background-color:  #4eab4e;\n",
       "            color:  #000000;\n",
       "        }    #T_196a6c3e_072d_11ec_8142_02420a394ae1row11_col2 {\n",
       "            background-color:  #76c176;\n",
       "            color:  #000000;\n",
       "        }    #T_196a6c3e_072d_11ec_8142_02420a394ae1row12_col0 {\n",
       "            background-color:  #e5ffe5;\n",
       "            color:  #000000;\n",
       "        }    #T_196a6c3e_072d_11ec_8142_02420a394ae1row12_col1 {\n",
       "            background-color:  #40a340;\n",
       "            color:  #000000;\n",
       "        }    #T_196a6c3e_072d_11ec_8142_02420a394ae1row12_col2 {\n",
       "            background-color:  #61b661;\n",
       "            color:  #000000;\n",
       "        }    #T_196a6c3e_072d_11ec_8142_02420a394ae1row13_col0 {\n",
       "            background-color:  #b8e6b8;\n",
       "            color:  #000000;\n",
       "        }    #T_196a6c3e_072d_11ec_8142_02420a394ae1row13_col1 {\n",
       "            background-color:  #339c33;\n",
       "            color:  #000000;\n",
       "        }    #T_196a6c3e_072d_11ec_8142_02420a394ae1row13_col2 {\n",
       "            background-color:  #76c176;\n",
       "            color:  #000000;\n",
       "        }    #T_196a6c3e_072d_11ec_8142_02420a394ae1row14_col0 {\n",
       "            background-color:  #d6f7d6;\n",
       "            color:  #000000;\n",
       "        }    #T_196a6c3e_072d_11ec_8142_02420a394ae1row14_col1 {\n",
       "            background-color:  #0d870d;\n",
       "            color:  #f1f1f1;\n",
       "        }    #T_196a6c3e_072d_11ec_8142_02420a394ae1row14_col2 {\n",
       "            background-color:  #008000;\n",
       "            color:  #f1f1f1;\n",
       "        }    #T_196a6c3e_072d_11ec_8142_02420a394ae1row15_col0 {\n",
       "            background-color:  #c7eec7;\n",
       "            color:  #000000;\n",
       "        }    #T_196a6c3e_072d_11ec_8142_02420a394ae1row15_col1 {\n",
       "            background-color:  #008000;\n",
       "            color:  #f1f1f1;\n",
       "        }    #T_196a6c3e_072d_11ec_8142_02420a394ae1row15_col2 {\n",
       "            background-color:  #61b661;\n",
       "            color:  #000000;\n",
       "        }</style><table id=\"T_196a6c3e_072d_11ec_8142_02420a394ae1\" ><thead>    <tr>        <th class=\"blank level0\" ></th>        <th class=\"col_heading level0 col0\" >Признаков</th>        <th class=\"col_heading level0 col1\" >roc_auc</th>        <th class=\"col_heading level0 col2\" >accuracy</th>    </tr></thead><tbody>\n",
       "                <tr>\n",
       "                        <th id=\"T_196a6c3e_072d_11ec_8142_02420a394ae1level0_row0\" class=\"row_heading level0 row0\" >1</th>\n",
       "                        <td id=\"T_196a6c3e_072d_11ec_8142_02420a394ae1row0_col0\" class=\"data row0 col0\" >15</td>\n",
       "                        <td id=\"T_196a6c3e_072d_11ec_8142_02420a394ae1row0_col1\" class=\"data row0 col1\" >0.923617</td>\n",
       "                        <td id=\"T_196a6c3e_072d_11ec_8142_02420a394ae1row0_col2\" class=\"data row0 col2\" >0.87296</td>\n",
       "            </tr>\n",
       "            <tr>\n",
       "                        <th id=\"T_196a6c3e_072d_11ec_8142_02420a394ae1level0_row1\" class=\"row_heading level0 row1\" >0</th>\n",
       "                        <td id=\"T_196a6c3e_072d_11ec_8142_02420a394ae1row1_col0\" class=\"data row1 col0\" >16</td>\n",
       "                        <td id=\"T_196a6c3e_072d_11ec_8142_02420a394ae1row1_col1\" class=\"data row1 col1\" >0.924377</td>\n",
       "                        <td id=\"T_196a6c3e_072d_11ec_8142_02420a394ae1row1_col2\" class=\"data row1 col2\" >0.87154</td>\n",
       "            </tr>\n",
       "            <tr>\n",
       "                        <th id=\"T_196a6c3e_072d_11ec_8142_02420a394ae1level0_row2\" class=\"row_heading level0 row2\" >3</th>\n",
       "                        <td id=\"T_196a6c3e_072d_11ec_8142_02420a394ae1row2_col0\" class=\"data row2 col0\" >13</td>\n",
       "                        <td id=\"T_196a6c3e_072d_11ec_8142_02420a394ae1row2_col1\" class=\"data row2 col1\" >0.926553</td>\n",
       "                        <td id=\"T_196a6c3e_072d_11ec_8142_02420a394ae1row2_col2\" class=\"data row2 col2\" >0.874379</td>\n",
       "            </tr>\n",
       "            <tr>\n",
       "                        <th id=\"T_196a6c3e_072d_11ec_8142_02420a394ae1level0_row3\" class=\"row_heading level0 row3\" >4</th>\n",
       "                        <td id=\"T_196a6c3e_072d_11ec_8142_02420a394ae1row3_col0\" class=\"data row3 col0\" >12</td>\n",
       "                        <td id=\"T_196a6c3e_072d_11ec_8142_02420a394ae1row3_col1\" class=\"data row3 col1\" >0.927152</td>\n",
       "                        <td id=\"T_196a6c3e_072d_11ec_8142_02420a394ae1row3_col2\" class=\"data row3 col2\" >0.875089</td>\n",
       "            </tr>\n",
       "            <tr>\n",
       "                        <th id=\"T_196a6c3e_072d_11ec_8142_02420a394ae1level0_row4\" class=\"row_heading level0 row4\" >10</th>\n",
       "                        <td id=\"T_196a6c3e_072d_11ec_8142_02420a394ae1row4_col0\" class=\"data row4 col0\" >6</td>\n",
       "                        <td id=\"T_196a6c3e_072d_11ec_8142_02420a394ae1row4_col1\" class=\"data row4 col1\" >0.927384</td>\n",
       "                        <td id=\"T_196a6c3e_072d_11ec_8142_02420a394ae1row4_col2\" class=\"data row4 col2\" >0.883605</td>\n",
       "            </tr>\n",
       "            <tr>\n",
       "                        <th id=\"T_196a6c3e_072d_11ec_8142_02420a394ae1level0_row5\" class=\"row_heading level0 row5\" >8</th>\n",
       "                        <td id=\"T_196a6c3e_072d_11ec_8142_02420a394ae1row5_col0\" class=\"data row5 col0\" >8</td>\n",
       "                        <td id=\"T_196a6c3e_072d_11ec_8142_02420a394ae1row5_col1\" class=\"data row5 col1\" >0.92809</td>\n",
       "                        <td id=\"T_196a6c3e_072d_11ec_8142_02420a394ae1row5_col2\" class=\"data row5 col2\" >0.877928</td>\n",
       "            </tr>\n",
       "            <tr>\n",
       "                        <th id=\"T_196a6c3e_072d_11ec_8142_02420a394ae1level0_row6\" class=\"row_heading level0 row6\" >2</th>\n",
       "                        <td id=\"T_196a6c3e_072d_11ec_8142_02420a394ae1row6_col0\" class=\"data row6 col0\" >14</td>\n",
       "                        <td id=\"T_196a6c3e_072d_11ec_8142_02420a394ae1row6_col1\" class=\"data row6 col1\" >0.928948</td>\n",
       "                        <td id=\"T_196a6c3e_072d_11ec_8142_02420a394ae1row6_col2\" class=\"data row6 col2\" >0.883605</td>\n",
       "            </tr>\n",
       "            <tr>\n",
       "                        <th id=\"T_196a6c3e_072d_11ec_8142_02420a394ae1level0_row7\" class=\"row_heading level0 row7\" >7</th>\n",
       "                        <td id=\"T_196a6c3e_072d_11ec_8142_02420a394ae1row7_col0\" class=\"data row7 col0\" >9</td>\n",
       "                        <td id=\"T_196a6c3e_072d_11ec_8142_02420a394ae1row7_col1\" class=\"data row7 col1\" >0.928959</td>\n",
       "                        <td id=\"T_196a6c3e_072d_11ec_8142_02420a394ae1row7_col2\" class=\"data row7 col2\" >0.881476</td>\n",
       "            </tr>\n",
       "            <tr>\n",
       "                        <th id=\"T_196a6c3e_072d_11ec_8142_02420a394ae1level0_row8\" class=\"row_heading level0 row8\" >11</th>\n",
       "                        <td id=\"T_196a6c3e_072d_11ec_8142_02420a394ae1row8_col0\" class=\"data row8 col0\" >5</td>\n",
       "                        <td id=\"T_196a6c3e_072d_11ec_8142_02420a394ae1row8_col1\" class=\"data row8 col1\" >0.929697</td>\n",
       "                        <td id=\"T_196a6c3e_072d_11ec_8142_02420a394ae1row8_col2\" class=\"data row8 col2\" >0.879347</td>\n",
       "            </tr>\n",
       "            <tr>\n",
       "                        <th id=\"T_196a6c3e_072d_11ec_8142_02420a394ae1level0_row9\" class=\"row_heading level0 row9\" >6</th>\n",
       "                        <td id=\"T_196a6c3e_072d_11ec_8142_02420a394ae1row9_col0\" class=\"data row9 col0\" >10</td>\n",
       "                        <td id=\"T_196a6c3e_072d_11ec_8142_02420a394ae1row9_col1\" class=\"data row9 col1\" >0.92981</td>\n",
       "                        <td id=\"T_196a6c3e_072d_11ec_8142_02420a394ae1row9_col2\" class=\"data row9 col2\" >0.875089</td>\n",
       "            </tr>\n",
       "            <tr>\n",
       "                        <th id=\"T_196a6c3e_072d_11ec_8142_02420a394ae1level0_row10\" class=\"row_heading level0 row10\" >5</th>\n",
       "                        <td id=\"T_196a6c3e_072d_11ec_8142_02420a394ae1row10_col0\" class=\"data row10 col0\" >11</td>\n",
       "                        <td id=\"T_196a6c3e_072d_11ec_8142_02420a394ae1row10_col1\" class=\"data row10 col1\" >0.930577</td>\n",
       "                        <td id=\"T_196a6c3e_072d_11ec_8142_02420a394ae1row10_col2\" class=\"data row10 col2\" >0.885735</td>\n",
       "            </tr>\n",
       "            <tr>\n",
       "                        <th id=\"T_196a6c3e_072d_11ec_8142_02420a394ae1level0_row11\" class=\"row_heading level0 row11\" >9</th>\n",
       "                        <td id=\"T_196a6c3e_072d_11ec_8142_02420a394ae1row11_col0\" class=\"data row11 col0\" >7</td>\n",
       "                        <td id=\"T_196a6c3e_072d_11ec_8142_02420a394ae1row11_col1\" class=\"data row11 col1\" >0.933186</td>\n",
       "                        <td id=\"T_196a6c3e_072d_11ec_8142_02420a394ae1row11_col2\" class=\"data row11 col2\" >0.882896</td>\n",
       "            </tr>\n",
       "            <tr>\n",
       "                        <th id=\"T_196a6c3e_072d_11ec_8142_02420a394ae1level0_row12\" class=\"row_heading level0 row12\" >15</th>\n",
       "                        <td id=\"T_196a6c3e_072d_11ec_8142_02420a394ae1row12_col0\" class=\"data row12 col0\" >1</td>\n",
       "                        <td id=\"T_196a6c3e_072d_11ec_8142_02420a394ae1row12_col1\" class=\"data row12 col1\" >0.934068</td>\n",
       "                        <td id=\"T_196a6c3e_072d_11ec_8142_02420a394ae1row12_col2\" class=\"data row12 col2\" >0.885025</td>\n",
       "            </tr>\n",
       "            <tr>\n",
       "                        <th id=\"T_196a6c3e_072d_11ec_8142_02420a394ae1level0_row13\" class=\"row_heading level0 row13\" >12</th>\n",
       "                        <td id=\"T_196a6c3e_072d_11ec_8142_02420a394ae1row13_col0\" class=\"data row13 col0\" >4</td>\n",
       "                        <td id=\"T_196a6c3e_072d_11ec_8142_02420a394ae1row13_col1\" class=\"data row13 col1\" >0.934874</td>\n",
       "                        <td id=\"T_196a6c3e_072d_11ec_8142_02420a394ae1row13_col2\" class=\"data row13 col2\" >0.882896</td>\n",
       "            </tr>\n",
       "            <tr>\n",
       "                        <th id=\"T_196a6c3e_072d_11ec_8142_02420a394ae1level0_row14\" class=\"row_heading level0 row14\" >14</th>\n",
       "                        <td id=\"T_196a6c3e_072d_11ec_8142_02420a394ae1row14_col0\" class=\"data row14 col0\" >2</td>\n",
       "                        <td id=\"T_196a6c3e_072d_11ec_8142_02420a394ae1row14_col1\" class=\"data row14 col1\" >0.937311</td>\n",
       "                        <td id=\"T_196a6c3e_072d_11ec_8142_02420a394ae1row14_col2\" class=\"data row14 col2\" >0.894961</td>\n",
       "            </tr>\n",
       "            <tr>\n",
       "                        <th id=\"T_196a6c3e_072d_11ec_8142_02420a394ae1level0_row15\" class=\"row_heading level0 row15\" >13</th>\n",
       "                        <td id=\"T_196a6c3e_072d_11ec_8142_02420a394ae1row15_col0\" class=\"data row15 col0\" >3</td>\n",
       "                        <td id=\"T_196a6c3e_072d_11ec_8142_02420a394ae1row15_col1\" class=\"data row15 col1\" >0.938114</td>\n",
       "                        <td id=\"T_196a6c3e_072d_11ec_8142_02420a394ae1row15_col2\" class=\"data row15 col2\" >0.885025</td>\n",
       "            </tr>\n",
       "    </tbody></table>"
      ],
      "text/plain": [
       "<pandas.io.formats.style.Styler at 0x7f3d3744e610>"
      ]
     },
     "execution_count": 65,
     "metadata": {},
     "output_type": "execute_result"
    }
   ],
   "source": [
    "result.sort_values(by='roc_auc').style.background_gradient(cmap=cm)"
   ]
  },
  {
   "cell_type": "markdown",
   "metadata": {},
   "source": [
    "Лучшая модель по критериям нашего проекта на 3 признаках. Посмотрим на другие метрики"
   ]
  },
  {
   "cell_type": "code",
   "execution_count": 66,
   "metadata": {},
   "outputs": [
    {
     "name": "stdout",
     "output_type": "stream",
     "text": [
      "recall_score: 0.9655172413793104\n",
      "precision_score: 0.8966148215919487\n"
     ]
    }
   ],
   "source": [
    "col_list = list(f_imp['feature_name'])\n",
    "categorical_n = deepcopy(categorical_features)\n",
    "\n",
    "for el in f_list:\n",
    "    if len(col_list)!=2:\n",
    "        col_list.remove(el)\n",
    "        try:\n",
    "            categorical_n.remove(el)\n",
    "        except ValueError:\n",
    "            pass\n",
    "      \n",
    "model_cat.fit(X_train[col_list], y_train, cat_features=categorical_n)\n",
    "cat_predictions = model_cat.predict_proba(X_test[col_list])[:,1]\n",
    "cat_p = model_cat.predict(X_test[col_list])\n",
    "\n",
    "\n",
    "print(\"recall_score:\",recall_score(y_test, cat_p))\n",
    "print(\"precision_score:\", precision_score(y_test, cat_p) )"
   ]
  },
  {
   "cell_type": "code",
   "execution_count": 67,
   "metadata": {},
   "outputs": [
    {
     "data": {
      "image/png": "[encoded data removed]",
      "text/plain": [
       "<Figure size 432x288 with 1 Axes>"
      ]
     },
     "metadata": {
      "needs_background": "light"
     },
     "output_type": "display_data"
    }
   ],
   "source": [
    "auc_roc = roc_auc_score(y_test, cat_predictions)\n",
    "\n",
    "probabilities_valid = model_cat.predict_proba(X_test[col_list])\n",
    "probabilities_one_valid = probabilities_valid[:, 1]\n",
    "\n",
    "\n",
    "fpr, tpr, thresholds = roc_curve(y_test, probabilities_one_valid)\n",
    "\n",
    "plt.figure()\n",
    "\n",
    "plt.plot([0, 1], [0, 1], linestyle='--')\n",
    "plt.plot(fpr, tpr)\n",
    "\n",
    "\n",
    "plt.xlim([0.0, 1.0])\n",
    "plt.ylim([0.0, 1.0])\n",
    "\n",
    "plt.xlabel('False Positive Rate')\n",
    "plt.ylabel('True Positive Rate')\n",
    "\n",
    "plt.title('График 1: ROC-кривая')\n",
    "plt.show()"
   ]
  },
  {
   "cell_type": "markdown",
   "metadata": {},
   "source": [
    "## Выводы <a id=\"con`clusion\"> </a>"
   ]
  },
  {
   "cell_type": "markdown",
   "metadata": {},
   "source": [
    "Наиболее точной по метрикам AUC-ROC и accuracy_score оказалась модель CatBoostClassifier. Убирая незначимые признаки можно еще ненамного увеличить значения этих метрик. При этом самой небольшой метрикой оказался precision_score: около 12% не собирающихся уходить получат промокод. recall же около 4% - столько уходящих недождутся своего промо.\n",
    "Чтобы получить лучший результат мы использовали всего 4 признака: ttl (время жизни клиента), MonthlyCharges, Type, PaymentMethod. Все они были получены из таблицы контракт."
   ]
  }
 ],
 "metadata": {
  "ExecuteTimeLog": [
   {
    "duration": 231,
    "start_time": "2021-08-17T10:57:30.202Z"
   },
   {
    "duration": 1295,
    "start_time": "2021-08-17T10:57:32.614Z"
   },
   {
    "duration": 103,
    "start_time": "2021-08-17T10:57:33.912Z"
   },
   {
    "duration": 98,
    "start_time": "2021-08-17T11:09:22.358Z"
   },
   {
    "duration": 12,
    "start_time": "2021-08-17T11:09:22.781Z"
   },
   {
    "duration": 12,
    "start_time": "2021-08-17T11:09:29.370Z"
   },
   {
    "duration": 11,
    "start_time": "2021-08-17T11:09:46.640Z"
   },
   {
    "duration": 14,
    "start_time": "2021-08-17T11:09:59.302Z"
   },
   {
    "duration": 1024,
    "start_time": "2021-08-18T20:19:21.348Z"
   },
   {
    "duration": 87,
    "start_time": "2021-08-18T20:19:22.374Z"
   },
   {
    "duration": 8,
    "start_time": "2021-08-18T20:19:22.463Z"
   },
   {
    "duration": 10,
    "start_time": "2021-08-18T20:19:22.473Z"
   },
   {
    "duration": 7,
    "start_time": "2021-08-18T20:19:22.485Z"
   },
   {
    "duration": 10,
    "start_time": "2021-08-18T20:19:22.494Z"
   },
   {
    "duration": 291,
    "start_time": "2021-08-19T20:02:08.824Z"
   },
   {
    "duration": 1097,
    "start_time": "2021-08-19T20:03:25.980Z"
   },
   {
    "duration": 177,
    "start_time": "2021-08-19T20:03:27.078Z"
   },
   {
    "duration": 10,
    "start_time": "2021-08-19T20:03:27.257Z"
   },
   {
    "duration": 10,
    "start_time": "2021-08-19T20:03:27.268Z"
   },
   {
    "duration": 12,
    "start_time": "2021-08-19T20:03:27.279Z"
   },
   {
    "duration": 9,
    "start_time": "2021-08-19T20:03:27.293Z"
   },
   {
    "duration": 381,
    "start_time": "2021-08-19T20:03:27.304Z"
   },
   {
    "duration": 165,
    "start_time": "2021-08-19T20:07:53.846Z"
   },
   {
    "duration": 8,
    "start_time": "2021-08-19T20:10:14.450Z"
   },
   {
    "duration": 6,
    "start_time": "2021-08-19T20:13:11.482Z"
   },
   {
    "duration": 270,
    "start_time": "2021-08-19T20:18:38.113Z"
   },
   {
    "duration": 1187,
    "start_time": "2021-08-20T12:04:20.276Z"
   },
   {
    "duration": 94,
    "start_time": "2021-08-20T12:04:21.465Z"
   },
   {
    "duration": 10,
    "start_time": "2021-08-20T12:04:21.561Z"
   },
   {
    "duration": 22,
    "start_time": "2021-08-20T12:04:21.573Z"
   },
   {
    "duration": 34,
    "start_time": "2021-08-20T12:04:21.597Z"
   },
   {
    "duration": 31,
    "start_time": "2021-08-20T12:04:21.633Z"
   },
   {
    "duration": 25,
    "start_time": "2021-08-20T12:04:21.666Z"
   },
   {
    "duration": 16,
    "start_time": "2021-08-20T12:04:21.693Z"
   },
   {
    "duration": 381,
    "start_time": "2021-08-20T12:04:21.710Z"
   },
   {
    "duration": 301,
    "start_time": "2021-08-20T12:04:39.194Z"
   },
   {
    "duration": 311,
    "start_time": "2021-08-20T12:05:31.455Z"
   },
   {
    "duration": 24,
    "start_time": "2021-08-20T12:06:21.334Z"
   },
   {
    "duration": 298,
    "start_time": "2021-08-20T12:08:49.895Z"
   },
   {
    "duration": 291,
    "start_time": "2021-08-20T12:36:46.633Z"
   },
   {
    "duration": 263,
    "start_time": "2021-08-20T12:37:13.754Z"
   },
   {
    "duration": 268,
    "start_time": "2021-08-20T12:37:27.383Z"
   },
   {
    "duration": 274,
    "start_time": "2021-08-20T12:42:06.287Z"
   },
   {
    "duration": 322,
    "start_time": "2021-08-20T12:42:16.586Z"
   },
   {
    "duration": 280,
    "start_time": "2021-08-20T12:42:59.206Z"
   },
   {
    "duration": 28,
    "start_time": "2021-08-20T12:44:34.027Z"
   },
   {
    "duration": 7830,
    "start_time": "2021-08-20T12:44:58.378Z"
   },
   {
    "duration": 15,
    "start_time": "2021-08-20T12:45:21.690Z"
   },
   {
    "duration": 23,
    "start_time": "2021-08-20T12:45:29.068Z"
   },
   {
    "duration": 301,
    "start_time": "2021-08-20T12:45:50.460Z"
   },
   {
    "duration": 253,
    "start_time": "2021-08-20T12:46:47.308Z"
   },
   {
    "duration": 8,
    "start_time": "2021-08-20T12:47:25.218Z"
   },
   {
    "duration": 16,
    "start_time": "2021-08-20T12:47:47.948Z"
   },
   {
    "duration": 18,
    "start_time": "2021-08-20T12:48:33.158Z"
   },
   {
    "duration": 12,
    "start_time": "2021-08-20T12:49:12.858Z"
   },
   {
    "duration": 11,
    "start_time": "2021-08-20T12:49:28.358Z"
   },
   {
    "duration": 11,
    "start_time": "2021-08-20T12:51:08.278Z"
   },
   {
    "duration": 11,
    "start_time": "2021-08-20T12:51:17.758Z"
   },
   {
    "duration": 194,
    "start_time": "2021-08-20T13:05:15.361Z"
   },
   {
    "duration": 292,
    "start_time": "2021-08-20T13:05:38.688Z"
   },
   {
    "duration": 9,
    "start_time": "2021-08-20T13:05:45.308Z"
   },
   {
    "duration": 163,
    "start_time": "2021-08-20T13:06:12.760Z"
   },
   {
    "duration": 183,
    "start_time": "2021-08-20T13:06:36.179Z"
   },
   {
    "duration": 714,
    "start_time": "2021-08-20T13:07:28.849Z"
   },
   {
    "duration": 372,
    "start_time": "2021-08-20T13:18:19.564Z"
   },
   {
    "duration": 292,
    "start_time": "2021-08-20T13:18:34.313Z"
   },
   {
    "duration": 184,
    "start_time": "2021-08-20T13:19:22.272Z"
   },
   {
    "duration": 180,
    "start_time": "2021-08-20T13:19:45.515Z"
   },
   {
    "duration": 11,
    "start_time": "2021-08-20T13:21:41.326Z"
   },
   {
    "duration": 267,
    "start_time": "2021-08-20T13:22:25.394Z"
   },
   {
    "duration": 26,
    "start_time": "2021-08-20T13:23:14.565Z"
   },
   {
    "duration": 7,
    "start_time": "2021-08-20T13:23:14.899Z"
   },
   {
    "duration": 188,
    "start_time": "2021-08-20T13:23:19.515Z"
   },
   {
    "duration": 6,
    "start_time": "2021-08-20T13:24:13.678Z"
   },
   {
    "duration": 19,
    "start_time": "2021-08-20T13:24:18.376Z"
   },
   {
    "duration": 7,
    "start_time": "2021-08-20T13:25:09.120Z"
   },
   {
    "duration": 26,
    "start_time": "2021-08-20T13:25:09.719Z"
   },
   {
    "duration": 178,
    "start_time": "2021-08-20T13:25:10.488Z"
   },
   {
    "duration": 16,
    "start_time": "2021-08-20T13:25:12.618Z"
   },
   {
    "duration": 12,
    "start_time": "2021-08-20T13:25:24.488Z"
   },
   {
    "duration": 16,
    "start_time": "2021-08-20T13:30:41.697Z"
   },
   {
    "duration": 259,
    "start_time": "2021-08-20T13:31:11.079Z"
   },
   {
    "duration": 94,
    "start_time": "2021-08-20T13:31:39.007Z"
   },
   {
    "duration": 17,
    "start_time": "2021-08-20T13:31:52.272Z"
   },
   {
    "duration": 20,
    "start_time": "2021-08-20T13:32:21.000Z"
   },
   {
    "duration": 9,
    "start_time": "2021-08-20T13:32:33.951Z"
   },
   {
    "duration": 435,
    "start_time": "2021-08-21T11:58:14.882Z"
   },
   {
    "duration": 1698,
    "start_time": "2021-08-21T11:58:29.782Z"
   },
   {
    "duration": 126,
    "start_time": "2021-08-21T11:58:31.483Z"
   },
   {
    "duration": 15,
    "start_time": "2021-08-21T11:58:31.612Z"
   },
   {
    "duration": 25,
    "start_time": "2021-08-21T11:58:31.631Z"
   },
   {
    "duration": 29,
    "start_time": "2021-08-21T11:58:31.659Z"
   },
   {
    "duration": 23,
    "start_time": "2021-08-21T11:58:31.691Z"
   },
   {
    "duration": 11,
    "start_time": "2021-08-21T11:58:31.718Z"
   },
   {
    "duration": 16,
    "start_time": "2021-08-21T11:58:31.732Z"
   },
   {
    "duration": 39,
    "start_time": "2021-08-21T11:58:31.786Z"
   },
   {
    "duration": 347,
    "start_time": "2021-08-21T11:58:31.829Z"
   },
   {
    "duration": 32,
    "start_time": "2021-08-21T11:58:32.179Z"
   },
   {
    "duration": 33,
    "start_time": "2021-08-21T11:58:32.214Z"
   },
   {
    "duration": 43,
    "start_time": "2021-08-21T11:58:32.250Z"
   },
   {
    "duration": 23,
    "start_time": "2021-08-21T11:58:32.296Z"
   },
   {
    "duration": 12,
    "start_time": "2021-08-21T11:58:46.947Z"
   },
   {
    "duration": 27,
    "start_time": "2021-08-21T11:58:54.264Z"
   },
   {
    "duration": 1080,
    "start_time": "2021-08-22T20:02:38.396Z"
   },
   {
    "duration": 91,
    "start_time": "2021-08-22T20:02:39.478Z"
   },
   {
    "duration": 9,
    "start_time": "2021-08-22T20:02:39.571Z"
   },
   {
    "duration": 10,
    "start_time": "2021-08-22T20:02:39.582Z"
   },
   {
    "duration": 9,
    "start_time": "2021-08-22T20:02:39.593Z"
   },
   {
    "duration": 12,
    "start_time": "2021-08-22T20:02:39.603Z"
   },
   {
    "duration": 6,
    "start_time": "2021-08-22T20:02:39.616Z"
   },
   {
    "duration": 6,
    "start_time": "2021-08-22T20:02:39.624Z"
   },
   {
    "duration": 20,
    "start_time": "2021-08-22T20:02:39.632Z"
   },
   {
    "duration": 189,
    "start_time": "2021-08-22T20:02:39.653Z"
   },
   {
    "duration": 14,
    "start_time": "2021-08-22T20:02:39.844Z"
   },
   {
    "duration": 15,
    "start_time": "2021-08-22T20:02:39.859Z"
   },
   {
    "duration": 11,
    "start_time": "2021-08-22T20:02:39.891Z"
   },
   {
    "duration": 11,
    "start_time": "2021-08-22T20:02:39.904Z"
   },
   {
    "duration": 149,
    "start_time": "2021-08-22T20:03:20.164Z"
   },
   {
    "duration": 139,
    "start_time": "2021-08-22T20:03:29.498Z"
   },
   {
    "duration": 153,
    "start_time": "2021-08-22T20:04:24.684Z"
   },
   {
    "duration": 11,
    "start_time": "2021-08-22T20:08:08.545Z"
   },
   {
    "duration": 33,
    "start_time": "2021-08-22T20:08:31.219Z"
   },
   {
    "duration": 97,
    "start_time": "2021-08-22T20:08:42.315Z"
   },
   {
    "duration": 35,
    "start_time": "2021-08-22T20:09:11.284Z"
   },
   {
    "duration": 34,
    "start_time": "2021-08-22T20:09:32.076Z"
   },
   {
    "duration": 36,
    "start_time": "2021-08-22T20:10:06.126Z"
   },
   {
    "duration": 152,
    "start_time": "2021-08-22T20:10:45.536Z"
   },
   {
    "duration": 148,
    "start_time": "2021-08-22T20:11:17.056Z"
   },
   {
    "duration": 3,
    "start_time": "2021-08-22T20:11:38.538Z"
   },
   {
    "duration": 93,
    "start_time": "2021-08-22T20:11:38.544Z"
   },
   {
    "duration": 6,
    "start_time": "2021-08-22T20:11:38.640Z"
   },
   {
    "duration": 21,
    "start_time": "2021-08-22T20:11:38.648Z"
   },
   {
    "duration": 12,
    "start_time": "2021-08-22T20:11:38.671Z"
   },
   {
    "duration": 16,
    "start_time": "2021-08-22T20:11:38.685Z"
   },
   {
    "duration": 27,
    "start_time": "2021-08-22T20:11:38.703Z"
   },
   {
    "duration": 15,
    "start_time": "2021-08-22T20:11:38.733Z"
   },
   {
    "duration": 23,
    "start_time": "2021-08-22T20:11:38.750Z"
   },
   {
    "duration": 170,
    "start_time": "2021-08-22T20:11:38.774Z"
   },
   {
    "duration": 15,
    "start_time": "2021-08-22T20:11:38.946Z"
   },
   {
    "duration": 19,
    "start_time": "2021-08-22T20:11:38.963Z"
   },
   {
    "duration": 26,
    "start_time": "2021-08-22T20:11:38.984Z"
   },
   {
    "duration": 152,
    "start_time": "2021-08-22T20:11:39.012Z"
   },
   {
    "duration": 146,
    "start_time": "2021-08-22T20:11:48.561Z"
   },
   {
    "duration": 145,
    "start_time": "2021-08-22T20:12:09.147Z"
   },
   {
    "duration": 153,
    "start_time": "2021-08-22T20:12:24.082Z"
   },
   {
    "duration": 4419,
    "start_time": "2021-08-22T20:12:51.035Z"
   },
   {
    "duration": 11,
    "start_time": "2021-08-22T20:13:22.765Z"
   },
   {
    "duration": 32,
    "start_time": "2021-08-22T20:14:02.341Z"
   },
   {
    "duration": 109,
    "start_time": "2021-08-22T20:14:28.885Z"
   },
   {
    "duration": 31,
    "start_time": "2021-08-22T20:14:35.501Z"
   },
   {
    "duration": 30,
    "start_time": "2021-08-22T20:14:45.078Z"
   },
   {
    "duration": 31,
    "start_time": "2021-08-22T20:14:53.207Z"
   },
   {
    "duration": 33,
    "start_time": "2021-08-22T20:15:06.551Z"
   },
   {
    "duration": 33,
    "start_time": "2021-08-22T20:15:15.005Z"
   },
   {
    "duration": 3,
    "start_time": "2021-08-22T20:15:55.995Z"
   },
   {
    "duration": 92,
    "start_time": "2021-08-22T20:15:56.000Z"
   },
   {
    "duration": 6,
    "start_time": "2021-08-22T20:15:56.094Z"
   },
   {
    "duration": 9,
    "start_time": "2021-08-22T20:15:56.102Z"
   },
   {
    "duration": 8,
    "start_time": "2021-08-22T20:15:56.112Z"
   },
   {
    "duration": 9,
    "start_time": "2021-08-22T20:15:56.121Z"
   },
   {
    "duration": 7,
    "start_time": "2021-08-22T20:15:56.131Z"
   },
   {
    "duration": 6,
    "start_time": "2021-08-22T20:15:56.139Z"
   },
   {
    "duration": 48,
    "start_time": "2021-08-22T20:15:56.147Z"
   },
   {
    "duration": 199,
    "start_time": "2021-08-22T20:15:56.196Z"
   },
   {
    "duration": 17,
    "start_time": "2021-08-22T20:15:56.397Z"
   },
   {
    "duration": 17,
    "start_time": "2021-08-22T20:15:56.415Z"
   },
   {
    "duration": 13,
    "start_time": "2021-08-22T20:15:56.434Z"
   },
   {
    "duration": 151,
    "start_time": "2021-08-22T20:15:58.408Z"
   },
   {
    "duration": 150,
    "start_time": "2021-08-22T20:16:43.063Z"
   },
   {
    "duration": 4225,
    "start_time": "2021-08-22T20:17:14.591Z"
   },
   {
    "duration": 11,
    "start_time": "2021-08-22T20:17:48.197Z"
   },
   {
    "duration": 200,
    "start_time": "2021-08-22T20:18:07.432Z"
   },
   {
    "duration": 186,
    "start_time": "2021-08-22T20:18:21.001Z"
   },
   {
    "duration": 193,
    "start_time": "2021-08-22T20:19:31.235Z"
   },
   {
    "duration": 309,
    "start_time": "2021-08-22T20:20:01.977Z"
   },
   {
    "duration": 134,
    "start_time": "2021-08-22T20:20:19.016Z"
   },
   {
    "duration": 148,
    "start_time": "2021-08-22T20:20:34.293Z"
   },
   {
    "duration": 161,
    "start_time": "2021-08-22T20:20:41.946Z"
   },
   {
    "duration": 144,
    "start_time": "2021-08-22T20:20:48.466Z"
   },
   {
    "duration": 18,
    "start_time": "2021-08-22T20:22:39.021Z"
   },
   {
    "duration": 19,
    "start_time": "2021-08-22T20:23:08.479Z"
   },
   {
    "duration": 27,
    "start_time": "2021-08-22T20:26:04.613Z"
   },
   {
    "duration": 22,
    "start_time": "2021-08-22T20:26:13.233Z"
   },
   {
    "duration": 23,
    "start_time": "2021-08-22T20:33:34.106Z"
   },
   {
    "duration": 15,
    "start_time": "2021-08-22T20:33:56.355Z"
   },
   {
    "duration": 20,
    "start_time": "2021-08-22T20:34:35.284Z"
   },
   {
    "duration": 34,
    "start_time": "2021-08-22T20:34:59.034Z"
   },
   {
    "duration": 253,
    "start_time": "2021-08-22T20:35:30.211Z"
   },
   {
    "duration": 10,
    "start_time": "2021-08-22T20:37:16.250Z"
   },
   {
    "duration": 11,
    "start_time": "2021-08-22T20:38:04.244Z"
   },
   {
    "duration": 11,
    "start_time": "2021-08-22T20:41:32.470Z"
   },
   {
    "duration": 13,
    "start_time": "2021-08-22T20:41:42.017Z"
   },
   {
    "duration": 12,
    "start_time": "2021-08-22T20:41:55.762Z"
   },
   {
    "duration": 13,
    "start_time": "2021-08-22T20:42:08.679Z"
   },
   {
    "duration": 15,
    "start_time": "2021-08-22T20:42:17.690Z"
   },
   {
    "duration": 238,
    "start_time": "2021-08-22T20:55:49.468Z"
   },
   {
    "duration": 3,
    "start_time": "2021-08-22T20:55:56.314Z"
   },
   {
    "duration": 235,
    "start_time": "2021-08-22T20:57:42.588Z"
   },
   {
    "duration": 5,
    "start_time": "2021-08-22T20:58:10.441Z"
   },
   {
    "duration": 2,
    "start_time": "2021-08-22T20:58:23.746Z"
   },
   {
    "duration": 442,
    "start_time": "2021-08-22T20:58:41.850Z"
   },
   {
    "duration": 29,
    "start_time": "2021-08-22T20:59:34.924Z"
   },
   {
    "duration": 5,
    "start_time": "2021-08-22T20:59:56.341Z"
   },
   {
    "duration": 15,
    "start_time": "2021-08-22T21:00:18.274Z"
   },
   {
    "duration": 38,
    "start_time": "2021-08-22T21:00:27.349Z"
   },
   {
    "duration": 30,
    "start_time": "2021-08-22T21:00:50.048Z"
   },
   {
    "duration": 251,
    "start_time": "2021-08-22T21:05:51.642Z"
   },
   {
    "duration": 29,
    "start_time": "2021-08-22T21:06:20.830Z"
   },
   {
    "duration": 27,
    "start_time": "2021-08-22T21:07:25.981Z"
   },
   {
    "duration": 4,
    "start_time": "2021-08-22T21:07:29.931Z"
   },
   {
    "duration": 22,
    "start_time": "2021-08-22T21:07:38.920Z"
   },
   {
    "duration": 399,
    "start_time": "2021-08-22T21:07:49.537Z"
   },
   {
    "duration": 231,
    "start_time": "2021-08-22T21:08:13.703Z"
   },
   {
    "duration": 4,
    "start_time": "2021-08-22T21:08:24.013Z"
   },
   {
    "duration": 382,
    "start_time": "2021-08-22T21:10:19.456Z"
   },
   {
    "duration": 372,
    "start_time": "2021-08-22T21:10:26.316Z"
   },
   {
    "duration": 366,
    "start_time": "2021-08-22T21:10:34.625Z"
   },
   {
    "duration": 370,
    "start_time": "2021-08-22T21:10:40.569Z"
   },
   {
    "duration": 6116,
    "start_time": "2021-08-22T21:13:29.230Z"
   },
   {
    "duration": 377,
    "start_time": "2021-08-22T21:14:38.984Z"
   },
   {
    "duration": 248,
    "start_time": "2021-08-22T21:14:42.634Z"
   },
   {
    "duration": 8,
    "start_time": "2021-08-22T21:15:29.786Z"
   },
   {
    "duration": 261,
    "start_time": "2021-08-22T21:17:36.806Z"
   },
   {
    "duration": 4,
    "start_time": "2021-08-22T21:17:57.678Z"
   },
   {
    "duration": 235,
    "start_time": "2021-08-22T21:18:06.991Z"
   },
   {
    "duration": 238,
    "start_time": "2021-08-22T21:18:22.032Z"
   },
   {
    "duration": 3,
    "start_time": "2021-08-22T21:18:45.782Z"
   },
   {
    "duration": 228,
    "start_time": "2021-08-22T21:18:49.496Z"
   },
   {
    "duration": 423,
    "start_time": "2021-08-22T21:19:13.274Z"
   },
   {
    "duration": 431,
    "start_time": "2021-08-22T21:19:42.215Z"
   },
   {
    "duration": 53,
    "start_time": "2021-08-22T21:20:01.066Z"
   },
   {
    "duration": 33,
    "start_time": "2021-08-22T21:20:12.756Z"
   },
   {
    "duration": 237,
    "start_time": "2021-08-22T21:21:17.350Z"
   },
   {
    "duration": 413,
    "start_time": "2021-08-22T21:21:27.622Z"
   },
   {
    "duration": 245,
    "start_time": "2021-08-22T21:21:52.939Z"
   },
   {
    "duration": 303,
    "start_time": "2021-08-22T21:22:08.943Z"
   },
   {
    "duration": 274,
    "start_time": "2021-08-22T21:22:34.076Z"
   },
   {
    "duration": 233,
    "start_time": "2021-08-22T21:23:51.175Z"
   },
   {
    "duration": 4,
    "start_time": "2021-08-22T21:24:35.523Z"
   },
   {
    "duration": 259,
    "start_time": "2021-08-22T21:24:43.291Z"
   },
   {
    "duration": 259,
    "start_time": "2021-08-22T21:24:59.589Z"
   },
   {
    "duration": 260,
    "start_time": "2021-08-22T21:25:05.020Z"
   },
   {
    "duration": 246,
    "start_time": "2021-08-22T21:25:27.093Z"
   },
   {
    "duration": 12,
    "start_time": "2021-08-22T21:25:47.798Z"
   },
   {
    "duration": 242,
    "start_time": "2021-08-22T21:27:40.667Z"
   },
   {
    "duration": 9,
    "start_time": "2021-08-22T21:28:08.914Z"
   },
   {
    "duration": 233,
    "start_time": "2021-08-22T21:29:09.620Z"
   },
   {
    "duration": 6,
    "start_time": "2021-08-22T21:29:27.213Z"
   },
   {
    "duration": 9,
    "start_time": "2021-08-22T21:29:40.730Z"
   },
   {
    "duration": 15,
    "start_time": "2021-08-22T21:29:44.981Z"
   },
   {
    "duration": 7,
    "start_time": "2021-08-22T21:29:59.126Z"
   },
   {
    "duration": 15,
    "start_time": "2021-08-22T21:30:06.959Z"
   },
   {
    "duration": 10,
    "start_time": "2021-08-22T21:30:59.503Z"
   },
   {
    "duration": 5,
    "start_time": "2021-08-22T21:31:43.177Z"
   },
   {
    "duration": 5,
    "start_time": "2021-08-22T21:31:45.841Z"
   },
   {
    "duration": 9,
    "start_time": "2021-08-22T21:31:58.769Z"
   },
   {
    "duration": 4,
    "start_time": "2021-08-22T21:31:58.985Z"
   },
   {
    "duration": 148,
    "start_time": "2021-08-22T21:31:59.234Z"
   },
   {
    "duration": 172,
    "start_time": "2021-08-22T21:31:59.481Z"
   },
   {
    "duration": 194,
    "start_time": "2021-08-22T21:31:59.905Z"
   },
   {
    "duration": 23,
    "start_time": "2021-08-22T21:32:00.530Z"
   },
   {
    "duration": 25,
    "start_time": "2021-08-22T21:32:03.074Z"
   },
   {
    "duration": 5,
    "start_time": "2021-08-22T21:32:05.849Z"
   },
   {
    "duration": 14,
    "start_time": "2021-08-22T21:32:06.737Z"
   },
   {
    "duration": 230,
    "start_time": "2021-08-22T21:32:10.235Z"
   },
   {
    "duration": 264,
    "start_time": "2021-08-22T21:32:24.259Z"
   },
   {
    "duration": 260,
    "start_time": "2021-08-22T21:32:38.523Z"
   },
   {
    "duration": 252,
    "start_time": "2021-08-22T21:34:24.647Z"
   },
   {
    "duration": 245,
    "start_time": "2021-08-22T21:34:33.879Z"
   },
   {
    "duration": 234,
    "start_time": "2021-08-22T21:36:34.416Z"
   },
   {
    "duration": 25,
    "start_time": "2021-08-22T21:37:07.479Z"
   },
   {
    "duration": 4,
    "start_time": "2021-08-22T21:37:20.448Z"
   },
   {
    "duration": 4,
    "start_time": "2021-08-22T21:37:26.819Z"
   },
   {
    "duration": 4,
    "start_time": "2021-08-22T21:37:32.332Z"
   },
   {
    "duration": 4,
    "start_time": "2021-08-22T21:37:35.432Z"
   },
   {
    "duration": 4,
    "start_time": "2021-08-22T21:37:42.308Z"
   },
   {
    "duration": 247,
    "start_time": "2021-08-22T21:38:02.751Z"
   },
   {
    "duration": 23,
    "start_time": "2021-08-22T21:38:46.143Z"
   },
   {
    "duration": 4,
    "start_time": "2021-08-22T21:39:04.451Z"
   },
   {
    "duration": 8,
    "start_time": "2021-08-22T21:39:17.974Z"
   },
   {
    "duration": 2528,
    "start_time": "2021-08-22T21:39:30.511Z"
   },
   {
    "duration": 4,
    "start_time": "2021-08-22T21:39:33.041Z"
   },
   {
    "duration": 90,
    "start_time": "2021-08-22T21:39:33.047Z"
   },
   {
    "duration": 8,
    "start_time": "2021-08-22T21:39:33.139Z"
   },
   {
    "duration": 11,
    "start_time": "2021-08-22T21:39:33.148Z"
   },
   {
    "duration": 10,
    "start_time": "2021-08-22T21:39:33.161Z"
   },
   {
    "duration": 11,
    "start_time": "2021-08-22T21:39:33.172Z"
   },
   {
    "duration": 7,
    "start_time": "2021-08-22T21:39:33.184Z"
   },
   {
    "duration": 6,
    "start_time": "2021-08-22T21:39:33.193Z"
   },
   {
    "duration": 8,
    "start_time": "2021-08-22T21:39:33.201Z"
   },
   {
    "duration": 24,
    "start_time": "2021-08-22T21:39:33.210Z"
   },
   {
    "duration": 179,
    "start_time": "2021-08-22T21:39:33.235Z"
   },
   {
    "duration": 14,
    "start_time": "2021-08-22T21:39:33.416Z"
   },
   {
    "duration": 14,
    "start_time": "2021-08-22T21:39:33.432Z"
   },
   {
    "duration": 8,
    "start_time": "2021-08-22T21:39:33.447Z"
   },
   {
    "duration": 6,
    "start_time": "2021-08-22T21:39:33.456Z"
   },
   {
    "duration": 29,
    "start_time": "2021-08-22T21:39:33.463Z"
   },
   {
    "duration": 6,
    "start_time": "2021-08-22T21:39:33.493Z"
   },
   {
    "duration": 154,
    "start_time": "2021-08-22T21:39:33.500Z"
   },
   {
    "duration": 150,
    "start_time": "2021-08-22T21:39:33.655Z"
   },
   {
    "duration": 171,
    "start_time": "2021-08-22T21:39:33.807Z"
   },
   {
    "duration": 30,
    "start_time": "2021-08-22T21:39:33.980Z"
   },
   {
    "duration": 6,
    "start_time": "2021-08-22T21:39:34.012Z"
   },
   {
    "duration": 37,
    "start_time": "2021-08-22T21:39:34.020Z"
   },
   {
    "duration": 6,
    "start_time": "2021-08-22T21:39:34.058Z"
   },
   {
    "duration": 35,
    "start_time": "2021-08-22T21:39:34.066Z"
   },
   {
    "duration": 33,
    "start_time": "2021-08-22T21:39:34.105Z"
   },
   {
    "duration": 240,
    "start_time": "2021-08-22T21:39:43.881Z"
   },
   {
    "duration": 21793,
    "start_time": "2021-08-23T06:07:44.798Z"
   },
   {
    "duration": 2113,
    "start_time": "2021-08-23T06:08:06.594Z"
   },
   {
    "duration": 110,
    "start_time": "2021-08-23T06:08:08.710Z"
   },
   {
    "duration": 13,
    "start_time": "2021-08-23T06:08:08.823Z"
   },
   {
    "duration": 14,
    "start_time": "2021-08-23T06:08:08.838Z"
   },
   {
    "duration": 15,
    "start_time": "2021-08-23T06:08:08.855Z"
   },
   {
    "duration": 18,
    "start_time": "2021-08-23T06:08:08.873Z"
   },
   {
    "duration": 11,
    "start_time": "2021-08-23T06:08:08.893Z"
   },
   {
    "duration": 10,
    "start_time": "2021-08-23T06:08:08.910Z"
   },
   {
    "duration": 9,
    "start_time": "2021-08-23T06:08:08.956Z"
   },
   {
    "duration": 38,
    "start_time": "2021-08-23T06:08:08.968Z"
   },
   {
    "duration": 343,
    "start_time": "2021-08-23T06:08:09.009Z"
   },
   {
    "duration": 25,
    "start_time": "2021-08-23T06:08:09.356Z"
   },
   {
    "duration": 25,
    "start_time": "2021-08-23T06:08:09.383Z"
   },
   {
    "duration": 13,
    "start_time": "2021-08-23T06:08:09.410Z"
   },
   {
    "duration": 10,
    "start_time": "2021-08-23T06:08:09.456Z"
   },
   {
    "duration": 10,
    "start_time": "2021-08-23T06:08:09.468Z"
   },
   {
    "duration": 7,
    "start_time": "2021-08-23T06:08:09.480Z"
   },
   {
    "duration": 297,
    "start_time": "2021-08-23T06:08:09.489Z"
   },
   {
    "duration": 299,
    "start_time": "2021-08-23T06:08:09.789Z"
   },
   {
    "duration": 387,
    "start_time": "2021-08-23T06:08:10.091Z"
   },
   {
    "duration": 38,
    "start_time": "2021-08-23T06:08:10.481Z"
   },
   {
    "duration": 38,
    "start_time": "2021-08-23T06:08:10.522Z"
   },
   {
    "duration": 45,
    "start_time": "2021-08-23T06:08:10.563Z"
   },
   {
    "duration": 8,
    "start_time": "2021-08-23T06:08:10.611Z"
   },
   {
    "duration": 49,
    "start_time": "2021-08-23T06:08:10.622Z"
   },
   {
    "duration": 521,
    "start_time": "2021-08-23T06:08:10.677Z"
   },
   {
    "duration": 484,
    "start_time": "2021-08-23T06:08:34.727Z"
   },
   {
    "duration": -330,
    "start_time": "2021-08-23T06:08:35.544Z"
   },
   {
    "duration": 382,
    "start_time": "2021-08-23T06:09:54.648Z"
   },
   {
    "duration": 419,
    "start_time": "2021-08-23T06:10:11.771Z"
   },
   {
    "duration": 47,
    "start_time": "2021-08-23T06:10:49.047Z"
   },
   {
    "duration": 364,
    "start_time": "2021-08-23T06:11:07.242Z"
   },
   {
    "duration": 582,
    "start_time": "2021-08-23T06:11:23.231Z"
   },
   {
    "duration": 10939,
    "start_time": "2021-08-23T06:12:03.167Z"
   },
   {
    "duration": 18057,
    "start_time": "2021-08-23T06:14:14.898Z"
   },
   {
    "duration": 4,
    "start_time": "2021-08-23T06:14:32.958Z"
   },
   {
    "duration": 12,
    "start_time": "2021-08-23T06:14:32.965Z"
   },
   {
    "duration": 199613,
    "start_time": "2021-08-23T06:23:07.299Z"
   },
   {
    "duration": 4,
    "start_time": "2021-08-23T06:26:26.915Z"
   },
   {
    "duration": 10,
    "start_time": "2021-08-23T06:26:26.922Z"
   },
   {
    "duration": 665,
    "start_time": "2021-08-23T06:26:26.934Z"
   },
   {
    "duration": 32278,
    "start_time": "2021-08-23T06:27:29.849Z"
   },
   {
    "duration": 25,
    "start_time": "2021-08-23T06:28:02.131Z"
   },
   {
    "duration": 11,
    "start_time": "2021-08-23T06:28:02.160Z"
   },
   {
    "duration": 12,
    "start_time": "2021-08-23T06:28:02.175Z"
   },
   {
    "duration": 14580,
    "start_time": "2021-08-23T06:28:32.581Z"
   },
   {
    "duration": 6,
    "start_time": "2021-08-23T06:28:47.164Z"
   },
   {
    "duration": 462,
    "start_time": "2021-08-23T06:28:47.174Z"
   },
   {
    "duration": 580,
    "start_time": "2021-08-23T06:28:47.639Z"
   },
   {
    "duration": 11158,
    "start_time": "2021-08-23T06:29:57.476Z"
   },
   {
    "duration": 4,
    "start_time": "2021-08-23T06:30:08.637Z"
   },
   {
    "duration": 23,
    "start_time": "2021-08-23T06:30:08.644Z"
   },
   {
    "duration": 59,
    "start_time": "2021-08-23T06:30:08.669Z"
   },
   {
    "duration": 457,
    "start_time": "2021-08-23T06:30:50.003Z"
   },
   {
    "duration": 44,
    "start_time": "2021-08-23T06:31:06.699Z"
   },
   {
    "duration": 469,
    "start_time": "2021-08-23T06:31:23.138Z"
   },
   {
    "duration": 125,
    "start_time": "2021-08-23T06:31:44.043Z"
   },
   {
    "duration": 616,
    "start_time": "2021-08-23T06:32:31.924Z"
   },
   {
    "duration": 57,
    "start_time": "2021-08-23T06:32:42.303Z"
   },
   {
    "duration": 87,
    "start_time": "2021-08-23T06:32:47.077Z"
   },
   {
    "duration": 73,
    "start_time": "2021-08-23T06:32:51.986Z"
   },
   {
    "duration": 54,
    "start_time": "2021-08-23T06:33:00.401Z"
   },
   {
    "duration": 121,
    "start_time": "2021-08-23T06:33:50.246Z"
   },
   {
    "duration": 15883,
    "start_time": "2021-08-23T06:34:01.707Z"
   },
   {
    "duration": 6,
    "start_time": "2021-08-23T06:34:17.594Z"
   },
   {
    "duration": 11,
    "start_time": "2021-08-23T06:34:17.603Z"
   },
   {
    "duration": 90,
    "start_time": "2021-08-23T06:34:17.617Z"
   },
   {
    "duration": 18169,
    "start_time": "2021-08-23T06:34:51.088Z"
   },
   {
    "duration": 6,
    "start_time": "2021-08-23T06:35:09.260Z"
   },
   {
    "duration": 13,
    "start_time": "2021-08-23T06:35:09.270Z"
   },
   {
    "duration": 92,
    "start_time": "2021-08-23T06:35:09.286Z"
   },
   {
    "duration": 72987,
    "start_time": "2021-08-23T06:36:33.380Z"
   },
   {
    "duration": 5,
    "start_time": "2021-08-23T06:37:46.370Z"
   },
   {
    "duration": 6,
    "start_time": "2021-08-23T06:37:46.381Z"
   },
   {
    "duration": 119,
    "start_time": "2021-08-23T06:37:46.389Z"
   },
   {
    "duration": 53456,
    "start_time": "2021-08-23T06:39:24.841Z"
   },
   {
    "duration": 5,
    "start_time": "2021-08-23T06:40:18.299Z"
   },
   {
    "duration": 7,
    "start_time": "2021-08-23T06:40:18.307Z"
   },
   {
    "duration": 95,
    "start_time": "2021-08-23T06:40:18.317Z"
   },
   {
    "duration": 6204,
    "start_time": "2021-08-23T06:43:12.575Z"
   },
   {
    "duration": 145674,
    "start_time": "2021-08-23T06:45:34.322Z"
   },
   {
    "duration": 6,
    "start_time": "2021-08-23T06:48:00.000Z"
   },
   {
    "duration": 20,
    "start_time": "2021-08-23T06:48:00.009Z"
   },
   {
    "duration": 86,
    "start_time": "2021-08-23T06:48:00.031Z"
   },
   {
    "duration": 394809,
    "start_time": "2021-08-23T06:48:00.120Z"
   },
   {
    "duration": 5,
    "start_time": "2021-08-23T07:01:34.106Z"
   },
   {
    "duration": 6,
    "start_time": "2021-08-23T07:01:37.566Z"
   },
   {
    "duration": 59,
    "start_time": "2021-08-23T07:02:35.340Z"
   },
   {
    "duration": 7966,
    "start_time": "2021-08-23T07:02:49.428Z"
   },
   {
    "duration": 6343,
    "start_time": "2021-08-23T07:03:03.748Z"
   },
   {
    "duration": 6073,
    "start_time": "2021-08-23T07:03:31.997Z"
   },
   {
    "duration": 5944,
    "start_time": "2021-08-23T07:03:40.782Z"
   },
   {
    "duration": 5261,
    "start_time": "2021-08-23T07:03:59.368Z"
   },
   {
    "duration": 6038,
    "start_time": "2021-08-23T07:04:15.164Z"
   },
   {
    "duration": 199682,
    "start_time": "2021-08-23T07:04:58.592Z"
   },
   {
    "duration": -261,
    "start_time": "2021-08-23T07:08:18.538Z"
   },
   {
    "duration": -262,
    "start_time": "2021-08-23T07:08:18.541Z"
   },
   {
    "duration": -264,
    "start_time": "2021-08-23T07:08:18.544Z"
   },
   {
    "duration": -265,
    "start_time": "2021-08-23T07:08:18.547Z"
   },
   {
    "duration": 197,
    "start_time": "2021-08-23T07:11:38.078Z"
   },
   {
    "duration": 541,
    "start_time": "2021-08-23T07:11:38.660Z"
   },
   {
    "duration": 406,
    "start_time": "2021-08-23T07:11:46.821Z"
   },
   {
    "duration": 5,
    "start_time": "2021-08-23T07:11:54.573Z"
   },
   {
    "duration": 841028,
    "start_time": "2021-08-23T07:12:02.566Z"
   },
   {
    "duration": 5,
    "start_time": "2021-08-23T07:26:03.598Z"
   },
   {
    "duration": 17,
    "start_time": "2021-08-23T07:26:03.605Z"
   },
   {
    "duration": 110,
    "start_time": "2021-08-23T07:26:03.625Z"
   },
   {
    "duration": 2203,
    "start_time": "2021-08-23T07:33:24.102Z"
   },
   {
    "duration": 114,
    "start_time": "2021-08-23T07:33:26.308Z"
   },
   {
    "duration": 14,
    "start_time": "2021-08-23T07:33:26.425Z"
   },
   {
    "duration": 14,
    "start_time": "2021-08-23T07:33:26.735Z"
   },
   {
    "duration": 13,
    "start_time": "2021-08-23T07:33:27.293Z"
   },
   {
    "duration": 15,
    "start_time": "2021-08-23T07:33:28.285Z"
   },
   {
    "duration": 65,
    "start_time": "2021-08-23T07:33:33.110Z"
   },
   {
    "duration": 22,
    "start_time": "2021-08-23T07:33:51.366Z"
   },
   {
    "duration": 8,
    "start_time": "2021-08-23T07:34:52.593Z"
   },
   {
    "duration": 10,
    "start_time": "2021-08-23T07:35:12.184Z"
   },
   {
    "duration": 568,
    "start_time": "2021-08-23T07:36:08.051Z"
   },
   {
    "duration": 8,
    "start_time": "2021-08-23T07:36:16.145Z"
   },
   {
    "duration": 14,
    "start_time": "2021-08-23T07:36:26.953Z"
   },
   {
    "duration": 11,
    "start_time": "2021-08-23T07:36:39.600Z"
   },
   {
    "duration": 10,
    "start_time": "2021-08-23T07:37:22.255Z"
   },
   {
    "duration": 12,
    "start_time": "2021-08-23T07:37:24.029Z"
   },
   {
    "duration": 6,
    "start_time": "2021-08-23T07:39:30.127Z"
   },
   {
    "duration": 8,
    "start_time": "2021-08-23T07:39:47.418Z"
   },
   {
    "duration": 10,
    "start_time": "2021-08-23T07:39:59.846Z"
   },
   {
    "duration": 18,
    "start_time": "2021-08-23T07:45:23.352Z"
   },
   {
    "duration": 21,
    "start_time": "2021-08-23T07:45:24.160Z"
   },
   {
    "duration": 12,
    "start_time": "2021-08-23T07:45:24.696Z"
   },
   {
    "duration": 9,
    "start_time": "2021-08-23T07:45:32.513Z"
   },
   {
    "duration": 13,
    "start_time": "2021-08-23T07:45:48.268Z"
   },
   {
    "duration": 9,
    "start_time": "2021-08-23T07:46:01.178Z"
   },
   {
    "duration": 4,
    "start_time": "2021-08-23T07:48:24.415Z"
   },
   {
    "duration": 5,
    "start_time": "2021-08-23T07:48:25.134Z"
   },
   {
    "duration": 10,
    "start_time": "2021-08-23T07:48:32.646Z"
   },
   {
    "duration": 388,
    "start_time": "2021-08-23T07:48:55.428Z"
   },
   {
    "duration": 4,
    "start_time": "2021-08-23T08:16:06.305Z"
   },
   {
    "duration": 5,
    "start_time": "2021-08-23T08:16:07.161Z"
   },
   {
    "duration": 10,
    "start_time": "2021-08-23T08:16:07.728Z"
   },
   {
    "duration": 36,
    "start_time": "2021-08-23T08:16:08.305Z"
   },
   {
    "duration": 369,
    "start_time": "2021-08-23T08:16:11.010Z"
   },
   {
    "duration": 336,
    "start_time": "2021-08-23T08:16:32.337Z"
   },
   {
    "duration": 6,
    "start_time": "2021-08-23T08:16:48.913Z"
   },
   {
    "duration": 11,
    "start_time": "2021-08-23T08:18:44.202Z"
   },
   {
    "duration": 8,
    "start_time": "2021-08-23T08:19:02.734Z"
   },
   {
    "duration": 14,
    "start_time": "2021-08-23T08:19:44.535Z"
   },
   {
    "duration": 9,
    "start_time": "2021-08-23T08:19:54.279Z"
   },
   {
    "duration": 17,
    "start_time": "2021-08-23T08:20:01.407Z"
   },
   {
    "duration": 9,
    "start_time": "2021-08-23T08:20:04.672Z"
   },
   {
    "duration": 11,
    "start_time": "2021-08-23T08:20:15.752Z"
   },
   {
    "duration": 35,
    "start_time": "2021-08-23T08:20:21.943Z"
   },
   {
    "duration": 4969,
    "start_time": "2021-08-23T08:20:45.793Z"
   },
   {
    "duration": 18,
    "start_time": "2021-08-23T08:21:04.962Z"
   },
   {
    "duration": 16,
    "start_time": "2021-08-23T08:21:33.255Z"
   },
   {
    "duration": 26,
    "start_time": "2021-08-23T08:24:53.740Z"
   },
   {
    "duration": 12,
    "start_time": "2021-08-23T08:30:37.927Z"
   },
   {
    "duration": -1,
    "start_time": "2021-08-23T08:31:28.261Z"
   },
   {
    "duration": 2321,
    "start_time": "2021-08-23T08:34:02.276Z"
   },
   {
    "duration": 112,
    "start_time": "2021-08-23T08:34:04.600Z"
   },
   {
    "duration": 13,
    "start_time": "2021-08-23T08:34:04.714Z"
   },
   {
    "duration": 29,
    "start_time": "2021-08-23T08:34:04.730Z"
   },
   {
    "duration": 14,
    "start_time": "2021-08-23T08:34:04.761Z"
   },
   {
    "duration": 17,
    "start_time": "2021-08-23T08:34:04.778Z"
   },
   {
    "duration": 76,
    "start_time": "2021-08-23T08:34:04.799Z"
   },
   {
    "duration": 20,
    "start_time": "2021-08-23T08:34:04.878Z"
   },
   {
    "duration": 12,
    "start_time": "2021-08-23T08:34:04.900Z"
   },
   {
    "duration": 48,
    "start_time": "2021-08-23T08:34:04.914Z"
   },
   {
    "duration": 10,
    "start_time": "2021-08-23T08:34:04.965Z"
   },
   {
    "duration": 13,
    "start_time": "2021-08-23T08:34:04.978Z"
   },
   {
    "duration": 11,
    "start_time": "2021-08-23T08:34:04.993Z"
   },
   {
    "duration": 20,
    "start_time": "2021-08-23T08:34:05.006Z"
   },
   {
    "duration": 15,
    "start_time": "2021-08-23T08:34:05.029Z"
   },
   {
    "duration": 38,
    "start_time": "2021-08-23T08:34:05.056Z"
   },
   {
    "duration": 330,
    "start_time": "2021-08-23T08:34:05.097Z"
   },
   {
    "duration": 6,
    "start_time": "2021-08-23T08:34:05.429Z"
   },
   {
    "duration": 24,
    "start_time": "2021-08-23T08:34:05.437Z"
   },
   {
    "duration": 17,
    "start_time": "2021-08-23T08:34:05.463Z"
   },
   {
    "duration": 32,
    "start_time": "2021-08-23T08:34:05.482Z"
   },
   {
    "duration": 11,
    "start_time": "2021-08-23T08:34:05.517Z"
   },
   {
    "duration": 36,
    "start_time": "2021-08-23T08:34:05.530Z"
   },
   {
    "duration": 8,
    "start_time": "2021-08-23T08:34:05.569Z"
   },
   {
    "duration": 550,
    "start_time": "2021-08-23T08:34:05.583Z"
   },
   {
    "duration": 12,
    "start_time": "2021-08-23T08:34:06.124Z"
   },
   {
    "duration": 11,
    "start_time": "2021-08-23T08:34:06.127Z"
   },
   {
    "duration": 32,
    "start_time": "2021-08-23T08:34:21.115Z"
   },
   {
    "duration": 293,
    "start_time": "2021-08-23T08:34:23.003Z"
   },
   {
    "duration": 274,
    "start_time": "2021-08-23T08:34:25.699Z"
   },
   {
    "duration": 396,
    "start_time": "2021-08-23T08:34:36.335Z"
   },
   {
    "duration": 405,
    "start_time": "2021-08-23T08:34:36.734Z"
   },
   {
    "duration": 416,
    "start_time": "2021-08-23T08:35:00.781Z"
   },
   {
    "duration": 2311,
    "start_time": "2021-08-23T08:36:20.239Z"
   },
   {
    "duration": 116,
    "start_time": "2021-08-23T08:36:22.553Z"
   },
   {
    "duration": 18,
    "start_time": "2021-08-23T08:36:22.673Z"
   },
   {
    "duration": 19,
    "start_time": "2021-08-23T08:36:22.694Z"
   },
   {
    "duration": 16,
    "start_time": "2021-08-23T08:36:22.716Z"
   },
   {
    "duration": 34,
    "start_time": "2021-08-23T08:36:22.735Z"
   },
   {
    "duration": 76,
    "start_time": "2021-08-23T08:36:22.772Z"
   },
   {
    "duration": 20,
    "start_time": "2021-08-23T08:36:22.860Z"
   },
   {
    "duration": 11,
    "start_time": "2021-08-23T08:36:22.883Z"
   },
   {
    "duration": 21,
    "start_time": "2021-08-23T08:36:22.897Z"
   },
   {
    "duration": 44,
    "start_time": "2021-08-23T08:36:22.920Z"
   },
   {
    "duration": 14,
    "start_time": "2021-08-23T08:36:22.967Z"
   },
   {
    "duration": 26,
    "start_time": "2021-08-23T08:36:22.983Z"
   },
   {
    "duration": 25,
    "start_time": "2021-08-23T08:36:23.011Z"
   },
   {
    "duration": 20,
    "start_time": "2021-08-23T08:36:23.039Z"
   },
   {
    "duration": 73,
    "start_time": "2021-08-23T08:36:23.062Z"
   },
   {
    "duration": 499,
    "start_time": "2021-08-23T08:36:23.139Z"
   },
   {
    "duration": 5,
    "start_time": "2021-08-23T08:36:23.640Z"
   },
   {
    "duration": 20,
    "start_time": "2021-08-23T08:36:23.656Z"
   },
   {
    "duration": 23,
    "start_time": "2021-08-23T08:36:23.679Z"
   },
   {
    "duration": 32,
    "start_time": "2021-08-23T08:36:23.704Z"
   },
   {
    "duration": 11,
    "start_time": "2021-08-23T08:36:23.756Z"
   },
   {
    "duration": 14,
    "start_time": "2021-08-23T08:36:23.771Z"
   },
   {
    "duration": 6,
    "start_time": "2021-08-23T08:36:23.787Z"
   },
   {
    "duration": 1002,
    "start_time": "2021-08-23T08:36:23.796Z"
   },
   {
    "duration": 20,
    "start_time": "2021-08-23T08:36:24.781Z"
   },
   {
    "duration": 12,
    "start_time": "2021-08-23T08:36:24.790Z"
   },
   {
    "duration": 11,
    "start_time": "2021-08-23T08:36:24.793Z"
   },
   {
    "duration": 10,
    "start_time": "2021-08-23T08:36:24.795Z"
   },
   {
    "duration": 5,
    "start_time": "2021-08-23T08:39:21.782Z"
   },
   {
    "duration": 963,
    "start_time": "2021-08-23T08:39:22.205Z"
   },
   {
    "duration": 257,
    "start_time": "2021-08-23T08:39:23.397Z"
   },
   {
    "duration": 6,
    "start_time": "2021-08-23T08:39:36.721Z"
   },
   {
    "duration": 213,
    "start_time": "2021-08-23T08:39:37.050Z"
   },
   {
    "duration": 252,
    "start_time": "2021-08-23T08:39:37.897Z"
   },
   {
    "duration": 2375,
    "start_time": "2021-08-23T08:40:11.070Z"
   },
   {
    "duration": 116,
    "start_time": "2021-08-23T08:40:13.449Z"
   },
   {
    "duration": 13,
    "start_time": "2021-08-23T08:40:13.568Z"
   },
   {
    "duration": 13,
    "start_time": "2021-08-23T08:40:13.584Z"
   },
   {
    "duration": 24,
    "start_time": "2021-08-23T08:40:13.599Z"
   },
   {
    "duration": 36,
    "start_time": "2021-08-23T08:40:13.625Z"
   },
   {
    "duration": 59,
    "start_time": "2021-08-23T08:40:13.664Z"
   },
   {
    "duration": 41,
    "start_time": "2021-08-23T08:40:13.726Z"
   },
   {
    "duration": 12,
    "start_time": "2021-08-23T08:40:13.770Z"
   },
   {
    "duration": 17,
    "start_time": "2021-08-23T08:40:13.784Z"
   },
   {
    "duration": 10,
    "start_time": "2021-08-23T08:40:13.803Z"
   },
   {
    "duration": 8,
    "start_time": "2021-08-23T08:40:13.815Z"
   },
   {
    "duration": 4,
    "start_time": "2021-08-23T08:40:13.856Z"
   },
   {
    "duration": 7,
    "start_time": "2021-08-23T08:40:13.862Z"
   },
   {
    "duration": 11,
    "start_time": "2021-08-23T08:40:13.872Z"
   },
   {
    "duration": 69,
    "start_time": "2021-08-23T08:40:13.886Z"
   },
   {
    "duration": 314,
    "start_time": "2021-08-23T08:40:13.958Z"
   },
   {
    "duration": 5,
    "start_time": "2021-08-23T08:40:14.275Z"
   },
   {
    "duration": 25,
    "start_time": "2021-08-23T08:40:14.282Z"
   },
   {
    "duration": 12,
    "start_time": "2021-08-23T08:40:14.310Z"
   },
   {
    "duration": 46,
    "start_time": "2021-08-23T08:40:14.324Z"
   },
   {
    "duration": 10,
    "start_time": "2021-08-23T08:40:14.372Z"
   },
   {
    "duration": 10,
    "start_time": "2021-08-23T08:40:14.387Z"
   },
   {
    "duration": 11,
    "start_time": "2021-08-23T08:40:14.399Z"
   },
   {
    "duration": 62,
    "start_time": "2021-08-23T08:40:14.412Z"
   },
   {
    "duration": 301,
    "start_time": "2021-08-23T08:40:14.477Z"
   },
   {
    "duration": 289,
    "start_time": "2021-08-23T08:40:14.780Z"
   },
   {
    "duration": 407,
    "start_time": "2021-08-23T08:40:15.071Z"
   },
   {
    "duration": 311,
    "start_time": "2021-08-23T08:40:15.480Z"
   },
   {
    "duration": 518,
    "start_time": "2021-08-23T08:40:15.794Z"
   },
   {
    "duration": 7,
    "start_time": "2021-08-23T08:40:16.308Z"
   },
   {
    "duration": 3,
    "start_time": "2021-08-23T08:40:16.313Z"
   },
   {
    "duration": 2,
    "start_time": "2021-08-23T08:40:16.316Z"
   },
   {
    "duration": 0,
    "start_time": "2021-08-23T08:40:16.320Z"
   },
   {
    "duration": -1,
    "start_time": "2021-08-23T08:40:16.322Z"
   },
   {
    "duration": -1,
    "start_time": "2021-08-23T08:40:16.324Z"
   },
   {
    "duration": -2,
    "start_time": "2021-08-23T08:40:16.326Z"
   },
   {
    "duration": -3,
    "start_time": "2021-08-23T08:40:16.329Z"
   },
   {
    "duration": -5,
    "start_time": "2021-08-23T08:40:16.332Z"
   },
   {
    "duration": -5,
    "start_time": "2021-08-23T08:40:16.334Z"
   },
   {
    "duration": -7,
    "start_time": "2021-08-23T08:40:16.337Z"
   },
   {
    "duration": -7,
    "start_time": "2021-08-23T08:40:16.339Z"
   },
   {
    "duration": -7,
    "start_time": "2021-08-23T08:40:16.341Z"
   },
   {
    "duration": -13,
    "start_time": "2021-08-23T08:40:16.348Z"
   },
   {
    "duration": -14,
    "start_time": "2021-08-23T08:40:16.351Z"
   },
   {
    "duration": 279,
    "start_time": "2021-08-23T08:40:33.794Z"
   },
   {
    "duration": 322,
    "start_time": "2021-08-23T08:40:46.247Z"
   },
   {
    "duration": 692,
    "start_time": "2021-08-23T08:41:07.237Z"
   },
   {
    "duration": 388,
    "start_time": "2021-08-23T08:41:24.886Z"
   },
   {
    "duration": 296,
    "start_time": "2021-08-23T08:41:52.198Z"
   },
   {
    "duration": 3105,
    "start_time": "2021-08-23T09:09:57.131Z"
   },
   {
    "duration": 2215,
    "start_time": "2021-08-23T09:10:11.519Z"
   },
   {
    "duration": 115,
    "start_time": "2021-08-23T09:10:13.737Z"
   },
   {
    "duration": 16,
    "start_time": "2021-08-23T09:10:13.856Z"
   },
   {
    "duration": 12,
    "start_time": "2021-08-23T09:10:13.875Z"
   },
   {
    "duration": 22,
    "start_time": "2021-08-23T09:10:13.890Z"
   },
   {
    "duration": 42,
    "start_time": "2021-08-23T09:10:13.915Z"
   },
   {
    "duration": 17,
    "start_time": "2021-08-23T09:10:13.960Z"
   },
   {
    "duration": 78,
    "start_time": "2021-08-23T09:10:13.982Z"
   },
   {
    "duration": 22,
    "start_time": "2021-08-23T09:10:14.065Z"
   },
   {
    "duration": 12,
    "start_time": "2021-08-23T09:10:14.090Z"
   },
   {
    "duration": 55,
    "start_time": "2021-08-23T09:10:14.105Z"
   },
   {
    "duration": 10,
    "start_time": "2021-08-23T09:10:14.162Z"
   },
   {
    "duration": 18,
    "start_time": "2021-08-23T09:10:14.174Z"
   },
   {
    "duration": 21,
    "start_time": "2021-08-23T09:10:14.194Z"
   },
   {
    "duration": 31,
    "start_time": "2021-08-23T09:10:14.217Z"
   },
   {
    "duration": 27,
    "start_time": "2021-08-23T09:10:14.250Z"
   },
   {
    "duration": 520,
    "start_time": "2021-08-23T09:10:14.279Z"
   },
   {
    "duration": 87,
    "start_time": "2021-08-23T09:10:14.715Z"
   },
   {
    "duration": 81,
    "start_time": "2021-08-23T09:10:14.722Z"
   },
   {
    "duration": 80,
    "start_time": "2021-08-23T09:10:14.725Z"
   },
   {
    "duration": 79,
    "start_time": "2021-08-23T09:10:14.727Z"
   },
   {
    "duration": 78,
    "start_time": "2021-08-23T09:10:14.730Z"
   },
   {
    "duration": 75,
    "start_time": "2021-08-23T09:10:14.734Z"
   },
   {
    "duration": 73,
    "start_time": "2021-08-23T09:10:14.737Z"
   },
   {
    "duration": 73,
    "start_time": "2021-08-23T09:10:14.739Z"
   },
   {
    "duration": 71,
    "start_time": "2021-08-23T09:10:14.742Z"
   },
   {
    "duration": 71,
    "start_time": "2021-08-23T09:10:14.744Z"
   },
   {
    "duration": 69,
    "start_time": "2021-08-23T09:10:14.747Z"
   },
   {
    "duration": 2651,
    "start_time": "2021-08-23T09:10:15.751Z"
   },
   {
    "duration": 437,
    "start_time": "2021-08-23T09:10:50.564Z"
   },
   {
    "duration": 9405,
    "start_time": "2021-08-23T09:11:46.519Z"
   },
   {
    "duration": 5,
    "start_time": "2021-08-23T09:12:01.571Z"
   },
   {
    "duration": 143,
    "start_time": "2021-08-23T09:12:01.579Z"
   },
   {
    "duration": 9,
    "start_time": "2021-08-23T09:12:01.725Z"
   },
   {
    "duration": 12,
    "start_time": "2021-08-23T09:12:01.737Z"
   },
   {
    "duration": 26,
    "start_time": "2021-08-23T09:12:01.751Z"
   },
   {
    "duration": 30,
    "start_time": "2021-08-23T09:12:01.779Z"
   },
   {
    "duration": 52,
    "start_time": "2021-08-23T09:12:01.811Z"
   },
   {
    "duration": 85,
    "start_time": "2021-08-23T09:12:01.867Z"
   },
   {
    "duration": 20,
    "start_time": "2021-08-23T09:12:01.956Z"
   },
   {
    "duration": 11,
    "start_time": "2021-08-23T09:12:01.979Z"
   },
   {
    "duration": 94,
    "start_time": "2021-08-23T09:12:01.993Z"
   },
   {
    "duration": 49,
    "start_time": "2021-08-23T09:12:02.089Z"
   },
   {
    "duration": 35,
    "start_time": "2021-08-23T09:12:02.141Z"
   },
   {
    "duration": 42,
    "start_time": "2021-08-23T09:12:02.178Z"
   },
   {
    "duration": 46,
    "start_time": "2021-08-23T09:12:02.223Z"
   },
   {
    "duration": 20,
    "start_time": "2021-08-23T09:12:02.272Z"
   },
   {
    "duration": 9327,
    "start_time": "2021-08-23T09:12:02.294Z"
   },
   {
    "duration": 83,
    "start_time": "2021-08-23T09:12:11.542Z"
   },
   {
    "duration": 82,
    "start_time": "2021-08-23T09:12:11.546Z"
   },
   {
    "duration": 78,
    "start_time": "2021-08-23T09:12:11.551Z"
   },
   {
    "duration": 78,
    "start_time": "2021-08-23T09:12:11.554Z"
   },
   {
    "duration": 77,
    "start_time": "2021-08-23T09:12:11.558Z"
   },
   {
    "duration": 74,
    "start_time": "2021-08-23T09:12:11.563Z"
   },
   {
    "duration": 73,
    "start_time": "2021-08-23T09:12:11.566Z"
   },
   {
    "duration": 71,
    "start_time": "2021-08-23T09:12:11.570Z"
   },
   {
    "duration": 71,
    "start_time": "2021-08-23T09:12:11.573Z"
   },
   {
    "duration": 71,
    "start_time": "2021-08-23T09:12:11.575Z"
   },
   {
    "duration": 71,
    "start_time": "2021-08-23T09:12:11.577Z"
   },
   {
    "duration": 69,
    "start_time": "2021-08-23T09:12:11.580Z"
   },
   {
    "duration": 9,
    "start_time": "2021-08-23T09:20:13.454Z"
   },
   {
    "duration": 17,
    "start_time": "2021-08-23T09:20:14.725Z"
   },
   {
    "duration": 30,
    "start_time": "2021-08-23T09:20:15.278Z"
   },
   {
    "duration": 11,
    "start_time": "2021-08-23T09:20:16.005Z"
   },
   {
    "duration": 9,
    "start_time": "2021-08-23T09:20:20.414Z"
   },
   {
    "duration": 5,
    "start_time": "2021-08-23T09:20:21.087Z"
   },
   {
    "duration": 64,
    "start_time": "2021-08-23T09:20:22.219Z"
   },
   {
    "duration": 313,
    "start_time": "2021-08-23T09:20:22.644Z"
   },
   {
    "duration": 278,
    "start_time": "2021-08-23T09:20:23.054Z"
   },
   {
    "duration": 320,
    "start_time": "2021-08-23T09:20:24.146Z"
   },
   {
    "duration": 351,
    "start_time": "2021-08-23T09:20:24.625Z"
   },
   {
    "duration": 7515,
    "start_time": "2021-08-23T09:20:26.267Z"
   },
   {
    "duration": 122,
    "start_time": "2021-08-23T09:20:33.662Z"
   },
   {
    "duration": 10971,
    "start_time": "2021-08-23T09:20:39.230Z"
   },
   {
    "duration": 41,
    "start_time": "2021-08-23T09:21:04.954Z"
   },
   {
    "duration": 358,
    "start_time": "2021-08-23T09:22:58.525Z"
   },
   {
    "duration": 39,
    "start_time": "2021-08-23T09:23:04.383Z"
   },
   {
    "duration": 680,
    "start_time": "2021-08-23T09:39:46.647Z"
   },
   {
    "duration": 93,
    "start_time": "2021-08-23T09:39:59.254Z"
   },
   {
    "duration": 135,
    "start_time": "2021-08-23T09:41:23.057Z"
   },
   {
    "duration": 107,
    "start_time": "2021-08-23T09:41:33.235Z"
   },
   {
    "duration": 61,
    "start_time": "2021-08-23T09:42:26.712Z"
   },
   {
    "duration": 74,
    "start_time": "2021-08-23T09:42:53.054Z"
   },
   {
    "duration": 6,
    "start_time": "2021-08-23T09:43:23.257Z"
   },
   {
    "duration": 9,
    "start_time": "2021-08-23T09:44:54.740Z"
   },
   {
    "duration": 8,
    "start_time": "2021-08-23T09:48:13.325Z"
   },
   {
    "duration": 1079,
    "start_time": "2021-08-23T09:55:40.207Z"
   },
   {
    "duration": 5,
    "start_time": "2021-08-23T09:55:52.463Z"
   },
   {
    "duration": 442,
    "start_time": "2021-08-23T09:56:13.400Z"
   },
   {
    "duration": 804,
    "start_time": "2021-08-23T09:56:48.904Z"
   },
   {
    "duration": 14,
    "start_time": "2021-08-23T09:58:25.149Z"
   },
   {
    "duration": 38,
    "start_time": "2021-08-23T09:59:33.003Z"
   },
   {
    "duration": 374,
    "start_time": "2021-08-23T09:59:55.480Z"
   },
   {
    "duration": 7,
    "start_time": "2021-08-23T10:00:08.704Z"
   },
   {
    "duration": 4,
    "start_time": "2021-08-23T10:00:16.673Z"
   },
   {
    "duration": 379,
    "start_time": "2021-08-23T10:48:28.227Z"
   },
   {
    "duration": 1028,
    "start_time": "2021-08-23T10:49:05.074Z"
   },
   {
    "duration": 972,
    "start_time": "2021-08-23T10:49:49.232Z"
   },
   {
    "duration": 443,
    "start_time": "2021-08-23T10:50:54.478Z"
   },
   {
    "duration": 378,
    "start_time": "2021-08-23T10:50:55.014Z"
   },
   {
    "duration": 1004,
    "start_time": "2021-08-23T10:51:30.096Z"
   },
   {
    "duration": 447,
    "start_time": "2021-08-23T10:51:50.510Z"
   },
   {
    "duration": 989,
    "start_time": "2021-08-23T10:52:26.560Z"
   },
   {
    "duration": 416,
    "start_time": "2021-08-23T10:52:39.232Z"
   },
   {
    "duration": 600,
    "start_time": "2021-08-23T10:52:57.190Z"
   },
   {
    "duration": 711,
    "start_time": "2021-08-23T10:53:17.157Z"
   },
   {
    "duration": 507,
    "start_time": "2021-08-23T10:54:12.036Z"
   },
   {
    "duration": 484,
    "start_time": "2021-08-23T10:56:05.603Z"
   },
   {
    "duration": 479,
    "start_time": "2021-08-23T10:56:50.649Z"
   },
   {
    "duration": 443,
    "start_time": "2021-08-23T10:57:13.974Z"
   },
   {
    "duration": 5686,
    "start_time": "2021-08-23T10:57:23.917Z"
   },
   {
    "duration": 6,
    "start_time": "2021-08-23T10:57:33.623Z"
   },
   {
    "duration": 8,
    "start_time": "2021-08-23T10:57:34.744Z"
   },
   {
    "duration": 670,
    "start_time": "2021-08-23T10:57:42.848Z"
   },
   {
    "duration": 7,
    "start_time": "2021-08-23T10:59:13.959Z"
   },
   {
    "duration": 7,
    "start_time": "2021-08-23T10:59:26.260Z"
   },
   {
    "duration": 7,
    "start_time": "2021-08-23T11:00:14.213Z"
   },
   {
    "duration": 15,
    "start_time": "2021-08-23T11:00:18.157Z"
   },
   {
    "duration": 7,
    "start_time": "2021-08-23T11:00:23.607Z"
   },
   {
    "duration": 360,
    "start_time": "2021-08-23T11:00:44.638Z"
   },
   {
    "duration": 5,
    "start_time": "2021-08-23T11:00:50.839Z"
   },
   {
    "duration": 528,
    "start_time": "2021-08-23T11:01:04.084Z"
   },
   {
    "duration": 5,
    "start_time": "2021-08-23T11:01:27.832Z"
   },
   {
    "duration": 374,
    "start_time": "2021-08-23T11:01:32.351Z"
   },
   {
    "duration": 5,
    "start_time": "2021-08-23T11:01:36.207Z"
   },
   {
    "duration": 953,
    "start_time": "2021-08-23T11:03:26.216Z"
   },
   {
    "duration": 1337,
    "start_time": "2021-08-23T11:03:41.611Z"
   },
   {
    "duration": 37,
    "start_time": "2021-08-23T11:05:13.560Z"
   },
   {
    "duration": 494,
    "start_time": "2021-08-23T11:05:18.550Z"
   },
   {
    "duration": 380,
    "start_time": "2021-08-23T11:05:41.739Z"
   },
   {
    "duration": 128,
    "start_time": "2021-08-23T11:06:40.369Z"
   },
   {
    "duration": 424,
    "start_time": "2021-08-23T11:06:46.599Z"
   },
   {
    "duration": 908,
    "start_time": "2021-08-23T11:07:11.829Z"
   },
   {
    "duration": 425,
    "start_time": "2021-08-23T11:07:43.427Z"
   },
   {
    "duration": 370,
    "start_time": "2021-08-23T11:07:51.644Z"
   },
   {
    "duration": 2159,
    "start_time": "2021-08-23T11:08:14.463Z"
   },
   {
    "duration": 110,
    "start_time": "2021-08-23T11:08:16.625Z"
   },
   {
    "duration": 14,
    "start_time": "2021-08-23T11:08:16.737Z"
   },
   {
    "duration": 11,
    "start_time": "2021-08-23T11:08:16.754Z"
   },
   {
    "duration": 20,
    "start_time": "2021-08-23T11:08:16.767Z"
   },
   {
    "duration": 20,
    "start_time": "2021-08-23T11:08:16.789Z"
   },
   {
    "duration": 17,
    "start_time": "2021-08-23T11:08:16.811Z"
   },
   {
    "duration": 80,
    "start_time": "2021-08-23T11:08:16.831Z"
   },
   {
    "duration": 22,
    "start_time": "2021-08-23T11:08:16.914Z"
   },
   {
    "duration": 24,
    "start_time": "2021-08-23T11:08:16.939Z"
   },
   {
    "duration": 28,
    "start_time": "2021-08-23T11:08:16.966Z"
   },
   {
    "duration": 11,
    "start_time": "2021-08-23T11:08:16.997Z"
   },
   {
    "duration": 26,
    "start_time": "2021-08-23T11:08:17.011Z"
   },
   {
    "duration": 17,
    "start_time": "2021-08-23T11:08:17.039Z"
   },
   {
    "duration": 13,
    "start_time": "2021-08-23T11:08:17.058Z"
   },
   {
    "duration": 25,
    "start_time": "2021-08-23T11:08:17.073Z"
   },
   {
    "duration": 20,
    "start_time": "2021-08-23T11:08:17.100Z"
   },
   {
    "duration": 22,
    "start_time": "2021-08-23T11:08:17.123Z"
   },
   {
    "duration": 33,
    "start_time": "2021-08-23T11:08:17.147Z"
   },
   {
    "duration": 11,
    "start_time": "2021-08-23T11:08:17.182Z"
   },
   {
    "duration": 32,
    "start_time": "2021-08-23T11:08:17.195Z"
   },
   {
    "duration": 7,
    "start_time": "2021-08-23T11:08:17.230Z"
   },
   {
    "duration": 46,
    "start_time": "2021-08-23T11:08:17.242Z"
   },
   {
    "duration": 319,
    "start_time": "2021-08-23T11:08:17.291Z"
   },
   {
    "duration": 287,
    "start_time": "2021-08-23T11:08:17.612Z"
   },
   {
    "duration": 335,
    "start_time": "2021-08-23T11:08:17.901Z"
   },
   {
    "duration": 370,
    "start_time": "2021-08-23T11:08:18.239Z"
   },
   {
    "duration": 86,
    "start_time": "2021-08-23T11:08:18.612Z"
   },
   {
    "duration": 7,
    "start_time": "2021-08-23T11:08:18.701Z"
   },
   {
    "duration": 12,
    "start_time": "2021-08-23T11:08:18.711Z"
   },
   {
    "duration": 37,
    "start_time": "2021-08-23T11:08:18.726Z"
   },
   {
    "duration": 6,
    "start_time": "2021-08-23T11:08:18.765Z"
   },
   {
    "duration": 43,
    "start_time": "2021-08-23T11:08:18.773Z"
   },
   {
    "duration": 4,
    "start_time": "2021-08-23T11:08:18.819Z"
   },
   {
    "duration": 567,
    "start_time": "2021-08-23T11:08:18.825Z"
   },
   {
    "duration": 427,
    "start_time": "2021-08-23T11:08:55.284Z"
   },
   {
    "duration": 442,
    "start_time": "2021-08-23T11:09:10.462Z"
   },
   {
    "duration": 1237,
    "start_time": "2021-08-23T11:09:31.223Z"
   },
   {
    "duration": 120,
    "start_time": "2021-08-23T11:19:45.905Z"
   },
   {
    "duration": 1461,
    "start_time": "2021-08-23T11:20:27.910Z"
   },
   {
    "duration": 61282,
    "start_time": "2021-08-23T11:21:46.901Z"
   },
   {
    "duration": 12,
    "start_time": "2021-08-23T11:22:48.196Z"
   },
   {
    "duration": 7,
    "start_time": "2021-08-23T11:22:48.211Z"
   },
   {
    "duration": 388,
    "start_time": "2021-08-23T11:24:09.633Z"
   },
   {
    "duration": 429,
    "start_time": "2021-08-23T11:24:17.007Z"
   },
   {
    "duration": 29,
    "start_time": "2021-08-23T11:24:31.473Z"
   },
   {
    "duration": 540,
    "start_time": "2021-08-23T11:26:00.820Z"
   },
   {
    "duration": 518,
    "start_time": "2021-08-23T11:27:47.718Z"
   },
   {
    "duration": 409,
    "start_time": "2021-08-23T11:28:56.051Z"
   },
   {
    "duration": 370,
    "start_time": "2021-08-23T11:29:51.195Z"
   },
   {
    "duration": 1080,
    "start_time": "2021-08-23T11:33:24.809Z"
   },
   {
    "duration": 2237,
    "start_time": "2021-08-23T11:33:51.764Z"
   },
   {
    "duration": 938,
    "start_time": "2021-08-23T11:35:43.264Z"
   },
   {
    "duration": 515,
    "start_time": "2021-08-23T11:36:05.556Z"
   },
   {
    "duration": 422,
    "start_time": "2021-08-23T11:36:39.406Z"
   },
   {
    "duration": 140044,
    "start_time": "2021-08-23T11:38:04.259Z"
   },
   {
    "duration": 144097,
    "start_time": "2021-08-23T11:40:39.952Z"
   },
   {
    "duration": 5,
    "start_time": "2021-08-23T11:43:04.056Z"
   },
   {
    "duration": 13,
    "start_time": "2021-08-23T11:43:04.064Z"
   },
   {
    "duration": 639,
    "start_time": "2021-08-23T11:43:04.080Z"
   },
   {
    "duration": 248,
    "start_time": "2021-08-23T11:43:53.822Z"
   },
   {
    "duration": 390887,
    "start_time": "2021-08-23T11:44:37.878Z"
   },
   {
    "duration": 5,
    "start_time": "2021-08-23T11:51:08.768Z"
   },
   {
    "duration": 11,
    "start_time": "2021-08-23T11:51:08.776Z"
   },
   {
    "duration": 412,
    "start_time": "2021-08-23T11:51:08.789Z"
   },
   {
    "duration": 640,
    "start_time": "2021-08-23T11:51:09.212Z"
   },
   {
    "duration": -423,
    "start_time": "2021-08-23T11:51:10.278Z"
   },
   {
    "duration": -424,
    "start_time": "2021-08-23T11:51:10.281Z"
   },
   {
    "duration": -426,
    "start_time": "2021-08-23T11:51:10.285Z"
   },
   {
    "duration": -428,
    "start_time": "2021-08-23T11:51:10.289Z"
   },
   {
    "duration": 426,
    "start_time": "2021-08-24T04:53:08.205Z"
   },
   {
    "duration": 1700,
    "start_time": "2021-08-24T04:53:21.213Z"
   },
   {
    "duration": 120,
    "start_time": "2021-08-24T04:53:22.916Z"
   },
   {
    "duration": 17,
    "start_time": "2021-08-24T04:53:23.039Z"
   },
   {
    "duration": 7,
    "start_time": "2021-08-24T04:53:23.059Z"
   },
   {
    "duration": 18,
    "start_time": "2021-08-24T04:53:23.068Z"
   },
   {
    "duration": 23,
    "start_time": "2021-08-24T04:53:23.088Z"
   },
   {
    "duration": 20,
    "start_time": "2021-08-24T04:53:23.113Z"
   },
   {
    "duration": 107,
    "start_time": "2021-08-24T04:53:23.136Z"
   },
   {
    "duration": 21,
    "start_time": "2021-08-24T04:53:23.247Z"
   },
   {
    "duration": 29,
    "start_time": "2021-08-24T04:53:23.272Z"
   },
   {
    "duration": 19,
    "start_time": "2021-08-24T04:53:23.304Z"
   },
   {
    "duration": 11,
    "start_time": "2021-08-24T04:53:23.326Z"
   },
   {
    "duration": 10,
    "start_time": "2021-08-24T04:53:23.341Z"
   },
   {
    "duration": 47,
    "start_time": "2021-08-24T04:53:23.353Z"
   },
   {
    "duration": 7,
    "start_time": "2021-08-24T04:53:23.403Z"
   },
   {
    "duration": 14,
    "start_time": "2021-08-24T04:53:23.413Z"
   },
   {
    "duration": 10,
    "start_time": "2021-08-24T04:53:23.429Z"
   },
   {
    "duration": 15,
    "start_time": "2021-08-24T04:53:23.442Z"
   },
   {
    "duration": 79,
    "start_time": "2021-08-24T04:53:23.460Z"
   },
   {
    "duration": 13,
    "start_time": "2021-08-24T04:53:23.542Z"
   },
   {
    "duration": 10,
    "start_time": "2021-08-24T04:53:23.557Z"
   },
   {
    "duration": 35,
    "start_time": "2021-08-24T04:53:23.569Z"
   },
   {
    "duration": 48,
    "start_time": "2021-08-24T04:53:23.607Z"
   },
   {
    "duration": 353,
    "start_time": "2021-08-24T04:53:23.657Z"
   },
   {
    "duration": 327,
    "start_time": "2021-08-24T04:53:24.013Z"
   },
   {
    "duration": 322,
    "start_time": "2021-08-24T04:53:24.343Z"
   },
   {
    "duration": 290,
    "start_time": "2021-08-24T04:53:24.672Z"
   },
   {
    "duration": 86,
    "start_time": "2021-08-24T04:53:24.965Z"
   },
   {
    "duration": 6,
    "start_time": "2021-08-24T04:53:25.053Z"
   },
   {
    "duration": 11,
    "start_time": "2021-08-24T04:53:25.062Z"
   },
   {
    "duration": 34,
    "start_time": "2021-08-24T04:53:25.076Z"
   },
   {
    "duration": 5,
    "start_time": "2021-08-24T04:53:25.112Z"
   },
   {
    "duration": 36,
    "start_time": "2021-08-24T04:53:25.119Z"
   },
   {
    "duration": 43,
    "start_time": "2021-08-24T04:53:25.158Z"
   },
   {
    "duration": 506,
    "start_time": "2021-08-24T04:53:51.904Z"
   },
   {
    "duration": 6,
    "start_time": "2021-08-24T04:54:13.433Z"
   },
   {
    "duration": 1177475,
    "start_time": "2021-08-24T04:54:21.409Z"
   },
   {
    "duration": 6,
    "start_time": "2021-08-24T05:18:51.636Z"
   },
   {
    "duration": 6,
    "start_time": "2021-08-24T05:20:49.062Z"
   },
   {
    "duration": 718,
    "start_time": "2021-08-24T05:20:51.233Z"
   },
   {
    "duration": 49,
    "start_time": "2021-08-24T05:20:59.914Z"
   },
   {
    "duration": 1475806,
    "start_time": "2021-08-24T05:21:19.453Z"
   },
   {
    "duration": 6,
    "start_time": "2021-08-24T05:45:55.261Z"
   },
   {
    "duration": 14,
    "start_time": "2021-08-24T05:45:55.270Z"
   },
   {
    "duration": 50,
    "start_time": "2021-08-24T05:45:55.301Z"
   },
   {
    "duration": 290,
    "start_time": "2021-08-25T14:00:37.880Z"
   },
   {
    "duration": -2465,
    "start_time": "2021-08-25T14:00:40.638Z"
   },
   {
    "duration": 1603,
    "start_time": "2021-08-25T14:00:49.447Z"
   },
   {
    "duration": 326,
    "start_time": "2021-08-25T14:01:00.688Z"
   },
   {
    "duration": 6,
    "start_time": "2021-08-25T14:01:22.225Z"
   },
   {
    "duration": 129,
    "start_time": "2021-08-25T14:01:23.275Z"
   },
   {
    "duration": 14,
    "start_time": "2021-08-25T14:01:23.406Z"
   },
   {
    "duration": 8,
    "start_time": "2021-08-25T14:01:23.516Z"
   },
   {
    "duration": 15,
    "start_time": "2021-08-25T14:01:23.615Z"
   },
   {
    "duration": 15,
    "start_time": "2021-08-25T14:01:23.685Z"
   },
   {
    "duration": 17,
    "start_time": "2021-08-25T14:01:23.745Z"
   },
   {
    "duration": 60,
    "start_time": "2021-08-25T14:01:23.885Z"
   },
   {
    "duration": 24,
    "start_time": "2021-08-25T14:01:24.046Z"
   },
   {
    "duration": 13,
    "start_time": "2021-08-25T14:01:24.088Z"
   },
   {
    "duration": 21,
    "start_time": "2021-08-25T14:01:24.184Z"
   },
   {
    "duration": 12,
    "start_time": "2021-08-25T14:01:24.515Z"
   },
   {
    "duration": 19,
    "start_time": "2021-08-25T14:01:24.529Z"
   },
   {
    "duration": 17,
    "start_time": "2021-08-25T14:01:24.551Z"
   },
   {
    "duration": 6,
    "start_time": "2021-08-25T14:01:27.425Z"
   },
   {
    "duration": 14,
    "start_time": "2021-08-25T14:01:27.434Z"
   },
   {
    "duration": 11,
    "start_time": "2021-08-25T14:01:27.452Z"
   },
   {
    "duration": 14,
    "start_time": "2021-08-25T14:01:27.544Z"
   },
   {
    "duration": 33,
    "start_time": "2021-08-25T14:01:27.561Z"
   },
   {
    "duration": 11,
    "start_time": "2021-08-25T14:01:27.598Z"
   },
   {
    "duration": 6,
    "start_time": "2021-08-25T14:17:22.951Z"
   },
   {
    "duration": 105,
    "start_time": "2021-08-25T14:17:24.134Z"
   },
   {
    "duration": 9,
    "start_time": "2021-08-25T14:17:26.313Z"
   },
   {
    "duration": 9,
    "start_time": "2021-08-25T14:17:27.621Z"
   },
   {
    "duration": 15,
    "start_time": "2021-08-25T14:17:28.081Z"
   },
   {
    "duration": 12,
    "start_time": "2021-08-25T14:17:28.873Z"
   },
   {
    "duration": 15,
    "start_time": "2021-08-25T14:17:29.585Z"
   },
   {
    "duration": 62,
    "start_time": "2021-08-25T14:17:31.562Z"
   },
   {
    "duration": 22,
    "start_time": "2021-08-25T14:17:32.092Z"
   },
   {
    "duration": 12,
    "start_time": "2021-08-25T14:17:32.492Z"
   },
   {
    "duration": 17,
    "start_time": "2021-08-25T14:17:32.764Z"
   },
   {
    "duration": 12,
    "start_time": "2021-08-25T14:17:33.060Z"
   },
   {
    "duration": 9,
    "start_time": "2021-08-25T14:17:33.954Z"
   },
   {
    "duration": 3,
    "start_time": "2021-08-25T14:17:35.064Z"
   },
   {
    "duration": 6,
    "start_time": "2021-08-25T14:17:35.592Z"
   },
   {
    "duration": 9,
    "start_time": "2021-08-25T14:17:36.180Z"
   },
   {
    "duration": 9,
    "start_time": "2021-08-25T14:17:38.724Z"
   },
   {
    "duration": 14,
    "start_time": "2021-08-25T14:17:40.832Z"
   },
   {
    "duration": 33,
    "start_time": "2021-08-25T14:17:42.075Z"
   },
   {
    "duration": 11,
    "start_time": "2021-08-25T14:17:42.799Z"
   },
   {
    "duration": 7,
    "start_time": "2021-08-25T14:17:43.468Z"
   },
   {
    "duration": 6,
    "start_time": "2021-08-25T14:17:43.822Z"
   },
   {
    "duration": 35,
    "start_time": "2021-08-25T14:17:44.348Z"
   },
   {
    "duration": 301,
    "start_time": "2021-08-25T14:17:44.907Z"
   },
   {
    "duration": 304,
    "start_time": "2021-08-25T14:17:51.981Z"
   },
   {
    "duration": 318,
    "start_time": "2021-08-25T14:17:52.487Z"
   },
   {
    "duration": 293,
    "start_time": "2021-08-25T14:17:53.235Z"
   },
   {
    "duration": 141,
    "start_time": "2021-08-25T14:17:55.848Z"
   },
   {
    "duration": 7,
    "start_time": "2021-08-25T14:17:57.091Z"
   },
   {
    "duration": 9,
    "start_time": "2021-08-25T14:17:57.795Z"
   },
   {
    "duration": 14,
    "start_time": "2021-08-25T14:18:00.267Z"
   },
   {
    "duration": 6,
    "start_time": "2021-08-25T14:18:01.958Z"
   },
   {
    "duration": 39,
    "start_time": "2021-08-25T14:18:02.531Z"
   },
   {
    "duration": 4,
    "start_time": "2021-08-25T14:18:04.599Z"
   },
   {
    "duration": 252,
    "start_time": "2021-08-25T14:18:05.767Z"
   },
   {
    "duration": 36,
    "start_time": "2021-08-25T14:18:06.499Z"
   },
   {
    "duration": 3,
    "start_time": "2021-08-25T14:18:34.400Z"
   },
   {
    "duration": 304,
    "start_time": "2021-08-25T14:18:52.112Z"
   },
   {
    "duration": 274,
    "start_time": "2021-08-25T14:19:17.300Z"
   },
   {
    "duration": 296,
    "start_time": "2021-08-25T14:19:45.595Z"
   },
   {
    "duration": 317,
    "start_time": "2021-08-25T14:19:59.978Z"
   },
   {
    "duration": 18,
    "start_time": "2021-08-25T14:21:12.123Z"
   },
   {
    "duration": 37,
    "start_time": "2021-08-25T14:21:19.003Z"
   },
   {
    "duration": 21,
    "start_time": "2021-08-25T14:21:29.520Z"
   },
   {
    "duration": 19,
    "start_time": "2021-08-25T14:21:56.140Z"
   },
   {
    "duration": 21,
    "start_time": "2021-08-25T14:22:21.259Z"
   },
   {
    "duration": 37,
    "start_time": "2021-08-25T14:22:28.752Z"
   },
   {
    "duration": 356,
    "start_time": "2021-08-25T14:22:57.032Z"
   },
   {
    "duration": 56,
    "start_time": "2021-08-25T14:23:38.051Z"
   },
   {
    "duration": 152,
    "start_time": "2021-08-25T14:23:44.427Z"
   },
   {
    "duration": 152,
    "start_time": "2021-08-25T14:24:34.023Z"
   },
   {
    "duration": 159,
    "start_time": "2021-08-25T14:26:58.045Z"
   },
   {
    "duration": 258,
    "start_time": "2021-08-25T14:29:15.376Z"
   },
   {
    "duration": 300,
    "start_time": "2021-08-25T14:29:47.976Z"
   },
   {
    "duration": 159,
    "start_time": "2021-08-25T14:31:58.616Z"
   },
   {
    "duration": 37,
    "start_time": "2021-08-25T14:31:59.466Z"
   },
   {
    "duration": 456,
    "start_time": "2021-08-25T14:32:33.644Z"
   },
   {
    "duration": 175,
    "start_time": "2021-08-25T14:32:48.693Z"
   },
   {
    "duration": 155,
    "start_time": "2021-08-25T14:33:02.468Z"
   },
   {
    "duration": 55,
    "start_time": "2021-08-25T14:33:28.054Z"
   },
   {
    "duration": 6,
    "start_time": "2021-08-25T14:36:02.031Z"
   },
   {
    "duration": 4,
    "start_time": "2021-08-25T14:38:03.402Z"
   },
   {
    "duration": 292,
    "start_time": "2021-08-25T14:38:30.612Z"
   },
   {
    "duration": 336,
    "start_time": "2021-08-25T14:48:14.404Z"
   },
   {
    "duration": 37,
    "start_time": "2021-08-25T14:48:14.977Z"
   },
   {
    "duration": 332,
    "start_time": "2021-08-25T14:52:13.114Z"
   },
   {
    "duration": 51,
    "start_time": "2021-08-25T14:52:42.124Z"
   },
   {
    "duration": 59,
    "start_time": "2021-08-25T14:53:13.192Z"
   },
   {
    "duration": 89,
    "start_time": "2021-08-25T14:54:54.399Z"
   },
   {
    "duration": 92,
    "start_time": "2021-08-25T14:55:11.138Z"
   },
   {
    "duration": 1796748,
    "start_time": "2021-08-25T14:56:42.939Z"
   },
   {
    "duration": 5,
    "start_time": "2021-08-25T15:26:39.690Z"
   },
   {
    "duration": 5,
    "start_time": "2021-08-25T15:34:24.616Z"
   },
   {
    "duration": 60,
    "start_time": "2021-08-25T15:34:25.806Z"
   },
   {
    "duration": 263,
    "start_time": "2021-08-25T15:34:27.714Z"
   },
   {
    "duration": 316,
    "start_time": "2021-08-25T15:38:22.971Z"
   },
   {
    "duration": 311,
    "start_time": "2021-08-25T15:40:29.325Z"
   },
   {
    "duration": 49,
    "start_time": "2021-08-25T15:40:43.940Z"
   },
   {
    "duration": 51,
    "start_time": "2021-08-25T15:42:23.830Z"
   },
   {
    "duration": 50,
    "start_time": "2021-08-25T15:42:54.277Z"
   },
   {
    "duration": 46,
    "start_time": "2021-08-25T15:43:15.161Z"
   },
   {
    "duration": 118,
    "start_time": "2021-08-25T15:43:22.530Z"
   },
   {
    "duration": 91,
    "start_time": "2021-08-25T15:43:41.922Z"
   },
   {
    "duration": 117,
    "start_time": "2021-08-25T15:45:04.676Z"
   },
   {
    "duration": 6,
    "start_time": "2021-08-25T15:47:26.647Z"
   },
   {
    "duration": 105,
    "start_time": "2021-08-25T15:47:26.726Z"
   },
   {
    "duration": 11,
    "start_time": "2021-08-25T15:47:26.835Z"
   },
   {
    "duration": 20,
    "start_time": "2021-08-25T15:47:26.850Z"
   },
   {
    "duration": 27,
    "start_time": "2021-08-25T15:47:26.873Z"
   },
   {
    "duration": 19,
    "start_time": "2021-08-25T15:47:26.902Z"
   },
   {
    "duration": 23,
    "start_time": "2021-08-25T15:47:26.924Z"
   },
   {
    "duration": 66,
    "start_time": "2021-08-25T15:47:26.949Z"
   },
   {
    "duration": 21,
    "start_time": "2021-08-25T15:47:27.018Z"
   },
   {
    "duration": 32,
    "start_time": "2021-08-25T15:47:27.042Z"
   },
   {
    "duration": 21,
    "start_time": "2021-08-25T15:47:27.077Z"
   },
   {
    "duration": 10,
    "start_time": "2021-08-25T15:47:27.101Z"
   },
   {
    "duration": 30,
    "start_time": "2021-08-25T15:47:27.114Z"
   },
   {
    "duration": 20,
    "start_time": "2021-08-25T15:47:27.147Z"
   },
   {
    "duration": 7,
    "start_time": "2021-08-25T15:47:27.170Z"
   },
   {
    "duration": 15,
    "start_time": "2021-08-25T15:47:27.179Z"
   },
   {
    "duration": 17,
    "start_time": "2021-08-25T15:47:27.196Z"
   },
   {
    "duration": 23,
    "start_time": "2021-08-25T15:47:27.216Z"
   },
   {
    "duration": 53,
    "start_time": "2021-08-25T15:47:27.242Z"
   },
   {
    "duration": 13,
    "start_time": "2021-08-25T15:47:27.301Z"
   },
   {
    "duration": 17,
    "start_time": "2021-08-25T15:47:27.318Z"
   },
   {
    "duration": 7,
    "start_time": "2021-08-25T15:47:27.366Z"
   },
   {
    "duration": 51,
    "start_time": "2021-08-25T15:47:27.376Z"
   },
   {
    "duration": 318,
    "start_time": "2021-08-25T15:47:27.430Z"
   },
   {
    "duration": 319,
    "start_time": "2021-08-25T15:47:27.751Z"
   },
   {
    "duration": 347,
    "start_time": "2021-08-25T15:47:28.073Z"
   },
   {
    "duration": 310,
    "start_time": "2021-08-25T15:47:28.422Z"
   },
   {
    "duration": 7441,
    "start_time": "2021-08-25T15:47:28.735Z"
   },
   {
    "duration": -2607,
    "start_time": "2021-08-25T15:47:38.786Z"
   },
   {
    "duration": -2614,
    "start_time": "2021-08-25T15:47:38.794Z"
   },
   {
    "duration": -2622,
    "start_time": "2021-08-25T15:47:38.803Z"
   },
   {
    "duration": -2627,
    "start_time": "2021-08-25T15:47:38.810Z"
   },
   {
    "duration": -2633,
    "start_time": "2021-08-25T15:47:38.817Z"
   },
   {
    "duration": -2638,
    "start_time": "2021-08-25T15:47:38.823Z"
   },
   {
    "duration": -2642,
    "start_time": "2021-08-25T15:47:38.829Z"
   },
   {
    "duration": -2651,
    "start_time": "2021-08-25T15:47:38.840Z"
   },
   {
    "duration": 58,
    "start_time": "2021-08-25T15:48:10.989Z"
   },
   {
    "duration": 7,
    "start_time": "2021-08-25T15:48:12.309Z"
   },
   {
    "duration": 9,
    "start_time": "2021-08-25T15:48:12.805Z"
   },
   {
    "duration": 14,
    "start_time": "2021-08-25T15:48:13.381Z"
   },
   {
    "duration": 5,
    "start_time": "2021-08-25T15:48:14.645Z"
   },
   {
    "duration": 37,
    "start_time": "2021-08-25T15:48:15.061Z"
   },
   {
    "duration": 4,
    "start_time": "2021-08-25T15:48:15.830Z"
   },
   {
    "duration": 46,
    "start_time": "2021-08-25T15:48:17.381Z"
   },
   {
    "duration": 115,
    "start_time": "2021-08-25T15:48:18.821Z"
   },
   {
    "duration": 41,
    "start_time": "2021-08-25T15:52:54.620Z"
   },
   {
    "duration": 2303570,
    "start_time": "2021-08-25T15:55:27.660Z"
   },
   {
    "duration": 5,
    "start_time": "2021-08-25T16:33:51.232Z"
   },
   {
    "duration": 12,
    "start_time": "2021-08-25T16:33:51.240Z"
   },
   {
    "duration": 73,
    "start_time": "2021-08-25T16:33:51.268Z"
   },
   {
    "duration": 285,
    "start_time": "2021-08-25T16:33:51.343Z"
   },
   {
    "duration": 5,
    "start_time": "2021-08-25T16:37:17.915Z"
   },
   {
    "duration": 72,
    "start_time": "2021-08-25T16:37:19.023Z"
   },
   {
    "duration": 85,
    "start_time": "2021-08-25T16:37:21.386Z"
   },
   {
    "duration": 252,
    "start_time": "2021-08-25T16:39:11.212Z"
   },
   {
    "duration": 100,
    "start_time": "2021-08-25T16:40:07.084Z"
   },
   {
    "duration": 53,
    "start_time": "2021-08-25T16:40:12.145Z"
   },
   {
    "duration": 312,
    "start_time": "2021-08-25T16:42:19.036Z"
   },
   {
    "duration": 435,
    "start_time": "2021-08-25T16:46:58.132Z"
   },
   {
    "duration": 795,
    "start_time": "2021-08-25T18:53:33.007Z"
   },
   {
    "duration": 230,
    "start_time": "2021-08-25T18:55:59.756Z"
   },
   {
    "duration": 1095,
    "start_time": "2021-08-25T18:56:10.412Z"
   },
   {
    "duration": 86,
    "start_time": "2021-08-25T18:56:11.509Z"
   },
   {
    "duration": 8,
    "start_time": "2021-08-25T18:56:11.597Z"
   },
   {
    "duration": 12,
    "start_time": "2021-08-25T18:56:11.607Z"
   },
   {
    "duration": 12,
    "start_time": "2021-08-25T18:56:11.620Z"
   },
   {
    "duration": 8,
    "start_time": "2021-08-25T18:56:11.633Z"
   },
   {
    "duration": 10,
    "start_time": "2021-08-25T18:56:11.643Z"
   },
   {
    "duration": 38,
    "start_time": "2021-08-25T18:56:11.655Z"
   },
   {
    "duration": 11,
    "start_time": "2021-08-25T18:56:11.695Z"
   },
   {
    "duration": 7,
    "start_time": "2021-08-25T18:56:11.707Z"
   },
   {
    "duration": 11,
    "start_time": "2021-08-25T18:56:11.715Z"
   },
   {
    "duration": 6,
    "start_time": "2021-08-25T18:56:11.728Z"
   },
   {
    "duration": 11,
    "start_time": "2021-08-25T18:56:11.735Z"
   },
   {
    "duration": 7,
    "start_time": "2021-08-25T18:56:11.747Z"
   },
   {
    "duration": 12,
    "start_time": "2021-08-25T18:56:11.756Z"
   },
   {
    "duration": 25,
    "start_time": "2021-08-25T18:56:11.769Z"
   },
   {
    "duration": 9,
    "start_time": "2021-08-25T18:56:11.796Z"
   },
   {
    "duration": 12,
    "start_time": "2021-08-25T18:56:11.807Z"
   },
   {
    "duration": 19,
    "start_time": "2021-08-25T18:56:11.821Z"
   },
   {
    "duration": 6,
    "start_time": "2021-08-25T18:56:11.841Z"
   },
   {
    "duration": 13,
    "start_time": "2021-08-25T18:56:11.849Z"
   },
   {
    "duration": 8,
    "start_time": "2021-08-25T18:56:11.863Z"
   },
   {
    "duration": 30,
    "start_time": "2021-08-25T18:56:11.874Z"
   },
   {
    "duration": 166,
    "start_time": "2021-08-25T18:56:11.906Z"
   },
   {
    "duration": 158,
    "start_time": "2021-08-25T18:56:12.073Z"
   },
   {
    "duration": 176,
    "start_time": "2021-08-25T18:56:12.232Z"
   },
   {
    "duration": 162,
    "start_time": "2021-08-25T18:56:12.409Z"
   },
   {
    "duration": 42,
    "start_time": "2021-08-25T18:56:12.573Z"
   },
   {
    "duration": 4,
    "start_time": "2021-08-25T18:56:12.616Z"
   },
   {
    "duration": 11,
    "start_time": "2021-08-25T18:56:12.621Z"
   },
   {
    "duration": 11,
    "start_time": "2021-08-25T18:56:12.633Z"
   },
   {
    "duration": 3,
    "start_time": "2021-08-25T18:56:12.646Z"
   },
   {
    "duration": 21,
    "start_time": "2021-08-25T18:56:12.650Z"
   },
   {
    "duration": 18,
    "start_time": "2021-08-25T18:56:12.673Z"
   },
   {
    "duration": 344,
    "start_time": "2021-08-25T18:56:12.692Z"
   },
   {
    "duration": -1137,
    "start_time": "2021-08-25T18:56:14.175Z"
   },
   {
    "duration": -1140,
    "start_time": "2021-08-25T18:56:14.179Z"
   },
   {
    "duration": -1141,
    "start_time": "2021-08-25T18:56:14.181Z"
   },
   {
    "duration": -1143,
    "start_time": "2021-08-25T18:56:14.184Z"
   },
   {
    "duration": -1146,
    "start_time": "2021-08-25T18:56:14.188Z"
   },
   {
    "duration": -1147,
    "start_time": "2021-08-25T18:56:14.190Z"
   },
   {
    "duration": -1148,
    "start_time": "2021-08-25T18:56:14.192Z"
   },
   {
    "duration": -1149,
    "start_time": "2021-08-25T18:56:14.194Z"
   },
   {
    "duration": -1150,
    "start_time": "2021-08-25T18:56:14.196Z"
   },
   {
    "duration": 232,
    "start_time": "2021-08-25T18:56:34.309Z"
   },
   {
    "duration": 365,
    "start_time": "2021-08-25T18:56:34.720Z"
   },
   {
    "duration": 259,
    "start_time": "2021-08-25T18:56:49.436Z"
   },
   {
    "duration": 3,
    "start_time": "2021-08-25T18:56:49.875Z"
   },
   {
    "duration": 28,
    "start_time": "2021-08-25T18:56:51.586Z"
   },
   {
    "duration": 246,
    "start_time": "2021-08-25T18:56:52.504Z"
   },
   {
    "duration": 4,
    "start_time": "2021-08-25T18:57:00.148Z"
   },
   {
    "duration": 277,
    "start_time": "2021-08-25T18:57:03.965Z"
   },
   {
    "duration": 27,
    "start_time": "2021-08-25T18:57:09.005Z"
   },
   {
    "duration": 247,
    "start_time": "2021-08-25T18:57:09.597Z"
   },
   {
    "duration": 58,
    "start_time": "2021-08-25T18:58:44.726Z"
   },
   {
    "duration": 23,
    "start_time": "2021-08-25T18:58:49.151Z"
   },
   {
    "duration": 3,
    "start_time": "2021-08-25T18:59:01.336Z"
   },
   {
    "duration": 277,
    "start_time": "2021-08-25T18:59:04.368Z"
   },
   {
    "duration": 4,
    "start_time": "2021-08-25T18:59:23.808Z"
   },
   {
    "duration": 1275630,
    "start_time": "2021-08-25T18:59:26.867Z"
   },
   {
    "duration": 4,
    "start_time": "2021-08-25T19:40:15.717Z"
   },
   {
    "duration": 288,
    "start_time": "2021-08-25T19:40:19.472Z"
   },
   {
    "duration": 50,
    "start_time": "2021-08-25T19:40:46.783Z"
   },
   {
    "duration": 19,
    "start_time": "2021-08-25T19:40:57.214Z"
   },
   {
    "duration": 239,
    "start_time": "2021-08-25T19:41:55.733Z"
   },
   {
    "duration": 20,
    "start_time": "2021-08-25T19:42:20.847Z"
   },
   {
    "duration": 244,
    "start_time": "2021-08-25T19:42:25.261Z"
   },
   {
    "duration": 4,
    "start_time": "2021-08-25T19:42:30.702Z"
   },
   {
    "duration": 242,
    "start_time": "2021-08-25T19:42:35.326Z"
   },
   {
    "duration": 5,
    "start_time": "2021-08-25T19:42:51.681Z"
   },
   {
    "duration": 4,
    "start_time": "2021-08-25T19:43:04.543Z"
   },
   {
    "duration": 257,
    "start_time": "2021-08-25T19:43:09.283Z"
   },
   {
    "duration": 5191,
    "start_time": "2021-08-25T19:43:32.452Z"
   },
   {
    "duration": 16,
    "start_time": "2021-08-25T19:43:54.835Z"
   },
   {
    "duration": 4559,
    "start_time": "2021-08-25T19:51:12.540Z"
   },
   {
    "duration": 6504,
    "start_time": "2021-08-25T19:51:26.899Z"
   },
   {
    "duration": 1489585,
    "start_time": "2021-08-25T19:51:44.441Z"
   },
   {
    "duration": 606,
    "start_time": "2021-08-25T20:16:34.033Z"
   },
   {
    "duration": 4,
    "start_time": "2021-08-25T20:16:34.641Z"
   },
   {
    "duration": 260,
    "start_time": "2021-08-25T20:19:19.749Z"
   },
   {
    "duration": 4,
    "start_time": "2021-08-25T20:19:33.533Z"
   },
   {
    "duration": 234,
    "start_time": "2021-08-25T20:19:42.316Z"
   },
   {
    "duration": 21,
    "start_time": "2021-08-25T20:20:31.210Z"
   },
   {
    "duration": 4,
    "start_time": "2021-08-25T20:21:48.820Z"
   },
   {
    "duration": 93288,
    "start_time": "2021-08-25T20:23:22.200Z"
   },
   {
    "duration": 125,
    "start_time": "2021-08-25T20:24:55.365Z"
   },
   {
    "duration": 162,
    "start_time": "2021-08-25T20:25:00.834Z"
   },
   {
    "duration": 21,
    "start_time": "2021-08-25T20:25:07.648Z"
   },
   {
    "duration": 19,
    "start_time": "2021-08-25T20:25:15.906Z"
   },
   {
    "duration": 5,
    "start_time": "2021-08-25T20:25:58.949Z"
   },
   {
    "duration": 19,
    "start_time": "2021-08-25T20:26:00.102Z"
   },
   {
    "duration": 2,
    "start_time": "2021-08-25T20:27:21.283Z"
   },
   {
    "duration": 275,
    "start_time": "2021-08-25T20:27:26.546Z"
   },
   {
    "duration": 44,
    "start_time": "2021-08-25T20:27:39.047Z"
   },
   {
    "duration": 166,
    "start_time": "2021-08-25T20:27:39.720Z"
   },
   {
    "duration": 525925,
    "start_time": "2021-08-25T20:28:47.043Z"
   },
   {
    "duration": 6648,
    "start_time": "2021-08-25T20:37:32.970Z"
   },
   {
    "duration": 176,
    "start_time": "2021-08-25T20:37:39.444Z"
   },
   {
    "duration": 174,
    "start_time": "2021-08-25T20:37:39.448Z"
   },
   {
    "duration": 172,
    "start_time": "2021-08-25T20:37:39.451Z"
   },
   {
    "duration": 4,
    "start_time": "2021-08-25T20:43:23.756Z"
   },
   {
    "duration": 3,
    "start_time": "2021-08-25T20:43:27.867Z"
   },
   {
    "duration": 7,
    "start_time": "2021-08-25T20:44:41.007Z"
   },
   {
    "duration": 6,
    "start_time": "2021-08-25T20:45:11.208Z"
   },
   {
    "duration": 21,
    "start_time": "2021-08-25T20:45:34.872Z"
   },
   {
    "duration": 257,
    "start_time": "2021-08-25T20:46:17.747Z"
   },
   {
    "duration": 9,
    "start_time": "2021-08-25T20:46:26.691Z"
   },
   {
    "duration": 256,
    "start_time": "2021-08-25T20:47:11.894Z"
   },
   {
    "duration": 233,
    "start_time": "2021-08-25T20:47:19.077Z"
   },
   {
    "duration": 249,
    "start_time": "2021-08-25T20:47:22.373Z"
   },
   {
    "duration": 293,
    "start_time": "2021-08-25T20:47:50.254Z"
   },
   {
    "duration": 9,
    "start_time": "2021-08-25T20:48:02.132Z"
   },
   {
    "duration": 1635,
    "start_time": "2021-08-25T20:52:37.430Z"
   },
   {
    "duration": 13745,
    "start_time": "2021-08-25T20:53:01.680Z"
   },
   {
    "duration": 12663,
    "start_time": "2021-08-25T20:57:17.158Z"
   },
   {
    "duration": 89,
    "start_time": "2021-08-25T20:59:22.651Z"
   },
   {
    "duration": 7,
    "start_time": "2021-08-25T20:59:22.860Z"
   },
   {
    "duration": 5,
    "start_time": "2021-08-25T20:59:23.234Z"
   },
   {
    "duration": 9,
    "start_time": "2021-08-25T20:59:23.426Z"
   },
   {
    "duration": 7,
    "start_time": "2021-08-25T20:59:23.627Z"
   },
   {
    "duration": 9,
    "start_time": "2021-08-25T20:59:23.826Z"
   },
   {
    "duration": 34,
    "start_time": "2021-08-25T20:59:24.453Z"
   },
   {
    "duration": 15,
    "start_time": "2021-08-25T20:59:24.619Z"
   },
   {
    "duration": 9,
    "start_time": "2021-08-25T20:59:24.828Z"
   },
   {
    "duration": 12,
    "start_time": "2021-08-25T20:59:25.050Z"
   },
   {
    "duration": 8,
    "start_time": "2021-08-25T20:59:25.307Z"
   },
   {
    "duration": 6,
    "start_time": "2021-08-25T20:59:26.093Z"
   },
   {
    "duration": 2,
    "start_time": "2021-08-25T20:59:26.530Z"
   },
   {
    "duration": 5,
    "start_time": "2021-08-25T20:59:26.754Z"
   },
   {
    "duration": 6,
    "start_time": "2021-08-25T20:59:26.970Z"
   },
   {
    "duration": 6,
    "start_time": "2021-08-25T20:59:27.994Z"
   },
   {
    "duration": 9,
    "start_time": "2021-08-25T20:59:28.763Z"
   },
   {
    "duration": 18,
    "start_time": "2021-08-25T20:59:29.043Z"
   },
   {
    "duration": 7,
    "start_time": "2021-08-25T20:59:29.419Z"
   },
   {
    "duration": 6,
    "start_time": "2021-08-25T20:59:29.883Z"
   },
   {
    "duration": 4,
    "start_time": "2021-08-25T20:59:30.299Z"
   },
   {
    "duration": 24,
    "start_time": "2021-08-25T20:59:30.635Z"
   },
   {
    "duration": 156,
    "start_time": "2021-08-25T20:59:30.947Z"
   },
   {
    "duration": 227,
    "start_time": "2021-08-25T20:59:31.331Z"
   },
   {
    "duration": 163,
    "start_time": "2021-08-25T20:59:31.659Z"
   },
   {
    "duration": 151,
    "start_time": "2021-08-25T20:59:32.075Z"
   },
   {
    "duration": 33,
    "start_time": "2021-08-25T20:59:33.034Z"
   },
   {
    "duration": 5,
    "start_time": "2021-08-25T20:59:34.307Z"
   },
   {
    "duration": 6,
    "start_time": "2021-08-25T20:59:34.805Z"
   },
   {
    "duration": 9,
    "start_time": "2021-08-25T20:59:35.531Z"
   },
   {
    "duration": 3,
    "start_time": "2021-08-25T20:59:36.747Z"
   },
   {
    "duration": 3,
    "start_time": "2021-08-25T20:59:44.839Z"
   },
   {
    "duration": 4,
    "start_time": "2021-08-25T20:59:45.595Z"
   },
   {
    "duration": 27,
    "start_time": "2021-08-25T20:59:46.932Z"
   },
   {
    "duration": 164,
    "start_time": "2021-08-25T20:59:48.303Z"
   },
   {
    "duration": 6,
    "start_time": "2021-08-25T20:59:50.364Z"
   },
   {
    "duration": 2,
    "start_time": "2021-08-25T20:59:51.813Z"
   },
   {
    "duration": 3,
    "start_time": "2021-08-25T20:59:53.694Z"
   },
   {
    "duration": 13877,
    "start_time": "2021-08-25T21:00:07.846Z"
   },
   {
    "duration": 2,
    "start_time": "2021-08-25T21:00:28.666Z"
   },
   {
    "duration": 3,
    "start_time": "2021-08-25T21:01:24.679Z"
   },
   {
    "duration": 14343,
    "start_time": "2021-08-25T21:02:51.393Z"
   },
   {
    "duration": 10,
    "start_time": "2021-08-25T21:03:28.494Z"
   },
   {
    "duration": 9,
    "start_time": "2021-08-25T21:04:46.308Z"
   },
   {
    "duration": 266,
    "start_time": "2021-08-25T21:04:52.899Z"
   },
   {
    "duration": 250,
    "start_time": "2021-08-25T21:05:03.390Z"
   },
   {
    "duration": 5,
    "start_time": "2021-08-25T21:05:22.485Z"
   },
   {
    "duration": 5,
    "start_time": "2021-08-25T21:05:30.903Z"
   },
   {
    "duration": 3,
    "start_time": "2021-08-25T21:05:36.735Z"
   },
   {
    "duration": 2,
    "start_time": "2021-08-25T21:05:45.063Z"
   },
   {
    "duration": 2,
    "start_time": "2021-08-25T21:06:06.704Z"
   },
   {
    "duration": 3,
    "start_time": "2021-08-25T21:06:19.348Z"
   },
   {
    "duration": 4350,
    "start_time": "2021-08-25T21:06:32.961Z"
   },
   {
    "duration": 240,
    "start_time": "2021-08-25T21:06:58.846Z"
   },
   {
    "duration": 236,
    "start_time": "2021-08-25T21:07:07.132Z"
   },
   {
    "duration": 3,
    "start_time": "2021-08-25T21:07:16.667Z"
   },
   {
    "duration": 5,
    "start_time": "2021-08-25T21:07:27.586Z"
   },
   {
    "duration": 287,
    "start_time": "2021-08-25T21:07:42.778Z"
   },
   {
    "duration": 3,
    "start_time": "2021-08-25T21:07:51.715Z"
   },
   {
    "duration": 9,
    "start_time": "2021-08-25T21:08:04.021Z"
   },
   {
    "duration": 5,
    "start_time": "2021-08-25T21:09:23.053Z"
   },
   {
    "duration": 6,
    "start_time": "2021-08-25T21:10:29.952Z"
   },
   {
    "duration": 7,
    "start_time": "2021-08-25T21:11:18.042Z"
   },
   {
    "duration": 9,
    "start_time": "2021-08-25T21:11:32.002Z"
   },
   {
    "duration": 81,
    "start_time": "2021-08-25T21:14:32.720Z"
   },
   {
    "duration": 78,
    "start_time": "2021-08-25T21:17:23.270Z"
   },
   {
    "duration": 308,
    "start_time": "2021-08-25T21:17:30.614Z"
   },
   {
    "duration": 2,
    "start_time": "2021-08-25T21:19:36.890Z"
   },
   {
    "duration": 6513,
    "start_time": "2021-08-25T21:19:39.735Z"
   },
   {
    "duration": 270,
    "start_time": "2021-08-25T21:19:45.980Z"
   },
   {
    "duration": 4,
    "start_time": "2021-08-25T21:21:13.365Z"
   },
   {
    "duration": 3,
    "start_time": "2021-08-25T21:21:17.884Z"
   },
   {
    "duration": 2,
    "start_time": "2021-08-25T21:21:25.572Z"
   },
   {
    "duration": 2,
    "start_time": "2021-08-25T21:21:32.674Z"
   },
   {
    "duration": 12403,
    "start_time": "2021-08-25T21:21:33.794Z"
   },
   {
    "duration": 12120,
    "start_time": "2021-08-25T21:22:45.519Z"
   },
   {
    "duration": 5,
    "start_time": "2021-08-25T21:24:11.734Z"
   },
   {
    "duration": 93,
    "start_time": "2021-08-25T21:24:11.740Z"
   },
   {
    "duration": 6,
    "start_time": "2021-08-25T21:24:11.835Z"
   },
   {
    "duration": 8,
    "start_time": "2021-08-25T21:24:11.842Z"
   },
   {
    "duration": 14,
    "start_time": "2021-08-25T21:24:11.851Z"
   },
   {
    "duration": 9,
    "start_time": "2021-08-25T21:24:11.867Z"
   },
   {
    "duration": 13,
    "start_time": "2021-08-25T21:24:11.877Z"
   },
   {
    "duration": 34,
    "start_time": "2021-08-25T21:24:11.892Z"
   },
   {
    "duration": 13,
    "start_time": "2021-08-25T21:24:11.928Z"
   },
   {
    "duration": 7,
    "start_time": "2021-08-25T21:24:11.943Z"
   },
   {
    "duration": 11,
    "start_time": "2021-08-25T21:24:11.951Z"
   },
   {
    "duration": 27,
    "start_time": "2021-08-25T21:24:11.964Z"
   },
   {
    "duration": 5,
    "start_time": "2021-08-25T21:24:11.993Z"
   },
   {
    "duration": 5,
    "start_time": "2021-08-25T21:24:12.000Z"
   },
   {
    "duration": 10,
    "start_time": "2021-08-25T21:24:12.007Z"
   },
   {
    "duration": 11,
    "start_time": "2021-08-25T21:24:12.018Z"
   },
   {
    "duration": 9,
    "start_time": "2021-08-25T21:24:12.030Z"
   },
   {
    "duration": 13,
    "start_time": "2021-08-25T21:24:12.040Z"
   },
   {
    "duration": 19,
    "start_time": "2021-08-25T21:24:12.054Z"
   },
   {
    "duration": 18,
    "start_time": "2021-08-25T21:24:12.075Z"
   },
   {
    "duration": 12,
    "start_time": "2021-08-25T21:24:12.095Z"
   },
   {
    "duration": 7,
    "start_time": "2021-08-25T21:24:12.108Z"
   },
   {
    "duration": 27,
    "start_time": "2021-08-25T21:24:12.118Z"
   },
   {
    "duration": 163,
    "start_time": "2021-08-25T21:24:12.147Z"
   },
   {
    "duration": 153,
    "start_time": "2021-08-25T21:24:12.311Z"
   },
   {
    "duration": 179,
    "start_time": "2021-08-25T21:24:12.466Z"
   },
   {
    "duration": 164,
    "start_time": "2021-08-25T21:24:12.647Z"
   },
   {
    "duration": 35,
    "start_time": "2021-08-25T21:24:12.813Z"
   },
   {
    "duration": 4,
    "start_time": "2021-08-25T21:24:12.849Z"
   },
   {
    "duration": 7,
    "start_time": "2021-08-25T21:24:12.854Z"
   },
   {
    "duration": 28,
    "start_time": "2021-08-25T21:24:12.863Z"
   },
   {
    "duration": 3,
    "start_time": "2021-08-25T21:24:12.892Z"
   },
   {
    "duration": 5,
    "start_time": "2021-08-25T21:24:12.897Z"
   },
   {
    "duration": 34,
    "start_time": "2021-08-25T21:24:12.904Z"
   },
   {
    "duration": 176,
    "start_time": "2021-08-25T21:24:12.939Z"
   },
   {
    "duration": 6,
    "start_time": "2021-08-25T21:24:13.117Z"
   },
   {
    "duration": 5,
    "start_time": "2021-08-25T21:24:13.124Z"
   },
   {
    "duration": 6,
    "start_time": "2021-08-25T21:24:13.131Z"
   },
   {
    "duration": 3,
    "start_time": "2021-08-25T21:24:19.546Z"
   },
   {
    "duration": 13453,
    "start_time": "2021-08-25T21:24:21.946Z"
   },
   {
    "duration": 3,
    "start_time": "2021-08-25T21:25:29.020Z"
   },
   {
    "duration": 12265,
    "start_time": "2021-08-25T21:25:37.230Z"
   },
   {
    "duration": 9,
    "start_time": "2021-08-25T21:26:02.867Z"
   },
   {
    "duration": 18448,
    "start_time": "2021-08-25T21:26:39.903Z"
   },
   {
    "duration": 7,
    "start_time": "2021-08-25T21:29:41.575Z"
   },
   {
    "duration": 6193,
    "start_time": "2021-08-25T21:30:28.300Z"
   },
   {
    "duration": 6600,
    "start_time": "2021-08-25T21:32:06.178Z"
   },
   {
    "duration": 5,
    "start_time": "2021-08-25T21:32:55.020Z"
   },
   {
    "duration": 6,
    "start_time": "2021-08-25T21:33:33.618Z"
   },
   {
    "duration": 8,
    "start_time": "2021-08-25T21:33:55.099Z"
   },
   {
    "duration": 256,
    "start_time": "2021-08-25T21:34:56.894Z"
   },
   {
    "duration": 4,
    "start_time": "2021-08-25T21:35:17.476Z"
   },
   {
    "duration": 97,
    "start_time": "2021-08-25T21:35:17.482Z"
   },
   {
    "duration": 6,
    "start_time": "2021-08-25T21:35:17.581Z"
   },
   {
    "duration": 8,
    "start_time": "2021-08-25T21:35:17.589Z"
   },
   {
    "duration": 9,
    "start_time": "2021-08-25T21:35:17.599Z"
   },
   {
    "duration": 9,
    "start_time": "2021-08-25T21:35:17.610Z"
   },
   {
    "duration": 11,
    "start_time": "2021-08-25T21:35:17.620Z"
   },
   {
    "duration": 32,
    "start_time": "2021-08-25T21:35:17.634Z"
   },
   {
    "duration": 24,
    "start_time": "2021-08-25T21:35:17.668Z"
   },
   {
    "duration": 7,
    "start_time": "2021-08-25T21:35:17.693Z"
   },
   {
    "duration": 11,
    "start_time": "2021-08-25T21:35:17.702Z"
   },
   {
    "duration": 6,
    "start_time": "2021-08-25T21:35:17.714Z"
   },
   {
    "duration": 8,
    "start_time": "2021-08-25T21:35:17.721Z"
   },
   {
    "duration": 8,
    "start_time": "2021-08-25T21:35:17.730Z"
   },
   {
    "duration": 10,
    "start_time": "2021-08-25T21:35:17.739Z"
   },
   {
    "duration": 11,
    "start_time": "2021-08-25T21:35:17.750Z"
   },
   {
    "duration": 10,
    "start_time": "2021-08-25T21:35:17.762Z"
   },
   {
    "duration": 21,
    "start_time": "2021-08-25T21:35:17.773Z"
   },
   {
    "duration": 16,
    "start_time": "2021-08-25T21:35:17.796Z"
   },
   {
    "duration": 6,
    "start_time": "2021-08-25T21:35:17.814Z"
   },
   {
    "duration": 13,
    "start_time": "2021-08-25T21:35:17.821Z"
   },
   {
    "duration": 7,
    "start_time": "2021-08-25T21:35:17.835Z"
   },
   {
    "duration": 24,
    "start_time": "2021-08-25T21:35:17.844Z"
   },
   {
    "duration": 170,
    "start_time": "2021-08-25T21:35:17.870Z"
   },
   {
    "duration": 151,
    "start_time": "2021-08-25T21:35:18.042Z"
   },
   {
    "duration": 173,
    "start_time": "2021-08-25T21:35:18.194Z"
   },
   {
    "duration": 157,
    "start_time": "2021-08-25T21:35:18.369Z"
   },
   {
    "duration": 34,
    "start_time": "2021-08-25T21:35:18.527Z"
   },
   {
    "duration": 4,
    "start_time": "2021-08-25T21:35:18.562Z"
   },
   {
    "duration": 13,
    "start_time": "2021-08-25T21:35:18.567Z"
   },
   {
    "duration": 8,
    "start_time": "2021-08-25T21:35:18.591Z"
   },
   {
    "duration": 7,
    "start_time": "2021-08-25T21:35:18.600Z"
   },
   {
    "duration": 9,
    "start_time": "2021-08-25T21:35:18.608Z"
   },
   {
    "duration": 113,
    "start_time": "2021-08-25T21:35:18.618Z"
   },
   {
    "duration": 159,
    "start_time": "2021-08-25T21:35:31.330Z"
   },
   {
    "duration": 6,
    "start_time": "2021-08-25T21:35:32.526Z"
   },
   {
    "duration": 3,
    "start_time": "2021-08-25T21:35:33.175Z"
   },
   {
    "duration": 3,
    "start_time": "2021-08-25T21:35:33.695Z"
   },
   {
    "duration": 15135,
    "start_time": "2021-08-25T21:36:44.521Z"
   },
   {
    "duration": 204652,
    "start_time": "2021-08-25T21:37:54.477Z"
   },
   {
    "duration": 6925,
    "start_time": "2021-08-25T21:48:54.218Z"
   },
   {
    "duration": 6398,
    "start_time": "2021-08-25T21:49:21.264Z"
   },
   {
    "duration": 6358,
    "start_time": "2021-08-25T21:49:56.628Z"
   },
   {
    "duration": 6271,
    "start_time": "2021-08-25T21:50:28.898Z"
   },
   {
    "duration": 7284,
    "start_time": "2021-08-25T21:50:42.219Z"
   },
   {
    "duration": 4553,
    "start_time": "2021-08-25T21:50:51.653Z"
   },
   {
    "duration": 4,
    "start_time": "2021-08-25T21:51:20.195Z"
   },
   {
    "duration": 91,
    "start_time": "2021-08-25T21:51:20.201Z"
   },
   {
    "duration": 6,
    "start_time": "2021-08-25T21:51:20.294Z"
   },
   {
    "duration": 7,
    "start_time": "2021-08-25T21:51:20.301Z"
   },
   {
    "duration": 10,
    "start_time": "2021-08-25T21:51:20.309Z"
   },
   {
    "duration": 9,
    "start_time": "2021-08-25T21:51:20.321Z"
   },
   {
    "duration": 10,
    "start_time": "2021-08-25T21:51:20.332Z"
   },
   {
    "duration": 32,
    "start_time": "2021-08-25T21:51:20.344Z"
   },
   {
    "duration": 12,
    "start_time": "2021-08-25T21:51:20.377Z"
   },
   {
    "duration": 7,
    "start_time": "2021-08-25T21:51:20.390Z"
   },
   {
    "duration": 11,
    "start_time": "2021-08-25T21:51:20.398Z"
   },
   {
    "duration": 7,
    "start_time": "2021-08-25T21:51:20.411Z"
   },
   {
    "duration": 9,
    "start_time": "2021-08-25T21:51:20.419Z"
   },
   {
    "duration": 7,
    "start_time": "2021-08-25T21:51:20.429Z"
   },
   {
    "duration": 11,
    "start_time": "2021-08-25T21:51:20.437Z"
   },
   {
    "duration": 10,
    "start_time": "2021-08-25T21:51:20.450Z"
   },
   {
    "duration": 8,
    "start_time": "2021-08-25T21:51:21.326Z"
   },
   {
    "duration": 11,
    "start_time": "2021-08-25T21:51:21.336Z"
   },
   {
    "duration": 44,
    "start_time": "2021-08-25T21:51:21.349Z"
   },
   {
    "duration": 9,
    "start_time": "2021-08-25T21:51:21.395Z"
   },
   {
    "duration": 8,
    "start_time": "2021-08-25T21:51:21.406Z"
   },
   {
    "duration": 4,
    "start_time": "2021-08-25T21:51:21.416Z"
   },
   {
    "duration": 82,
    "start_time": "2021-08-25T21:51:21.422Z"
   },
   {
    "duration": 170,
    "start_time": "2021-08-25T21:51:21.507Z"
   },
   {
    "duration": 157,
    "start_time": "2021-08-25T21:51:21.679Z"
   },
   {
    "duration": 179,
    "start_time": "2021-08-25T21:51:21.838Z"
   },
   {
    "duration": 159,
    "start_time": "2021-08-25T21:51:22.019Z"
   },
   {
    "duration": 40,
    "start_time": "2021-08-25T21:51:22.179Z"
   },
   {
    "duration": 4,
    "start_time": "2021-08-25T21:51:22.221Z"
   },
   {
    "duration": 8,
    "start_time": "2021-08-25T21:51:22.227Z"
   },
   {
    "duration": 9,
    "start_time": "2021-08-25T21:51:22.237Z"
   },
   {
    "duration": 3,
    "start_time": "2021-08-25T21:51:22.247Z"
   },
   {
    "duration": 5,
    "start_time": "2021-08-25T21:51:22.252Z"
   },
   {
    "duration": 47,
    "start_time": "2021-08-25T21:51:22.258Z"
   },
   {
    "duration": 175,
    "start_time": "2021-08-25T21:51:22.306Z"
   },
   {
    "duration": 12,
    "start_time": "2021-08-25T21:51:22.482Z"
   },
   {
    "duration": 6,
    "start_time": "2021-08-25T21:51:22.495Z"
   },
   {
    "duration": 9583,
    "start_time": "2021-08-25T21:51:30.798Z"
   },
   {
    "duration": 12208,
    "start_time": "2021-08-25T21:51:50.031Z"
   },
   {
    "duration": 11592,
    "start_time": "2021-08-25T21:52:40.737Z"
   },
   {
    "duration": 15595,
    "start_time": "2021-08-25T21:53:15.961Z"
   },
   {
    "duration": 7,
    "start_time": "2021-08-25T21:55:32.666Z"
   },
   {
    "duration": 92,
    "start_time": "2021-08-25T21:55:32.675Z"
   },
   {
    "duration": 6,
    "start_time": "2021-08-25T21:55:32.768Z"
   },
   {
    "duration": 9,
    "start_time": "2021-08-25T21:55:32.775Z"
   },
   {
    "duration": 12,
    "start_time": "2021-08-25T21:55:32.785Z"
   },
   {
    "duration": 8,
    "start_time": "2021-08-25T21:55:32.799Z"
   },
   {
    "duration": 12,
    "start_time": "2021-08-25T21:55:32.809Z"
   },
   {
    "duration": 32,
    "start_time": "2021-08-25T21:55:32.824Z"
   },
   {
    "duration": 34,
    "start_time": "2021-08-25T21:55:32.858Z"
   },
   {
    "duration": 8,
    "start_time": "2021-08-25T21:55:32.894Z"
   },
   {
    "duration": 15,
    "start_time": "2021-08-25T21:55:32.904Z"
   },
   {
    "duration": 8,
    "start_time": "2021-08-25T21:55:32.920Z"
   },
   {
    "duration": 11,
    "start_time": "2021-08-25T21:55:32.929Z"
   },
   {
    "duration": 6,
    "start_time": "2021-08-25T21:55:32.942Z"
   },
   {
    "duration": 12,
    "start_time": "2021-08-25T21:55:32.950Z"
   },
   {
    "duration": 12,
    "start_time": "2021-08-25T21:55:32.963Z"
   },
   {
    "duration": 18,
    "start_time": "2021-08-25T21:55:32.977Z"
   },
   {
    "duration": 13,
    "start_time": "2021-08-25T21:55:32.996Z"
   },
   {
    "duration": 20,
    "start_time": "2021-08-25T21:55:33.010Z"
   },
   {
    "duration": 9,
    "start_time": "2021-08-25T21:55:33.032Z"
   },
   {
    "duration": 14,
    "start_time": "2021-08-25T21:55:33.042Z"
   },
   {
    "duration": 8,
    "start_time": "2021-08-25T21:55:33.057Z"
   },
   {
    "duration": 4923,
    "start_time": "2021-08-25T21:55:33.068Z"
   },
   {
    "duration": 119,
    "start_time": "2021-08-25T21:55:37.875Z"
   },
   {
    "duration": 117,
    "start_time": "2021-08-25T21:55:37.878Z"
   },
   {
    "duration": 116,
    "start_time": "2021-08-25T21:55:37.881Z"
   },
   {
    "duration": 113,
    "start_time": "2021-08-25T21:55:37.885Z"
   },
   {
    "duration": 110,
    "start_time": "2021-08-25T21:55:37.889Z"
   },
   {
    "duration": 110,
    "start_time": "2021-08-25T21:55:37.891Z"
   },
   {
    "duration": 109,
    "start_time": "2021-08-25T21:55:37.893Z"
   },
   {
    "duration": 107,
    "start_time": "2021-08-25T21:55:37.896Z"
   },
   {
    "duration": 106,
    "start_time": "2021-08-25T21:55:37.898Z"
   },
   {
    "duration": 99,
    "start_time": "2021-08-25T21:55:37.907Z"
   },
   {
    "duration": 97,
    "start_time": "2021-08-25T21:55:37.910Z"
   },
   {
    "duration": 94,
    "start_time": "2021-08-25T21:55:37.914Z"
   },
   {
    "duration": 94,
    "start_time": "2021-08-25T21:55:37.916Z"
   },
   {
    "duration": 92,
    "start_time": "2021-08-25T21:55:37.919Z"
   },
   {
    "duration": 11771,
    "start_time": "2021-08-25T21:55:39.211Z"
   },
   {
    "duration": 6805,
    "start_time": "2021-08-25T21:57:15.921Z"
   },
   {
    "duration": 6583,
    "start_time": "2021-08-25T21:57:32.091Z"
   },
   {
    "duration": 152,
    "start_time": "2021-08-25T21:58:46.797Z"
   },
   {
    "duration": 145,
    "start_time": "2021-08-25T21:58:55.013Z"
   },
   {
    "duration": 1138,
    "start_time": "2021-08-25T22:01:44.355Z"
   },
   {
    "duration": 90,
    "start_time": "2021-08-25T22:01:45.494Z"
   },
   {
    "duration": 9,
    "start_time": "2021-08-25T22:01:45.587Z"
   },
   {
    "duration": 16,
    "start_time": "2021-08-25T22:01:45.598Z"
   },
   {
    "duration": 21,
    "start_time": "2021-08-25T22:01:45.615Z"
   },
   {
    "duration": 12,
    "start_time": "2021-08-25T22:01:45.637Z"
   },
   {
    "duration": 12,
    "start_time": "2021-08-25T22:01:45.651Z"
   },
   {
    "duration": 36,
    "start_time": "2021-08-25T22:01:45.664Z"
   },
   {
    "duration": 12,
    "start_time": "2021-08-25T22:01:45.702Z"
   },
   {
    "duration": 9,
    "start_time": "2021-08-25T22:01:45.716Z"
   },
   {
    "duration": 19,
    "start_time": "2021-08-25T22:01:45.726Z"
   },
   {
    "duration": 16,
    "start_time": "2021-08-25T22:01:45.747Z"
   },
   {
    "duration": 18,
    "start_time": "2021-08-25T22:01:45.765Z"
   },
   {
    "duration": 8,
    "start_time": "2021-08-25T22:01:45.785Z"
   },
   {
    "duration": 14,
    "start_time": "2021-08-25T22:01:45.794Z"
   },
   {
    "duration": 21,
    "start_time": "2021-08-25T22:01:45.809Z"
   },
   {
    "duration": 21,
    "start_time": "2021-08-25T22:01:45.831Z"
   },
   {
    "duration": 21,
    "start_time": "2021-08-25T22:01:45.854Z"
   },
   {
    "duration": 22,
    "start_time": "2021-08-25T22:01:45.877Z"
   },
   {
    "duration": 11,
    "start_time": "2021-08-25T22:01:45.901Z"
   },
   {
    "duration": 13,
    "start_time": "2021-08-25T22:01:45.914Z"
   },
   {
    "duration": 13,
    "start_time": "2021-08-25T22:01:45.929Z"
   },
   {
    "duration": 5381,
    "start_time": "2021-08-25T22:01:45.944Z"
   },
   {
    "duration": 360,
    "start_time": "2021-08-25T22:01:50.970Z"
   },
   {
    "duration": 359,
    "start_time": "2021-08-25T22:01:50.972Z"
   },
   {
    "duration": 357,
    "start_time": "2021-08-25T22:01:50.975Z"
   },
   {
    "duration": 356,
    "start_time": "2021-08-25T22:01:50.977Z"
   },
   {
    "duration": 354,
    "start_time": "2021-08-25T22:01:50.980Z"
   },
   {
    "duration": 353,
    "start_time": "2021-08-25T22:01:50.982Z"
   },
   {
    "duration": 351,
    "start_time": "2021-08-25T22:01:50.985Z"
   },
   {
    "duration": 331,
    "start_time": "2021-08-25T22:01:51.006Z"
   },
   {
    "duration": 324,
    "start_time": "2021-08-25T22:01:51.014Z"
   },
   {
    "duration": 320,
    "start_time": "2021-08-25T22:01:51.019Z"
   },
   {
    "duration": 319,
    "start_time": "2021-08-25T22:01:51.021Z"
   },
   {
    "duration": 312,
    "start_time": "2021-08-25T22:01:51.029Z"
   },
   {
    "duration": 311,
    "start_time": "2021-08-25T22:01:51.031Z"
   },
   {
    "duration": 310,
    "start_time": "2021-08-25T22:01:51.033Z"
   },
   {
    "duration": 311,
    "start_time": "2021-08-25T22:01:51.034Z"
   },
   {
    "duration": 310,
    "start_time": "2021-08-25T22:01:51.036Z"
   },
   {
    "duration": 307,
    "start_time": "2021-08-25T22:01:51.040Z"
   },
   {
    "duration": 301,
    "start_time": "2021-08-25T22:01:51.048Z"
   },
   {
    "duration": 300,
    "start_time": "2021-08-25T22:01:51.050Z"
   },
   {
    "duration": 299,
    "start_time": "2021-08-25T22:01:51.052Z"
   },
   {
    "duration": 298,
    "start_time": "2021-08-25T22:01:51.055Z"
   },
   {
    "duration": 288,
    "start_time": "2021-08-25T22:01:51.066Z"
   },
   {
    "duration": 286,
    "start_time": "2021-08-25T22:01:51.069Z"
   },
   {
    "duration": 285,
    "start_time": "2021-08-25T22:01:51.072Z"
   },
   {
    "duration": 275,
    "start_time": "2021-08-25T22:01:51.083Z"
   },
   {
    "duration": 274,
    "start_time": "2021-08-25T22:01:51.085Z"
   },
   {
    "duration": 273,
    "start_time": "2021-08-25T22:01:51.088Z"
   },
   {
    "duration": 262,
    "start_time": "2021-08-25T22:01:51.100Z"
   },
   {
    "duration": 261,
    "start_time": "2021-08-25T22:01:51.102Z"
   },
   {
    "duration": 261,
    "start_time": "2021-08-25T22:01:51.104Z"
   },
   {
    "duration": 251,
    "start_time": "2021-08-25T22:01:51.115Z"
   },
   {
    "duration": 249,
    "start_time": "2021-08-25T22:01:51.118Z"
   },
   {
    "duration": 271,
    "start_time": "2021-08-25T22:01:51.120Z"
   },
   {
    "duration": 269,
    "start_time": "2021-08-25T22:01:51.124Z"
   },
   {
    "duration": 268,
    "start_time": "2021-08-25T22:01:51.126Z"
   },
   {
    "duration": 266,
    "start_time": "2021-08-25T22:01:51.129Z"
   },
   {
    "duration": 1039,
    "start_time": "2021-08-25T22:04:05.747Z"
   },
   {
    "duration": 89,
    "start_time": "2021-08-25T22:04:06.787Z"
   },
   {
    "duration": 9,
    "start_time": "2021-08-25T22:04:06.878Z"
   },
   {
    "duration": 7,
    "start_time": "2021-08-25T22:04:06.888Z"
   },
   {
    "duration": 16,
    "start_time": "2021-08-25T22:04:06.896Z"
   },
   {
    "duration": 10,
    "start_time": "2021-08-25T22:04:06.914Z"
   },
   {
    "duration": 12,
    "start_time": "2021-08-25T22:04:06.925Z"
   },
   {
    "duration": 33,
    "start_time": "2021-08-25T22:04:06.939Z"
   },
   {
    "duration": 18,
    "start_time": "2021-08-25T22:04:06.974Z"
   },
   {
    "duration": 8,
    "start_time": "2021-08-25T22:04:06.993Z"
   },
   {
    "duration": 12,
    "start_time": "2021-08-25T22:04:07.002Z"
   },
   {
    "duration": 6,
    "start_time": "2021-08-25T22:04:07.015Z"
   },
   {
    "duration": 11,
    "start_time": "2021-08-25T22:04:07.023Z"
   },
   {
    "duration": 7,
    "start_time": "2021-08-25T22:04:07.035Z"
   },
   {
    "duration": 9,
    "start_time": "2021-08-25T22:04:07.043Z"
   },
   {
    "duration": 12,
    "start_time": "2021-08-25T22:04:07.053Z"
   },
   {
    "duration": 10,
    "start_time": "2021-08-25T22:04:07.067Z"
   },
   {
    "duration": 17,
    "start_time": "2021-08-25T22:04:07.079Z"
   },
   {
    "duration": 17,
    "start_time": "2021-08-25T22:04:07.097Z"
   },
   {
    "duration": 6,
    "start_time": "2021-08-25T22:04:07.115Z"
   },
   {
    "duration": 9,
    "start_time": "2021-08-25T22:04:07.123Z"
   },
   {
    "duration": 9,
    "start_time": "2021-08-25T22:04:07.134Z"
   },
   {
    "duration": 23,
    "start_time": "2021-08-25T22:04:07.146Z"
   },
   {
    "duration": 174,
    "start_time": "2021-08-25T22:04:07.171Z"
   },
   {
    "duration": 156,
    "start_time": "2021-08-25T22:04:07.347Z"
   },
   {
    "duration": 175,
    "start_time": "2021-08-25T22:04:07.505Z"
   },
   {
    "duration": 164,
    "start_time": "2021-08-25T22:04:07.682Z"
   },
   {
    "duration": 47,
    "start_time": "2021-08-25T22:04:07.848Z"
   },
   {
    "duration": 4,
    "start_time": "2021-08-25T22:04:07.897Z"
   },
   {
    "duration": 12,
    "start_time": "2021-08-25T22:04:07.902Z"
   },
   {
    "duration": 13,
    "start_time": "2021-08-25T22:04:07.915Z"
   },
   {
    "duration": 4,
    "start_time": "2021-08-25T22:04:07.930Z"
   },
   {
    "duration": 14,
    "start_time": "2021-08-25T22:04:07.936Z"
   },
   {
    "duration": 35,
    "start_time": "2021-08-25T22:04:07.952Z"
   },
   {
    "duration": 628,
    "start_time": "2021-08-25T22:04:07.991Z"
   },
   {
    "duration": 7,
    "start_time": "2021-08-25T22:04:08.621Z"
   },
   {
    "duration": 6,
    "start_time": "2021-08-25T22:04:08.629Z"
   },
   {
    "duration": 6,
    "start_time": "2021-08-25T22:04:08.637Z"
   },
   {
    "duration": 358,
    "start_time": "2021-08-25T22:04:08.644Z"
   },
   {
    "duration": 388,
    "start_time": "2021-08-25T22:04:08.616Z"
   },
   {
    "duration": 379,
    "start_time": "2021-08-25T22:04:08.626Z"
   },
   {
    "duration": 378,
    "start_time": "2021-08-25T22:04:08.629Z"
   },
   {
    "duration": 371,
    "start_time": "2021-08-25T22:04:08.637Z"
   },
   {
    "duration": 367,
    "start_time": "2021-08-25T22:04:08.642Z"
   },
   {
    "duration": 364,
    "start_time": "2021-08-25T22:04:08.647Z"
   },
   {
    "duration": 340,
    "start_time": "2021-08-25T22:04:08.672Z"
   },
   {
    "duration": 337,
    "start_time": "2021-08-25T22:04:08.676Z"
   },
   {
    "duration": 334,
    "start_time": "2021-08-25T22:04:08.681Z"
   },
   {
    "duration": 328,
    "start_time": "2021-08-25T22:04:08.688Z"
   },
   {
    "duration": 326,
    "start_time": "2021-08-25T22:04:08.691Z"
   },
   {
    "duration": 325,
    "start_time": "2021-08-25T22:04:08.693Z"
   },
   {
    "duration": 325,
    "start_time": "2021-08-25T22:04:08.695Z"
   },
   {
    "duration": 323,
    "start_time": "2021-08-25T22:04:08.698Z"
   },
   {
    "duration": 317,
    "start_time": "2021-08-25T22:04:08.705Z"
   },
   {
    "duration": 316,
    "start_time": "2021-08-25T22:04:08.707Z"
   },
   {
    "duration": 315,
    "start_time": "2021-08-25T22:04:08.710Z"
   },
   {
    "duration": 314,
    "start_time": "2021-08-25T22:04:08.712Z"
   },
   {
    "duration": 312,
    "start_time": "2021-08-25T22:04:08.715Z"
   },
   {
    "duration": 306,
    "start_time": "2021-08-25T22:04:08.722Z"
   },
   {
    "duration": 4,
    "start_time": "2021-08-25T22:06:10.569Z"
   },
   {
    "duration": 62363,
    "start_time": "2021-08-25T22:06:13.042Z"
   },
   {
    "duration": 4,
    "start_time": "2021-08-25T22:09:47.678Z"
   },
   {
    "duration": 4,
    "start_time": "2021-08-25T22:09:48.165Z"
   },
   {
    "duration": 280,
    "start_time": "2021-08-25T22:09:49.006Z"
   },
   {
    "duration": 457,
    "start_time": "2021-08-25T22:10:02.987Z"
   },
   {
    "duration": 389,
    "start_time": "2021-08-25T22:10:34.707Z"
   },
   {
    "duration": 967596,
    "start_time": "2021-08-25T22:10:44.647Z"
   },
   {
    "duration": 3,
    "start_time": "2021-08-25T22:26:52.244Z"
   },
   {
    "duration": 5,
    "start_time": "2021-08-25T22:26:52.249Z"
   },
   {
    "duration": 284,
    "start_time": "2021-08-25T22:26:52.256Z"
   },
   {
    "duration": 438,
    "start_time": "2021-08-25T22:26:52.105Z"
   },
   {
    "duration": 434,
    "start_time": "2021-08-25T22:26:52.110Z"
   },
   {
    "duration": 431,
    "start_time": "2021-08-25T22:26:52.115Z"
   },
   {
    "duration": 427,
    "start_time": "2021-08-25T22:26:52.120Z"
   },
   {
    "duration": 423,
    "start_time": "2021-08-25T22:26:52.126Z"
   },
   {
    "duration": 419,
    "start_time": "2021-08-25T22:26:52.131Z"
   },
   {
    "duration": 417,
    "start_time": "2021-08-25T22:26:52.134Z"
   },
   {
    "duration": 416,
    "start_time": "2021-08-25T22:26:52.137Z"
   },
   {
    "duration": 414,
    "start_time": "2021-08-25T22:26:52.140Z"
   },
   {
    "duration": 412,
    "start_time": "2021-08-25T22:26:52.143Z"
   },
   {
    "duration": 411,
    "start_time": "2021-08-25T22:26:52.146Z"
   },
   {
    "duration": 410,
    "start_time": "2021-08-25T22:26:52.148Z"
   },
   {
    "duration": 286,
    "start_time": "2021-08-25T22:31:03.353Z"
   },
   {
    "duration": 103,
    "start_time": "2021-08-25T22:31:11.227Z"
   },
   {
    "duration": 500451,
    "start_time": "2021-08-25T22:31:13.962Z"
   },
   {
    "duration": 4,
    "start_time": "2021-08-25T22:39:34.415Z"
   },
   {
    "duration": 9,
    "start_time": "2021-08-25T22:39:34.421Z"
   },
   {
    "duration": 22,
    "start_time": "2021-08-25T22:39:34.432Z"
   },
   {
    "duration": 3,
    "start_time": "2021-08-25T22:39:34.455Z"
   },
   {
    "duration": 31262,
    "start_time": "2021-08-25T22:39:34.459Z"
   },
   {
    "duration": 3,
    "start_time": "2021-08-25T22:40:05.722Z"
   },
   {
    "duration": 28902,
    "start_time": "2021-08-25T22:40:05.727Z"
   },
   {
    "duration": 9,
    "start_time": "2021-08-25T22:40:34.631Z"
   },
   {
    "duration": 98351,
    "start_time": "2021-08-25T22:40:34.641Z"
   },
   {
    "duration": 462,
    "start_time": "2021-08-25T22:42:12.532Z"
   },
   {
    "duration": 458,
    "start_time": "2021-08-25T22:42:12.537Z"
   },
   {
    "duration": 6807,
    "start_time": "2021-08-25T22:43:39.634Z"
   },
   {
    "duration": 4,
    "start_time": "2021-08-25T22:45:01.761Z"
   },
   {
    "duration": 5,
    "start_time": "2021-08-25T22:45:31.348Z"
   },
   {
    "duration": 3,
    "start_time": "2021-08-25T22:45:45.259Z"
   },
   {
    "duration": 3,
    "start_time": "2021-08-25T22:45:52.415Z"
   },
   {
    "duration": 2,
    "start_time": "2021-08-25T22:46:07.807Z"
   },
   {
    "duration": 12217,
    "start_time": "2021-08-25T22:46:08.382Z"
   },
   {
    "duration": 3,
    "start_time": "2021-08-25T22:46:20.601Z"
   },
   {
    "duration": 12325,
    "start_time": "2021-08-25T22:46:20.927Z"
   },
   {
    "duration": 4,
    "start_time": "2021-08-25T22:47:44.448Z"
   },
   {
    "duration": 12387,
    "start_time": "2021-08-25T22:47:47.840Z"
   },
   {
    "duration": 5,
    "start_time": "2021-08-25T22:49:12.967Z"
   },
   {
    "duration": 98,
    "start_time": "2021-08-25T22:49:12.974Z"
   },
   {
    "duration": 6,
    "start_time": "2021-08-25T22:49:13.074Z"
   },
   {
    "duration": 19,
    "start_time": "2021-08-25T22:49:13.082Z"
   },
   {
    "duration": 22,
    "start_time": "2021-08-25T22:49:13.103Z"
   },
   {
    "duration": 24,
    "start_time": "2021-08-25T22:49:13.126Z"
   },
   {
    "duration": 20,
    "start_time": "2021-08-25T22:49:13.151Z"
   },
   {
    "duration": 46,
    "start_time": "2021-08-25T22:49:13.172Z"
   },
   {
    "duration": 13,
    "start_time": "2021-08-25T22:49:13.220Z"
   },
   {
    "duration": 23,
    "start_time": "2021-08-25T22:49:13.235Z"
   },
   {
    "duration": 20,
    "start_time": "2021-08-25T22:49:13.260Z"
   },
   {
    "duration": 12,
    "start_time": "2021-08-25T22:49:13.281Z"
   },
   {
    "duration": 26,
    "start_time": "2021-08-25T22:49:13.294Z"
   },
   {
    "duration": 7,
    "start_time": "2021-08-25T22:49:13.321Z"
   },
   {
    "duration": 8,
    "start_time": "2021-08-25T22:49:13.329Z"
   },
   {
    "duration": 12,
    "start_time": "2021-08-25T22:49:13.339Z"
   },
   {
    "duration": 10,
    "start_time": "2021-08-25T22:49:13.352Z"
   },
   {
    "duration": 10,
    "start_time": "2021-08-25T22:49:13.364Z"
   },
   {
    "duration": 28,
    "start_time": "2021-08-25T22:49:13.375Z"
   },
   {
    "duration": 9,
    "start_time": "2021-08-25T22:49:13.404Z"
   },
   {
    "duration": 9,
    "start_time": "2021-08-25T22:49:13.414Z"
   },
   {
    "duration": 5,
    "start_time": "2021-08-25T22:49:13.425Z"
   },
   {
    "duration": 25,
    "start_time": "2021-08-25T22:49:13.432Z"
   },
   {
    "duration": 165,
    "start_time": "2021-08-25T22:49:13.459Z"
   },
   {
    "duration": 150,
    "start_time": "2021-08-25T22:49:13.625Z"
   },
   {
    "duration": 170,
    "start_time": "2021-08-25T22:49:13.776Z"
   },
   {
    "duration": 164,
    "start_time": "2021-08-25T22:49:13.949Z"
   },
   {
    "duration": 36,
    "start_time": "2021-08-25T22:49:14.114Z"
   },
   {
    "duration": 3,
    "start_time": "2021-08-25T22:49:14.152Z"
   },
   {
    "duration": 7,
    "start_time": "2021-08-25T22:49:14.157Z"
   },
   {
    "duration": 30,
    "start_time": "2021-08-25T22:49:14.165Z"
   },
   {
    "duration": 2,
    "start_time": "2021-08-25T22:49:14.197Z"
   },
   {
    "duration": 5,
    "start_time": "2021-08-25T22:49:14.201Z"
   },
   {
    "duration": 31,
    "start_time": "2021-08-25T22:49:14.207Z"
   },
   {
    "duration": 166,
    "start_time": "2021-08-25T22:49:14.239Z"
   },
   {
    "duration": 6,
    "start_time": "2021-08-25T22:49:14.406Z"
   },
   {
    "duration": 239,
    "start_time": "2021-08-25T22:49:14.414Z"
   },
   {
    "duration": 516,
    "start_time": "2021-08-25T22:49:14.139Z"
   },
   {
    "duration": 2,
    "start_time": "2021-08-25T22:49:20.387Z"
   },
   {
    "duration": 260,
    "start_time": "2021-08-25T22:49:21.840Z"
   },
   {
    "duration": 13618,
    "start_time": "2021-08-25T22:49:29.267Z"
   },
   {
    "duration": 3,
    "start_time": "2021-08-25T22:49:42.887Z"
   },
   {
    "duration": 12234,
    "start_time": "2021-08-25T22:49:42.892Z"
   },
   {
    "duration": 11985,
    "start_time": "2021-08-25T22:52:50.818Z"
   },
   {
    "duration": 12189,
    "start_time": "2021-08-25T22:53:02.805Z"
   },
   {
    "duration": 11867,
    "start_time": "2021-08-25T22:53:36.724Z"
   },
   {
    "duration": 3,
    "start_time": "2021-08-25T22:54:36.190Z"
   },
   {
    "duration": 12176,
    "start_time": "2021-08-25T22:54:40.910Z"
   },
   {
    "duration": 3,
    "start_time": "2021-08-25T22:55:28.783Z"
   },
   {
    "duration": 249,
    "start_time": "2021-08-25T22:55:30.032Z"
   },
   {
    "duration": 9,
    "start_time": "2021-08-25T22:55:47.927Z"
   },
   {
    "duration": 12549,
    "start_time": "2021-08-25T22:56:04.336Z"
   },
   {
    "duration": 4,
    "start_time": "2021-08-25T22:58:25.787Z"
   },
   {
    "duration": 92,
    "start_time": "2021-08-25T22:58:25.793Z"
   },
   {
    "duration": 6,
    "start_time": "2021-08-25T22:58:25.887Z"
   },
   {
    "duration": 11,
    "start_time": "2021-08-25T22:58:25.895Z"
   },
   {
    "duration": 18,
    "start_time": "2021-08-25T22:58:25.908Z"
   },
   {
    "duration": 17,
    "start_time": "2021-08-25T22:58:25.927Z"
   },
   {
    "duration": 10,
    "start_time": "2021-08-25T22:58:25.946Z"
   },
   {
    "duration": 35,
    "start_time": "2021-08-25T22:58:25.957Z"
   },
   {
    "duration": 12,
    "start_time": "2021-08-25T22:58:25.995Z"
   },
   {
    "duration": 6,
    "start_time": "2021-08-25T22:58:26.009Z"
   },
   {
    "duration": 11,
    "start_time": "2021-08-25T22:58:26.016Z"
   },
   {
    "duration": 13,
    "start_time": "2021-08-25T22:58:26.028Z"
   },
   {
    "duration": 12,
    "start_time": "2021-08-25T22:58:26.042Z"
   },
   {
    "duration": 8,
    "start_time": "2021-08-25T22:58:26.055Z"
   },
   {
    "duration": 19,
    "start_time": "2021-08-25T22:58:26.065Z"
   },
   {
    "duration": 16,
    "start_time": "2021-08-25T22:58:26.085Z"
   },
   {
    "duration": 11,
    "start_time": "2021-08-25T22:58:26.102Z"
   },
   {
    "duration": 12,
    "start_time": "2021-08-25T22:58:26.114Z"
   },
   {
    "duration": 25,
    "start_time": "2021-08-25T22:58:26.128Z"
   },
   {
    "duration": 6,
    "start_time": "2021-08-25T22:58:26.154Z"
   },
   {
    "duration": 9,
    "start_time": "2021-08-25T22:58:26.162Z"
   },
   {
    "duration": 8,
    "start_time": "2021-08-25T22:58:26.172Z"
   },
   {
    "duration": 27,
    "start_time": "2021-08-25T22:58:26.181Z"
   },
   {
    "duration": 158,
    "start_time": "2021-08-25T22:58:26.209Z"
   },
   {
    "duration": 156,
    "start_time": "2021-08-25T22:58:26.369Z"
   },
   {
    "duration": 253,
    "start_time": "2021-08-25T22:58:26.526Z"
   },
   {
    "duration": 155,
    "start_time": "2021-08-25T22:58:26.782Z"
   },
   {
    "duration": 35,
    "start_time": "2021-08-25T22:58:26.939Z"
   },
   {
    "duration": 3,
    "start_time": "2021-08-25T22:58:26.975Z"
   },
   {
    "duration": 5,
    "start_time": "2021-08-25T22:58:26.991Z"
   },
   {
    "duration": 11,
    "start_time": "2021-08-25T22:58:26.998Z"
   },
   {
    "duration": 3,
    "start_time": "2021-08-25T22:58:27.010Z"
   },
   {
    "duration": 5,
    "start_time": "2021-08-25T22:58:27.014Z"
   },
   {
    "duration": 28,
    "start_time": "2021-08-25T22:58:27.021Z"
   },
   {
    "duration": 175,
    "start_time": "2021-08-25T22:58:27.050Z"
   },
   {
    "duration": 6,
    "start_time": "2021-08-25T22:58:27.226Z"
   },
   {
    "duration": 233,
    "start_time": "2021-08-25T22:58:27.234Z"
   },
   {
    "duration": 506,
    "start_time": "2021-08-25T22:58:26.963Z"
   },
   {
    "duration": 267,
    "start_time": "2021-08-25T22:58:38.540Z"
   },
   {
    "duration": 4,
    "start_time": "2021-08-25T22:58:51.401Z"
   },
   {
    "duration": 96,
    "start_time": "2021-08-25T22:58:51.407Z"
   },
   {
    "duration": 6,
    "start_time": "2021-08-25T22:58:51.504Z"
   },
   {
    "duration": 13,
    "start_time": "2021-08-25T22:58:51.512Z"
   },
   {
    "duration": 10,
    "start_time": "2021-08-25T22:58:51.526Z"
   },
   {
    "duration": 10,
    "start_time": "2021-08-25T22:58:51.537Z"
   },
   {
    "duration": 12,
    "start_time": "2021-08-25T22:58:51.548Z"
   },
   {
    "duration": 35,
    "start_time": "2021-08-25T22:58:51.563Z"
   },
   {
    "duration": 12,
    "start_time": "2021-08-25T22:58:51.600Z"
   },
   {
    "duration": 6,
    "start_time": "2021-08-25T22:58:51.613Z"
   },
   {
    "duration": 11,
    "start_time": "2021-08-25T22:58:51.621Z"
   },
   {
    "duration": 7,
    "start_time": "2021-08-25T22:58:51.633Z"
   },
   {
    "duration": 7,
    "start_time": "2021-08-25T22:58:51.642Z"
   },
   {
    "duration": 8,
    "start_time": "2021-08-25T22:58:51.651Z"
   },
   {
    "duration": 10,
    "start_time": "2021-08-25T22:58:51.661Z"
   },
   {
    "duration": 21,
    "start_time": "2021-08-25T22:58:51.672Z"
   },
   {
    "duration": 6,
    "start_time": "2021-08-25T22:58:51.694Z"
   },
   {
    "duration": 15,
    "start_time": "2021-08-25T22:58:51.701Z"
   },
   {
    "duration": 19,
    "start_time": "2021-08-25T22:58:51.717Z"
   },
   {
    "duration": 6,
    "start_time": "2021-08-25T22:58:51.738Z"
   },
   {
    "duration": 10,
    "start_time": "2021-08-25T22:58:51.745Z"
   },
   {
    "duration": 10,
    "start_time": "2021-08-25T22:58:51.756Z"
   },
   {
    "duration": 39,
    "start_time": "2021-08-25T22:58:51.769Z"
   },
   {
    "duration": 168,
    "start_time": "2021-08-25T22:58:51.809Z"
   },
   {
    "duration": 151,
    "start_time": "2021-08-25T22:58:51.978Z"
   },
   {
    "duration": 172,
    "start_time": "2021-08-25T22:58:52.131Z"
   },
   {
    "duration": 154,
    "start_time": "2021-08-25T22:58:52.304Z"
   },
   {
    "duration": 38,
    "start_time": "2021-08-25T22:58:52.460Z"
   },
   {
    "duration": 3,
    "start_time": "2021-08-25T22:58:52.499Z"
   },
   {
    "duration": 8,
    "start_time": "2021-08-25T22:58:52.503Z"
   },
   {
    "duration": 10,
    "start_time": "2021-08-25T22:58:52.513Z"
   },
   {
    "duration": 2,
    "start_time": "2021-08-25T22:58:52.525Z"
   },
   {
    "duration": 5,
    "start_time": "2021-08-25T22:58:52.529Z"
   },
   {
    "duration": 30,
    "start_time": "2021-08-25T22:58:52.535Z"
   },
   {
    "duration": 175,
    "start_time": "2021-08-25T22:58:52.567Z"
   },
   {
    "duration": 5,
    "start_time": "2021-08-25T22:58:52.744Z"
   },
   {
    "duration": 236,
    "start_time": "2021-08-25T22:58:52.751Z"
   },
   {
    "duration": 543,
    "start_time": "2021-08-25T22:58:52.446Z"
   },
   {
    "duration": 3,
    "start_time": "2021-08-25T22:59:09.742Z"
   },
   {
    "duration": 3,
    "start_time": "2021-08-25T22:59:10.550Z"
   },
   {
    "duration": 5,
    "start_time": "2021-08-25T22:59:22.411Z"
   },
   {
    "duration": 13656,
    "start_time": "2021-08-25T22:59:26.166Z"
   },
   {
    "duration": 12273,
    "start_time": "2021-08-25T23:00:05.048Z"
   },
   {
    "duration": 4,
    "start_time": "2021-08-25T23:00:52.592Z"
   },
   {
    "duration": 13989,
    "start_time": "2021-08-25T23:01:03.315Z"
   },
   {
    "duration": 13450,
    "start_time": "2021-08-25T23:01:26.566Z"
   },
   {
    "duration": 9,
    "start_time": "2021-08-25T23:01:40.018Z"
   },
   {
    "duration": 198974,
    "start_time": "2021-08-25T23:01:40.029Z"
   },
   {
    "duration": 6603,
    "start_time": "2021-08-25T23:04:59.005Z"
   },
   {
    "duration": 521,
    "start_time": "2021-08-25T23:05:05.089Z"
   },
   {
    "duration": 6598,
    "start_time": "2021-08-25T23:06:39.539Z"
   },
   {
    "duration": 4,
    "start_time": "2021-08-25T23:07:17.302Z"
   },
   {
    "duration": 5,
    "start_time": "2021-08-25T23:08:08.322Z"
   },
   {
    "duration": 93,
    "start_time": "2021-08-25T23:08:08.329Z"
   },
   {
    "duration": 5,
    "start_time": "2021-08-25T23:08:08.424Z"
   },
   {
    "duration": 12,
    "start_time": "2021-08-25T23:08:08.431Z"
   },
   {
    "duration": 11,
    "start_time": "2021-08-25T23:08:08.445Z"
   },
   {
    "duration": 16,
    "start_time": "2021-08-25T23:08:08.457Z"
   },
   {
    "duration": 15,
    "start_time": "2021-08-25T23:08:08.474Z"
   },
   {
    "duration": 41,
    "start_time": "2021-08-25T23:08:08.492Z"
   },
   {
    "duration": 11,
    "start_time": "2021-08-25T23:08:08.535Z"
   },
   {
    "duration": 9,
    "start_time": "2021-08-25T23:08:08.548Z"
   },
   {
    "duration": 17,
    "start_time": "2021-08-25T23:08:08.558Z"
   },
   {
    "duration": 8,
    "start_time": "2021-08-25T23:08:08.576Z"
   },
   {
    "duration": 11,
    "start_time": "2021-08-25T23:08:08.586Z"
   },
   {
    "duration": 9,
    "start_time": "2021-08-25T23:08:08.599Z"
   },
   {
    "duration": 11,
    "start_time": "2021-08-25T23:08:08.610Z"
   },
   {
    "duration": 13,
    "start_time": "2021-08-25T23:08:08.622Z"
   },
   {
    "duration": 9,
    "start_time": "2021-08-25T23:08:08.636Z"
   },
   {
    "duration": 14,
    "start_time": "2021-08-25T23:08:08.646Z"
   },
   {
    "duration": 21,
    "start_time": "2021-08-25T23:08:08.661Z"
   },
   {
    "duration": 6,
    "start_time": "2021-08-25T23:08:08.683Z"
   },
   {
    "duration": 11,
    "start_time": "2021-08-25T23:08:08.690Z"
   },
   {
    "duration": 13,
    "start_time": "2021-08-25T23:08:08.702Z"
   },
   {
    "duration": 33,
    "start_time": "2021-08-25T23:08:08.717Z"
   },
   {
    "duration": 154,
    "start_time": "2021-08-25T23:08:08.751Z"
   },
   {
    "duration": 154,
    "start_time": "2021-08-25T23:08:08.906Z"
   },
   {
    "duration": 174,
    "start_time": "2021-08-25T23:08:09.062Z"
   },
   {
    "duration": 154,
    "start_time": "2021-08-25T23:08:09.238Z"
   },
   {
    "duration": 34,
    "start_time": "2021-08-25T23:08:09.394Z"
   },
   {
    "duration": 2,
    "start_time": "2021-08-25T23:08:09.430Z"
   },
   {
    "duration": 16,
    "start_time": "2021-08-25T23:08:09.433Z"
   },
   {
    "duration": 15,
    "start_time": "2021-08-25T23:08:09.450Z"
   },
   {
    "duration": 5,
    "start_time": "2021-08-25T23:08:09.466Z"
   },
   {
    "duration": 8,
    "start_time": "2021-08-25T23:08:09.472Z"
   },
   {
    "duration": 33,
    "start_time": "2021-08-25T23:08:09.481Z"
   },
   {
    "duration": 166,
    "start_time": "2021-08-25T23:08:09.515Z"
   },
   {
    "duration": 12,
    "start_time": "2021-08-25T23:08:09.682Z"
   },
   {
    "duration": 24,
    "start_time": "2021-08-25T23:08:09.695Z"
   },
   {
    "duration": 9,
    "start_time": "2021-08-25T23:08:09.721Z"
   },
   {
    "duration": 4,
    "start_time": "2021-08-25T23:08:18.828Z"
   },
   {
    "duration": 13604,
    "start_time": "2021-08-25T23:08:19.524Z"
   },
   {
    "duration": 11977,
    "start_time": "2021-08-25T23:08:39.500Z"
   },
   {
    "duration": 4,
    "start_time": "2021-08-25T23:08:51.479Z"
   },
   {
    "duration": 13880,
    "start_time": "2021-08-25T23:08:51.484Z"
   },
   {
    "duration": 8,
    "start_time": "2021-08-25T23:09:05.366Z"
   },
   {
    "duration": 193523,
    "start_time": "2021-08-25T23:09:05.376Z"
   },
   {
    "duration": 12798,
    "start_time": "2021-08-25T23:12:18.900Z"
   },
   {
    "duration": 160,
    "start_time": "2021-08-25T23:12:31.700Z"
   },
   {
    "duration": 10529,
    "start_time": "2021-08-25T23:13:38.466Z"
   },
   {
    "duration": 152,
    "start_time": "2021-08-25T23:13:48.997Z"
   },
   {
    "duration": 4528,
    "start_time": "2021-08-26T07:54:58.593Z"
   },
   {
    "duration": 406,
    "start_time": "2021-08-26T07:55:14.517Z"
   },
   {
    "duration": 19,
    "start_time": "2021-08-26T07:55:18.514Z"
   },
   {
    "duration": 9,
    "start_time": "2021-08-26T07:56:01.116Z"
   },
   {
    "duration": 39,
    "start_time": "2021-08-26T07:56:01.397Z"
   },
   {
    "duration": 13,
    "start_time": "2021-08-26T07:56:01.616Z"
   },
   {
    "duration": 19,
    "start_time": "2021-08-26T07:56:01.816Z"
   },
   {
    "duration": 315,
    "start_time": "2021-08-26T07:56:34.216Z"
   },
   {
    "duration": 25,
    "start_time": "2021-08-26T07:56:41.411Z"
   },
   {
    "duration": 14,
    "start_time": "2021-08-26T07:56:43.017Z"
   },
   {
    "duration": 31,
    "start_time": "2021-08-26T07:56:44.518Z"
   },
   {
    "duration": 16,
    "start_time": "2021-08-26T07:56:45.616Z"
   },
   {
    "duration": 10,
    "start_time": "2021-08-26T07:57:40.623Z"
   },
   {
    "duration": 9,
    "start_time": "2021-08-26T07:57:44.816Z"
   },
   {
    "duration": 7,
    "start_time": "2021-08-26T07:57:45.417Z"
   },
   {
    "duration": 14,
    "start_time": "2021-08-26T07:57:46.118Z"
   },
   {
    "duration": 10,
    "start_time": "2021-08-26T07:58:04.616Z"
   },
   {
    "duration": 17,
    "start_time": "2021-08-26T07:58:13.502Z"
   },
   {
    "duration": 111,
    "start_time": "2021-08-26T07:58:13.522Z"
   },
   {
    "duration": 14,
    "start_time": "2021-08-26T07:58:13.636Z"
   },
   {
    "duration": 11,
    "start_time": "2021-08-26T07:58:13.719Z"
   },
   {
    "duration": 8,
    "start_time": "2021-08-26T07:58:13.918Z"
   },
   {
    "duration": 101,
    "start_time": "2021-08-26T07:58:15.016Z"
   },
   {
    "duration": 921,
    "start_time": "2021-08-26T07:58:15.218Z"
   },
   {
    "duration": 895,
    "start_time": "2021-08-26T07:58:16.144Z"
   },
   {
    "duration": 882,
    "start_time": "2021-08-26T07:58:17.044Z"
   },
   {
    "duration": 697,
    "start_time": "2021-08-26T07:58:17.929Z"
   },
   {
    "duration": 106,
    "start_time": "2021-08-26T07:58:18.629Z"
   },
   {
    "duration": 4,
    "start_time": "2021-08-26T08:03:43.416Z"
   },
   {
    "duration": 11,
    "start_time": "2021-08-26T08:03:50.617Z"
   },
   {
    "duration": 4,
    "start_time": "2021-08-26T08:04:11.023Z"
   },
   {
    "duration": 7,
    "start_time": "2021-08-26T08:04:18.552Z"
   },
   {
    "duration": 5,
    "start_time": "2021-08-26T08:04:47.016Z"
   },
   {
    "duration": 12,
    "start_time": "2021-08-26T08:05:14.922Z"
   },
   {
    "duration": 20,
    "start_time": "2021-08-26T08:05:17.118Z"
   },
   {
    "duration": 13,
    "start_time": "2021-08-26T08:05:43.416Z"
   },
   {
    "duration": 8,
    "start_time": "2021-08-26T08:05:46.264Z"
   },
   {
    "duration": 291,
    "start_time": "2021-08-26T08:05:53.926Z"
   },
   {
    "duration": 2233,
    "start_time": "2021-08-26T08:05:55.317Z"
   },
   {
    "duration": 10,
    "start_time": "2021-08-26T08:06:02.518Z"
   },
   {
    "duration": 4,
    "start_time": "2021-08-26T08:06:02.704Z"
   },
   {
    "duration": 5,
    "start_time": "2021-08-26T08:06:02.945Z"
   },
   {
    "duration": 335204,
    "start_time": "2021-08-26T08:10:45.638Z"
   },
   {
    "duration": 14,
    "start_time": "2021-08-26T08:17:39.617Z"
   },
   {
    "duration": 7,
    "start_time": "2021-08-26T08:17:40.517Z"
   },
   {
    "duration": 2808,
    "start_time": "2021-08-26T08:17:43.916Z"
   },
   {
    "duration": 3369067,
    "start_time": "2021-08-26T08:18:08.196Z"
   },
   {
    "duration": 9,
    "start_time": "2021-08-26T09:14:17.265Z"
   },
   {
    "duration": 7,
    "start_time": "2021-08-26T09:14:17.279Z"
   },
   {
    "duration": 198,
    "start_time": "2021-08-26T09:14:17.288Z"
   },
   {
    "duration": 913270,
    "start_time": "2021-08-26T09:16:17.048Z"
   },
   {
    "duration": 6,
    "start_time": "2021-08-26T09:31:30.322Z"
   },
   {
    "duration": 14,
    "start_time": "2021-08-26T09:31:30.332Z"
   },
   {
    "duration": 85,
    "start_time": "2021-08-26T09:31:30.350Z"
   },
   {
    "duration": 5,
    "start_time": "2021-08-26T09:33:52.959Z"
   },
   {
    "duration": 29456,
    "start_time": "2021-08-26T09:33:53.726Z"
   },
   {
    "duration": 20412,
    "start_time": "2021-08-26T09:34:23.185Z"
   },
   {
    "duration": 6,
    "start_time": "2021-08-26T09:34:43.601Z"
   },
   {
    "duration": 27066,
    "start_time": "2021-08-26T09:34:43.609Z"
   },
   {
    "duration": 14,
    "start_time": "2021-08-26T09:35:10.678Z"
   },
   {
    "duration": 584007,
    "start_time": "2021-08-26T09:35:10.695Z"
   },
   {
    "duration": 16324,
    "start_time": "2021-08-26T09:44:54.705Z"
   },
   {
    "duration": 274,
    "start_time": "2021-08-26T09:45:11.032Z"
   },
   {
    "duration": 536,
    "start_time": "2021-08-27T10:09:58.421Z"
   },
   {
    "duration": 1623,
    "start_time": "2021-08-27T10:10:29.068Z"
   },
   {
    "duration": 116,
    "start_time": "2021-08-27T10:10:30.693Z"
   },
   {
    "duration": 14,
    "start_time": "2021-08-27T10:10:30.812Z"
   },
   {
    "duration": 24,
    "start_time": "2021-08-27T10:10:30.829Z"
   },
   {
    "duration": 31,
    "start_time": "2021-08-27T10:10:30.855Z"
   },
   {
    "duration": 16,
    "start_time": "2021-08-27T10:10:30.889Z"
   },
   {
    "duration": 24,
    "start_time": "2021-08-27T10:10:30.907Z"
   },
   {
    "duration": 64,
    "start_time": "2021-08-27T10:10:30.934Z"
   },
   {
    "duration": 32,
    "start_time": "2021-08-27T10:10:31.003Z"
   },
   {
    "duration": 12,
    "start_time": "2021-08-27T10:10:31.038Z"
   },
   {
    "duration": 41,
    "start_time": "2021-08-27T10:10:31.053Z"
   },
   {
    "duration": 22,
    "start_time": "2021-08-27T10:10:31.097Z"
   },
   {
    "duration": 28,
    "start_time": "2021-08-27T10:10:31.122Z"
   },
   {
    "duration": 17,
    "start_time": "2021-08-27T10:10:31.153Z"
   },
   {
    "duration": 20,
    "start_time": "2021-08-27T10:10:31.172Z"
   },
   {
    "duration": 20,
    "start_time": "2021-08-27T10:10:31.194Z"
   },
   {
    "duration": 16,
    "start_time": "2021-08-27T10:10:31.216Z"
   },
   {
    "duration": 46,
    "start_time": "2021-08-27T10:10:31.234Z"
   },
   {
    "duration": 41,
    "start_time": "2021-08-27T10:10:31.282Z"
   },
   {
    "duration": 11,
    "start_time": "2021-08-27T10:10:31.325Z"
   },
   {
    "duration": 15,
    "start_time": "2021-08-27T10:10:31.339Z"
   },
   {
    "duration": 18,
    "start_time": "2021-08-27T10:10:31.357Z"
   },
   {
    "duration": 47,
    "start_time": "2021-08-27T10:10:31.377Z"
   },
   {
    "duration": 243,
    "start_time": "2021-08-27T10:10:31.426Z"
   },
   {
    "duration": 410,
    "start_time": "2021-08-27T10:10:57.157Z"
   },
   {
    "duration": 300,
    "start_time": "2021-08-27T10:11:08.206Z"
   },
   {
    "duration": 320,
    "start_time": "2021-08-27T10:11:24.006Z"
   },
   {
    "duration": 309,
    "start_time": "2021-08-27T10:11:36.911Z"
   },
   {
    "duration": 491,
    "start_time": "2021-08-27T10:14:21.472Z"
   },
   {
    "duration": 401,
    "start_time": "2021-08-27T10:14:39.585Z"
   },
   {
    "duration": 63,
    "start_time": "2021-08-27T10:14:49.396Z"
   },
   {
    "duration": 5,
    "start_time": "2021-08-27T10:14:51.440Z"
   },
   {
    "duration": 9,
    "start_time": "2021-08-27T10:14:51.928Z"
   },
   {
    "duration": 14,
    "start_time": "2021-08-27T10:14:52.432Z"
   },
   {
    "duration": 77,
    "start_time": "2021-08-27T10:14:53.812Z"
   },
   {
    "duration": 5,
    "start_time": "2021-08-27T10:14:54.325Z"
   },
   {
    "duration": 49,
    "start_time": "2021-08-27T10:14:54.804Z"
   },
   {
    "duration": 489,
    "start_time": "2021-08-27T10:14:55.381Z"
   },
   {
    "duration": 787,
    "start_time": "2021-08-27T10:15:37.695Z"
   },
   {
    "duration": 6,
    "start_time": "2021-08-27T10:18:23.253Z"
   },
   {
    "duration": 48,
    "start_time": "2021-08-27T10:18:24.367Z"
   },
   {
    "duration": 7134,
    "start_time": "2021-08-27T10:18:32.583Z"
   },
   {
    "duration": -912,
    "start_time": "2021-08-27T10:18:40.632Z"
   },
   {
    "duration": -913,
    "start_time": "2021-08-27T10:18:40.635Z"
   },
   {
    "duration": 1646,
    "start_time": "2021-08-27T10:18:46.421Z"
   },
   {
    "duration": 114,
    "start_time": "2021-08-27T10:18:48.069Z"
   },
   {
    "duration": 14,
    "start_time": "2021-08-27T10:18:48.186Z"
   },
   {
    "duration": 15,
    "start_time": "2021-08-27T10:18:48.203Z"
   },
   {
    "duration": 18,
    "start_time": "2021-08-27T10:18:48.221Z"
   },
   {
    "duration": 19,
    "start_time": "2021-08-27T10:18:48.242Z"
   },
   {
    "duration": 26,
    "start_time": "2021-08-27T10:18:48.263Z"
   },
   {
    "duration": 71,
    "start_time": "2021-08-27T10:18:48.294Z"
   },
   {
    "duration": 23,
    "start_time": "2021-08-27T10:18:48.369Z"
   },
   {
    "duration": 14,
    "start_time": "2021-08-27T10:18:48.415Z"
   },
   {
    "duration": 18,
    "start_time": "2021-08-27T10:18:48.431Z"
   },
   {
    "duration": 11,
    "start_time": "2021-08-27T10:18:48.452Z"
   },
   {
    "duration": 10,
    "start_time": "2021-08-27T10:18:48.465Z"
   },
   {
    "duration": 4,
    "start_time": "2021-08-27T10:18:48.516Z"
   },
   {
    "duration": 10,
    "start_time": "2021-08-27T10:18:48.522Z"
   },
   {
    "duration": 11,
    "start_time": "2021-08-27T10:18:48.535Z"
   },
   {
    "duration": 14,
    "start_time": "2021-08-27T10:18:48.548Z"
   },
   {
    "duration": 15,
    "start_time": "2021-08-27T10:18:48.564Z"
   },
   {
    "duration": 58,
    "start_time": "2021-08-27T10:18:48.581Z"
   },
   {
    "duration": 13,
    "start_time": "2021-08-27T10:18:48.641Z"
   },
   {
    "duration": 15,
    "start_time": "2021-08-27T10:18:48.657Z"
   },
   {
    "duration": 8,
    "start_time": "2021-08-27T10:18:48.674Z"
   },
   {
    "duration": 65,
    "start_time": "2021-08-27T10:18:48.687Z"
   },
   {
    "duration": 265,
    "start_time": "2021-08-27T10:18:48.755Z"
   },
   {
    "duration": 313,
    "start_time": "2021-08-27T10:18:49.023Z"
   },
   {
    "duration": 342,
    "start_time": "2021-08-27T10:18:49.339Z"
   },
   {
    "duration": 314,
    "start_time": "2021-08-27T10:18:49.684Z"
   },
   {
    "duration": 75,
    "start_time": "2021-08-27T10:18:50.001Z"
   },
   {
    "duration": 4,
    "start_time": "2021-08-27T10:18:50.078Z"
   },
   {
    "duration": 21,
    "start_time": "2021-08-27T10:18:50.084Z"
   },
   {
    "duration": 32,
    "start_time": "2021-08-27T10:18:50.108Z"
   },
   {
    "duration": 5,
    "start_time": "2021-08-27T10:18:50.142Z"
   },
   {
    "duration": 872,
    "start_time": "2021-08-27T10:18:50.149Z"
   },
   {
    "duration": 10,
    "start_time": "2021-08-27T10:18:51.024Z"
   },
   {
    "duration": 14,
    "start_time": "2021-08-27T10:18:51.037Z"
   },
   {
    "duration": 547,
    "start_time": "2021-08-27T10:18:51.054Z"
   },
   {
    "duration": -829,
    "start_time": "2021-08-27T10:18:52.432Z"
   },
   {
    "duration": -839,
    "start_time": "2021-08-27T10:18:52.444Z"
   },
   {
    "duration": -841,
    "start_time": "2021-08-27T10:18:52.447Z"
   },
   {
    "duration": -844,
    "start_time": "2021-08-27T10:18:52.452Z"
   },
   {
    "duration": -844,
    "start_time": "2021-08-27T10:18:52.454Z"
   },
   {
    "duration": -846,
    "start_time": "2021-08-27T10:18:52.457Z"
   },
   {
    "duration": 6,
    "start_time": "2021-08-27T10:19:01.328Z"
   },
   {
    "duration": 47,
    "start_time": "2021-08-27T10:19:01.817Z"
   },
   {
    "duration": 107508,
    "start_time": "2021-08-27T10:19:02.839Z"
   },
   {
    "duration": 5,
    "start_time": "2021-08-27T10:20:50.350Z"
   },
   {
    "duration": 13,
    "start_time": "2021-08-27T10:20:50.357Z"
   },
   {
    "duration": 689,
    "start_time": "2021-08-27T10:20:50.373Z"
   },
   {
    "duration": 1757871,
    "start_time": "2021-08-27T10:23:40.521Z"
   },
   {
    "duration": 5,
    "start_time": "2021-08-27T10:52:58.395Z"
   },
   {
    "duration": 10,
    "start_time": "2021-08-27T10:52:58.417Z"
   },
   {
    "duration": 151,
    "start_time": "2021-08-27T10:52:58.429Z"
   },
   {
    "duration": 380,
    "start_time": "2021-08-27T10:52:58.582Z"
   },
   {
    "duration": -732,
    "start_time": "2021-08-27T10:52:59.697Z"
   },
   {
    "duration": -736,
    "start_time": "2021-08-27T10:52:59.702Z"
   },
   {
    "duration": -748,
    "start_time": "2021-08-27T10:52:59.716Z"
   },
   {
    "duration": -749,
    "start_time": "2021-08-27T10:52:59.718Z"
   },
   {
    "duration": -749,
    "start_time": "2021-08-27T10:52:59.721Z"
   },
   {
    "duration": -750,
    "start_time": "2021-08-27T10:52:59.724Z"
   },
   {
    "duration": -751,
    "start_time": "2021-08-27T10:52:59.726Z"
   },
   {
    "duration": 2897,
    "start_time": "2021-08-27T10:57:27.338Z"
   },
   {
    "duration": 398,
    "start_time": "2021-08-27T10:57:30.476Z"
   },
   {
    "duration": 2755,
    "start_time": "2021-08-27T10:58:33.221Z"
   },
   {
    "duration": 2762,
    "start_time": "2021-08-27T11:00:25.619Z"
   },
   {
    "duration": 2823,
    "start_time": "2021-08-27T11:00:50.572Z"
   },
   {
    "duration": 2922,
    "start_time": "2021-08-27T11:01:18.147Z"
   },
   {
    "duration": 408,
    "start_time": "2021-08-27T11:01:44.956Z"
   },
   {
    "duration": 773253,
    "start_time": "2021-08-27T11:09:05.786Z"
   },
   {
    "duration": 5,
    "start_time": "2021-08-27T11:21:59.042Z"
   },
   {
    "duration": 7,
    "start_time": "2021-08-27T11:21:59.050Z"
   },
   {
    "duration": 62,
    "start_time": "2021-08-27T11:21:59.060Z"
   },
   {
    "duration": 6,
    "start_time": "2021-08-27T11:21:59.124Z"
   },
   {
    "duration": 27562,
    "start_time": "2021-08-27T11:21:59.132Z"
   },
   {
    "duration": 18988,
    "start_time": "2021-08-27T11:24:14.588Z"
   },
   {
    "duration": 7,
    "start_time": "2021-08-27T11:45:23.183Z"
   },
   {
    "duration": 14,
    "start_time": "2021-08-27T11:45:28.038Z"
   },
   {
    "duration": 340976,
    "start_time": "2021-08-27T11:45:41.287Z"
   },
   {
    "duration": 40,
    "start_time": "2021-08-27T11:51:22.265Z"
   },
   {
    "duration": 12718,
    "start_time": "2021-08-27T11:52:30.908Z"
   },
   {
    "duration": 272,
    "start_time": "2021-08-27T11:53:23.013Z"
   },
   {
    "duration": 7,
    "start_time": "2021-08-27T11:55:19.967Z"
   },
   {
    "duration": 117,
    "start_time": "2021-08-27T11:55:19.976Z"
   },
   {
    "duration": 10,
    "start_time": "2021-08-27T11:55:20.097Z"
   },
   {
    "duration": 10,
    "start_time": "2021-08-27T11:55:20.109Z"
   },
   {
    "duration": 19,
    "start_time": "2021-08-27T11:55:20.123Z"
   },
   {
    "duration": 16,
    "start_time": "2021-08-27T11:55:20.145Z"
   },
   {
    "duration": 17,
    "start_time": "2021-08-27T11:55:20.164Z"
   },
   {
    "duration": 84,
    "start_time": "2021-08-27T11:55:20.185Z"
   },
   {
    "duration": 43,
    "start_time": "2021-08-27T11:55:20.273Z"
   },
   {
    "duration": 19,
    "start_time": "2021-08-27T11:55:20.318Z"
   },
   {
    "duration": 17,
    "start_time": "2021-08-27T11:55:20.341Z"
   },
   {
    "duration": 14,
    "start_time": "2021-08-27T11:55:20.361Z"
   },
   {
    "duration": 9,
    "start_time": "2021-08-27T11:55:20.378Z"
   },
   {
    "duration": 14,
    "start_time": "2021-08-27T11:55:20.418Z"
   },
   {
    "duration": 15,
    "start_time": "2021-08-27T11:55:20.434Z"
   },
   {
    "duration": 15,
    "start_time": "2021-08-27T11:55:20.451Z"
   },
   {
    "duration": 16,
    "start_time": "2021-08-27T11:55:20.469Z"
   },
   {
    "duration": 16,
    "start_time": "2021-08-27T11:55:20.487Z"
   },
   {
    "duration": 35,
    "start_time": "2021-08-27T11:55:20.520Z"
   },
   {
    "duration": 10,
    "start_time": "2021-08-27T11:55:20.558Z"
   },
   {
    "duration": 23,
    "start_time": "2021-08-27T11:55:20.571Z"
   },
   {
    "duration": 20,
    "start_time": "2021-08-27T11:55:20.597Z"
   },
   {
    "duration": 40,
    "start_time": "2021-08-27T11:55:20.625Z"
   },
   {
    "duration": 276,
    "start_time": "2021-08-27T11:55:20.668Z"
   },
   {
    "duration": 317,
    "start_time": "2021-08-27T11:55:20.946Z"
   },
   {
    "duration": 351,
    "start_time": "2021-08-27T11:55:21.265Z"
   },
   {
    "duration": 327,
    "start_time": "2021-08-27T11:55:21.619Z"
   },
   {
    "duration": 80,
    "start_time": "2021-08-27T11:55:21.948Z"
   },
   {
    "duration": 4,
    "start_time": "2021-08-27T11:55:22.031Z"
   },
   {
    "duration": 13,
    "start_time": "2021-08-27T11:55:22.038Z"
   },
   {
    "duration": 19,
    "start_time": "2021-08-27T11:55:22.054Z"
   },
   {
    "duration": 4,
    "start_time": "2021-08-27T11:55:22.076Z"
   },
   {
    "duration": 4004,
    "start_time": "2021-08-27T11:55:22.082Z"
   },
   {
    "duration": 8,
    "start_time": "2021-08-27T11:55:26.088Z"
   },
   {
    "duration": 20,
    "start_time": "2021-08-27T11:55:26.098Z"
   },
   {
    "duration": 10,
    "start_time": "2021-08-27T11:55:41.215Z"
   },
   {
    "duration": 115,
    "start_time": "2021-08-27T11:55:41.228Z"
   },
   {
    "duration": 10,
    "start_time": "2021-08-27T11:55:41.346Z"
   },
   {
    "duration": 10,
    "start_time": "2021-08-27T11:55:41.360Z"
   },
   {
    "duration": 16,
    "start_time": "2021-08-27T11:55:41.373Z"
   },
   {
    "duration": 39,
    "start_time": "2021-08-27T11:55:41.392Z"
   },
   {
    "duration": 15,
    "start_time": "2021-08-27T11:55:41.434Z"
   },
   {
    "duration": 79,
    "start_time": "2021-08-27T11:55:41.453Z"
   },
   {
    "duration": 23,
    "start_time": "2021-08-27T11:55:41.536Z"
   },
   {
    "duration": 15,
    "start_time": "2021-08-27T11:55:41.562Z"
   },
   {
    "duration": 18,
    "start_time": "2021-08-27T11:55:41.624Z"
   },
   {
    "duration": 13,
    "start_time": "2021-08-27T11:55:41.644Z"
   },
   {
    "duration": 12,
    "start_time": "2021-08-27T11:55:41.659Z"
   },
   {
    "duration": 12,
    "start_time": "2021-08-27T11:55:41.674Z"
   },
   {
    "duration": 27,
    "start_time": "2021-08-27T11:55:41.689Z"
   },
   {
    "duration": 18,
    "start_time": "2021-08-27T11:55:41.719Z"
   },
   {
    "duration": 17,
    "start_time": "2021-08-27T11:55:41.740Z"
   },
   {
    "duration": 17,
    "start_time": "2021-08-27T11:55:41.760Z"
   },
   {
    "duration": 62,
    "start_time": "2021-08-27T11:55:41.779Z"
   },
   {
    "duration": 11,
    "start_time": "2021-08-27T11:55:41.844Z"
   },
   {
    "duration": 9,
    "start_time": "2021-08-27T11:55:41.857Z"
   },
   {
    "duration": 8,
    "start_time": "2021-08-27T11:55:41.868Z"
   },
   {
    "duration": 68,
    "start_time": "2021-08-27T11:55:41.880Z"
   },
   {
    "duration": 252,
    "start_time": "2021-08-27T11:55:41.951Z"
   },
   {
    "duration": 296,
    "start_time": "2021-08-27T11:55:42.205Z"
   },
   {
    "duration": 352,
    "start_time": "2021-08-27T11:55:42.503Z"
   },
   {
    "duration": 308,
    "start_time": "2021-08-27T11:55:42.858Z"
   },
   {
    "duration": 73,
    "start_time": "2021-08-27T11:55:43.168Z"
   },
   {
    "duration": 5,
    "start_time": "2021-08-27T11:55:43.243Z"
   },
   {
    "duration": 11,
    "start_time": "2021-08-27T11:55:43.250Z"
   },
   {
    "duration": 20,
    "start_time": "2021-08-27T11:55:43.263Z"
   },
   {
    "duration": 5,
    "start_time": "2021-08-27T11:55:43.285Z"
   },
   {
    "duration": 3883,
    "start_time": "2021-08-27T11:55:43.292Z"
   },
   {
    "duration": 4215,
    "start_time": "2021-08-27T11:56:16.060Z"
   },
   {
    "duration": 31,
    "start_time": "2021-08-27T11:56:34.760Z"
   },
   {
    "duration": 3908,
    "start_time": "2021-08-27T11:57:17.781Z"
   },
   {
    "duration": 4900,
    "start_time": "2021-08-27T11:58:26.839Z"
   }
  ],
  "kernelspec": {
   "display_name": "Python 3",
   "language": "python",
   "name": "python3"
  },
  "language_info": {
   "codemirror_mode": {
    "name": "ipython",
    "version": 3
   },
   "file_extension": ".py",
   "mimetype": "text/x-python",
   "name": "python",
   "nbconvert_exporter": "python",
   "pygments_lexer": "ipython3",
   "version": "3.8.5"
  },
  "toc": {
   "base_numbering": 1,
   "nav_menu": {},
   "number_sections": true,
   "sideBar": true,
   "skip_h1_title": true,
   "title_cell": "Table of Contents",
   "title_sidebar": "Contents",
   "toc_cell": false,
   "toc_position": {},
   "toc_section_display": true,
   "toc_window_display": false
  }
 },
 "nbformat": 4,
 "nbformat_minor": 2
}
